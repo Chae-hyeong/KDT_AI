{
 "cells": [
  {
   "cell_type": "markdown",
   "metadata": {},
   "source": [
    "# 고급 자료형 II\n",
    "\n",
    "##### **리스트(List)**\n",
    "- 순서가 있는 가변 길이의 시퀀스 자료형\n",
    "\n",
    "##### **세트(Set)**\n",
    "- 순서가 없는 중복되지 않은 요소의 집합\n",
    "- 중복 제거, 교집합, 합집합, 차집합 등의 집합 연산에 사용\n",
    "\n",
    "##### **딕셔너리**\n",
    "- 키 - 값 쌍으로 이루어진 가변 길이의 자료형\n",
    "- 빠른 검색, 데이터 매핑, 데이터 저장 등을 할 때 사용\n",
    "\n",
    "##### **튜플**\n",
    "- 리스트와 동일하게 여러 객체를 모아서 담는다\n",
    "- 숫자, 문자, 객체, 배열, 튜플 안의 튜플 전보 가능하다\n",
    "- 튜플 내의 값은 수정이 불가\n",
    "- 리스트와 비교해서 메모리용량 아끼고 퍼포먼스 향상시키는데 도움이 됨"
   ]
  },
  {
   "cell_type": "code",
   "execution_count": 1,
   "metadata": {},
   "outputs": [
    {
     "name": "stdout",
     "output_type": "stream",
     "text": [
      "리스트: ['apple', 'banana', 'cherry']\n",
      "첫 번째 요소: apple\n",
      "마지막 요소: cherry\n",
      "요소 변경 후: ['apple', 'blueverry', 'cherry']\n",
      "요소 추가 후: ['apple', 'blueverry', 'cherry', 'data']\n",
      "요소 삭제 후: ['blueverry', 'cherry', 'data']\n",
      "리스트 길이: 3\n"
     ]
    }
   ],
   "source": [
    "# 리스트 예제\n",
    "# 리스트 생성 및 기본 사용법\n",
    "fruits = ['apple', 'banana', 'cherry']\n",
    "print('리스트:',fruits)\n",
    "\n",
    "#리스트 요소 접근\n",
    "print('첫 번째 요소:', fruits[0])\n",
    "print('마지막 요소:',fruits[-1])\n",
    "\n",
    "#리스트 요소 변경\n",
    "fruits[1] = 'blueverry'\n",
    "print('요소 변경 후:', fruits)\n",
    "\n",
    "#리스트 요소 추가\n",
    "fruits.append('data')\n",
    "print('요소 추가 후:', fruits)\n",
    "\n",
    "#리스트 요소 삭제\n",
    "fruits.remove('apple')\n",
    "print('요소 삭제 후:',fruits)\n",
    "\n",
    "#리스트 길이\n",
    "print('리스트 길이:',len(fruits))"
   ]
  },
  {
   "cell_type": "code",
   "execution_count": 2,
   "metadata": {},
   "outputs": [
    {
     "name": "stdout",
     "output_type": "stream",
     "text": [
      "세트: {'cherry', 'apple', 'banana'}\n",
      "요소 추가 후: {'cherry', 'data', 'apple', 'banana'}\n",
      "요소 삭제 후: {'cherry', 'data', 'apple'}\n",
      "세트 길이: 3\n"
     ]
    }
   ],
   "source": [
    "#세트 예제\n",
    "#세트 생성 및 기본 사용법\n",
    "fruits = {'apple', 'banana', 'cherry'}\n",
    "print('세트:',fruits)\n",
    "\n",
    "#세트 요소 추가\n",
    "fruits.add('data')\n",
    "print('요소 추가 후:', fruits)\n",
    "\n",
    "#세트 요소 삭제\n",
    "fruits.remove('banana')\n",
    "print('요소 삭제 후:', fruits)\n",
    "\n",
    "#세트 길이\n",
    "print('세트 길이:', len(fruits))\n",
    "\n"
   ]
  },
  {
   "cell_type": "code",
   "execution_count": 3,
   "metadata": {},
   "outputs": [
    {
     "name": "stdout",
     "output_type": "stream",
     "text": [
      "딕셔너리 {'apple': 'red', 'banana': 'yellow', 'cherry': 'red'}\n",
      "사과의 색: red\n",
      "요소 추가 후: {'apple': 'red', 'banana': 'yellow', 'cherry': 'red', 'data': 'brown'}\n",
      "요소 삭제 후: {'apple': 'red', 'cherry': 'red', 'data': 'brown'}\n",
      "딕셔너리 길이: 3\n"
     ]
    }
   ],
   "source": [
    "#딕셔너리 예제\n",
    "# 딕셔너리 생성 및 기본 사용법\n",
    "fruits_colors = {'apple':'red', 'banana':'yellow', 'cherry':'red'}\n",
    "print('딕셔너리', fruits_colors)\n",
    "\n",
    "#딕셔너리 요소 접근\n",
    "print('사과의 색:', fruits_colors['apple'])\n",
    "\n",
    "#딕셔너리 요소 추가\n",
    "fruits_colors['data'] = 'brown'\n",
    "print('요소 추가 후:', fruits_colors)\n",
    "\n",
    "#딕셔너리 요소 삭제\n",
    "del fruits_colors['banana']\n",
    "print('요소 삭제 후:', fruits_colors)\n",
    "\n",
    "#딕셔너리 길이\n",
    "print('딕셔너리 길이:', len(fruits_colors))\n"
   ]
  },
  {
   "cell_type": "code",
   "execution_count": 4,
   "metadata": {},
   "outputs": [
    {
     "name": "stdout",
     "output_type": "stream",
     "text": [
      "첫 번째 요소: apple\n",
      "마지막 요소 cherry\n",
      "언패킹된 요소: apple banana cherry\n"
     ]
    }
   ],
   "source": [
    "#튜플 예제\n",
    "fruits = ('apple', 'banana', 'cherry')\n",
    "\n",
    "#튜플 요소 접근\n",
    "print('첫 번째 요소:', fruits[0])\n",
    "print('마지막 요소', fruits[-1])\n",
    "\n",
    "#튜플 언패킹\n",
    "fruit1, fruit2, fruit3 = fruits\n",
    "print('언패킹된 요소:', fruit1, fruit2, fruit3)"
   ]
  },
  {
   "cell_type": "markdown",
   "metadata": {},
   "source": [
    "# 고급 자료형 II\n",
    "\n",
    "##### collections 모듈\n",
    "- 파이썬 내장 모듈\n",
    "컨테이너 자료형을 제공하여 기본 자료형을 확장해서 사용가능\n",
    "\n",
    "##### deque(Double-Ended Queue)\n",
    "- 양쪽 끝에서 빠르게 추가 및 삭제가 가능한 자료형\n",
    "- collections.deque를 사용하여 생성\n",
    "- 큐와 스택 기능을 동시에 사용해야 할 때 유용\n",
    "\n",
    "##### Counter\n",
    "- 요소의 개수를 셀 때 사용되는 딕셔너리 서브 클래스\n",
    "- collections.Counter를 사용하여 생성\n",
    "- 데이터의 빈도 분석에 유용\n",
    "\n",
    "##### OrderedDict\n",
    "- 순서를 유지하는 딕셔너리\n",
    "- collections.OrderedDict를 사용하여 생성\n",
    "- 데이터의 입력 순서가 중요한 경우 사용\n",
    "\n",
    "##### defaultdict\n",
    "- 기본 값을 제공하는 딕셔너리\n",
    "- collections.defaultdict를 사용하여 생성\n",
    "- 키가 존재하지 ㅇ낳을 때 기본 값을 제공하여 코드의 간결성과 안전성을 높이\n",
    "\n",
    "##### namedtyple\n",
    "- 필드 이름을 가지는 튜플 서브 클래스\n",
    "- collections.namedtuple를 사용하여 생성\n",
    "- 튜플의 가독성을 높이고, 데이터의 구조를 명확하게 정의할 때 사용"
   ]
  },
  {
   "cell_type": "code",
   "execution_count": 5,
   "metadata": {},
   "outputs": [
    {
     "name": "stdout",
     "output_type": "stream",
     "text": [
      "Deque: deque(['banana', 'cherry', 'date'])\n",
      "NamedTuple: Fruit(name='apple', color='red')\n",
      "DefaultDict: defaultdict(<class 'int'>, {'apple': 1})\n",
      "Counter: Counter({'banana': 3, 'apple': 2, 'cherry': 1})\n",
      "OrderedDict: OrderedDict([('A', 1), ('B', 2), ('C', 3)])\n"
     ]
    }
   ],
   "source": [
    "#collections 모듈 예제\n",
    "from collections import deque, namedtuple, defaultdict, Counter, OrderedDict\n",
    "\n",
    "# deque: 양쪽 끝에서 빠르게 추가 및 삭제 가능한 자료형\n",
    "dq = deque(['apple','banana','cherry'])\n",
    "dq.append('date')\n",
    "dq.popleft()\n",
    "print(\"Deque:\", dq)\n",
    "\n",
    "# namedtuple : 필드 이름을 가지는 튜플 서브 클래스\n",
    "Fruit = namedtuple('Fruit', 'name color')\n",
    "apple = Fruit(name='apple',color = 'red')\n",
    "print('NamedTuple:', apple)\n",
    "\n",
    "#defaultdict: 기본 값을 제공하는 딕셔너리\n",
    "dd = defaultdict(int)\n",
    "dd[\"apple\"] += 1\n",
    "print('DefaultDict:' ,dd)\n",
    "\n",
    "#counter\n",
    "cnt = Counter(['apple','banana','apple','cherry','banana','banana'])\n",
    "print('Counter:',cnt)\n",
    "\n",
    "#orderedDict\n",
    "od = OrderedDict()\n",
    "od['A'] = 1\n",
    "od['B'] = 2\n",
    "od['C'] = 3\n",
    "print('OrderedDict:',od)"
   ]
  },
  {
   "cell_type": "markdown",
   "metadata": {},
   "source": [
    "### Conprehension\n",
    "- 기존의 리스트, 집합 , 딕셔너리 등을 더 간결하고 효율적으로 생성하는 방법\n",
    "- 반복문을 대체하여 더 간결한 표현 가능\n",
    "\n",
    "##### 컴프리헨션 종류\n",
    "- 리스트 컴프리헨션(List Comprehension)\n",
    "- 딕셔너리 컴프리헨션(Dictionary Comprehension)\n",
    "- 집합 컴프리헨션(Set Comprehension)\n",
    "\n",
    "##### 필요성\n",
    "- 대규모 데이터를 효율적으로 처리\n",
    "- 복잡한 반복문을 간결하게 표현\n",
    "\n",
    "##### 리스트 컴프리헨션\n",
    "- 기본 구조: [expression for item in iterable]\n",
    "- 조건부 리스트 컴프리현션: [expression for item in iterable if condition]\n",
    "\n",
    "##### 딕셔너리 컴프리헨션\n",
    "- 기본 구조: {key : value for item in iterable}\n",
    "- 조건부 딕셔너리 컴프리헨션: {key: value for item in iterable if condition}\n",
    "\n",
    "##### 집합 컴프리헨션\n",
    "- 기본 구조: {expression for tiem in iterable}\n",
    "- 조건부 집합 컴프리헨션: {expression for item in iterable in condition}"
   ]
  },
  {
   "cell_type": "code",
   "execution_count": 6,
   "metadata": {},
   "outputs": [
    {
     "name": "stdout",
     "output_type": "stream",
     "text": [
      "제곱된 숫자들: [1, 4, 9, 16, 25]\n",
      "짝수들: [2, 4]\n"
     ]
    }
   ],
   "source": [
    "# 리스트 컴프리헨션 예제\n",
    "# 기본 리스트 컴프리헨션\n",
    "numbers = [1,2,3,4,5]\n",
    "sqared_numbers = [x**2 for x in numbers]\n",
    "print(\"제곱된 숫자들:\", sqared_numbers)\n",
    "\n",
    "# 조건을 포함한 리스트 컴프리핸션\n",
    "even_numbers = [x for x in numbers if x % 2 == 0]\n",
    "print('짝수들:', even_numbers)"
   ]
  },
  {
   "cell_type": "code",
   "execution_count": 7,
   "metadata": {},
   "outputs": [
    {
     "name": "stdout",
     "output_type": "stream",
     "text": [
      "제곱된 딕셔너리: {1: 1, 2: 4, 3: 9, 4: 16, 5: 25}\n"
     ]
    }
   ],
   "source": [
    "# 딕셔너리 컴프리헨션 예제\n",
    "numbers = [1,2,3,4,5]\n",
    "\n",
    "squared_dict = {x:x**2 for x in numbers }\n",
    "\n",
    "print('제곱된 딕셔너리:', squared_dict)"
   ]
  },
  {
   "cell_type": "code",
   "execution_count": 8,
   "metadata": {},
   "outputs": [
    {
     "name": "stdout",
     "output_type": "stream",
     "text": [
      "제곱된 집합: {2, 4, 6, 8, 10}\n"
     ]
    }
   ],
   "source": [
    "# 집합 컴프리헨션 예제\n",
    "numbers = [1,2,3,4,5]\n",
    "\n",
    "squared_set = {x*2 for x in numbers}\n",
    "\n",
    "print(\"제곱된 집합:\", squared_set)"
   ]
  },
  {
   "cell_type": "markdown",
   "metadata": {},
   "source": [
    "### Logging\n",
    "\n",
    "##### 예외처리\n",
    "- 프로그램 실행 중 발생하는 오류를 관리하고 처리하여 예기치 않은 종료를 방지\n",
    "\n",
    "##### 로깅\n",
    "- 프로그램 실행 중 발생하는 사건들을 기록하여 디버깅, 오류 추적, 시스템 모니터링 등을 보조\n",
    "\n",
    "##### logging ahebf\n",
    "- 파이썬 표준 라이브러리로 제공되며, 다양한 로그 메시지를 기록할 수 있는 유연한 로깅 시스템을 제공\n",
    "\n",
    "##### loging 모듈의 구성 요소\n",
    "- Logging: 로그 메시지를 기록하는 인터페이스\n",
    "- Handler: 로그 메시지를 특정 대상(파일, 콘솔 등)으로 전송\n",
    "- Formatter: 로그 메시지의 형식을 지정\n",
    "- Level: 로그 메시지의 중요도를 나타냄(DEBUG, INFO, WARNING, ERROR, CRITICAL)\n",
    "\n",
    "##### basicConfig\n",
    "- basicConfig 함수를 사용하여 간단한 로깅 설정을 수행\n",
    "##### Logger 객체를 직접 설정\n",
    "- Logger, Handler, Formatter 객체를 직접 생성하고 설정\n",
    "##### 설정 파일 사용(INI, JSON, YMAL 등)\n",
    "- 설정 파일을 사용하여 로길 설정을 정의하고, 이를 fileConfig, dictConfig 함수를 사용하여 로드\n",
    "\n",
    "##### 디버깅 및 문제 해결\n",
    "- 로그 메시지를 통해 코드의 실행 흐름과 상태를 파악할 수 있어 디버깅이 용이\n",
    "##### 시스템 모니터링\n",
    "- 시스템의 상태를 실시간으로 모니터링하여 문제 발생 시 빠르게 대응 가능\n",
    "##### 분석 및 감사\n",
    "- 로그 기록을 통해 중요한 사건이나 트랜잭션을 추적하고 분석하여 감사와 보고에 활용"
   ]
  },
  {
   "cell_type": "code",
   "execution_count": 9,
   "metadata": {},
   "outputs": [
    {
     "name": "stderr",
     "output_type": "stream",
     "text": [
      "2024-07-05 18:07:09,812 - __main__ - INFO- Division successful\n",
      "2024-07-05 18:07:09,813 - __main__ - ERROR- Division by zero error\n"
     ]
    },
    {
     "name": "stdout",
     "output_type": "stream",
     "text": [
      "Division successful\n",
      " 5.0\n",
      "Division by zero error\n",
      " None\n"
     ]
    }
   ],
   "source": [
    "# Logging\n",
    "import logging\n",
    "\n",
    "# 로깅 설정\n",
    "logging.basicConfig(level=logging.DEBUG,\n",
    "                    format ='%(asctime)s - %(name)s - %(levelname)s- %(message)s')\n",
    "\n",
    "# 로깅 객체\n",
    "logger = logging.getLogger(__name__)\n",
    "\n",
    "def divide(a,b):\n",
    "    try:\n",
    "        result = a / b\n",
    "        logger.info(\"Division successful\")\n",
    "        return result\n",
    "    except ZeroDivisionError:\n",
    "        logger.error(\"Division by zero error\")\n",
    "        return None\n",
    "        \n",
    "        \n",
    "# 로깅 테스트\n",
    "print(\"Division successful\\n\", divide(10,2))\n",
    "print(\"Division by zero error\\n\", divide(10,0))"
   ]
  },
  {
   "cell_type": "code",
   "execution_count": 10,
   "metadata": {},
   "outputs": [
    {
     "name": "stderr",
     "output_type": "stream",
     "text": [
      "2024-07-05 18:07:09,820 - __main__ - INFO- This is an info message\n",
      "2024-07-05 18:07:09,821 - __main__ - WARNING- This is a warning message\n",
      "2024-07-05 18:07:09,821 - __main__ - ERROR- This is an error message\n",
      "2024-07-05 18:07:09,822 - __main__ - CRITICAL- This is a critical message\n"
     ]
    }
   ],
   "source": [
    "logger.setLevel(logging.INFO) # 로그 레벨 설정\n",
    "\n",
    "logger.debug(\"This is a debug message\")\n",
    "logger.info(\"This is an info message\")\n",
    "logger.warning(\"This is a warning message\")\n",
    "logger.error(\"This is an error message\")\n",
    "logger.critical(\"This is a critical message\")"
   ]
  },
  {
   "cell_type": "markdown",
   "metadata": {},
   "source": [
    "### 정규 표현식\n",
    "\n",
    "##### re 모듈\n",
    "- 파이썬에서 정규표현식을 처리하기 위해 사용하는 모듈\n",
    "\n",
    "##### 주요 함수\n",
    "- re.match(): 문자열의 시작하여 패턴 매칭\n",
    "- re.search(): 문자열 전체에서 패턴 매칭\n",
    "- re.findall(): 매칭되는 모든 패턴을 리스트로 반환\n",
    "- re.sub(): 매칭되는 패턴을 치환\n",
    "\n",
    "##### 그루핑과 캡처\n",
    "- 괄호를 사용하여 패턴을 그룹화하고 캡처\n",
    "- (a,b,c):abc 패턴을 그룹으로 캡처\n",
    "- (\\d{3})-(\\d{2})-(\\d{4})\n",
    "####3 비캡처 그룹: (? : ...) 형식을 사용하여 캡처하지 않는 그룹을 정의\n",
    "- (? : abc): abc 패턴을 그룹으로 묶지만 캡처하지 않음\n",
    "\n",
    "##### 긍정형 전방 탐색: 패턴의 앞부분을 확인하지만 매칭에서 제외((? = ...))\n",
    "- \\d(? = dollars): 숫자 뒤에 dollars가 오는 경우\n",
    "\n",
    "##### 부정형 전방탐색: 패턴의 앞부분을 확인하지 않고 매칭에서 제외((?! ...))\n",
    "- \\d(?! dollars): 숫자 뒤에 dollars가 오지 않는 경우"
   ]
  },
  {
   "cell_type": "code",
   "execution_count": 11,
   "metadata": {},
   "outputs": [
    {
     "name": "stdout",
     "output_type": "stream",
     "text": [
      "이메일: ['support@example.com', 'sales@example.com']\n",
      "태그 제거 후 텍스트: This is a bold paragraph.\n"
     ]
    }
   ],
   "source": [
    "import re\n",
    "\n",
    "# 이메일 추출\n",
    "text = \"Contact us at support@example.com or sales@example.com\"\n",
    "pattern = r\"\\b[A-Za-z0-9._%+-]+@[A-Za-z0-9.-]+\\.[A-Z|a-z]{2,7}\\b\"\n",
    "matches = re.findall(pattern, text)\n",
    "print('이메일:',matches)\n",
    "\n",
    "# HTML 태그 제거\n",
    "html = \"<p>This is a <b>bold</b> paragraph.</p>\"\n",
    "pattern = r\"<.*?>\"\n",
    "clean_text = re.sub(pattern,\"\", html)\n",
    "print('태그 제거 후 텍스트:',clean_text)\n"
   ]
  },
  {
   "cell_type": "markdown",
   "metadata": {},
   "source": [
    "### Multi-threading\n",
    "\n",
    "##### 스레드\n",
    "- 프로세스 내에서 실행되는 흐름의 단위\n",
    "\n",
    "##### 프로세스\n",
    "- 실행중인 프로그램\n",
    "\n",
    "##### 멀티스레딩\n",
    "- 하나의 프로세스 내에서 여러 스레드를 생성하여 동시에 실행되는 것처럼 보이게 하는 기술\n",
    "- 여러 스레드가 동일한 메모리 공간을 공유하며 실행\n",
    "- 파이썬의 GIL로 인해 진정한 병렬 실행은 아니지마, I/O-bound 작업에서 유용\n",
    "- 스레드 간 메모리 공유로 데이터 공유가 용이\n",
    "- CPU-bound 작업에서는 성능 한계\n",
    "- 스레드 동기화 문제(데드락, 레이스 컨디션 등)\n",
    "\n",
    "##### GIL(Global Interpreter Lock)\n",
    "- 한번에 하나의 기본 스레드만 실행할 수 있도록 스레드 실행을 제어\n",
    "- 멀티스레딩을 사용하면 I/O 작업(파일 읽기/쓰기, 네트워크 통신 등)을 병렬로 처리하여 프로그램의 응답성을 높임"
   ]
  },
  {
   "cell_type": "code",
   "execution_count": 3,
   "metadata": {},
   "outputs": [
    {
     "name": "stdout",
     "output_type": "stream",
     "text": [
      "i: 0\n",
      "공통A:  0\n",
      "i: 0\n",
      "공통A:  1\n",
      "i: 1\n",
      "공통A:  2\n",
      "i: 1\n",
      "공통A:  3\n",
      "i:i: 2\n",
      "공통A:  4\n",
      " 2\n",
      "공통A:  5\n",
      "i: 3\n",
      "공통A:  6\n",
      "i: 3\n",
      "공통A:  7\n",
      "i: 4\n",
      "공통A:  8\n",
      "i: 4\n",
      "공통A:  9\n"
     ]
    }
   ],
   "source": [
    "import threading\n",
    "import time\n",
    "\n",
    "A = 0\n",
    "# 숫자를 출력하는 함수\n",
    "def print_numbers():\n",
    "    global A\n",
    "    for i in range(5):\n",
    "        print(\"i:\",i)\n",
    "        print(\"공통A: \",A)\n",
    "        A += 1\n",
    "        time.sleep(1)\n",
    "        \n",
    "# 두 개의 스레드 생성 및 시작\n",
    "thread1 = threading.Thread(target = print_numbers)\n",
    "thread2 = threading.Thread(target = print_numbers)\n",
    "thread1.start()\n",
    "thread2.start()\n",
    "thread1.join()\n",
    "thread2.join()"
   ]
  },
  {
   "cell_type": "markdown",
   "metadata": {},
   "source": [
    "### Multi-processing\n",
    "\n",
    "##### 멀티프로세싱\n",
    "- 여러 개의 프로세스를 생성하여 병렬로 실행하는 기술\n",
    "- 각 프로세스는 별도의 메모리 공간을 가지며 독립적으로 실행\n",
    "- GIL의 제약을 받지 않아 병렬 처리가 가능\n",
    "- CPU-bound 작업을 병렬로 처리하여 성능을 극대화 가능\n",
    "- 각 프로세스가 독립된 메머리 공간을 가지므로 메모리 충돌 문제 없음\n",
    "- 프로세스 간 데이터 공유가 어렵고 비용이 높음\n",
    "\n",
    "##### 동기화\n",
    "- 여러 스레드/프로세스가 공유 자원에 동시에 접근할 때 발생할 수 있는 문제를 방지하기 위한 기법\n",
    "- 락을 사용하여 데드락을 방지하고, 타임아웃을 설정하여 무한 대기 방지\n",
    "- 여러 스레드/프로세스가 동시에 데이터베이스나 파일에 접근 할 때 데이터 무결성 보호\n",
    "- 자원 경쟁을 최소화하고 성능 최적화\n",
    "\n",
    "##### Lock(락)\n",
    "- 한 번에 하나의 스레드/프로세스만 자원에 접근할 수 있도록 하는 동기화 방법\n",
    "\n",
    "##### Semaphore(세마포어)\n",
    "- 제한된 수의 스레드/프로세스만 자원에 접근할 수 있도록 하는 동기화 기법"
   ]
  },
  {
   "cell_type": "code",
   "execution_count": 7,
   "metadata": {},
   "outputs": [
    {
     "name": "stdout",
     "output_type": "stream",
     "text": [
      "print_numbers 함수가 모두 실행 완료되었습니다.\n"
     ]
    },
    {
     "name": "stderr",
     "output_type": "stream",
     "text": [
      "Traceback (most recent call last):\n",
      "  File \"<string>\", line 1, in <module>\n",
      "  File \"/Library/Developer/CommandLineTools/Library/Frameworks/Python3.framework/Versions/3.9/lib/python3.9/multiprocessing/spawn.py\", line 116, in spawn_main\n",
      "    exitcode = _main(fd, parent_sentinel)\n",
      "  File \"/Library/Developer/CommandLineTools/Library/Frameworks/Python3.framework/Versions/3.9/lib/python3.9/multiprocessing/spawn.py\", line 126, in _main\n",
      "    self = reduction.pickle.load(from_parent)\n",
      "AttributeError: Can't get attribute 'print_numbers' on <module '__main__' (built-in)>\n",
      "Traceback (most recent call last):\n",
      "  File \"<string>\", line 1, in <module>\n",
      "  File \"/Library/Developer/CommandLineTools/Library/Frameworks/Python3.framework/Versions/3.9/lib/python3.9/multiprocessing/spawn.py\", line 116, in spawn_main\n",
      "    exitcode = _main(fd, parent_sentinel)\n",
      "  File \"/Library/Developer/CommandLineTools/Library/Frameworks/Python3.framework/Versions/3.9/lib/python3.9/multiprocessing/spawn.py\", line 126, in _main\n",
      "    self = reduction.pickle.load(from_parent)\n",
      "AttributeError: Can't get attribute 'print_numbers' on <module '__main__' (built-in)>\n"
     ]
    }
   ],
   "source": [
    "import multiprocessing\n",
    "import time\n",
    "\n",
    "# 멀티프로세싱을 안전하게 사용하기 위한 초기화\n",
    "def print_numbers(A):\n",
    "    for i in range(5):\n",
    "        with A.get_lock():  # A에 대한 동시 접근을 방지하기 위해 락 사용\n",
    "            A.value += 1\n",
    "            current_A = A.value  # 현재 A의 값 복사\n",
    "        print(f\"프로세스 ID {multiprocessing.current_process().pid}, i: {i}, 공통 A: {current_A}\")\n",
    "        time.sleep(1)\n",
    "\n",
    "def main():\n",
    "    # 공유되는 변수 A 초기화\n",
    "    A = multiprocessing.Value('i', 0)  # 'i'는 int형을 의미\n",
    "    \n",
    "    # 두 개의 프로세스 생성 및 시작\n",
    "    process1 = multiprocessing.Process(target=print_numbers, args=(A,))\n",
    "    process2 = multiprocessing.Process(target=print_numbers, args=(A,))\n",
    "    process1.start()\n",
    "    process2.start()\n",
    "\n",
    "    # 프로세스 종료 대기\n",
    "    process1.join()\n",
    "    process2.join()\n",
    "\n",
    "if __name__ == '__main__':\n",
    "    main()\n",
    "    print('print_numbers 함수가 모두 실행 완료되었습니다.')"
   ]
  },
  {
   "cell_type": "code",
   "execution_count": null,
   "metadata": {},
   "outputs": [],
   "source": []
  }
 ],
 "metadata": {
  "kernelspec": {
   "display_name": "base",
   "language": "python",
   "name": "python3"
  },
  "language_info": {
   "codemirror_mode": {
    "name": "ipython",
    "version": 3
   },
   "file_extension": ".py",
   "mimetype": "text/x-python",
   "name": "python",
   "nbconvert_exporter": "python",
   "pygments_lexer": "ipython3",
   "version": "3.10.12"
  }
 },
 "nbformat": 4,
 "nbformat_minor": 2
}
