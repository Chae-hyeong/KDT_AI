{
 "cells": [
  {
   "cell_type": "markdown",
   "metadata": {},
   "source": [
    "# World Data\n"
   ]
  },
  {
   "cell_type": "markdown",
   "metadata": {},
   "source": [
    "# 전처리 시나리오\n",
    "1. 데이터 읽기\n",
    "2. 결측값 처리\n",
    "3. 특수 문자 제거\n",
    "4. 스케일링\n",
    "5. 결과 저장"
   ]
  },
  {
   "cell_type": "markdown",
   "metadata": {},
   "source": [
    "1. 데이터 읽기"
   ]
  },
  {
   "cell_type": "code",
   "execution_count": 89,
   "metadata": {},
   "outputs": [
    {
     "name": "stdout",
     "output_type": "stream",
     "text": [
      "##########\n",
      "데이터의 헤드\n",
      "       Country Density(P/Km2)  Agricultural Land(%) Land Area(Km2)  \\\n",
      "0  Afghanistan             60                  58.1        652,230   \n",
      "1      Albania            105                  43.1         28,748   \n",
      "2      Algeria             18                  17.4      2,381,741   \n",
      "3      Andorra            164                  40.0            468   \n",
      "4       Angola             26                  47.5      1,246,700   \n",
      "\n",
      "  Armed Forces size  Birth Rate  Calling Code Capital/Major City  \\\n",
      "0           323,000       32.49          93.0              Kabul   \n",
      "1             9,000       11.78         355.0             Tirana   \n",
      "2           317,000       24.28         213.0            Algiers   \n",
      "3               NaN        7.20         376.0   Andorra la Vella   \n",
      "4           117,000       40.73         244.0             Luanda   \n",
      "\n",
      "  Co2-Emissions     CPI  CPI Change(%)  \n",
      "0         8,672   149.9            2.3  \n",
      "1         4,536  119.05            1.4  \n",
      "2       150,006  151.36            2.0  \n",
      "3           469     NaN            NaN  \n",
      "4        34,693  261.73           17.1  \n"
     ]
    }
   ],
   "source": [
    "import pandas as pd\n",
    "\n",
    "data = pd.read_csv('world-data.csv')\n",
    "\n",
    "# 데이터 헤드 출력\n",
    "print(\"#\"*10)\n",
    "print('데이터의 헤드')\n",
    "print(data.head())\n",
    "\n"
   ]
  },
  {
   "cell_type": "code",
   "execution_count": 90,
   "metadata": {},
   "outputs": [
    {
     "name": "stdout",
     "output_type": "stream",
     "text": [
      "##########\n",
      "데이터의 각 칼럼에 대한 정보\n",
      "<class 'pandas.core.frame.DataFrame'>\n",
      "RangeIndex: 195 entries, 0 to 194\n",
      "Data columns (total 11 columns):\n",
      " #   Column                Non-Null Count  Dtype  \n",
      "---  ------                --------------  -----  \n",
      " 0   Country               195 non-null    object \n",
      " 1   Density(P/Km2)        195 non-null    object \n",
      " 2   Agricultural Land(%)  188 non-null    float64\n",
      " 3   Land Area(Km2)        194 non-null    object \n",
      " 4   Armed Forces size     171 non-null    object \n",
      " 5   Birth Rate            189 non-null    float64\n",
      " 6   Calling Code          194 non-null    float64\n",
      " 7   Capital/Major City    192 non-null    object \n",
      " 8   Co2-Emissions         188 non-null    object \n",
      " 9   CPI                   178 non-null    object \n",
      " 10  CPI Change(%)         179 non-null    float64\n",
      "dtypes: float64(4), object(7)\n",
      "memory usage: 16.9+ KB\n",
      "None\n"
     ]
    }
   ],
   "source": [
    "# 데이터의 칼럼 정보 출력\n",
    "print(\"#\"*10)\n",
    "print('데이터의 각 칼럼에 대한 정보')\n",
    "print(data.info())"
   ]
  },
  {
   "cell_type": "code",
   "execution_count": 91,
   "metadata": {},
   "outputs": [
    {
     "data": {
      "text/html": [
       "<div>\n",
       "<style scoped>\n",
       "    .dataframe tbody tr th:only-of-type {\n",
       "        vertical-align: middle;\n",
       "    }\n",
       "\n",
       "    .dataframe tbody tr th {\n",
       "        vertical-align: top;\n",
       "    }\n",
       "\n",
       "    .dataframe thead th {\n",
       "        text-align: right;\n",
       "    }\n",
       "</style>\n",
       "<table border=\"1\" class=\"dataframe\">\n",
       "  <thead>\n",
       "    <tr style=\"text-align: right;\">\n",
       "      <th></th>\n",
       "      <th>Agricultural Land(%)</th>\n",
       "      <th>Birth Rate</th>\n",
       "      <th>Calling Code</th>\n",
       "      <th>CPI Change(%)</th>\n",
       "    </tr>\n",
       "  </thead>\n",
       "  <tbody>\n",
       "    <tr>\n",
       "      <th>count</th>\n",
       "      <td>188.000000</td>\n",
       "      <td>189.000000</td>\n",
       "      <td>194.000000</td>\n",
       "      <td>179.000000</td>\n",
       "    </tr>\n",
       "    <tr>\n",
       "      <th>mean</th>\n",
       "      <td>39.117553</td>\n",
       "      <td>20.214974</td>\n",
       "      <td>360.546392</td>\n",
       "      <td>6.722346</td>\n",
       "    </tr>\n",
       "    <tr>\n",
       "      <th>std</th>\n",
       "      <td>21.783052</td>\n",
       "      <td>9.945774</td>\n",
       "      <td>323.236419</td>\n",
       "      <td>24.450414</td>\n",
       "    </tr>\n",
       "    <tr>\n",
       "      <th>min</th>\n",
       "      <td>0.600000</td>\n",
       "      <td>5.900000</td>\n",
       "      <td>1.000000</td>\n",
       "      <td>-4.300000</td>\n",
       "    </tr>\n",
       "    <tr>\n",
       "      <th>25%</th>\n",
       "      <td>21.700000</td>\n",
       "      <td>11.300000</td>\n",
       "      <td>82.500000</td>\n",
       "      <td>1.000000</td>\n",
       "    </tr>\n",
       "    <tr>\n",
       "      <th>50%</th>\n",
       "      <td>39.600000</td>\n",
       "      <td>17.950000</td>\n",
       "      <td>255.500000</td>\n",
       "      <td>2.300000</td>\n",
       "    </tr>\n",
       "    <tr>\n",
       "      <th>75%</th>\n",
       "      <td>55.375000</td>\n",
       "      <td>28.750000</td>\n",
       "      <td>506.750000</td>\n",
       "      <td>4.250000</td>\n",
       "    </tr>\n",
       "    <tr>\n",
       "      <th>max</th>\n",
       "      <td>82.600000</td>\n",
       "      <td>46.080000</td>\n",
       "      <td>1876.000000</td>\n",
       "      <td>254.900000</td>\n",
       "    </tr>\n",
       "  </tbody>\n",
       "</table>\n",
       "</div>"
      ],
      "text/plain": [
       "       Agricultural Land(%)  Birth Rate  Calling Code  CPI Change(%)\n",
       "count            188.000000  189.000000    194.000000     179.000000\n",
       "mean              39.117553   20.214974    360.546392       6.722346\n",
       "std               21.783052    9.945774    323.236419      24.450414\n",
       "min                0.600000    5.900000      1.000000      -4.300000\n",
       "25%               21.700000   11.300000     82.500000       1.000000\n",
       "50%               39.600000   17.950000    255.500000       2.300000\n",
       "75%               55.375000   28.750000    506.750000       4.250000\n",
       "max               82.600000   46.080000   1876.000000     254.900000"
      ]
     },
     "execution_count": 91,
     "metadata": {},
     "output_type": "execute_result"
    }
   ],
   "source": [
    "# 데이터 기초 통계 확인\n",
    "data.describe()"
   ]
  },
  {
   "cell_type": "code",
   "execution_count": 92,
   "metadata": {},
   "outputs": [
    {
     "data": {
      "text/html": [
       "<div>\n",
       "<style scoped>\n",
       "    .dataframe tbody tr th:only-of-type {\n",
       "        vertical-align: middle;\n",
       "    }\n",
       "\n",
       "    .dataframe tbody tr th {\n",
       "        vertical-align: top;\n",
       "    }\n",
       "\n",
       "    .dataframe thead th {\n",
       "        text-align: right;\n",
       "    }\n",
       "</style>\n",
       "<table border=\"1\" class=\"dataframe\">\n",
       "  <thead>\n",
       "    <tr style=\"text-align: right;\">\n",
       "      <th></th>\n",
       "      <th>Country</th>\n",
       "      <th>Density(P/Km2)</th>\n",
       "      <th>Agricultural Land(%)</th>\n",
       "      <th>Land Area(Km2)</th>\n",
       "      <th>Armed Forces size</th>\n",
       "      <th>Birth Rate</th>\n",
       "      <th>Calling Code</th>\n",
       "      <th>Capital/Major City</th>\n",
       "      <th>Co2-Emissions</th>\n",
       "      <th>CPI</th>\n",
       "      <th>CPI Change(%)</th>\n",
       "    </tr>\n",
       "  </thead>\n",
       "  <tbody>\n",
       "    <tr>\n",
       "      <th>0</th>\n",
       "      <td>Afghanistan</td>\n",
       "      <td>60</td>\n",
       "      <td>58.1</td>\n",
       "      <td>652,230</td>\n",
       "      <td>323,000</td>\n",
       "      <td>32.49</td>\n",
       "      <td>93.0</td>\n",
       "      <td>Kabul</td>\n",
       "      <td>8,672</td>\n",
       "      <td>149.9</td>\n",
       "      <td>2.3</td>\n",
       "    </tr>\n",
       "    <tr>\n",
       "      <th>1</th>\n",
       "      <td>Albania</td>\n",
       "      <td>105</td>\n",
       "      <td>43.1</td>\n",
       "      <td>28,748</td>\n",
       "      <td>9,000</td>\n",
       "      <td>11.78</td>\n",
       "      <td>355.0</td>\n",
       "      <td>Tirana</td>\n",
       "      <td>4,536</td>\n",
       "      <td>119.05</td>\n",
       "      <td>1.4</td>\n",
       "    </tr>\n",
       "    <tr>\n",
       "      <th>2</th>\n",
       "      <td>Algeria</td>\n",
       "      <td>18</td>\n",
       "      <td>17.4</td>\n",
       "      <td>2,381,741</td>\n",
       "      <td>317,000</td>\n",
       "      <td>24.28</td>\n",
       "      <td>213.0</td>\n",
       "      <td>Algiers</td>\n",
       "      <td>150,006</td>\n",
       "      <td>151.36</td>\n",
       "      <td>2.0</td>\n",
       "    </tr>\n",
       "    <tr>\n",
       "      <th>3</th>\n",
       "      <td>Andorra</td>\n",
       "      <td>164</td>\n",
       "      <td>40.0</td>\n",
       "      <td>468</td>\n",
       "      <td>NaN</td>\n",
       "      <td>7.20</td>\n",
       "      <td>376.0</td>\n",
       "      <td>Andorra la Vella</td>\n",
       "      <td>469</td>\n",
       "      <td>NaN</td>\n",
       "      <td>NaN</td>\n",
       "    </tr>\n",
       "    <tr>\n",
       "      <th>4</th>\n",
       "      <td>Angola</td>\n",
       "      <td>26</td>\n",
       "      <td>47.5</td>\n",
       "      <td>1,246,700</td>\n",
       "      <td>117,000</td>\n",
       "      <td>40.73</td>\n",
       "      <td>244.0</td>\n",
       "      <td>Luanda</td>\n",
       "      <td>34,693</td>\n",
       "      <td>261.73</td>\n",
       "      <td>17.1</td>\n",
       "    </tr>\n",
       "  </tbody>\n",
       "</table>\n",
       "</div>"
      ],
      "text/plain": [
       "       Country Density(P/Km2)  Agricultural Land(%) Land Area(Km2)  \\\n",
       "0  Afghanistan             60                  58.1        652,230   \n",
       "1      Albania            105                  43.1         28,748   \n",
       "2      Algeria             18                  17.4      2,381,741   \n",
       "3      Andorra            164                  40.0            468   \n",
       "4       Angola             26                  47.5      1,246,700   \n",
       "\n",
       "  Armed Forces size  Birth Rate  Calling Code Capital/Major City  \\\n",
       "0           323,000       32.49          93.0              Kabul   \n",
       "1             9,000       11.78         355.0             Tirana   \n",
       "2           317,000       24.28         213.0            Algiers   \n",
       "3               NaN        7.20         376.0   Andorra la Vella   \n",
       "4           117,000       40.73         244.0             Luanda   \n",
       "\n",
       "  Co2-Emissions     CPI  CPI Change(%)  \n",
       "0         8,672   149.9            2.3  \n",
       "1         4,536  119.05            1.4  \n",
       "2       150,006  151.36            2.0  \n",
       "3           469     NaN            NaN  \n",
       "4        34,693  261.73           17.1  "
      ]
     },
     "execution_count": 92,
     "metadata": {},
     "output_type": "execute_result"
    }
   ],
   "source": [
    "data.head()"
   ]
  },
  {
   "cell_type": "code",
   "execution_count": 93,
   "metadata": {},
   "outputs": [
    {
     "data": {
      "text/html": [
       "<div>\n",
       "<style scoped>\n",
       "    .dataframe tbody tr th:only-of-type {\n",
       "        vertical-align: middle;\n",
       "    }\n",
       "\n",
       "    .dataframe tbody tr th {\n",
       "        vertical-align: top;\n",
       "    }\n",
       "\n",
       "    .dataframe thead th {\n",
       "        text-align: right;\n",
       "    }\n",
       "</style>\n",
       "<table border=\"1\" class=\"dataframe\">\n",
       "  <thead>\n",
       "    <tr style=\"text-align: right;\">\n",
       "      <th></th>\n",
       "      <th>Country</th>\n",
       "      <th>Density(P/Km2)</th>\n",
       "      <th>Agricultural Land(%)</th>\n",
       "      <th>Land Area(Km2)</th>\n",
       "      <th>Armed Forces size</th>\n",
       "      <th>Birth Rate</th>\n",
       "      <th>Calling Code</th>\n",
       "      <th>Capital/Major City</th>\n",
       "      <th>Co2-Emissions</th>\n",
       "      <th>CPI</th>\n",
       "      <th>CPI Change(%)</th>\n",
       "    </tr>\n",
       "  </thead>\n",
       "  <tbody>\n",
       "    <tr>\n",
       "      <th>190</th>\n",
       "      <td>Venezuela</td>\n",
       "      <td>32</td>\n",
       "      <td>24.5</td>\n",
       "      <td>912,050</td>\n",
       "      <td>343,000</td>\n",
       "      <td>17.88</td>\n",
       "      <td>58.0</td>\n",
       "      <td>Caracas</td>\n",
       "      <td>164,175</td>\n",
       "      <td>2,740.27</td>\n",
       "      <td>254.9</td>\n",
       "    </tr>\n",
       "    <tr>\n",
       "      <th>191</th>\n",
       "      <td>Vietnam</td>\n",
       "      <td>314</td>\n",
       "      <td>39.3</td>\n",
       "      <td>331,210</td>\n",
       "      <td>522,000</td>\n",
       "      <td>16.75</td>\n",
       "      <td>84.0</td>\n",
       "      <td>Hanoi</td>\n",
       "      <td>192,668</td>\n",
       "      <td>163.52</td>\n",
       "      <td>2.8</td>\n",
       "    </tr>\n",
       "    <tr>\n",
       "      <th>192</th>\n",
       "      <td>Yemen</td>\n",
       "      <td>56</td>\n",
       "      <td>44.6</td>\n",
       "      <td>527,968</td>\n",
       "      <td>40,000</td>\n",
       "      <td>30.45</td>\n",
       "      <td>967.0</td>\n",
       "      <td>Sanaa</td>\n",
       "      <td>10,609</td>\n",
       "      <td>157.58</td>\n",
       "      <td>8.1</td>\n",
       "    </tr>\n",
       "    <tr>\n",
       "      <th>193</th>\n",
       "      <td>Zambia</td>\n",
       "      <td>25</td>\n",
       "      <td>32.1</td>\n",
       "      <td>752,618</td>\n",
       "      <td>16,000</td>\n",
       "      <td>36.19</td>\n",
       "      <td>260.0</td>\n",
       "      <td>Lusaka</td>\n",
       "      <td>5,141</td>\n",
       "      <td>212.31</td>\n",
       "      <td>9.2</td>\n",
       "    </tr>\n",
       "    <tr>\n",
       "      <th>194</th>\n",
       "      <td>Zimbabwe</td>\n",
       "      <td>38</td>\n",
       "      <td>41.9</td>\n",
       "      <td>390,757</td>\n",
       "      <td>51,000</td>\n",
       "      <td>30.68</td>\n",
       "      <td>263.0</td>\n",
       "      <td>Harare</td>\n",
       "      <td>10,983</td>\n",
       "      <td>105.51</td>\n",
       "      <td>0.9</td>\n",
       "    </tr>\n",
       "  </tbody>\n",
       "</table>\n",
       "</div>"
      ],
      "text/plain": [
       "       Country Density(P/Km2)  Agricultural Land(%) Land Area(Km2)  \\\n",
       "190  Venezuela             32                  24.5        912,050   \n",
       "191    Vietnam            314                  39.3        331,210   \n",
       "192      Yemen             56                  44.6        527,968   \n",
       "193     Zambia             25                  32.1        752,618   \n",
       "194   Zimbabwe             38                  41.9        390,757   \n",
       "\n",
       "    Armed Forces size  Birth Rate  Calling Code Capital/Major City  \\\n",
       "190           343,000       17.88          58.0            Caracas   \n",
       "191           522,000       16.75          84.0              Hanoi   \n",
       "192            40,000       30.45         967.0              Sanaa   \n",
       "193            16,000       36.19         260.0             Lusaka   \n",
       "194            51,000       30.68         263.0             Harare   \n",
       "\n",
       "    Co2-Emissions       CPI  CPI Change(%)  \n",
       "190       164,175  2,740.27          254.9  \n",
       "191       192,668    163.52            2.8  \n",
       "192        10,609    157.58            8.1  \n",
       "193         5,141    212.31            9.2  \n",
       "194        10,983    105.51            0.9  "
      ]
     },
     "execution_count": 93,
     "metadata": {},
     "output_type": "execute_result"
    }
   ],
   "source": [
    "data.tail()"
   ]
  },
  {
   "cell_type": "markdown",
   "metadata": {},
   "source": [
    "2. 결측치 확인"
   ]
  },
  {
   "cell_type": "code",
   "execution_count": 94,
   "metadata": {},
   "outputs": [
    {
     "name": "stdout",
     "output_type": "stream",
     "text": [
      "Missing values in each column:\n",
      " Country                  0\n",
      "Density(P/Km2)           0\n",
      "Agricultural Land(%)     7\n",
      "Land Area(Km2)           1\n",
      "Armed Forces size       24\n",
      "Birth Rate               6\n",
      "Calling Code             1\n",
      "Capital/Major City       3\n",
      "Co2-Emissions            7\n",
      "CPI                     17\n",
      "CPI Change(%)           16\n",
      "dtype: int64\n"
     ]
    }
   ],
   "source": [
    "# 결측값 확인\n",
    "missing_values = data.isnull().sum()\n",
    "print('Missing values in each column:\\n', missing_values)"
   ]
  },
  {
   "cell_type": "markdown",
   "metadata": {},
   "source": [
    "### 처리해야 되는 결측치 columns\n",
    "1. Agricultural Land(농지): 해당 국가의 평균값 또는 중앙값으로 대체하거나 인근 국가의 유사한 비율로 대체\n",
    "2. Land area(면적): 결측치가 1이기 때문에 통계자료로 작성 또는 평균값으로 대체\n",
    "3. armed Forces size(군대 규모): 사용 안함(분석에 필요 없음)\n",
    "4. Birth Rate(출생률): 평균값으로 대체하거나 사용 안함\n",
    "5. Calling code: 국가별 전화 코드는 다르기 때문에 사용하지 않거나 찾아서 등록(분석에 필요 없음)\n",
    "6. Capital/Major City(수도/주요 도시):각 국가의 수도 또는 주요 도시를 수동으로 찾아서 결측값을 대체(분석에 필요 없음)\n",
    "7. Co2-Emissions(Co2 배출량):평균값 또는 중앙값 사용 데이터의 중심 경향을 유지\n",
    "8. CPI(소비자 물가 지수): 평균값 또는 중앙값 사용 데이터의 중심 경향을 유지\n",
    "9. CPI Change(CPI 변화율): 연속형 변수이므로 평균값을 사용하여 결측값 대체 또는 이상치의 영향을 줄이기 위해 중앙값 사용"
   ]
  },
  {
   "cell_type": "markdown",
   "metadata": {},
   "source": [
    "3. 특수 문자 제거(csv 데이터들중 수치형 데이터가 object형으로 적용되어 있음) "
   ]
  },
  {
   "cell_type": "code",
   "execution_count": 95,
   "metadata": {},
   "outputs": [],
   "source": [
    "# 쉼표를 제거하고 숫자로 변환하는 함수\n",
    "def remove_comma_and_convert(series):\n",
    "    return series.str.replace(',', '').astype(float)\n",
    "\n",
    "# 쉼표를 포함한 열 변환\n",
    "for column in ['Density(P/Km2)','Land Area(Km2)', 'Armed Forces size','Co2-Emissions','CPI']:\n",
    "    if column in data.columns:\n",
    "        data[column] = remove_comma_and_convert(data[column])\n",
    "\n",
    "\n"
   ]
  },
  {
   "cell_type": "code",
   "execution_count": 102,
   "metadata": {},
   "outputs": [
    {
     "name": "stdout",
     "output_type": "stream",
     "text": [
      "문자 제거 후 데이터 타입:\n",
      "Country                  object\n",
      "Density(P/Km2)          float64\n",
      "Agricultural Land(%)    float64\n",
      "Land Area(Km2)          float64\n",
      "Armed Forces size       float64\n",
      "Birth Rate              float64\n",
      "Calling Code            float64\n",
      "Capital/Major City       object\n",
      "Co2-Emissions           float64\n",
      "CPI                     float64\n",
      "CPI Change(%)           float64\n",
      "dtype: object\n"
     ]
    }
   ],
   "source": [
    "# 문자 제거 후 데이터 타입 확인\n",
    "print(f\"문자 제거 후 데이터 타입:\\n{data.dtypes}\")"
   ]
  },
  {
   "cell_type": "markdown",
   "metadata": {},
   "source": [
    "4. 결츨치 처리 및 스케일링(파이프 라인)"
   ]
  },
  {
   "cell_type": "code",
   "execution_count": 152,
   "metadata": {},
   "outputs": [
    {
     "name": "stdout",
     "output_type": "stream",
     "text": [
      "\n",
      "Processed Data:\n",
      "         Country  Density(P/Km2)  Land Area(Km2)  Birth Rate  Co2-Emissions  \\\n",
      "0    Afghanistan            60.0        652230.0       32.49         8672.0   \n",
      "1        Albania           105.0         28748.0       11.78         4536.0   \n",
      "2        Algeria            18.0       2381741.0       24.28       150006.0   \n",
      "3        Andorra           164.0           468.0        7.20          469.0   \n",
      "4         Angola            26.0       1246700.0       40.73        34693.0   \n",
      "..           ...             ...             ...         ...            ...   \n",
      "190    Venezuela            32.0        912050.0       17.88       164175.0   \n",
      "191      Vietnam           314.0        331210.0       16.75       192668.0   \n",
      "192        Yemen            56.0        527968.0       30.45        10609.0   \n",
      "193       Zambia            25.0        752618.0       36.19         5141.0   \n",
      "194     Zimbabwe            38.0        390757.0       30.68        10983.0   \n",
      "\n",
      "             CPI  CPI Change(%)  \n",
      "0     149.900000       2.300000  \n",
      "1     119.050000       1.400000  \n",
      "2     151.360000       2.000000  \n",
      "3     190.460955       6.722346  \n",
      "4     261.730000      17.100000  \n",
      "..           ...            ...  \n",
      "190  2740.270000     254.900000  \n",
      "191   163.520000       2.800000  \n",
      "192   157.580000       8.100000  \n",
      "193   212.310000       9.200000  \n",
      "194   105.510000       0.900000  \n",
      "\n",
      "[195 rows x 7 columns]\n"
     ]
    }
   ],
   "source": [
    "# 전처리 작업의 자동화 (파이프라인 구축)\n",
    "from sklearn.pipeline import Pipeline # 파이프라인 구축을 위한 클래스\n",
    "from sklearn.impute import SimpleImputer  # 결측값 처리\n",
    "from sklearn.preprocessing import StandardScaler  # 데이터 스케일링\n",
    "import numpy as np\n",
    "\n",
    "# 데이터 분리\n",
    "data_categorical= data[['Country']]\n",
    "data_numerical=data[['Density(P/Km2)','Land Area(Km2)', 'Birth Rate', 'Co2-Emissions', 'CPI', 'CPI Change(%)']]\n",
    "# 결측값 대체: 평균값으로 대체\n",
    "mean_imputer = Pipeline([\n",
    "    ('imputer', SimpleImputer(strategy='mean')),\n",
    "])\n",
    "\n",
    "\n",
    "# 데이터 변환\n",
    "processed_numerical = mean_imputer.fit_transform(data_numerical)\n",
    "\n",
    "# 결과를 데이터프레임으로 변환\n",
    "processed_numerical_df = pd.DataFrame(processed_numerical, columns=data_numerical.columns)\n",
    "\n",
    "# 최종 데이터프레임 결합\n",
    "final_data = pd.concat([data_categorical,processed_numerical_df], axis=1)\n",
    "\n",
    "print(\"\\nProcessed Data:\")\n",
    "print(final_data)"
   ]
  },
  {
   "cell_type": "code",
   "execution_count": 153,
   "metadata": {},
   "outputs": [
    {
     "name": "stdout",
     "output_type": "stream",
     "text": [
      "Missing values in each column:\n",
      "\n"
     ]
    },
    {
     "data": {
      "text/plain": [
       "Country           0\n",
       "Density(P/Km2)    0\n",
       "Land Area(Km2)    0\n",
       "Birth Rate        0\n",
       "Co2-Emissions     0\n",
       "CPI               0\n",
       "CPI Change(%)     0\n",
       "dtype: int64"
      ]
     },
     "execution_count": 153,
     "metadata": {},
     "output_type": "execute_result"
    }
   ],
   "source": [
    "#최종 데이터의 결측치 값\n",
    "print('Missing values in each column:\\n')\n",
    "final_data.isnull().sum()"
   ]
  },
  {
   "cell_type": "code",
   "execution_count": 154,
   "metadata": {},
   "outputs": [
    {
     "name": "stdout",
     "output_type": "stream",
     "text": [
      "Final data columns dtypes: \n",
      "Country            object\n",
      "Density(P/Km2)    float64\n",
      "Land Area(Km2)    float64\n",
      "Birth Rate        float64\n",
      "Co2-Emissions     float64\n",
      "CPI               float64\n",
      "CPI Change(%)     float64\n",
      "dtype: object\n"
     ]
    }
   ],
   "source": [
    "\n",
    "print(f\"Final data columns dtypes: \\n{final_data.dtypes}\")"
   ]
  },
  {
   "cell_type": "code",
   "execution_count": 155,
   "metadata": {},
   "outputs": [
    {
     "name": "stdout",
     "output_type": "stream",
     "text": [
      "Original Data: \n",
      "         Country  Density(P/Km2)  Agricultural Land(%)  Land Area(Km2)  \\\n",
      "0    Afghanistan            60.0                  58.1        652230.0   \n",
      "1        Albania           105.0                  43.1         28748.0   \n",
      "2        Algeria            18.0                  17.4       2381741.0   \n",
      "3        Andorra           164.0                  40.0           468.0   \n",
      "4         Angola            26.0                  47.5       1246700.0   \n",
      "..           ...             ...                   ...             ...   \n",
      "190    Venezuela            32.0                  24.5        912050.0   \n",
      "191      Vietnam           314.0                  39.3        331210.0   \n",
      "192        Yemen            56.0                  44.6        527968.0   \n",
      "193       Zambia            25.0                  32.1        752618.0   \n",
      "194     Zimbabwe            38.0                  41.9        390757.0   \n",
      "\n",
      "     Armed Forces size  Birth Rate  Calling Code Capital/Major City  \\\n",
      "0             323000.0       32.49          93.0              Kabul   \n",
      "1               9000.0       11.78         355.0             Tirana   \n",
      "2             317000.0       24.28         213.0            Algiers   \n",
      "3                  NaN        7.20         376.0   Andorra la Vella   \n",
      "4             117000.0       40.73         244.0             Luanda   \n",
      "..                 ...         ...           ...                ...   \n",
      "190           343000.0       17.88          58.0            Caracas   \n",
      "191           522000.0       16.75          84.0              Hanoi   \n",
      "192            40000.0       30.45         967.0              Sanaa   \n",
      "193            16000.0       36.19         260.0             Lusaka   \n",
      "194            51000.0       30.68         263.0             Harare   \n",
      "\n",
      "     Co2-Emissions      CPI  CPI Change(%)  \n",
      "0           8672.0   149.90            2.3  \n",
      "1           4536.0   119.05            1.4  \n",
      "2         150006.0   151.36            2.0  \n",
      "3            469.0      NaN            NaN  \n",
      "4          34693.0   261.73           17.1  \n",
      "..             ...      ...            ...  \n",
      "190       164175.0  2740.27          254.9  \n",
      "191       192668.0   163.52            2.8  \n",
      "192        10609.0   157.58            8.1  \n",
      "193         5141.0   212.31            9.2  \n",
      "194        10983.0   105.51            0.9  \n",
      "\n",
      "[195 rows x 11 columns]\n",
      "Final Data: \n",
      "         Country  Density(P/Km2)  Land Area(Km2)  Birth Rate  Co2-Emissions  \\\n",
      "0    Afghanistan            60.0        652230.0       32.49         8672.0   \n",
      "1        Albania           105.0         28748.0       11.78         4536.0   \n",
      "2        Algeria            18.0       2381741.0       24.28       150006.0   \n",
      "3        Andorra           164.0           468.0        7.20          469.0   \n",
      "4         Angola            26.0       1246700.0       40.73        34693.0   \n",
      "..           ...             ...             ...         ...            ...   \n",
      "190    Venezuela            32.0        912050.0       17.88       164175.0   \n",
      "191      Vietnam           314.0        331210.0       16.75       192668.0   \n",
      "192        Yemen            56.0        527968.0       30.45        10609.0   \n",
      "193       Zambia            25.0        752618.0       36.19         5141.0   \n",
      "194     Zimbabwe            38.0        390757.0       30.68        10983.0   \n",
      "\n",
      "             CPI  CPI Change(%)  \n",
      "0     149.900000       2.300000  \n",
      "1     119.050000       1.400000  \n",
      "2     151.360000       2.000000  \n",
      "3     190.460955       6.722346  \n",
      "4     261.730000      17.100000  \n",
      "..           ...            ...  \n",
      "190  2740.270000     254.900000  \n",
      "191   163.520000       2.800000  \n",
      "192   157.580000       8.100000  \n",
      "193   212.310000       9.200000  \n",
      "194   105.510000       0.900000  \n",
      "\n",
      "[195 rows x 7 columns]\n"
     ]
    }
   ],
   "source": [
    "# 전처리 전후 데이터\n",
    "print(f\"Original Data: \\n{data}\")\n",
    "print(f\"Final Data: \\n{final_data}\")"
   ]
  },
  {
   "cell_type": "markdown",
   "metadata": {},
   "source": [
    "데이터셋이 195x7 이므로 작은 데이터에 포함되어 샘플링 필요치 않음\n",
    "위의 데이터셋은 7개의 변수로 구성되어 있으며, 고차원 데이터로 분류되지 않아 PCA, t-SNE 필요없음"
   ]
  },
  {
   "cell_type": "markdown",
   "metadata": {},
   "source": [
    "# 데이터 분석 시나리오\n",
    "1. 데이터의 종류와 속성\n",
    "    - 주어진 데이터셋에서 범주형 및 연속형 데이터 열을 식별하고, 각 열의 기술 통계와 빈도수를 출력\n",
    "2. 데이터 탐색(EDA)\n",
    "    - 제공된 데이터셋의 결측치와 중복을 파악하고, 적절한 처리 방안을 제안\n",
    "3. 기초통계\n",
    "    - 데이터셋의 왜도와 첨도를 계산하고, 그 의미에 대해 설명\n",
    "4. 상관관계와 인과관계\n",
    "    - 선택한 두 변수 간의 상관관계를 계산하고, 그 결과를 해석, 이를 바탕으로 가능한 인과관계 논의\n",
    "5. 가설검정과 A/B 테스트\n",
    "    - 주어진 데이터를 사용하여 A/B 테스트를 설계하고, 가설을 설정한 후 통계적 검정을 수행. 결과 해설 및 결론 도출\n",
    "    - 본인의 수집한 데이터에서 가설 검정, A/B 테스트를 수행해보기 어렵다면 어떤 가설을 설정하고 A/B 테스트를 어떻게 설계했을지 생각"
   ]
  },
  {
   "cell_type": "markdown",
   "metadata": {},
   "source": [
    "### 1. 데이터의 종류와 속성"
   ]
  },
  {
   "cell_type": "code",
   "execution_count": 157,
   "metadata": {},
   "outputs": [
    {
     "name": "stdout",
     "output_type": "stream",
     "text": [
      "데이터 타입 확인\n",
      "Data Types:\n",
      " Country            object\n",
      "Density(P/Km2)    float64\n",
      "Land Area(Km2)    float64\n",
      "Birth Rate        float64\n",
      "Co2-Emissions     float64\n",
      "CPI               float64\n",
      "CPI Change(%)     float64\n",
      "dtype: object\n",
      "##########\n",
      "범주형 데이터 분리하여 분석\n",
      "\n",
      "Categorical Columns: \n",
      " Index(['Country'], dtype='object')\n",
      "##########\n",
      "수치형 데이터 분리하여 분석\n",
      "\n",
      "Numertical Columns:\n",
      " Index(['Density(P/Km2)', 'Land Area(Km2)', 'Birth Rate', 'Co2-Emissions',\n",
      "       'CPI', 'CPI Change(%)'],\n",
      "      dtype='object')\n"
     ]
    }
   ],
   "source": [
    "#데이터 타입 확인\n",
    "print('데이터 타입 확인')\n",
    "print('Data Types:\\n', final_data.dtypes)\n",
    "\n",
    "#범주형 및 수치형 데이터 분리하여 분석\n",
    "categorical_cols = final_data.select_dtypes(include = ['object','category']).columns\n",
    "numerical_cols = final_data.select_dtypes(include=['int64','float64']).columns\n",
    "\n",
    "print('#'*10)\n",
    "print('범주형 데이터 분리하여 분석')\n",
    "print(\"\\nCategorical Columns: \\n\", categorical_cols)\n",
    "\n",
    "print('#'* 10)\n",
    "print('수치형 데이터 분리하여 분석')\n",
    "print(\"\\nNumertical Columns:\\n\", numerical_cols)"
   ]
  },
  {
   "cell_type": "markdown",
   "metadata": {},
   "source": [
    "### 2. 데이터 탐색"
   ]
  },
  {
   "cell_type": "code",
   "execution_count": 158,
   "metadata": {},
   "outputs": [
    {
     "name": "stdout",
     "output_type": "stream",
     "text": [
      "\n",
      "Missing Calues:\n",
      " Country           0\n",
      "Density(P/Km2)    0\n",
      "Land Area(Km2)    0\n",
      "Birth Rate        0\n",
      "Co2-Emissions     0\n",
      "CPI               0\n",
      "CPI Change(%)     0\n",
      "dtype: int64\n",
      "\n",
      " Unique calues in Country:\n",
      " Country\n",
      "Afghanistan      1\n",
      "Saint Lucia      1\n",
      "Nicaragua        1\n",
      "Niger            1\n",
      "Nigeria          1\n",
      "                ..\n",
      "Grenada          1\n",
      "Guatemala        1\n",
      "Guinea           1\n",
      "Guinea-Bissau    1\n",
      "Zimbabwe         1\n",
      "Name: count, Length: 195, dtype: int64\n",
      "\n",
      "Descriptive Statistics for Numerical Data:\n",
      "        Density(P/Km2)  Land Area(Km2)  Birth Rate  Co2-Emissions          CPI  \\\n",
      "count      195.000000    1.950000e+02  195.000000   1.950000e+02   195.000000   \n",
      "mean       356.764103    6.896244e+05   20.214974   1.777992e+05   190.460955   \n",
      "std       1982.888967    1.916650e+06    9.790765   8.235184e+05   380.111858   \n",
      "min          2.000000    0.000000e+00    5.900000   1.100000e+01    99.030000   \n",
      "25%         35.500000    2.445650e+04   11.450000   2.625500e+03   114.470000   \n",
      "50%         89.000000    1.205380e+05   18.250000   1.659000e+04   129.780000   \n",
      "75%        216.500000    5.541675e+05   28.445000   8.881650e+04   179.485000   \n",
      "max      26337.000000    1.709824e+07   46.080000   9.893038e+06  4583.710000   \n",
      "\n",
      "       CPI Change(%)  \n",
      "count     195.000000  \n",
      "mean        6.722346  \n",
      "std        23.420457  \n",
      "min        -4.300000  \n",
      "25%         1.050000  \n",
      "50%         2.600000  \n",
      "75%         5.800000  \n",
      "max       254.900000  \n"
     ]
    }
   ],
   "source": [
    "# 결측치 확인\n",
    "print(\"\\nMissing Calues:\\n\", final_data.isnull().sum())\n",
    "\n",
    "# 각 범주형 변수의 유니크한 값과 빈도수\n",
    "for col in categorical_cols:\n",
    "    print(f\"\\n Unique calues in {col}:\\n\", final_data[col].value_counts())\n",
    "    \n",
    "# 수치형 데이터의 기초 통계\n",
    "print(\"\\nDescriptive Statistics for Numerical Data:\\n\", final_data[numerical_cols].describe())"
   ]
  },
  {
   "cell_type": "markdown",
   "metadata": {},
   "source": [
    "### 3. 기초 통계"
   ]
  },
  {
   "cell_type": "code",
   "execution_count": 159,
   "metadata": {},
   "outputs": [
    {
     "name": "stdout",
     "output_type": "stream",
     "text": [
      "\n",
      "Skewness of the data:\n",
      " Density(P/Km2)    12.064621\n",
      "Land Area(Km2)     5.583425\n",
      "Birth Rate         0.587640\n",
      "Co2-Emissions      9.747288\n",
      "CPI                9.759931\n",
      "CPI Change(%)      8.716789\n",
      "dtype: float64\n",
      "\n",
      "Kurtosis of the data:\n",
      " Density(P/Km2)    155.050367\n",
      "Land Area(Km2)     36.191264\n",
      "Birth Rate         -0.750688\n",
      "Co2-Emissions     106.583337\n",
      "CPI               103.045134\n",
      "CPI Change(%)      83.236752\n",
      "dtype: float64\n"
     ]
    }
   ],
   "source": [
    "# 왜도와 첨도 확인\n",
    "\"\"\"\n",
    "왜도(Skewness): 0에 가까울수록 정규분포에 근사, 양의 값은 오른쪽 꼬리가 긴 분포(왼쪽으로 치우친), 음의 값은 왼쪽 꼬리가 긴 분포(오른쪽으로 치우친)\n",
    "첨도(Kurtosis): 0에 가까울수록 정규분포에 근사, 높으면 분포가 뾰족하고, 낮으면 평평\n",
    "\"\"\"\n",
    "print(\"\\nSkewness of the data:\\n\", final_data[numerical_cols].skew())\n",
    "print(\"\\nKurtosis of the data:\\n\", final_data[numerical_cols].kurt())"
   ]
  },
  {
   "cell_type": "markdown",
   "metadata": {},
   "source": [
    "왜도와 첨도 호가인 결과 이상치가 많고 비대칭적인 분포를 가짐<br>\n",
    "이를 해결하기 위해서는 이상치를 탐지하고 제거해야함"
   ]
  },
  {
   "cell_type": "markdown",
   "metadata": {},
   "source": [
    "### 4. 상관관계와 인과관계"
   ]
  },
  {
   "cell_type": "code",
   "execution_count": 161,
   "metadata": {},
   "outputs": [
    {
     "name": "stdout",
     "output_type": "stream",
     "text": [
      "Pearson Correlation:\n",
      "                 Density(P/Km2)  Land Area(Km2)  Birth Rate  Co2-Emissions  \\\n",
      "Density(P/Km2)        1.000000       -0.053270   -0.146719      -0.004632   \n",
      "Land Area(Km2)       -0.053270        1.000000   -0.066158       0.589550   \n",
      "Birth Rate           -0.146719       -0.066158    1.000000      -0.154123   \n",
      "Co2-Emissions        -0.004632        0.589550   -0.154123       1.000000   \n",
      "CPI                  -0.014074        0.020806    0.137816      -0.017445   \n",
      "CPI Change(%)        -0.017032        0.034073    0.103383      -0.004196   \n",
      "\n",
      "                     CPI  CPI Change(%)  \n",
      "Density(P/Km2) -0.014074      -0.017032  \n",
      "Land Area(Km2)  0.020806       0.034073  \n",
      "Birth Rate      0.137816       0.103383  \n",
      "Co2-Emissions  -0.017445      -0.004196  \n",
      "CPI             1.000000       0.894704  \n",
      "CPI Change(%)   0.894704       1.000000  \n",
      "\n",
      "Spearman Correlation:\n",
      "                 Density(P/Km2)  Land Area(Km2)  Birth Rate  Co2-Emissions  \\\n",
      "Density(P/Km2)        1.000000       -0.565343   -0.252352       0.037985   \n",
      "Land Area(Km2)       -0.565343        1.000000    0.249291       0.507984   \n",
      "Birth Rate           -0.252352        0.249291    1.000000      -0.417293   \n",
      "Co2-Emissions         0.037985        0.507984   -0.417293       1.000000   \n",
      "CPI                  -0.124573        0.283903    0.341304       0.055974   \n",
      "CPI Change(%)        -0.109092        0.245333    0.229534       0.036780   \n",
      "\n",
      "                     CPI  CPI Change(%)  \n",
      "Density(P/Km2) -0.124573      -0.109092  \n",
      "Land Area(Km2)  0.283903       0.245333  \n",
      "Birth Rate      0.341304       0.229534  \n",
      "Co2-Emissions   0.055974       0.036780  \n",
      "CPI             1.000000       0.843539  \n",
      "CPI Change(%)   0.843539       1.000000  \n"
     ]
    }
   ],
   "source": [
    "\"\"\"\n",
    "상관계수 값이 1에 가까울수록 완벽한 양의 상관관계, -1에 가까울수록 완벽한 음의 상관관계를 나타냅니다.\n",
    "\"\"\"\n",
    "\n",
    "# 피어슨 상관 계수\n",
    "print(\"Pearson Correlation:\\n\", final_data[numerical_cols].corr(method='pearson'))\n",
    "\n",
    "# 스피어만 상관 계수\n",
    "print(\"\\nSpearman Correlation:\\n\", final_data[numerical_cols].corr(method='spearman'))"
   ]
  },
  {
   "cell_type": "markdown",
   "metadata": {},
   "source": [
    "#### 상관관계)\n",
    "- 강한 상관관계: \n",
    "    - CPI, CPI Change -> 매우 강한 양의 상관관계로 소비자 물가 지수와 그 변화율은 매우 밀접한 관련이 있음\n",
    "    - Land Area와 Co2-Emissings -> 중간 정도의 양의 상관관계로 토지 면적이 클수록 CO2 배출량도 많아지는 경향이 있음\n",
    "- 약한 상관관계:\n",
    "    - Birth Rate와 CPI -> 출생률과 소비자 물가 지수 간에 약한 양의 상관관계가 있음\n",
    "    - Birth Rate와 Co2-Emissions -> 출생률과 CO2 배출햘 간에 약한 음의 상관관계를 가지고 있음\n",
    "\n",
    "#### 인과관계)\n",
    "- 이를 바탕으로 소비자 물가 지수가 높아지면 소비자 물가 지수 변화율도 높아질 가능성이 있습니다. 이 때문에 두 변수 간에 인과관계가 있을 가능성을 시사함"
   ]
  },
  {
   "cell_type": "markdown",
   "metadata": {},
   "source": [
    "### 가설 설정\n",
    "- 목적\n",
    "    - 소비자 물가 지수(CPI)가 소비자 물가 지수 변화율(CPI Change%)에 미치는 영향을 평가하기 위해 A/B 테스트 설계\n",
    "\n",
    "- 가설\n",
    "    - 귀무 가설(H0): CPI가 높아지더라도 CPI Change%에는 유의미한 변화가 없다\n",
    "    - 대립 가설(H1): CPI가 높아지면 CPI Change%가 유의미하게 변화한다\n",
    "\n",
    "- A/B 테스트 설계\n",
    "    1. 그룹 나누기\n",
    "        - 데이터를 두 그룹으로 나눕니다: 낮은 CPI 그룹과 높은 CPI 그룹\n",
    "        - CPI의 중앙값을 기준으로 그룹을 나눕니다\n",
    "    2. 데이터 수집\n",
    "        - 주어진 데이터셋에서 CPI와 CPI Change% 값을 추출합니다\n",
    "    3. 통계적 검정\n",
    "        - 두 그룹의 CPI Change% 평균을 비교하여 유의마한 차이가 있는지 검증\n",
    "        - t-검정(T-test)을 사용하여 두 그룹 간의 평균 차이를 평가"
   ]
  },
  {
   "cell_type": "code",
   "execution_count": 162,
   "metadata": {},
   "outputs": [
    {
     "name": "stdout",
     "output_type": "stream",
     "text": [
      "낮은 CPI 그룹의 평균 CPI Change(%): 1.2020408163265306\n",
      "높은 CPI 그룹의 평균 CPI Change(%): 12.299562287623106\n",
      "t-statistic: -3.3970375906754566, p-value: 0.0008272060655264432\n",
      "유의수준 0.05에서 귀무 가설을 기각합니다. 높은 CPI가 CPI Change%에 유의미한 영향을 미칩니다.\n"
     ]
    }
   ],
   "source": [
    "from scipy import stats\n",
    "\n",
    "\"\"\"\n",
    "T-통계량의 절대값이 크면 클수록 두 그룹 간의 차이가 크다고 할 수 있습니다.\n",
    "\n",
    "일반적으로 P-값이 0.05보다 작으면 귀무 가설을 기각하고, 통계적으로 유의미한 차이가 있음을 인정합니다\n",
    "\"\"\"\n",
    "\n",
    "df = pd.DataFrame(final_data)\n",
    "\n",
    "# CPI의 중위값을 기준으로 그룹 나누기\n",
    "median_cpi = df['CPI'].median()\n",
    "group_low_cpi = df[df['CPI'] <= median_cpi]['CPI Change(%)']\n",
    "group_high_cpi = df[df['CPI'] > median_cpi]['CPI Change(%)']\n",
    "\n",
    "# 두 그룹의 평균 비교\n",
    "mean_low_cpi = group_low_cpi.mean()\n",
    "mean_high_cpi = group_high_cpi.mean()\n",
    "\n",
    "print(f\"낮은 CPI 그룹의 평균 CPI Change(%): {mean_low_cpi}\")\n",
    "print(f\"높은 CPI 그룹의 평균 CPI Change(%): {mean_high_cpi}\")\n",
    "\n",
    "# t-검정\n",
    "t_stat, p_value = stats.ttest_ind(group_low_cpi, group_high_cpi)\n",
    "print(f\"t-statistic: {t_stat}, p-value: {p_value}\")\n",
    "\n",
    "# 결과 해석\n",
    "alpha = 0.05\n",
    "if p_value < alpha:\n",
    "    print(\"유의수준 0.05에서 귀무 가설을 기각합니다. 높은 CPI가 CPI Change%에 유의미한 영향을 미칩니다.\")\n",
    "else:\n",
    "    print(\"유의수준 0.05에서 귀무 가설을 기각할 수 없습니다. 높은 CPI가 CPI Change%에 유의미한 영향을 미친다고 할 수 없습니다.\")"
   ]
  },
  {
   "cell_type": "code",
   "execution_count": null,
   "metadata": {},
   "outputs": [],
   "source": []
  }
 ],
 "metadata": {
  "kernelspec": {
   "display_name": "base",
   "language": "python",
   "name": "python3"
  },
  "language_info": {
   "codemirror_mode": {
    "name": "ipython",
    "version": 3
   },
   "file_extension": ".py",
   "mimetype": "text/x-python",
   "name": "python",
   "nbconvert_exporter": "python",
   "pygments_lexer": "ipython3",
   "version": "3.10.12"
  }
 },
 "nbformat": 4,
 "nbformat_minor": 2
}
