{
 "cells": [
  {
   "cell_type": "code",
   "execution_count": 2,
   "metadata": {},
   "outputs": [
    {
     "name": "stdout",
     "output_type": "stream",
     "text": [
      "Dataset URL: https://www.kaggle.com/datasets/ketangangal/heart-disease-dataset-uci\n",
      "License(s): CC0-1.0\n",
      "Downloading heart-disease-dataset-uci.zip to /Users/chhy/Desktop/KakaoTech/Practical_exercise/Day5\n",
      "  0%|                                               | 0.00/9.24k [00:00<?, ?B/s]\n",
      "100%|██████████████████████████████████████| 9.24k/9.24k [00:00<00:00, 12.1MB/s]\n"
     ]
    }
   ],
   "source": [
    "! kaggle datasets download -d ketangangal/heart-disease-dataset-uci"
   ]
  },
  {
   "cell_type": "code",
   "execution_count": 6,
   "metadata": {},
   "outputs": [
    {
     "name": "stdout",
     "output_type": "stream",
     "text": [
      "Archive:  heart-disease-dataset-uci.zip\n",
      "  inflating: HeartDiseaseTrain-Test.csv  \n"
     ]
    }
   ],
   "source": [
    "! unzip heart-disease-dataset-uci.zip"
   ]
  },
  {
   "cell_type": "code",
   "execution_count": 11,
   "metadata": {},
   "outputs": [
    {
     "name": "stdout",
     "output_type": "stream",
     "text": [
      "##########\n",
      "데이터의 처음 몇 줄을 출력하여 구조 확인\n",
      "   age     sex chest_pain_type  resting_blood_pressure  cholestoral  \\\n",
      "0   52    Male  Typical angina                     125          212   \n",
      "1   53    Male  Typical angina                     140          203   \n",
      "2   70    Male  Typical angina                     145          174   \n",
      "3   61    Male  Typical angina                     148          203   \n",
      "4   62  Female  Typical angina                     138          294   \n",
      "\n",
      "      fasting_blood_sugar               rest_ecg  Max_heart_rate  \\\n",
      "0    Lower than 120 mg/ml  ST-T wave abnormality             168   \n",
      "1  Greater than 120 mg/ml                 Normal             155   \n",
      "2    Lower than 120 mg/ml  ST-T wave abnormality             125   \n",
      "3    Lower than 120 mg/ml  ST-T wave abnormality             161   \n",
      "4  Greater than 120 mg/ml  ST-T wave abnormality             106   \n",
      "\n",
      "  exercise_induced_angina  oldpeak        slope vessels_colored_by_flourosopy  \\\n",
      "0                      No      1.0  Downsloping                           Two   \n",
      "1                     Yes      3.1    Upsloping                          Zero   \n",
      "2                     Yes      2.6    Upsloping                          Zero   \n",
      "3                      No      0.0  Downsloping                           One   \n",
      "4                      No      1.9         Flat                         Three   \n",
      "\n",
      "         thalassemia  target  \n",
      "0  Reversable Defect       0  \n",
      "1  Reversable Defect       0  \n",
      "2  Reversable Defect       0  \n",
      "3  Reversable Defect       0  \n",
      "4       Fixed Defect       0  \n"
     ]
    }
   ],
   "source": [
    "import pandas as pd\n",
    "\n",
    "# 데이터셋 로드\n",
    "data = pd.read_csv('HeartDiseaseTrain-Test.csv')\n",
    "\n",
    "# 데이터의 처음 몇 줄을 출력하여 구조 확인\n",
    "print('#'*10)\n",
    "print('데이터의 처음 몇 줄을 출력하여 구조 확인')\n",
    "print(data.head())"
   ]
  },
  {
   "cell_type": "code",
   "execution_count": 12,
   "metadata": {},
   "outputs": [
    {
     "name": "stdout",
     "output_type": "stream",
     "text": [
      "##########\n",
      "데이터의 각 칼럼에 대한 정보 확인\n",
      "<class 'pandas.core.frame.DataFrame'>\n",
      "RangeIndex: 1025 entries, 0 to 1024\n",
      "Data columns (total 14 columns):\n",
      " #   Column                         Non-Null Count  Dtype  \n",
      "---  ------                         --------------  -----  \n",
      " 0   age                            1025 non-null   int64  \n",
      " 1   sex                            1025 non-null   object \n",
      " 2   chest_pain_type                1025 non-null   object \n",
      " 3   resting_blood_pressure         1025 non-null   int64  \n",
      " 4   cholestoral                    1025 non-null   int64  \n",
      " 5   fasting_blood_sugar            1025 non-null   object \n",
      " 6   rest_ecg                       1025 non-null   object \n",
      " 7   Max_heart_rate                 1025 non-null   int64  \n",
      " 8   exercise_induced_angina        1025 non-null   object \n",
      " 9   oldpeak                        1025 non-null   float64\n",
      " 10  slope                          1025 non-null   object \n",
      " 11  vessels_colored_by_flourosopy  1025 non-null   object \n",
      " 12  thalassemia                    1025 non-null   object \n",
      " 13  target                         1025 non-null   int64  \n",
      "dtypes: float64(1), int64(5), object(8)\n",
      "memory usage: 112.2+ KB\n",
      "None\n"
     ]
    }
   ],
   "source": [
    "# 데이터의 각 칼럼에 대한 정보 확인\n",
    "print('#'*10)\n",
    "print('데이터의 각 칼럼에 대한 정보 확인')\n",
    "print(data.info())"
   ]
  },
  {
   "cell_type": "code",
   "execution_count": 14,
   "metadata": {},
   "outputs": [
    {
     "name": "stdout",
     "output_type": "stream",
     "text": [
      "##########\n",
      "데이터 타입 확인\n",
      "Data Types:\n",
      " age                                int64\n",
      "sex                               object\n",
      "chest_pain_type                   object\n",
      "resting_blood_pressure             int64\n",
      "cholestoral                        int64\n",
      "fasting_blood_sugar               object\n",
      "rest_ecg                          object\n",
      "Max_heart_rate                     int64\n",
      "exercise_induced_angina           object\n",
      "oldpeak                          float64\n",
      "slope                             object\n",
      "vessels_colored_by_flourosopy     object\n",
      "thalassemia                       object\n",
      "target                             int64\n",
      "dtype: object\n"
     ]
    }
   ],
   "source": [
    "# 데이터 타입 확인\n",
    "print('#'*10)\n",
    "print('데이터 타입 확인')\n",
    "print('Data Types:\\n', data.dtypes)"
   ]
  },
  {
   "cell_type": "markdown",
   "metadata": {},
   "source": [
    "### 수치형 데이터 (Numerial Data)\n",
    "- 값의 범위가 무한하고, 측정 가능\n",
    "- 온도, 무게, 거리 등의 데이터\n",
    "- 연속 변수에서의 경향성 분석, 상관관계 파악 등에 사용\n",
    "- 연속형 , 이산형 데이터\n",
    "\n",
    "### 범수형 데이터 (Categorical Data)\n",
    "- 제한된 범위의 값을 가지며, 일반적으로 레이블 형태\n",
    "- 결혼 상태, 학력, 직업 유형 등의 데이터\n",
    "- 인구 통계학적 분석, 고객 세분화 등에 사용\n",
    "- 순위형, 명목형 데이터"
   ]
  },
  {
   "cell_type": "code",
   "execution_count": 15,
   "metadata": {},
   "outputs": [
    {
     "name": "stdout",
     "output_type": "stream",
     "text": [
      "##########\n",
      "범주형 데이터 분리하여 분석\n",
      "/nCategorical Columns:\n",
      " Index(['sex', 'chest_pain_type', 'fasting_blood_sugar', 'rest_ecg',\n",
      "       'exercise_induced_angina', 'slope', 'vessels_colored_by_flourosopy',\n",
      "       'thalassemia'],\n",
      "      dtype='object')\n",
      "##########\n",
      "수치형 데이터 분리하여 분석\n",
      "\n",
      "Numerical Columns:\n",
      " Index(['age', 'resting_blood_pressure', 'cholestoral', 'Max_heart_rate',\n",
      "       'oldpeak', 'target'],\n",
      "      dtype='object')\n"
     ]
    }
   ],
   "source": [
    "# 범주형 및 수치형 데이터 분리하여 분석\n",
    "categorical_cols = data.select_dtypes(include = ['object','category']).columns\n",
    "numerical_cols = data.select_dtypes(include=['int64','float64']).columns\n",
    "\n",
    "print('#'*10)\n",
    "print('범주형 데이터 분리하여 분석')\n",
    "print('/nCategorical Columns:\\n', categorical_cols)\n",
    "\n",
    "print('#'*10)\n",
    "print('수치형 데이터 분리하여 분석')\n",
    "print('\\nNumerical Columns:\\n', numerical_cols)"
   ]
  },
  {
   "cell_type": "markdown",
   "metadata": {},
   "source": [
    "#### 기술 통계\n",
    "- 데이터 집합의 중심 경향, 분산도 및 전반적인 분포를 요약하는 통계적 수치\n",
    "- 중심 경향성: 평균, 중앙값, 모드\n",
    "- 분산성: 범위, 분산, 표준편차, 사분위수\n",
    "- 형태: 왜도(비대칭도)와 첨도(봉우리의 높이)\n",
    "- 데이터의 일반적인 형태와 특성을 빠르게 파악하는 데 사용"
   ]
  },
  {
   "cell_type": "code",
   "execution_count": 16,
   "metadata": {},
   "outputs": [
    {
     "name": "stdout",
     "output_type": "stream",
     "text": [
      "\n",
      "Missing Values:\n",
      " age                              0\n",
      "sex                              0\n",
      "chest_pain_type                  0\n",
      "resting_blood_pressure           0\n",
      "cholestoral                      0\n",
      "fasting_blood_sugar              0\n",
      "rest_ecg                         0\n",
      "Max_heart_rate                   0\n",
      "exercise_induced_angina          0\n",
      "oldpeak                          0\n",
      "slope                            0\n",
      "vessels_colored_by_flourosopy    0\n",
      "thalassemia                      0\n",
      "target                           0\n",
      "dtype: int64\n",
      "\n",
      "Unique values in sex:\n",
      " sex\n",
      "Male      713\n",
      "Female    312\n",
      "Name: count, dtype: int64\n",
      "\n",
      "Unique values in chest_pain_type:\n",
      " chest_pain_type\n",
      "Typical angina      497\n",
      "Non-anginal pain    284\n",
      "Atypical angina     167\n",
      "Asymptomatic         77\n",
      "Name: count, dtype: int64\n",
      "\n",
      "Unique values in fasting_blood_sugar:\n",
      " fasting_blood_sugar\n",
      "Lower than 120 mg/ml      872\n",
      "Greater than 120 mg/ml    153\n",
      "Name: count, dtype: int64\n",
      "\n",
      "Unique values in rest_ecg:\n",
      " rest_ecg\n",
      "ST-T wave abnormality           513\n",
      "Normal                          497\n",
      "Left ventricular hypertrophy     15\n",
      "Name: count, dtype: int64\n",
      "\n",
      "Unique values in exercise_induced_angina:\n",
      " exercise_induced_angina\n",
      "No     680\n",
      "Yes    345\n",
      "Name: count, dtype: int64\n",
      "\n",
      "Unique values in slope:\n",
      " slope\n",
      "Flat           482\n",
      "Downsloping    469\n",
      "Upsloping       74\n",
      "Name: count, dtype: int64\n",
      "\n",
      "Unique values in vessels_colored_by_flourosopy:\n",
      " vessels_colored_by_flourosopy\n",
      "Zero     578\n",
      "One      226\n",
      "Two      134\n",
      "Three     69\n",
      "Four      18\n",
      "Name: count, dtype: int64\n",
      "\n",
      "Unique values in thalassemia:\n",
      " thalassemia\n",
      "Fixed Defect         544\n",
      "Reversable Defect    410\n",
      "Normal                64\n",
      "No                     7\n",
      "Name: count, dtype: int64\n",
      "\n",
      "Descriptive Statistics for Numerical Data:\n",
      " <bound method NDFrame.describe of       age  resting_blood_pressure  cholestoral  Max_heart_rate  oldpeak  \\\n",
      "0      52                     125          212             168      1.0   \n",
      "1      53                     140          203             155      3.1   \n",
      "2      70                     145          174             125      2.6   \n",
      "3      61                     148          203             161      0.0   \n",
      "4      62                     138          294             106      1.9   \n",
      "...   ...                     ...          ...             ...      ...   \n",
      "1020   59                     140          221             164      0.0   \n",
      "1021   60                     125          258             141      2.8   \n",
      "1022   47                     110          275             118      1.0   \n",
      "1023   50                     110          254             159      0.0   \n",
      "1024   54                     120          188             113      1.4   \n",
      "\n",
      "      target  \n",
      "0          0  \n",
      "1          0  \n",
      "2          0  \n",
      "3          0  \n",
      "4          0  \n",
      "...      ...  \n",
      "1020       1  \n",
      "1021       0  \n",
      "1022       0  \n",
      "1023       1  \n",
      "1024       0  \n",
      "\n",
      "[1025 rows x 6 columns]>\n"
     ]
    }
   ],
   "source": [
    "#결측치 확인\n",
    "print('\\nMissing Values:\\n', data.isnull().sum())\n",
    "\n",
    "#각 범주형 변수의 유니크한 값과 빈도수\n",
    "for col in categorical_cols:\n",
    "    print(f\"\\nUnique values in {col}:\\n\", data[col].value_counts())\n",
    "    \n",
    "# 수치형 데이터의 기초 통계\n",
    "print('\\nDescriptive Statistics for Numerical Data:\\n', data[numerical_cols].describe)"
   ]
  },
  {
   "cell_type": "code",
   "execution_count": 17,
   "metadata": {},
   "outputs": [
    {
     "name": "stdout",
     "output_type": "stream",
     "text": [
      "\n",
      "Skewness of the data:\n",
      " age                      -0.248866\n",
      "resting_blood_pressure    0.739768\n",
      "cholestoral               1.074073\n",
      "Max_heart_rate           -0.513777\n",
      "oldpeak                   1.210899\n",
      "target                   -0.052778\n",
      "dtype: float64\n",
      "\n",
      "Kurtosis of the data:\n",
      " age                      -0.525618\n",
      "resting_blood_pressure    0.991221\n",
      "cholestoral               3.996803\n",
      "Max_heart_rate           -0.088822\n",
      "oldpeak                   1.314471\n",
      "target                   -2.001123\n",
      "dtype: float64\n"
     ]
    }
   ],
   "source": [
    "# 왜도와 첨도 확인\n",
    "\"\"\"\n",
    "왜도(Skewness): 0에 가까울수록 정규분포에 근사, 양의 값은 오른쪽 꼬리가 긴 분포(왼쪽으로 치우친), 음의 값은 왼쪽 꼬리가 긴 분포(오른쪽으로 치우친)\n",
    "첨도(Kurtosis): 0에 가까울수록 정규분포에 근사, 높으면 분포가 뾰족하고, 낮으면 평평\n",
    "\"\"\"\n",
    "print('\\nSkewness of the data:\\n', data[numerical_cols].skew())\n",
    "print('\\nKurtosis of the data:\\n', data[numerical_cols].kurt())"
   ]
  },
  {
   "cell_type": "markdown",
   "metadata": {},
   "source": [
    "#### 상관계수(Correlation)\n",
    "- 정의: 두 변수 간의 관계에서 한 변수의 변화가 다른 변수의 변화화 어떻게 연관되어 있는지 나타내는 지표\n",
    "- 피어슨 상관 계수, 스피어만 순위 상관 계수 등을 사용해서 측정\n",
    "\n",
    "#### 인과관계(Causality)\n",
    "- 정의: 한 변수(원인)의 변화가 다른 변수(결과)의 변화를 유발하는 관게\n",
    "- 실험 설계, 회귀 분석, 경로 분석 등을 통해 추론\n",
    "\n",
    "#### 차이점\n",
    "- 상관관계는 두 변수 간의 관계를 수치적으로 설명하지만, 인과관계를 설명하지는 않음\n",
    "- 인과관계는 변수 A의 변화가 변수 B의 변화를 직접적으로 유발한다는 것을 의미"
   ]
  },
  {
   "cell_type": "code",
   "execution_count": 19,
   "metadata": {},
   "outputs": [
    {
     "name": "stdout",
     "output_type": "stream",
     "text": [
      "Pearson Correlation:\n",
      "                              age  resting_blood_pressure  cholestoral  \\\n",
      "age                     1.000000                0.271121     0.219823   \n",
      "resting_blood_pressure  0.271121                1.000000     0.127977   \n",
      "cholestoral             0.219823                0.127977     1.000000   \n",
      "Max_heart_rate         -0.390227               -0.039264    -0.021772   \n",
      "oldpeak                 0.208137                0.187434     0.064880   \n",
      "target                 -0.229324               -0.138772    -0.099966   \n",
      "\n",
      "                        Max_heart_rate   oldpeak    target  \n",
      "age                          -0.390227  0.208137 -0.229324  \n",
      "resting_blood_pressure       -0.039264  0.187434 -0.138772  \n",
      "cholestoral                  -0.021772  0.064880 -0.099966  \n",
      "Max_heart_rate                1.000000 -0.349796  0.422895  \n",
      "oldpeak                      -0.349796  1.000000 -0.438441  \n",
      "target                        0.422895 -0.438441  1.000000  \n",
      "\n",
      "Spearman Correlation:\n",
      "                              age  resting_blood_pressure  cholestoral  \\\n",
      "age                     1.000000                0.280189     0.203253   \n",
      "resting_blood_pressure  0.280189                1.000000     0.127010   \n",
      "cholestoral             0.203253                0.127010     1.000000   \n",
      "Max_heart_rate         -0.382724               -0.028880    -0.054794   \n",
      "oldpeak                 0.264500                0.146722     0.057102   \n",
      "target                 -0.240326               -0.115009    -0.132926   \n",
      "\n",
      "                        Max_heart_rate   oldpeak    target  \n",
      "age                          -0.382724  0.264500 -0.240326  \n",
      "resting_blood_pressure       -0.028880  0.146722 -0.115009  \n",
      "cholestoral                  -0.054794  0.057102 -0.132926  \n",
      "Max_heart_rate                1.000000 -0.439987  0.429832  \n",
      "oldpeak                      -0.439987  1.000000 -0.437669  \n",
      "target                        0.429832 -0.437669  1.000000  \n"
     ]
    }
   ],
   "source": [
    "\"\"\"\n",
    "상관계수 값이 1에 가까울수록 완벽한 양의 상관관계, -1에 가까울수록 완벽한 음의 상관관계를 나타냅니다\n",
    "피어슨 상관계수: 두 변수 간의 선형적 관계를 측정\n",
    "스피어만 상관계수: 두 변수간의 순위 기반 관계를 측정\n",
    "\"\"\"\n",
    "\n",
    "# 피어슨 상관 계수\n",
    "print(\"Pearson Correlation:\\n\", data[numerical_cols].corr(method='pearson'))\n",
    "\n",
    "# 스피어만 상관 계수\n",
    "print(\"\\nSpearman Correlation:\\n\", data[numerical_cols].corr(method='spearman'))"
   ]
  },
  {
   "cell_type": "code",
   "execution_count": 20,
   "metadata": {},
   "outputs": [
    {
     "name": "stdout",
     "output_type": "stream",
     "text": [
      "T-statistic: -1.5808436320867354, P-value: 0.1142229084355055\n"
     ]
    }
   ],
   "source": [
    "from scipy import stats\n",
    "\"\"\"\n",
    "T-통계량의 절대값이 크면 클수록 두 그룹 간의 차이가 크다고 할 수 있습니다\n",
    "\n",
    "일반적으로 P-값이 0.05보다 작으면 귀무 가설을 기각하고, 통계적으로 유의미한 차이가 있음을 인정합니다\n",
    "\"\"\"\n",
    "\n",
    "# 남성과 여성 그룹 데이터 분할\n",
    "male_max_hr = data[data['sex'] == 'Male']['Max_heart_rate']\n",
    "female_max_hr = data[data['sex'] == 'Female']['Max_heart_rate']\n",
    "\n",
    "# 두 그룹 간의 평균 최대 심박수 차이 검정/ 독립 표본\n",
    "t_stat, p_val = stats.ttest_ind(male_max_hr, female_max_hr)\n",
    "print(f\"T-statistic: {t_stat}, P-value: {p_val}\")"
   ]
  },
  {
   "cell_type": "code",
   "execution_count": null,
   "metadata": {},
   "outputs": [],
   "source": []
  }
 ],
 "metadata": {
  "kernelspec": {
   "display_name": "base",
   "language": "python",
   "name": "python3"
  },
  "language_info": {
   "codemirror_mode": {
    "name": "ipython",
    "version": 3
   },
   "file_extension": ".py",
   "mimetype": "text/x-python",
   "name": "python",
   "nbconvert_exporter": "python",
   "pygments_lexer": "ipython3",
   "version": "3.10.12"
  }
 },
 "nbformat": 4,
 "nbformat_minor": 2
}
