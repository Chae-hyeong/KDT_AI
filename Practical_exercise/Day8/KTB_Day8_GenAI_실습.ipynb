{
 "cells": [
  {
   "cell_type": "markdown",
   "metadata": {},
   "source": [
    "# 데이터 시각화 II\n",
    "### 실습과제\n",
    "1. 고급 차트 유형에서 제시한 5개 시각화 방법 사용해보기 <br>\n",
    "- 히트맵 <br>\n",
    "- 트리맵 <br>\n",
    "- 버블차트 <br>\n",
    "- 레이더 차트 <br>\n",
    "- 생키 다이어그램 <br>\n",
    "2. 시각화한 차트를 인터렉티브하게 만들어보기 <br>\n",
    "\n",
    "3. 지리 정보 데이터 시각화 해보기 <br>\n",
    "- geopandas <br>\n",
    "- folium <br>\n",
    "\n"
   ]
  },
  {
   "cell_type": "markdown",
   "metadata": {},
   "source": [
    "#### 데이터 전처리"
   ]
  },
  {
   "cell_type": "code",
   "execution_count": 106,
   "metadata": {},
   "outputs": [
    {
     "data": {
      "text/html": [
       "<div>\n",
       "<style scoped>\n",
       "    .dataframe tbody tr th:only-of-type {\n",
       "        vertical-align: middle;\n",
       "    }\n",
       "\n",
       "    .dataframe tbody tr th {\n",
       "        vertical-align: top;\n",
       "    }\n",
       "\n",
       "    .dataframe thead th {\n",
       "        text-align: right;\n",
       "    }\n",
       "</style>\n",
       "<table border=\"1\" class=\"dataframe\">\n",
       "  <thead>\n",
       "    <tr style=\"text-align: right;\">\n",
       "      <th></th>\n",
       "      <th>year</th>\n",
       "      <th>make</th>\n",
       "      <th>model</th>\n",
       "      <th>trim</th>\n",
       "      <th>body</th>\n",
       "      <th>transmission</th>\n",
       "      <th>vin</th>\n",
       "      <th>state</th>\n",
       "      <th>condition</th>\n",
       "      <th>odometer</th>\n",
       "      <th>color</th>\n",
       "      <th>interior</th>\n",
       "      <th>seller</th>\n",
       "      <th>mmr</th>\n",
       "      <th>sellingprice</th>\n",
       "      <th>saledate</th>\n",
       "    </tr>\n",
       "  </thead>\n",
       "  <tbody>\n",
       "    <tr>\n",
       "      <th>0</th>\n",
       "      <td>2015</td>\n",
       "      <td>Kia</td>\n",
       "      <td>Sorento</td>\n",
       "      <td>LX</td>\n",
       "      <td>SUV</td>\n",
       "      <td>automatic</td>\n",
       "      <td>5xyktca69fg566472</td>\n",
       "      <td>ca</td>\n",
       "      <td>5.0</td>\n",
       "      <td>16639.0</td>\n",
       "      <td>white</td>\n",
       "      <td>black</td>\n",
       "      <td>kia motors america  inc</td>\n",
       "      <td>20500.0</td>\n",
       "      <td>21500.0</td>\n",
       "      <td>Tue Dec 16 2014 12:30:00 GMT-0800 (PST)</td>\n",
       "    </tr>\n",
       "    <tr>\n",
       "      <th>1</th>\n",
       "      <td>2015</td>\n",
       "      <td>Kia</td>\n",
       "      <td>Sorento</td>\n",
       "      <td>LX</td>\n",
       "      <td>SUV</td>\n",
       "      <td>automatic</td>\n",
       "      <td>5xyktca69fg561319</td>\n",
       "      <td>ca</td>\n",
       "      <td>5.0</td>\n",
       "      <td>9393.0</td>\n",
       "      <td>white</td>\n",
       "      <td>beige</td>\n",
       "      <td>kia motors america  inc</td>\n",
       "      <td>20800.0</td>\n",
       "      <td>21500.0</td>\n",
       "      <td>Tue Dec 16 2014 12:30:00 GMT-0800 (PST)</td>\n",
       "    </tr>\n",
       "    <tr>\n",
       "      <th>2</th>\n",
       "      <td>2014</td>\n",
       "      <td>BMW</td>\n",
       "      <td>3 Series</td>\n",
       "      <td>328i SULEV</td>\n",
       "      <td>Sedan</td>\n",
       "      <td>automatic</td>\n",
       "      <td>wba3c1c51ek116351</td>\n",
       "      <td>ca</td>\n",
       "      <td>45.0</td>\n",
       "      <td>1331.0</td>\n",
       "      <td>gray</td>\n",
       "      <td>black</td>\n",
       "      <td>financial services remarketing (lease)</td>\n",
       "      <td>31900.0</td>\n",
       "      <td>30000.0</td>\n",
       "      <td>Thu Jan 15 2015 04:30:00 GMT-0800 (PST)</td>\n",
       "    </tr>\n",
       "    <tr>\n",
       "      <th>3</th>\n",
       "      <td>2015</td>\n",
       "      <td>Volvo</td>\n",
       "      <td>S60</td>\n",
       "      <td>T5</td>\n",
       "      <td>Sedan</td>\n",
       "      <td>automatic</td>\n",
       "      <td>yv1612tb4f1310987</td>\n",
       "      <td>ca</td>\n",
       "      <td>41.0</td>\n",
       "      <td>14282.0</td>\n",
       "      <td>white</td>\n",
       "      <td>black</td>\n",
       "      <td>volvo na rep/world omni</td>\n",
       "      <td>27500.0</td>\n",
       "      <td>27750.0</td>\n",
       "      <td>Thu Jan 29 2015 04:30:00 GMT-0800 (PST)</td>\n",
       "    </tr>\n",
       "    <tr>\n",
       "      <th>4</th>\n",
       "      <td>2014</td>\n",
       "      <td>BMW</td>\n",
       "      <td>6 Series Gran Coupe</td>\n",
       "      <td>650i</td>\n",
       "      <td>Sedan</td>\n",
       "      <td>automatic</td>\n",
       "      <td>wba6b2c57ed129731</td>\n",
       "      <td>ca</td>\n",
       "      <td>43.0</td>\n",
       "      <td>2641.0</td>\n",
       "      <td>gray</td>\n",
       "      <td>black</td>\n",
       "      <td>financial services remarketing (lease)</td>\n",
       "      <td>66000.0</td>\n",
       "      <td>67000.0</td>\n",
       "      <td>Thu Dec 18 2014 12:30:00 GMT-0800 (PST)</td>\n",
       "    </tr>\n",
       "  </tbody>\n",
       "</table>\n",
       "</div>"
      ],
      "text/plain": [
       "   year   make                model        trim   body transmission  \\\n",
       "0  2015    Kia              Sorento          LX    SUV    automatic   \n",
       "1  2015    Kia              Sorento          LX    SUV    automatic   \n",
       "2  2014    BMW             3 Series  328i SULEV  Sedan    automatic   \n",
       "3  2015  Volvo                  S60          T5  Sedan    automatic   \n",
       "4  2014    BMW  6 Series Gran Coupe        650i  Sedan    automatic   \n",
       "\n",
       "                 vin state  condition  odometer  color interior  \\\n",
       "0  5xyktca69fg566472    ca        5.0   16639.0  white    black   \n",
       "1  5xyktca69fg561319    ca        5.0    9393.0  white    beige   \n",
       "2  wba3c1c51ek116351    ca       45.0    1331.0   gray    black   \n",
       "3  yv1612tb4f1310987    ca       41.0   14282.0  white    black   \n",
       "4  wba6b2c57ed129731    ca       43.0    2641.0   gray    black   \n",
       "\n",
       "                                   seller      mmr  sellingprice  \\\n",
       "0                 kia motors america  inc  20500.0       21500.0   \n",
       "1                 kia motors america  inc  20800.0       21500.0   \n",
       "2  financial services remarketing (lease)  31900.0       30000.0   \n",
       "3                 volvo na rep/world omni  27500.0       27750.0   \n",
       "4  financial services remarketing (lease)  66000.0       67000.0   \n",
       "\n",
       "                                  saledate  \n",
       "0  Tue Dec 16 2014 12:30:00 GMT-0800 (PST)  \n",
       "1  Tue Dec 16 2014 12:30:00 GMT-0800 (PST)  \n",
       "2  Thu Jan 15 2015 04:30:00 GMT-0800 (PST)  \n",
       "3  Thu Jan 29 2015 04:30:00 GMT-0800 (PST)  \n",
       "4  Thu Dec 18 2014 12:30:00 GMT-0800 (PST)  "
      ]
     },
     "execution_count": 106,
     "metadata": {},
     "output_type": "execute_result"
    }
   ],
   "source": [
    "import pandas as pd\n",
    "\n",
    "#데이터 불러오기\n",
    "df = pd.read_csv('car_prices.csv')\n",
    "#데이터 처음 몇줄 가져오기\n",
    "df.head()"
   ]
  },
  {
   "cell_type": "code",
   "execution_count": 107,
   "metadata": {},
   "outputs": [
    {
     "name": "stdout",
     "output_type": "stream",
     "text": [
      "<class 'pandas.core.frame.DataFrame'>\n",
      "RangeIndex: 558837 entries, 0 to 558836\n",
      "Data columns (total 16 columns):\n",
      " #   Column        Non-Null Count   Dtype  \n",
      "---  ------        --------------   -----  \n",
      " 0   year          558837 non-null  int64  \n",
      " 1   make          548536 non-null  object \n",
      " 2   model         548438 non-null  object \n",
      " 3   trim          548186 non-null  object \n",
      " 4   body          545642 non-null  object \n",
      " 5   transmission  493485 non-null  object \n",
      " 6   vin           558833 non-null  object \n",
      " 7   state         558837 non-null  object \n",
      " 8   condition     547017 non-null  float64\n",
      " 9   odometer      558743 non-null  float64\n",
      " 10  color         558088 non-null  object \n",
      " 11  interior      558088 non-null  object \n",
      " 12  seller        558837 non-null  object \n",
      " 13  mmr           558799 non-null  float64\n",
      " 14  sellingprice  558825 non-null  float64\n",
      " 15  saledate      558825 non-null  object \n",
      "dtypes: float64(4), int64(1), object(11)\n",
      "memory usage: 68.2+ MB\n"
     ]
    }
   ],
   "source": [
    "#데이터 정보 확인하기\n",
    "df.info()"
   ]
  },
  {
   "cell_type": "code",
   "execution_count": 108,
   "metadata": {},
   "outputs": [
    {
     "name": "stdout",
     "output_type": "stream",
     "text": [
      "Summary_stats:\n",
      "                 year      condition       odometer            mmr  \\\n",
      "count  558837.000000  547017.000000  558743.000000  558799.000000   \n",
      "mean     2010.038927      30.672365   68320.017767   13769.377495   \n",
      "std         3.966864      13.402832   53398.542821    9679.967174   \n",
      "min      1982.000000       1.000000       1.000000      25.000000   \n",
      "25%      2007.000000      23.000000   28371.000000    7100.000000   \n",
      "50%      2012.000000      35.000000   52254.000000   12250.000000   \n",
      "75%      2013.000000      42.000000   99109.000000   18300.000000   \n",
      "max      2015.000000      49.000000  999999.000000  182000.000000   \n",
      "\n",
      "        sellingprice  \n",
      "count  558825.000000  \n",
      "mean    13611.358810  \n",
      "std      9749.501628  \n",
      "min         1.000000  \n",
      "25%      6900.000000  \n",
      "50%     12100.000000  \n",
      "75%     18200.000000  \n",
      "max    230000.000000  \n",
      "Missing Value:\n",
      " year                0\n",
      "make            10301\n",
      "model           10399\n",
      "trim            10651\n",
      "body            13195\n",
      "transmission    65352\n",
      "vin                 4\n",
      "state               0\n",
      "condition       11820\n",
      "odometer           94\n",
      "color             749\n",
      "interior          749\n",
      "seller              0\n",
      "mmr                38\n",
      "sellingprice       12\n",
      "saledate           12\n",
      "dtype: int64\n"
     ]
    }
   ],
   "source": [
    "# 이상치 탐지를 위한 요약 통계\n",
    "print(\"Summary_stats:\\n\", df.describe())\n",
    "\n",
    "# 데이터 결측치 확인\n",
    "print('Missing Value:\\n', df.isnull().sum())"
   ]
  },
  {
   "cell_type": "code",
   "execution_count": 109,
   "metadata": {},
   "outputs": [
    {
     "data": {
      "text/html": [
       "<div>\n",
       "<style scoped>\n",
       "    .dataframe tbody tr th:only-of-type {\n",
       "        vertical-align: middle;\n",
       "    }\n",
       "\n",
       "    .dataframe tbody tr th {\n",
       "        vertical-align: top;\n",
       "    }\n",
       "\n",
       "    .dataframe thead th {\n",
       "        text-align: right;\n",
       "    }\n",
       "</style>\n",
       "<table border=\"1\" class=\"dataframe\">\n",
       "  <thead>\n",
       "    <tr style=\"text-align: right;\">\n",
       "      <th></th>\n",
       "      <th>year</th>\n",
       "      <th>condition</th>\n",
       "      <th>odometer</th>\n",
       "      <th>mmr</th>\n",
       "      <th>sellingprice</th>\n",
       "    </tr>\n",
       "  </thead>\n",
       "  <tbody>\n",
       "    <tr>\n",
       "      <th>count</th>\n",
       "      <td>558837.000000</td>\n",
       "      <td>547017.000000</td>\n",
       "      <td>558743.000000</td>\n",
       "      <td>558799.000000</td>\n",
       "      <td>558825.000000</td>\n",
       "    </tr>\n",
       "    <tr>\n",
       "      <th>mean</th>\n",
       "      <td>2010.038927</td>\n",
       "      <td>30.672365</td>\n",
       "      <td>68320.017767</td>\n",
       "      <td>13769.377495</td>\n",
       "      <td>13611.358810</td>\n",
       "    </tr>\n",
       "    <tr>\n",
       "      <th>std</th>\n",
       "      <td>3.966864</td>\n",
       "      <td>13.402832</td>\n",
       "      <td>53398.542821</td>\n",
       "      <td>9679.967174</td>\n",
       "      <td>9749.501628</td>\n",
       "    </tr>\n",
       "    <tr>\n",
       "      <th>min</th>\n",
       "      <td>1982.000000</td>\n",
       "      <td>1.000000</td>\n",
       "      <td>1.000000</td>\n",
       "      <td>25.000000</td>\n",
       "      <td>1.000000</td>\n",
       "    </tr>\n",
       "    <tr>\n",
       "      <th>25%</th>\n",
       "      <td>2007.000000</td>\n",
       "      <td>23.000000</td>\n",
       "      <td>28371.000000</td>\n",
       "      <td>7100.000000</td>\n",
       "      <td>6900.000000</td>\n",
       "    </tr>\n",
       "    <tr>\n",
       "      <th>50%</th>\n",
       "      <td>2012.000000</td>\n",
       "      <td>35.000000</td>\n",
       "      <td>52254.000000</td>\n",
       "      <td>12250.000000</td>\n",
       "      <td>12100.000000</td>\n",
       "    </tr>\n",
       "    <tr>\n",
       "      <th>75%</th>\n",
       "      <td>2013.000000</td>\n",
       "      <td>42.000000</td>\n",
       "      <td>99109.000000</td>\n",
       "      <td>18300.000000</td>\n",
       "      <td>18200.000000</td>\n",
       "    </tr>\n",
       "    <tr>\n",
       "      <th>max</th>\n",
       "      <td>2015.000000</td>\n",
       "      <td>49.000000</td>\n",
       "      <td>999999.000000</td>\n",
       "      <td>182000.000000</td>\n",
       "      <td>230000.000000</td>\n",
       "    </tr>\n",
       "  </tbody>\n",
       "</table>\n",
       "</div>"
      ],
      "text/plain": [
       "                year      condition       odometer            mmr  \\\n",
       "count  558837.000000  547017.000000  558743.000000  558799.000000   \n",
       "mean     2010.038927      30.672365   68320.017767   13769.377495   \n",
       "std         3.966864      13.402832   53398.542821    9679.967174   \n",
       "min      1982.000000       1.000000       1.000000      25.000000   \n",
       "25%      2007.000000      23.000000   28371.000000    7100.000000   \n",
       "50%      2012.000000      35.000000   52254.000000   12250.000000   \n",
       "75%      2013.000000      42.000000   99109.000000   18300.000000   \n",
       "max      2015.000000      49.000000  999999.000000  182000.000000   \n",
       "\n",
       "        sellingprice  \n",
       "count  558825.000000  \n",
       "mean    13611.358810  \n",
       "std      9749.501628  \n",
       "min         1.000000  \n",
       "25%      6900.000000  \n",
       "50%     12100.000000  \n",
       "75%     18200.000000  \n",
       "max    230000.000000  "
      ]
     },
     "execution_count": 109,
     "metadata": {},
     "output_type": "execute_result"
    }
   ],
   "source": [
    "df.describe()"
   ]
  },
  {
   "cell_type": "code",
   "execution_count": 110,
   "metadata": {},
   "outputs": [
    {
     "name": "stderr",
     "output_type": "stream",
     "text": [
      "/var/folders/yn/g97n5dd122qdr_rss5p0p4_40000gn/T/ipykernel_29740/1566102704.py:5: SettingWithCopyWarning:\n",
      "\n",
      "\n",
      "A value is trying to be set on a copy of a slice from a DataFrame.\n",
      "Try using .loc[row_indexer,col_indexer] = value instead\n",
      "\n",
      "See the caveats in the documentation: https://pandas.pydata.org/pandas-docs/stable/user_guide/indexing.html#returning-a-view-versus-a-copy\n",
      "\n"
     ]
    },
    {
     "name": "stdout",
     "output_type": "stream",
     "text": [
      "   year    make     model   body  color interior      mmr  sellingprice  \\\n",
      "0  2015     Kia   Sorento    SUV  white    black  20500.0       21500.0   \n",
      "1  2015     Kia   Sorento    SUV  white    beige  20800.0       21500.0   \n",
      "2  2014     BMW  3 Series  Sedan   gray    black  31900.0       30000.0   \n",
      "3  2015   Volvo       S60  Sedan  white    black  27500.0       27750.0   \n",
      "5  2015  Nissan    Altima  Sedan   gray    black  15350.0       10900.0   \n",
      "\n",
      "    saledate  saledateYear  saledateMonth  saledateDay  \n",
      "0 2014-12-16          2014             12           16  \n",
      "1 2014-12-16          2014             12           16  \n",
      "2 2015-01-15          2015              1           15  \n",
      "3 2015-01-29          2015              1           29  \n",
      "5 2014-12-30          2014             12           30  \n",
      "year             0\n",
      "make             0\n",
      "model            0\n",
      "body             0\n",
      "color            0\n",
      "interior         0\n",
      "mmr              0\n",
      "sellingprice     0\n",
      "saledate         0\n",
      "saledateYear     0\n",
      "saledateMonth    0\n",
      "saledateDay      0\n",
      "dtype: int64\n",
      "                year            mmr   sellingprice  \\\n",
      "count  512612.000000  512612.000000  512612.000000   \n",
      "mean     2010.314245   13048.753931   12877.254781   \n",
      "min      2001.000000      25.000000       1.000000   \n",
      "25%      2008.000000    7550.000000    7300.000000   \n",
      "50%      2012.000000   12250.000000   12100.000000   \n",
      "75%      2013.000000   17700.000000   17600.000000   \n",
      "max      2015.000000   34700.000000   33525.000000   \n",
      "std         3.479338    7347.829129    7429.718534   \n",
      "\n",
      "                            saledate   saledateYear  saledateMonth  \\\n",
      "count                         512612  512612.000000  512612.000000   \n",
      "mean   2015-03-06 06:22:29.905191680    2014.905978       3.781162   \n",
      "min              2014-01-01 00:00:00    2014.000000       1.000000   \n",
      "25%              2015-01-21 00:00:00    2015.000000       1.000000   \n",
      "50%              2015-02-13 00:00:00    2015.000000       2.000000   \n",
      "75%              2015-05-22 00:00:00    2015.000000       6.000000   \n",
      "max              2015-07-21 00:00:00    2015.000000      12.000000   \n",
      "std                              NaN       0.291860       3.210005   \n",
      "\n",
      "         saledateDay  \n",
      "count  512612.000000  \n",
      "mean       15.384181  \n",
      "min         1.000000  \n",
      "25%         8.000000  \n",
      "50%        16.000000  \n",
      "75%        22.000000  \n",
      "max        31.000000  \n",
      "std         8.547369  \n"
     ]
    }
   ],
   "source": [
    "# 'make' 또는 'model' 열에 결측치가 있는 행 삭제\n",
    "df_cleaned = df.dropna(subset=['make', 'model','body','color','interior'], how='any', axis=0)\n",
    "\n",
    "# 'saledate'의 시간 부분 제거 및 datetime 형식으로 변환\n",
    "df_cleaned['saledate'] = pd.to_datetime(df_cleaned['saledate'].apply(lambda x: ' '.join(x.split(' ')[:4]) if isinstance(x, str) else x), errors='coerce')\n",
    "\n",
    "# IQR을 이용한 이상치 계산\n",
    "def remove_outliers(df, column):\n",
    "    Q1 = df[column].quantile(0.25)\n",
    "    Q3 = df[column].quantile(0.75)\n",
    "    IQR = Q3 - Q1\n",
    "    lower_bound = Q1 - 1.5 * IQR\n",
    "    upper_bound = Q3 + 1.5 * IQR\n",
    "    return df[(df[column] >= lower_bound) & (df[column] <= upper_bound)]\n",
    "\n",
    "# 'year', 'mmr', 'sellingprice' 열의 이상치 제거\n",
    "df_cleaned = remove_outliers(df_cleaned, 'year')\n",
    "df_cleaned = remove_outliers(df_cleaned, 'mmr')\n",
    "df_cleaned = remove_outliers(df_cleaned, 'sellingprice')\n",
    "\n",
    "# 'mmr'과 'sellingprice'의 결측치를 같은 모델의 평균값으로 대체\n",
    "df_cleaned['mmr'] = df_cleaned.groupby('model')['mmr'].transform(lambda x: x.fillna(x.mean()))\n",
    "df_cleaned['sellingprice'] = df_cleaned.groupby('model')['sellingprice'].transform(lambda x: x.fillna(x.mean()))\n",
    "\n",
    "# 'saledate'의 결측치를 같은 모델의 평균 날짜로 대체\n",
    "df_cleaned['saledate'] = df_cleaned.groupby('model')['saledate'].transform(lambda x: x.fillna(x.mean()))\n",
    "\n",
    "# 'saledate'에서 연도, 월, 일을 추출\n",
    "df_cleaned['saledateYear'] = df_cleaned['saledate'].dt.year\n",
    "df_cleaned['saledateMonth'] = df_cleaned['saledate'].dt.month\n",
    "df_cleaned['saledateDay'] = df_cleaned['saledate'].dt.day\n",
    "\n",
    "# 지정한 열만 선택\n",
    "df_selected = df_cleaned[['year', 'make', 'model', 'body', 'color', 'interior', 'mmr', 'sellingprice', 'saledate', 'saledateYear', 'saledateMonth', 'saledateDay']]\n",
    "\n",
    "print(df_selected.head())\n",
    "print(df_selected.isnull().sum())\n",
    "print(df_selected.describe())\n"
   ]
  },
  {
   "cell_type": "code",
   "execution_count": 111,
   "metadata": {},
   "outputs": [
    {
     "data": {
      "text/html": [
       "<div>\n",
       "<style scoped>\n",
       "    .dataframe tbody tr th:only-of-type {\n",
       "        vertical-align: middle;\n",
       "    }\n",
       "\n",
       "    .dataframe tbody tr th {\n",
       "        vertical-align: top;\n",
       "    }\n",
       "\n",
       "    .dataframe thead th {\n",
       "        text-align: right;\n",
       "    }\n",
       "</style>\n",
       "<table border=\"1\" class=\"dataframe\">\n",
       "  <thead>\n",
       "    <tr style=\"text-align: right;\">\n",
       "      <th></th>\n",
       "      <th>year</th>\n",
       "      <th>make</th>\n",
       "      <th>model</th>\n",
       "      <th>body</th>\n",
       "      <th>color</th>\n",
       "      <th>interior</th>\n",
       "      <th>mmr</th>\n",
       "      <th>sellingprice</th>\n",
       "      <th>saledate</th>\n",
       "      <th>saledateYear</th>\n",
       "      <th>saledateMonth</th>\n",
       "      <th>saledateDay</th>\n",
       "    </tr>\n",
       "  </thead>\n",
       "  <tbody>\n",
       "    <tr>\n",
       "      <th>0</th>\n",
       "      <td>2015</td>\n",
       "      <td>Kia</td>\n",
       "      <td>Sorento</td>\n",
       "      <td>SUV</td>\n",
       "      <td>white</td>\n",
       "      <td>black</td>\n",
       "      <td>20500.0</td>\n",
       "      <td>21500.0</td>\n",
       "      <td>2014-12-16</td>\n",
       "      <td>2014</td>\n",
       "      <td>12</td>\n",
       "      <td>16</td>\n",
       "    </tr>\n",
       "    <tr>\n",
       "      <th>1</th>\n",
       "      <td>2015</td>\n",
       "      <td>Kia</td>\n",
       "      <td>Sorento</td>\n",
       "      <td>SUV</td>\n",
       "      <td>white</td>\n",
       "      <td>beige</td>\n",
       "      <td>20800.0</td>\n",
       "      <td>21500.0</td>\n",
       "      <td>2014-12-16</td>\n",
       "      <td>2014</td>\n",
       "      <td>12</td>\n",
       "      <td>16</td>\n",
       "    </tr>\n",
       "    <tr>\n",
       "      <th>2</th>\n",
       "      <td>2014</td>\n",
       "      <td>BMW</td>\n",
       "      <td>3 Series</td>\n",
       "      <td>Sedan</td>\n",
       "      <td>gray</td>\n",
       "      <td>black</td>\n",
       "      <td>31900.0</td>\n",
       "      <td>30000.0</td>\n",
       "      <td>2015-01-15</td>\n",
       "      <td>2015</td>\n",
       "      <td>1</td>\n",
       "      <td>15</td>\n",
       "    </tr>\n",
       "    <tr>\n",
       "      <th>3</th>\n",
       "      <td>2015</td>\n",
       "      <td>Volvo</td>\n",
       "      <td>S60</td>\n",
       "      <td>Sedan</td>\n",
       "      <td>white</td>\n",
       "      <td>black</td>\n",
       "      <td>27500.0</td>\n",
       "      <td>27750.0</td>\n",
       "      <td>2015-01-29</td>\n",
       "      <td>2015</td>\n",
       "      <td>1</td>\n",
       "      <td>29</td>\n",
       "    </tr>\n",
       "    <tr>\n",
       "      <th>5</th>\n",
       "      <td>2015</td>\n",
       "      <td>Nissan</td>\n",
       "      <td>Altima</td>\n",
       "      <td>Sedan</td>\n",
       "      <td>gray</td>\n",
       "      <td>black</td>\n",
       "      <td>15350.0</td>\n",
       "      <td>10900.0</td>\n",
       "      <td>2014-12-30</td>\n",
       "      <td>2014</td>\n",
       "      <td>12</td>\n",
       "      <td>30</td>\n",
       "    </tr>\n",
       "  </tbody>\n",
       "</table>\n",
       "</div>"
      ],
      "text/plain": [
       "   year    make     model   body  color interior      mmr  sellingprice  \\\n",
       "0  2015     Kia   Sorento    SUV  white    black  20500.0       21500.0   \n",
       "1  2015     Kia   Sorento    SUV  white    beige  20800.0       21500.0   \n",
       "2  2014     BMW  3 Series  Sedan   gray    black  31900.0       30000.0   \n",
       "3  2015   Volvo       S60  Sedan  white    black  27500.0       27750.0   \n",
       "5  2015  Nissan    Altima  Sedan   gray    black  15350.0       10900.0   \n",
       "\n",
       "    saledate  saledateYear  saledateMonth  saledateDay  \n",
       "0 2014-12-16          2014             12           16  \n",
       "1 2014-12-16          2014             12           16  \n",
       "2 2015-01-15          2015              1           15  \n",
       "3 2015-01-29          2015              1           29  \n",
       "5 2014-12-30          2014             12           30  "
      ]
     },
     "execution_count": 111,
     "metadata": {},
     "output_type": "execute_result"
    }
   ],
   "source": [
    "df_copy =df.copy()\n",
    "df =  df_selected\n",
    "df.head()"
   ]
  },
  {
   "cell_type": "code",
   "execution_count": 112,
   "metadata": {},
   "outputs": [
    {
     "name": "stdout",
     "output_type": "stream",
     "text": [
      "##########\n",
      "데이터 타입 확인\n",
      "Data Types:\n",
      " year                      int64\n",
      "make                     object\n",
      "model                    object\n",
      "body                     object\n",
      "color                    object\n",
      "interior                 object\n",
      "mmr                     float64\n",
      "sellingprice            float64\n",
      "saledate         datetime64[ns]\n",
      "saledateYear              int32\n",
      "saledateMonth             int32\n",
      "saledateDay               int32\n",
      "dtype: object\n",
      "##########\n",
      "범주형 데이터 분리하여 분석\n",
      "\n",
      "Categorical Columns:\n",
      " Index(['make', 'model', 'body', 'color', 'interior'], dtype='object')\n",
      "##########\n",
      "수치형 데이터 분리하여 분석\n",
      "\n",
      "Numerical Columns:\n",
      " Index(['year', 'mmr', 'sellingprice'], dtype='object')\n"
     ]
    }
   ],
   "source": [
    "# 데이터 타입 확인\n",
    "print(\"#\"*10)\n",
    "print(\"데이터 타입 확인\")\n",
    "print(\"Data Types:\\n\", df.dtypes)\n",
    "\n",
    "# 범주형 및 수치형 데이터 분리하여 분석\n",
    "categorical_cols = df.select_dtypes(include=['object', 'category']).columns\n",
    "numerical_cols = df.select_dtypes(include=['int64', 'float64']).columns\n",
    "\n",
    "print(\"#\"*10)\n",
    "print(\"범주형 데이터 분리하여 분석\")\n",
    "print(\"\\nCategorical Columns:\\n\", categorical_cols)\n",
    "\n",
    "print(\"#\"*10)\n",
    "print(\"수치형 데이터 분리하여 분석\")\n",
    "print(\"\\nNumerical Columns:\\n\", numerical_cols)"
   ]
  },
  {
   "cell_type": "code",
   "execution_count": 113,
   "metadata": {},
   "outputs": [
    {
     "name": "stdout",
     "output_type": "stream",
     "text": [
      "Pearson Correlation:\n",
      "                   year       mmr  sellingprice\n",
      "year          1.000000  0.659814      0.644148\n",
      "mmr           0.659814  1.000000      0.976251\n",
      "sellingprice  0.644148  0.976251      1.000000\n"
     ]
    }
   ],
   "source": [
    "\"\"\"\n",
    "상관계수 값이 1에 가까울수록 완벽한 양의 상관관계, -1에 가까울수록 완벽한 음의 상관관계를 나타냅니다.\n",
    "\"\"\"\n",
    "\n",
    "# 피어슨 상관 계수\n",
    "print(\"Pearson Correlation:\\n\", df[numerical_cols].corr(method='pearson'))\n"
   ]
  },
  {
   "cell_type": "markdown",
   "metadata": {},
   "source": [
    "# 1. 히트맵(Heatmap)\n",
    "    - 히트맵은 행렬 형식의 데이터를 색상으로 시각화하여 데이터의 크기나 빈도 등을 파악하기 위해 사용되는 도구\n",
    "    - 색상이 짙어질수록 데이터 값이 크거나 빈도가 높음을 나타냄\n",
    "- 예시\n",
    "    - 상관 행렬: 변수들 간의 상관 관계 시각화\n",
    "    - 웹사이트 클릭: 웹페이지의 사용자 클릭 빈도를 시각화"
   ]
  },
  {
   "cell_type": "code",
   "execution_count": 114,
   "metadata": {},
   "outputs": [
    {
     "data": {
      "image/png": "[encoded data removed]",
      "text/plain": [
       "<Figure size 800x600 with 2 Axes>"
      ]
     },
     "metadata": {},
     "output_type": "display_data"
    }
   ],
   "source": [
    "import seaborn as sns\n",
    "import numpy as np\n",
    "import matplotlib.pyplot as plt\n",
    "\n",
    "# 수치형 데이터만 선택\n",
    "numeric_cols = df.select_dtypes(include=['int64', 'float64']).columns\n",
    "\n",
    "# 상관 행렬 계산\n",
    "corr = df[numeric_cols].corr()\n",
    "\n",
    "# 히트맵 생성\n",
    "plt.figure(figsize=(8, 6))\n",
    "sns.heatmap(corr, annot=True, cmap='coolwarm',fmt='.2f')\n",
    "plt.title('Sample Heatmap')\n",
    "plt.show()"
   ]
  },
  {
   "cell_type": "markdown",
   "metadata": {},
   "source": [
    "# 2. 트리맵(Treemap)\n",
    "    - 트리맵은 계층적 데이터를 직사각형으로 시각화하여 데이터의 크기와 비율을 나타냄\n",
    "    - 각 직사각형의 크기는 해당 데이터의 크기를 나타내며 계층 구조 내의 비율을 비교하는 데 탁월함\n",
    "- 예시\n",
    "    - 파일 시스템: 디스크 사용량을 시각화하여 폴더와 파일의 크기를 비교\n",
    "    - 사업 부분별 매출: 각 부분별 매출 비율을 시각화"
   ]
  },
  {
   "cell_type": "code",
   "execution_count": 115,
   "metadata": {},
   "outputs": [
    {
     "name": "stdout",
     "output_type": "stream",
     "text": [
      "Requirement already satisfied: squarify in /opt/anaconda3/lib/python3.10/site-packages (0.4.3)\n"
     ]
    }
   ],
   "source": [
    "!pip install squarify"
   ]
  },
  {
   "cell_type": "code",
   "execution_count": 116,
   "metadata": {},
   "outputs": [
    {
     "data": {
      "application/vnd.plotly.v1+json": {
       "config": {
        "plotlyServerURL": "https://plot.ly"
       },
       "data": [
        {
         "branchvalues": "total",
         "customdata": [
          [
           "BMW",
           "1 Series",
           20589.618496372008
          ],
          [
           "Ram",
           "1500",
           23261.173090971388
          ],
          [
           "BMW",
           "2 Series",
           27384.433241674305
          ],
          [
           "Chrysler",
           "200",
           12041.031508989212
          ],
          [
           "Ram",
           "2500",
           26660.89648623817
          ],
          [
           "Mazda",
           "3",
           12971.963239211507
          ],
          [
           "BMW",
           "3 Series",
           20399.901633927297
          ],
          [
           "BMW",
           "3 Series Gran Turismo",
           31022.513195290296
          ],
          [
           "Chrysler",
           "300",
           17584.33479718371
          ],
          [
           "Chrysler",
           "300M",
           2143.1629475869227
          ],
          [
           "Ram",
           "3500",
           27493.88641254227
          ],
          [
           "Nissan",
           "350Z",
           10684.828538061365
          ],
          [
           "Nissan",
           "370Z",
           22471.96385694427
          ],
          [
           "BMW",
           "4 Series",
           32269.003740534623
          ],
          [
           "Toyota",
           "4Runner",
           22601.553143572015
          ],
          [
           "BMW",
           "5 Series",
           23598.77052783996
          ],
          [
           "BMW",
           "5 Series Gran Turismo",
           27825.962371606674
          ],
          [
           "FIAT",
           "500",
           9775.82000174613
          ],
          [
           "FIAT",
           "500L",
           13049.03411746378
          ],
          [
           "FIAT",
           "500e",
           14260.849056603774
          ],
          [
           "Mazda",
           "6",
           11366.74668715191
          ],
          [
           "BMW",
           "6 Series",
           19366.21544425176
          ],
          [
           "BMW",
           "6 Series Gran Coupe",
           32250
          ],
          [
           "Mazda",
           "626",
           1408.8126843657817
          ],
          [
           "BMW",
           "7 Series",
           18706.234481947766
          ],
          [
           "Saab",
           "9-2X",
           4277.556109725686
          ],
          [
           "Saab",
           "9-3",
           5390.433568730497
          ],
          [
           "Saab",
           "9-5",
           8465.751349564835
          ],
          [
           "Saab",
           "9-7X",
           5605.297307766802
          ],
          [
           "Porsche",
           "911",
           23563.184241321025
          ],
          [
           "Audi",
           "A3",
           19043.00606258394
          ],
          [
           "Audi",
           "A4",
           17937.36986221887
          ],
          [
           "Audi",
           "A5",
           24265.321991028908
          ],
          [
           "Audi",
           "A6",
           21662.57225028648
          ],
          [
           "Audi",
           "A7",
           32800.30487804878
          ],
          [
           "Audi",
           "A8",
           16737.117656161347
          ],
          [
           "Cadillac",
           "ATS",
           20882.73001245427
          ],
          [
           "GMC",
           "Acadia",
           20706.729458402886
          ],
          [
           "Hyundai",
           "Accent",
           8944.763721224921
          ],
          [
           "Honda",
           "Accord",
           13109.757523347727
          ],
          [
           "Honda",
           "Accord Crosstour",
           14928.82275928245
          ],
          [
           "Honda",
           "Accord Hybrid",
           25604.760508308897
          ],
          [
           "BMW",
           "ActiveHybrid 5",
           27630.090497737558
          ],
          [
           "BMW",
           "ActiveHybrid 7",
           31665.348101265823
          ],
          [
           "BMW",
           "ActiveHybrid X6",
           25725
          ],
          [
           "Suzuki",
           "Aerio",
           1772.2044728434505
          ],
          [
           "Oldsmobile",
           "Alero",
           1451.3037731314587
          ],
          [
           "Nissan",
           "Altima",
           12782.990046986908
          ],
          [
           "Nissan",
           "Altima Hybrid",
           8110.866983372922
          ],
          [
           "Kia",
           "Amanti",
           4262.541993281075
          ],
          [
           "Nissan",
           "Armada",
           19541.212456756646
          ],
          [
           "Isuzu",
           "Ascender",
           3592.6794258373207
          ],
          [
           "Chrysler",
           "Aspen",
           9824.136802899135
          ],
          [
           "Saturn",
           "Astra",
           4412.970014278915
          ],
          [
           "Chevrolet",
           "Astro",
           3135.9108689578093
          ],
          [
           "Chevrolet",
           "Astro Cargo",
           3751.4465702286516
          ],
          [
           "Saturn",
           "Aura",
           5198.522758068127
          ],
          [
           "Saturn",
           "Aura Hybrid",
           4411.557788944724
          ],
          [
           "Oldsmobile",
           "Aurora",
           1973.2405630198336
          ],
          [
           "Chevrolet",
           "Avalanche",
           17421.742418682777
          ],
          [
           "Toyota",
           "Avalon",
           15957.037714450704
          ],
          [
           "Toyota",
           "Avalon Hybrid",
           25945.601874450844
          ],
          [
           "Dodge",
           "Avenger",
           9959.426346206956
          ],
          [
           "Chevrolet",
           "Aveo",
           4325.422776012339
          ],
          [
           "Lincoln",
           "Aviator",
           4341.857457610882
          ],
          [
           "Isuzu",
           "Axiom",
           2064.5185185185187
          ],
          [
           "Hyundai",
           "Azera",
           18681.350635063507
          ],
          [
           "Pontiac",
           "Aztek",
           1865.7070707070707
          ],
          [
           "Mercedes-Benz",
           "B-Class Electric Drive",
           26861.241217798593
          ],
          [
           "Mazda",
           "B-Series",
           2600
          ],
          [
           "Mazda",
           "B-Series Truck",
           9479.527559055117
          ],
          [
           "Subaru",
           "B9 Tribeca",
           7379.095847205187
          ],
          [
           "Subaru",
           "BRZ",
           19894.68767007317
          ],
          [
           "Subaru",
           "Baja",
           7761.852377572746
          ],
          [
           "Volkswagen",
           "Beetle",
           13165.252702912421
          ],
          [
           "Volkswagen",
           "Beetle Convertible",
           18423.23669201521
          ],
          [
           "Chevrolet",
           "Black Diamond Avalanche",
           28525.646258503402
          ],
          [
           "Lincoln",
           "Blackwood",
           8444.712430426716
          ],
          [
           "Chevrolet",
           "Blazer",
           1928.8847397168654
          ],
          [
           "Pontiac",
           "Bonneville",
           2490.835648486621
          ],
          [
           "Kia",
           "Borrego",
           9362.767162066526
          ],
          [
           "Porsche",
           "Boxster",
           18516.984087207118
          ],
          [
           "Oldsmobile",
           "Bravada",
           1992.0253164556962
          ],
          [
           "Mercedes-Benz",
           "C-Class",
           20395.742326336305
          ],
          [
           "Ford",
           "C-Max Energi",
           13135.547175082058
          ],
          [
           "Ford",
           "C-Max Hybrid",
           15712.737291597092
          ],
          [
           "Ram",
           "C/V Cargo Van",
           8158.697037273017
          ],
          [
           "Ram",
           "C/V Tradesman",
           10169.568690095846
          ],
          [
           "Volvo",
           "C30",
           13404.054624064114
          ],
          [
           "Volvo",
           "C70",
           17521.93879856876
          ],
          [
           "Volkswagen",
           "CC",
           14697.088758265107
          ],
          [
           "Acura",
           "CL",
           3097.819871336669
          ],
          [
           "Mercedes-Benz",
           "CL-Class",
           22317.460769168225
          ],
          [
           "Mercedes-Benz",
           "CLA-Class",
           29087.95975721053
          ],
          [
           "Mercedes-Benz",
           "CLK-Class",
           10840.921785739474
          ],
          [
           "Mercedes-Benz",
           "CLS-Class",
           18614.11918611442
          ],
          [
           "Honda",
           "CR-V",
           16518.098955120866
          ],
          [
           "Honda",
           "CR-Z",
           10823.38005878363
          ],
          [
           "Lexus",
           "CT 200h",
           20238.964814996565
          ],
          [
           "Cadillac",
           "CTS",
           15034.493282320576
          ],
          [
           "Cadillac",
           "CTS Coupe",
           23320.80737568139
          ],
          [
           "Cadillac",
           "CTS Wagon",
           18556.97105584998
          ],
          [
           "Cadillac",
           "CTS-V",
           23676.50433809124
          ],
          [
           "Cadillac",
           "CTS-V Coupe",
           30701.520086862107
          ],
          [
           "Ram",
           "CV Tradesman",
           15631.788879935535
          ],
          [
           "Mazda",
           "CX-5",
           19579.203073203415
          ],
          [
           "Mazda",
           "CX-7",
           10613.511585712109
          ],
          [
           "Mazda",
           "CX-9",
           19251.41637517245
          ],
          [
           "Volkswagen",
           "Cabrio",
           1935.9177215189873
          ],
          [
           "Kia",
           "Cadenza",
           21126.19597896448
          ],
          [
           "Dodge",
           "Caliber",
           6082.838727921176
          ],
          [
           "Chevrolet",
           "Camaro",
           20188.719109333055
          ],
          [
           "Toyota",
           "Camry",
           13345.073856857283
          ],
          [
           "Toyota",
           "Camry Hybrid",
           15172.947873029578
          ],
          [
           "Toyota",
           "Camry Solara",
           6682.856977216071
          ],
          [
           "GMC",
           "Canyon",
           12740.813181088004
          ],
          [
           "Chevrolet",
           "Captiva Sport",
           14102.85430476599
          ],
          [
           "Dodge",
           "Caravan",
           2661.4567437492665
          ],
          [
           "Cadillac",
           "Catera",
           1441.2621359223301
          ],
          [
           "Chevrolet",
           "Cavalier",
           1530.068402835009
          ],
          [
           "Porsche",
           "Cayenne",
           18126.341753551187
          ],
          [
           "Porsche",
           "Cayman",
           21007.22237493128
          ],
          [
           "Porsche",
           "Cayman S",
           25787.28862973761
          ],
          [
           "Toyota",
           "Celica",
           3395.1987767584096
          ],
          [
           "Buick",
           "Century",
           2524.8370044052863
          ],
          [
           "Dodge",
           "Challenger",
           21502.541854451523
          ],
          [
           "Dodge",
           "Charger",
           15964.570042351597
          ],
          [
           "Jeep",
           "Cherokee",
           22868.720214091943
          ],
          [
           "Honda",
           "Civic",
           11160.455262724827
          ],
          [
           "Chevrolet",
           "Classic",
           2278.1153953618327
          ],
          [
           "Chevrolet",
           "Cobalt",
           4277.541684771398
          ],
          [
           "Chevrolet",
           "Colorado",
           11435.920616193265
          ],
          [
           "Jeep",
           "Commander",
           9090.370267233846
          ],
          [
           "Jeep",
           "Compass",
           14003.593821517907
          ],
          [
           "Chrysler",
           "Concorde",
           1562.7044215626893
          ],
          [
           "Lincoln",
           "Continental",
           2595.7858769931663
          ],
          [
           "MINI",
           "Cooper",
           12415.442741826351
          ],
          [
           "MINI",
           "Cooper Clubman",
           13946.32394286201
          ],
          [
           "MINI",
           "Cooper Countryman",
           19787.91959489586
          ],
          [
           "MINI",
           "Cooper Coupe",
           16218.929122351223
          ],
          [
           "MINI",
           "Cooper Paceman",
           20537.824151363384
          ],
          [
           "MINI",
           "Cooper Roadster",
           20010.011490950877
          ],
          [
           "Toyota",
           "Corolla",
           10846.62913331126
          ],
          [
           "Chevrolet",
           "Corvette",
           24085.205900077308
          ],
          [
           "Mercury",
           "Cougar",
           1414.923076923077
          ],
          [
           "Maserati",
           "Coupe",
           12872.549019607843
          ],
          [
           "Chrysler",
           "Crossfire",
           6163.427947598253
          ],
          [
           "Honda",
           "Crosstour",
           18435.88467899147
          ],
          [
           "Ford",
           "Crown Victoria",
           7848.414291449217
          ],
          [
           "Chevrolet",
           "Cruze",
           11612.686213025576
          ],
          [
           "Nissan",
           "Cube",
           9056.229577763632
          ],
          [
           "Cadillac",
           "DTS",
           9166.908505881842
          ],
          [
           "Dodge",
           "Dakota",
           7532.13242725594
          ],
          [
           "Ram",
           "Dakota",
           13060.09918845807
          ],
          [
           "Dodge",
           "Dart",
           12051.454085848714
          ],
          [
           "Cadillac",
           "DeVille",
           2998.4637216972155
          ],
          [
           "Mitsubishi",
           "Diamante",
           1294.1318327974277
          ],
          [
           "Land Rover",
           "Discovery Series II",
           2583.568075117371
          ],
          [
           "Dodge",
           "Durango",
           22973.63049284306
          ],
          [
           "Mercedes-Benz",
           "E-Class",
           24550.582904437568
          ],
          [
           "Ford",
           "E-Series Van",
           19892.01847183856
          ],
          [
           "Ford",
           "E-Series Wagon",
           20179.862542963205
          ],
          [
           "Toyota",
           "ECHO",
           2426.4498234997477
          ],
          [
           "Lexus",
           "ES 300",
           4835.647984664279
          ],
          [
           "Lexus",
           "ES 300h",
           28940.568710246407
          ],
          [
           "Lexus",
           "ES 330",
           7093.348777348778
          ],
          [
           "Lexus",
           "ES 350",
           22006.267705170758
          ],
          [
           "Infiniti",
           "EX",
           22636.772796621924
          ],
          [
           "Infiniti",
           "EX35",
           13621.05343886128
          ],
          [
           "Mitsubishi",
           "Eclipse",
           6097.658780565259
          ],
          [
           "Mitsubishi",
           "Eclipse Spyder",
           6203.502265680897
          ],
          [
           "Ford",
           "Econoline Cargo",
           7012.5926312681395
          ],
          [
           "Ford",
           "Econoline Wagon",
           9279.948461499209
          ],
          [
           "Ford",
           "Edge",
           20493.285748328537
          ],
          [
           "Hyundai",
           "Elantra",
           11219.269930475202
          ],
          [
           "Hyundai",
           "Elantra Coupe",
           12575.826765416452
          ],
          [
           "Hyundai",
           "Elantra GT",
           13431.686758334903
          ],
          [
           "Hyundai",
           "Elantra Touring",
           8453.118932353018
          ],
          [
           "Cadillac",
           "Eldorado",
           3404.436860068259
          ],
          [
           "Honda",
           "Element",
           8888.18028983558
          ],
          [
           "Buick",
           "Enclave",
           20897.242695958965
          ],
          [
           "Buick",
           "Encore",
           19077.7577410041
          ],
          [
           "Mitsubishi",
           "Endeavor",
           5404.732299590404
          ],
          [
           "Hyundai",
           "Entourage",
           4958.806626098715
          ],
          [
           "GMC",
           "Envoy",
           5797.907691423976
          ],
          [
           "GMC",
           "Envoy XL",
           4854.64884056363
          ],
          [
           "GMC",
           "Envoy XUV",
           4064.009913905557
          ],
          [
           "Volkswagen",
           "Eos",
           14476.798569294155
          ],
          [
           "Suzuki",
           "Equator",
           14850.168350168351
          ],
          [
           "Chevrolet",
           "Equinox",
           14566.261347622074
          ],
          [
           "Hyundai",
           "Equus",
           26382.473059406188
          ],
          [
           "Cadillac",
           "Escalade",
           20792.400459127846
          ],
          [
           "Cadillac",
           "Escalade ESV",
           21039.02806103644
          ],
          [
           "Cadillac",
           "Escalade EXT",
           20042.169527896996
          ],
          [
           "Cadillac",
           "Escalade Hybrid",
           25055.70975881697
          ],
          [
           "Ford",
           "Escape",
           16193.949755093196
          ],
          [
           "Ford",
           "Escape Hybrid",
           11666.226929958579
          ],
          [
           "Ford",
           "Escort",
           1047.1141374837873
          ],
          [
           "Suzuki",
           "Esteem",
           913.3333333333334
          ],
          [
           "Volkswagen",
           "EuroVan",
           2933.160621761658
          ],
          [
           "Ford",
           "Excursion",
           12234.994266912609
          ],
          [
           "Ford",
           "Expedition",
           23345.704951780146
          ],
          [
           "Ford",
           "Expedition EL",
           12595.683520019804
          ],
          [
           "Ford",
           "Explorer",
           24000.082964012763
          ],
          [
           "Ford",
           "Explorer Sport",
           1592.2424875461995
          ],
          [
           "Ford",
           "Explorer Sport Trac",
           10989.69228888787
          ],
          [
           "Chevrolet",
           "Express",
           19820.51966795574
          ],
          [
           "Chevrolet",
           "Express Cargo",
           13110.78193113295
          ],
          [
           "Ford",
           "F-150",
           21642.6252389105
          ],
          [
           "Ford",
           "F-150 Heritage",
           3636.9124797406807
          ],
          [
           "Ford",
           "F-250 Super Duty",
           20830.30022868207
          ],
          [
           "Ford",
           "F-350 Super Duty",
           20804.580271612314
          ],
          [
           "Ford",
           "F-450 Super Duty",
           26162.78135360942
          ],
          [
           "Toyota",
           "FJ Cruiser",
           21031.052787725952
          ],
          [
           "Scion",
           "FR-S",
           18321.963476428584
          ],
          [
           "Infiniti",
           "FX",
           27399.017338240898
          ],
          [
           "Infiniti",
           "FX35",
           13466.28868237001
          ],
          [
           "Infiniti",
           "FX45",
           9909.65034965035
          ],
          [
           "Infiniti",
           "FX50",
           22586.066204772902
          ],
          [
           "Ford",
           "Fiesta",
           9858.3045670054
          ],
          [
           "Pontiac",
           "Firebird",
           9586.323479442746
          ],
          [
           "Honda",
           "Fit",
           10513.574074190725
          ],
          [
           "Ford",
           "Five Hundred",
           3802.07791160959
          ],
          [
           "Ford",
           "Flex",
           20995.723038463246
          ],
          [
           "Ford",
           "Focus",
           10720.673306859053
          ],
          [
           "Ford",
           "Focus ST",
           18757.085312075982
          ],
          [
           "Suzuki",
           "Forenza",
           1897.283988744767
          ],
          [
           "Subaru",
           "Forester",
           19763.441978874704
          ],
          [
           "Kia",
           "Forte",
           10971.466185173196
          ],
          [
           "Land Rover",
           "Freelander",
           2658.7388801674515
          ],
          [
           "Ford",
           "Freestar",
           2450.4102846764563
          ],
          [
           "Ford",
           "Freestyle",
           3386.727140292035
          ],
          [
           "Nissan",
           "Frontier",
           17301.763616392407
          ],
          [
           "Ford",
           "Fusion",
           13741.004719658305
          ],
          [
           "Ford",
           "Fusion Energi",
           21135.58724913747
          ],
          [
           "Ford",
           "Fusion Hybrid",
           17267.206728698362
          ],
          [
           "Infiniti",
           "G Convertible",
           26309.707612330072
          ],
          [
           "Infiniti",
           "G Coupe",
           22733.475822581277
          ],
          [
           "Infiniti",
           "G Sedan",
           20256.912389299167
          ],
          [
           "Mercedes-Benz",
           "G-Class",
           27835.974973931177
          ],
          [
           "Infiniti",
           "G20",
           1714.0198511166252
          ],
          [
           "Pontiac",
           "G3",
           4886.25
          ],
          [
           "Infiniti",
           "G35",
           8173.196535774038
          ],
          [
           "Infiniti",
           "G37",
           14144.394590768221
          ],
          [
           "Infiniti",
           "G37 Convertible",
           20569.712551108907
          ],
          [
           "Infiniti",
           "G37 Coupe",
           15881.25838475986
          ],
          [
           "Pontiac",
           "G5",
           4120.894512131626
          ],
          [
           "Pontiac",
           "G6",
           5426.580411649485
          ],
          [
           "Pontiac",
           "G8",
           14235.772972972973
          ],
          [
           "Mercedes-Benz",
           "GL-Class",
           22706.786701785782
          ],
          [
           "Mercedes-Benz",
           "GLA-Class",
           32000
          ],
          [
           "Volkswagen",
           "GLI",
           12994.39122762793
          ],
          [
           "Mercedes-Benz",
           "GLK-Class",
           24728.77635203606
          ],
          [
           "Lexus",
           "GS 300",
           10214.548882225456
          ],
          [
           "Lexus",
           "GS 350",
           28118.388849102495
          ],
          [
           "Lexus",
           "GS 430",
           8959.39034960994
          ],
          [
           "Lexus",
           "GS 450h",
           17246.8875985318
          ],
          [
           "Lexus",
           "GS 460",
           18866.36197440585
          ],
          [
           "Volkswagen",
           "GTI",
           13570.76028107361
          ],
          [
           "Pontiac",
           "GTO",
           10943.341121495327
          ],
          [
           "Lexus",
           "GX 460",
           30130.91917724745
          ],
          [
           "Lexus",
           "GX 470",
           20187.785299806575
          ],
          [
           "Mitsubishi",
           "Galant",
           6262.824383313665
          ],
          [
           "Hyundai",
           "Genesis",
           18120.4050827273
          ],
          [
           "Hyundai",
           "Genesis Coupe",
           16798.403141926156
          ],
          [
           "Volkswagen",
           "Golf",
           11753.935768794734
          ],
          [
           "Volkswagen",
           "Golf GTI",
           21237.980912615567
          ],
          [
           "Volkswagen",
           "Golf R",
           25779.138191177775
          ],
          [
           "Maserati",
           "GranSport",
           32500
          ],
          [
           "Pontiac",
           "Grand Am",
           1914.651837524178
          ],
          [
           "Dodge",
           "Grand Caravan",
           13867.536430909837
          ],
          [
           "Jeep",
           "Grand Cherokee",
           21648.939178800872
          ],
          [
           "Mercury",
           "Grand Marquis",
           6376.473839351511
          ],
          [
           "Pontiac",
           "Grand Prix",
           3835.8244065555923
          ],
          [
           "Suzuki",
           "Grand Vitara",
           7580.87149441629
          ],
          [
           "HUMMER",
           "H2",
           19856.717606157963
          ],
          [
           "HUMMER",
           "H2 SUT",
           23261.162687886826
          ],
          [
           "HUMMER",
           "H3",
           12280.136505810378
          ],
          [
           "HUMMER",
           "H3T",
           21946.474234792717
          ],
          [
           "Chevrolet",
           "HHR",
           5790.404722784243
          ],
          [
           "Lexus",
           "HS 250h",
           16959.04408993845
          ],
          [
           "Toyota",
           "Highlander",
           20054.08647456203
          ],
          [
           "Toyota",
           "Highlander Hybrid",
           16535.076846682674
          ],
          [
           "Infiniti",
           "I30",
           2117.936024371668
          ],
          [
           "Infiniti",
           "I35",
           3316.457739791073
          ],
          [
           "Acura",
           "ILX",
           19086.566795777322
          ],
          [
           "Saturn",
           "ION",
           2608.4542111445935
          ],
          [
           "Lexus",
           "IS 250",
           21185.46054275593
          ],
          [
           "Lexus",
           "IS 250 C",
           26028.934747365576
          ],
          [
           "Lexus",
           "IS 300",
           4841.9824448726185
          ],
          [
           "Lexus",
           "IS 350",
           19518.597244012628
          ],
          [
           "Lexus",
           "IS 350 C",
           28508.99127975489
          ],
          [
           "Lexus",
           "IS F",
           26470.998980632008
          ],
          [
           "Chevrolet",
           "Impala",
           11532.972457038433
          ],
          [
           "Chevrolet",
           "Impala Limited",
           14106.827444328477
          ],
          [
           "Subaru",
           "Impreza",
           16342.011946285178
          ],
          [
           "Subaru",
           "Impreza WRX",
           26383.288987435328
          ],
          [
           "Honda",
           "Insight",
           9982.687704026115
          ],
          [
           "Acura",
           "Integra",
           4617.64705882353
          ],
          [
           "Dodge",
           "Intrepid",
           964.9012567324955
          ],
          [
           "Oldsmobile",
           "Intrigue",
           1902.1281571562208
          ],
          [
           "Infiniti",
           "JX",
           29655.97139335921
          ],
          [
           "Volkswagen",
           "Jetta",
           10025.858979418403
          ],
          [
           "Volkswagen",
           "Jetta GLI",
           18273.340483179047
          ],
          [
           "Volkswagen",
           "Jetta Hybrid",
           16046.380677721701
          ],
          [
           "Volkswagen",
           "Jetta SportWagen",
           15028.963743177947
          ],
          [
           "GMC",
           "Jimmy",
           1462.5925925925926
          ],
          [
           "Dodge",
           "Journey",
           14165.802111168721
          ],
          [
           "Nissan",
           "Juke",
           15472.58491150069
          ],
          [
           "Suzuki",
           "Kizashi",
           8941.474311243484
          ],
          [
           "Saturn",
           "L-Series",
           1740.2251562699323
          ],
          [
           "Saturn",
           "L300",
           2529.8297872340427
          ],
          [
           "Chrysler",
           "LHS",
           400
          ],
          [
           "Land Rover",
           "LR2",
           17509.91921824104
          ],
          [
           "Land Rover",
           "LR3",
           15148.33143057873
          ],
          [
           "Land Rover",
           "LR4",
           29841.52817859157
          ],
          [
           "Lincoln",
           "LS",
           2911.190407708348
          ],
          [
           "Lexus",
           "LS 430",
           10039.91756499683
          ],
          [
           "Lexus",
           "LS 460",
           23204.796620639005
          ],
          [
           "Lexus",
           "LS 600h L",
           25458.499743983615
          ],
          [
           "Lexus",
           "LX 470",
           10085.873388042204
          ],
          [
           "Lexus",
           "LX 570",
           32473.511293634496
          ],
          [
           "Buick",
           "LaCrosse",
           16200.307558779281
          ],
          [
           "Mitsubishi",
           "Lancer",
           9604.877081615214
          ],
          [
           "Mitsubishi",
           "Lancer Evolution",
           24421.0846849157
          ],
          [
           "Mitsubishi",
           "Lancer Sportback",
           11183.805265772478
          ],
          [
           "Toyota",
           "Land Cruiser",
           16290.770694576593
          ],
          [
           "Buick",
           "LeSabre",
           3292.981706402759
          ],
          [
           "Nissan",
           "Leaf",
           10708.099557053261
          ],
          [
           "Subaru",
           "Legacy",
           16272.596940822566
          ],
          [
           "Daewoo",
           "Leganza",
           300
          ],
          [
           "Jeep",
           "Liberty",
           10725.830038780989
          ],
          [
           "Buick",
           "Lucerne",
           7819.294165293498
          ],
          [
           "Chevrolet",
           "Lumina",
           1071.4285714285713
          ],
          [
           "BMW",
           "M",
           15750
          ],
          [
           "Infiniti",
           "M",
           25185.71784660657
          ],
          [
           "Mercedes-Benz",
           "M-Class",
           22057.894066991223
          ],
          [
           "BMW",
           "M3",
           23463.080511942222
          ],
          [
           "Infiniti",
           "M35",
           10967.564819522115
          ],
          [
           "Infiniti",
           "M37",
           22175.289905141268
          ],
          [
           "Infiniti",
           "M45",
           9700.325037147102
          ],
          [
           "BMW",
           "M5",
           21606.239362178625
          ],
          [
           "Infiniti",
           "M56",
           24258.85839051778
          ],
          [
           "BMW",
           "M6",
           25007.373244465605
          ],
          [
           "Acura",
           "MDX",
           21465.39048246808
          ],
          [
           "Lincoln",
           "MKC",
           31201.724641917568
          ],
          [
           "Lincoln",
           "MKS",
           22975.3882783358
          ],
          [
           "Lincoln",
           "MKT",
           24310.333297789693
          ],
          [
           "Lincoln",
           "MKX",
           23992.507746367362
          ],
          [
           "Lincoln",
           "MKZ",
           19456.682383754527
          ],
          [
           "Lincoln",
           "MKZ Hybrid",
           13721.184668989546
          ],
          [
           "Mazda",
           "MPV",
           2245.1668351870576
          ],
          [
           "Toyota",
           "MR2 Spyder",
           4390.543259557344
          ],
          [
           "Mazda",
           "MX-5 Miata",
           17849.645981613285
          ],
          [
           "Dodge",
           "Magnum",
           5608.0469823816065
          ],
          [
           "Chevrolet",
           "Malibu",
           11024.155396654967
          ],
          [
           "Chevrolet",
           "Malibu Classic",
           3627.9166666666665
          ],
          [
           "Chevrolet",
           "Malibu Hybrid",
           6036.585365853659
          ],
          [
           "Chevrolet",
           "Malibu Maxx",
           3315.9404423034816
          ],
          [
           "Mercury",
           "Marauder",
           9979.53216374269
          ],
          [
           "Mercury",
           "Mariner",
           8106.07905673142
          ],
          [
           "Mercury",
           "Mariner Hybrid",
           6689.146164978292
          ],
          [
           "Lincoln",
           "Mark LT",
           13785.158531497706
          ],
          [
           "Toyota",
           "Matrix",
           7073.388284650894
          ],
          [
           "Nissan",
           "Maxima",
           15828.995378096366
          ],
          [
           "Mazda",
           "Mazda2",
           8819.458259294075
          ],
          [
           "Mazda",
           "Mazda3",
           10617.610837368691
          ],
          [
           "Mazda",
           "Mazda5",
           11329.37929623191
          ],
          [
           "Mazda",
           "Mazda6",
           13264.784310497773
          ],
          [
           "Mazda",
           "Mazdaspeed 3",
           15153.771428571428
          ],
          [
           "Mazda",
           "Mazdaspeed MX-5 Miata",
           4205.785123966943
          ],
          [
           "Mazda",
           "Mazdaspeed Mazda3",
           8814.422419685578
          ],
          [
           "Mazda",
           "Mazdaspeed Mazda6",
           7244.591416813639
          ],
          [
           "Mazda",
           "Mazdaspeed Protege",
           3100
          ],
          [
           "Mazda",
           "Mazdaspeed3",
           15662.605325244354
          ],
          [
           "Mercury",
           "Milan",
           5757.576636128184
          ],
          [
           "Mercury",
           "Milan Hybrid",
           10038.851351351352
          ],
          [
           "Mazda",
           "Millenia",
           1700.1937984496124
          ],
          [
           "Mitsubishi",
           "Mirage",
           9120.061700526712
          ],
          [
           "Pontiac",
           "Montana",
           2279.5625867883355
          ],
          [
           "Pontiac",
           "Montana SV6",
           3574.8945147679324
          ],
          [
           "Chevrolet",
           "Monte Carlo",
           4307.65179837566
          ],
          [
           "Mercury",
           "Montego",
           3898.637921703049
          ],
          [
           "Mercury",
           "Monterey",
           2824.800796812749
          ],
          [
           "Mitsubishi",
           "Montero",
           3686.735870818916
          ],
          [
           "Mitsubishi",
           "Montero Sport",
           1865.7446702364718
          ],
          [
           "Mercury",
           "Mountaineer",
           6983.119097397448
          ],
          [
           "Nissan",
           "Murano",
           16654.675222397
          ],
          [
           "Nissan",
           "Murano CrossCabriolet",
           27628.545454545456
          ],
          [
           "Ford",
           "Mustang",
           17354.174750115024
          ],
          [
           "Nissan",
           "NV",
           16396.585796915166
          ],
          [
           "Nissan",
           "NV Cargo",
           21073.370527442665
          ],
          [
           "Nissan",
           "NV Passenger",
           22884.101748807632
          ],
          [
           "Nissan",
           "NV200",
           16327.460831982711
          ],
          [
           "Lincoln",
           "Navigator",
           20725.42532041146
          ],
          [
           "Lincoln",
           "Navigator L",
           13639.92793698676
          ],
          [
           "Dodge",
           "Neon",
           2332.5552486187844
          ],
          [
           "Volkswagen",
           "New Beetle",
           5243.971971935677
          ],
          [
           "Dodge",
           "Nitro",
           10085.197870518596
          ],
          [
           "Daewoo",
           "Nubira",
           500
          ],
          [
           "Honda",
           "Odyssey",
           17880.973616626456
          ],
          [
           "Kia",
           "Optima",
           14739.979600320192
          ],
          [
           "Subaru",
           "Outback",
           20359.574094977783
          ],
          [
           "Mitsubishi",
           "Outlander",
           15570.03759890371
          ],
          [
           "Mitsubishi",
           "Outlander Sport",
           14079.437246963562
          ],
          [
           "Saturn",
           "Outlook",
           8273.273118574994
          ],
          [
           "Chrysler",
           "PT Cruiser",
           3000.7334628076137
          ],
          [
           "Chrysler",
           "Pacifica",
           4612.693082605776
          ],
          [
           "Buick",
           "Park Avenue",
           3478.8888888888887
          ],
          [
           "Volkswagen",
           "Passat",
           12441.413471101623
          ],
          [
           "Honda",
           "Passport",
           2416.9655667144907
          ],
          [
           "Nissan",
           "Pathfinder",
           19451.90733787358
          ],
          [
           "Jeep",
           "Patriot",
           12830.028380663956
          ],
          [
           "Volkswagen",
           "Phaeton",
           7233.1278890600925
          ],
          [
           "Honda",
           "Pilot",
           21636.88224957346
          ],
          [
           "Honda",
           "Prelude",
           3039.285714285714
          ],
          [
           "Toyota",
           "Prius",
           12252.637914767376
          ],
          [
           "Toyota",
           "Prius Plug-in",
           17352.648787898805
          ],
          [
           "Toyota",
           "Prius c",
           13177.651073747295
          ],
          [
           "Toyota",
           "Prius v",
           17533.476842978518
          ],
          [
           "Chevrolet",
           "Prizm",
           1372.549019607843
          ],
          [
           "Ram",
           "Promaster Cargo Van",
           23057.83986346097
          ],
          [
           "Mazda",
           "Protege",
           1579.1581805838425
          ],
          [
           "Mazda",
           "Protege5",
           1969.2332683560753
          ],
          [
           "Chrysler",
           "Prowler",
           26609.056603773584
          ],
          [
           "Plymouth",
           "Prowler",
           23792.780748663103
          ],
          [
           "Audi",
           "Q3",
           30400
          ],
          [
           "Infiniti",
           "Q45",
           5088.108766233766
          ],
          [
           "Audi",
           "Q5",
           26060.93168026556
          ],
          [
           "Infiniti",
           "Q50",
           28753.022464906684
          ],
          [
           "Infiniti",
           "Q60 Convertible",
           33135.211267605635
          ],
          [
           "Infiniti",
           "Q60 Coupe",
           28947.028871978513
          ],
          [
           "Audi",
           "Q7",
           20891.170279568752
          ],
          [
           "Infiniti",
           "Q70",
           29906.437158469944
          ],
          [
           "Infiniti",
           "QX",
           31321.428571428572
          ],
          [
           "Infiniti",
           "QX4",
           3396.775956284153
          ],
          [
           "Infiniti",
           "QX50",
           31789.63963963964
          ],
          [
           "Infiniti",
           "QX56",
           22098.044888112843
          ],
          [
           "Infiniti",
           "QX60",
           30384.771281323625
          ],
          [
           "Infiniti",
           "QX70",
           31003.37822671156
          ],
          [
           "Maserati",
           "Quattroporte",
           24608.583191622663
          ],
          [
           "Nissan",
           "Quest",
           15686.036919611935
          ],
          [
           "Mercedes-Benz",
           "R-Class",
           13716.09583660644
          ],
          [
           "Volkswagen",
           "R32",
           11180.754657404485
          ],
          [
           "Toyota",
           "RAV4",
           15955.883393166525
          ],
          [
           "Acura",
           "RDX",
           21328.114642547844
          ],
          [
           "Acura",
           "RL",
           11660.772375031935
          ],
          [
           "Acura",
           "RLX",
           30302.981787882396
          ],
          [
           "Audi",
           "RS 4",
           26256.265984654732
          ],
          [
           "Audi",
           "RS 6",
           13887.711670480548
          ],
          [
           "Acura",
           "RSX",
           5670.135613207547
          ],
          [
           "Lexus",
           "RX 300",
           5596.333746044848
          ],
          [
           "Lexus",
           "RX 330",
           9684.398545761105
          ],
          [
           "Lexus",
           "RX 350",
           26904.67263475853
          ],
          [
           "Lexus",
           "RX 400h",
           13149.037696439229
          ],
          [
           "Lexus",
           "RX 450h",
           27383.01775147929
          ],
          [
           "Mazda",
           "RX-8",
           11298.159105851413
          ],
          [
           "Volkswagen",
           "Rabbit",
           5113.432228039558
          ],
          [
           "Mitsubishi",
           "Raider",
           7109.719438877755
          ],
          [
           "Buick",
           "Rainier",
           4110.477707006369
          ],
          [
           "Dodge",
           "Ram Cargo",
           2570.430107526882
          ],
          [
           "Dodge",
           "Ram Pickup 1500",
           12870.916138359804
          ],
          [
           "Dodge",
           "Ram Pickup 2500",
           18405.05005444233
          ],
          [
           "Dodge",
           "Ram Pickup 3500",
           21096.390819325097
          ],
          [
           "Land Rover",
           "Range Rover",
           24557.968234454205
          ],
          [
           "Land Rover",
           "Range Rover Evoque",
           32140.689655172413
          ],
          [
           "Land Rover",
           "Range Rover Sport",
           25271.93173702214
          ],
          [
           "Ford",
           "Ranger",
           10798.056305135124
          ],
          [
           "Buick",
           "Regal",
           14309.877538618639
          ],
          [
           "Saturn",
           "Relay",
           2722.5367647058824
          ],
          [
           "Buick",
           "Rendezvous",
           3828.78597855396
          ],
          [
           "Suzuki",
           "Reno",
           1982.5292901447278
          ],
          [
           "Honda",
           "Ridgeline",
           20444.291197281105
          ],
          [
           "Kia",
           "Rio",
           9775.068579533521
          ],
          [
           "Isuzu",
           "Rodeo",
           2774.9409506938296
          ],
          [
           "Isuzu",
           "Rodeo Sport",
           2204.9180327868853
          ],
          [
           "Nissan",
           "Rogue",
           14455.60906519363
          ],
          [
           "Nissan",
           "Rogue Select",
           15649.522496800237
          ],
          [
           "Kia",
           "Rondo",
           4370.404921318606
          ],
          [
           "Volkswagen",
           "Routan",
           11002.481613599331
          ],
          [
           "Chevrolet",
           "S-10",
           3977.0275854943693
          ],
          [
           "Mercedes-Benz",
           "S-Class",
           21043.668116953748
          ],
          [
           "Saturn",
           "S-Series",
           1377.0422787531352
          ],
          [
           "Jaguar",
           "S-Type",
           4225.551230884736
          ],
          [
           "Honda",
           "S2000",
           15164.110591762943
          ],
          [
           "Audi",
           "S4",
           22929.935061986285
          ],
          [
           "Volvo",
           "S40",
           5959.667967121826
          ],
          [
           "Audi",
           "S5",
           27718.45311415198
          ],
          [
           "Audi",
           "S6",
           16492.302452316075
          ],
          [
           "Volvo",
           "S60",
           18606.56491471779
          ],
          [
           "Audi",
           "S8",
           23961.823273179838
          ],
          [
           "Volvo",
           "S80",
           13713.00052544547
          ],
          [
           "Lexus",
           "SC 430",
           13025.877056814654
          ],
          [
           "Mercedes-Benz",
           "SL-Class",
           19673.634546956087
          ],
          [
           "Mercedes-Benz",
           "SLK-Class",
           23443.72004847838
          ],
          [
           "Cadillac",
           "SRX",
           21704.913951301784
          ],
          [
           "Chevrolet",
           "SS",
           31250
          ],
          [
           "Chevrolet",
           "SSR",
           18770.66605373378
          ],
          [
           "Cadillac",
           "STS",
           9374.318218868628
          ],
          [
           "Cadillac",
           "STS-V",
           14885.808109651627
          ],
          [
           "Suzuki",
           "SX4",
           5958.912852499341
          ],
          [
           "Mercury",
           "Sable",
           4380.056899540282
          ],
          [
           "GMC",
           "Safari",
           2446.323529411765
          ],
          [
           "GMC",
           "Safari Cargo",
           2051.2195121951218
          ],
          [
           "Hyundai",
           "Santa Fe",
           14811.52762273761
          ],
          [
           "Hyundai",
           "Santa Fe Sport",
           20422.74393227029
          ],
          [
           "GMC",
           "Savana",
           19639.488784559206
          ],
          [
           "GMC",
           "Savana Cargo",
           20481.344305687002
          ],
          [
           "Chrysler",
           "Sebring",
           4740.205445145195
          ],
          [
           "Kia",
           "Sedona",
           12538.658951127543
          ],
          [
           "Nissan",
           "Sentra",
           10306.395499176282
          ],
          [
           "Kia",
           "Sephia",
           793.9024390243902
          ],
          [
           "Toyota",
           "Sequoia",
           17208.098427515404
          ],
          [
           "Cadillac",
           "Seville",
           2268.968199101279
          ],
          [
           "Ford",
           "Shelby GT500",
           30427.068536112904
          ],
          [
           "Toyota",
           "Sienna",
           17645.906855996865
          ],
          [
           "GMC",
           "Sierra 1500",
           21786.599231261687
          ],
          [
           "GMC",
           "Sierra 1500 Classic",
           12211.464621474517
          ],
          [
           "GMC",
           "Sierra 1500 Hybrid",
           17170.76023391813
          ],
          [
           "GMC",
           "Sierra 1500HD",
           9975.78125
          ],
          [
           "GMC",
           "Sierra 2500",
           9372.316384180791
          ],
          [
           "GMC",
           "Sierra 2500HD",
           21963.246199860696
          ],
          [
           "GMC",
           "Sierra 2500HD Classic",
           19484.277662414715
          ],
          [
           "GMC",
           "Sierra 3500",
           17926.397703233604
          ],
          [
           "GMC",
           "Sierra 3500HD",
           25468.16622351831
          ],
          [
           "Oldsmobile",
           "Silhouette",
           1325.356506238859
          ],
          [
           "Chevrolet",
           "Silverado 1500",
           20671.232473322383
          ],
          [
           "Chevrolet",
           "Silverado 1500 Classic",
           9902.675717586
          ],
          [
           "Chevrolet",
           "Silverado 1500 Hybrid",
           18488.405797101448
          ],
          [
           "Chevrolet",
           "Silverado 1500HD",
           9576.831913245545
          ],
          [
           "Chevrolet",
           "Silverado 2500",
           9748.379837983799
          ],
          [
           "Chevrolet",
           "Silverado 2500HD",
           20472.148923112647
          ],
          [
           "Chevrolet",
           "Silverado 2500HD Classic",
           17835.655381944445
          ],
          [
           "Chevrolet",
           "Silverado 3500",
           18759.163199260285
          ],
          [
           "Chevrolet",
           "Silverado 3500 Classic",
           16379.12087912088
          ],
          [
           "Chevrolet",
           "Silverado 3500HD",
           25888.608461787484
          ],
          [
           "Saturn",
           "Sky",
           9224.98521584861
          ],
          [
           "Pontiac",
           "Solstice",
           7517.733333333334
          ],
          [
           "Hyundai",
           "Sonata",
           12354.692605715592
          ],
          [
           "Hyundai",
           "Sonata Hybrid",
           16761.881153648465
          ],
          [
           "Chevrolet",
           "Sonic",
           9557.37352537885
          ],
          [
           "GMC",
           "Sonoma",
           4451.285137443702
          ],
          [
           "Kia",
           "Sorento",
           17186.275973107447
          ],
          [
           "Kia",
           "Soul",
           11975.130947781721
          ],
          [
           "Chevrolet",
           "Spark",
           8696.799268273617
          ],
          [
           "Chevrolet",
           "Spark EV",
           11521.739130434782
          ],
          [
           "Kia",
           "Spectra",
           3340.100281082909
          ],
          [
           "Kia",
           "Sportage",
           15060.586146061889
          ],
          [
           "Dodge",
           "Sprinter",
           10851.351351351352
          ],
          [
           "Mercedes-Benz",
           "Sprinter",
           24902.987264356107
          ],
          [
           "Dodge",
           "Sprinter Cargo",
           10561.99421965318
          ],
          [
           "Maserati",
           "Spyder",
           16892.235410484667
          ],
          [
           "Dodge",
           "Stratus",
           2002.4977698483497
          ],
          [
           "Chevrolet",
           "Suburban",
           21394.181163792942
          ],
          [
           "Pontiac",
           "Sunfire",
           1592.6537262680647
          ],
          [
           "Acura",
           "TL",
           16670.450461795976
          ],
          [
           "Acura",
           "TLX",
           26200
          ],
          [
           "Acura",
           "TSX",
           15829.607682108412
          ],
          [
           "Acura",
           "TSX Sport Wagon",
           18987.219497696537
          ],
          [
           "Audi",
           "TT",
           13377.518337965283
          ],
          [
           "Audi",
           "TTS",
           22000
          ],
          [
           "Toyota",
           "Tacoma",
           23673.890172372077
          ],
          [
           "Chevrolet",
           "Tahoe",
           19407.27052600245
          ],
          [
           "Chevrolet",
           "Tahoe Hybrid",
           15526.358202582986
          ],
          [
           "Ford",
           "Taurus",
           15967.485157017256
          ],
          [
           "Ford",
           "Taurus X",
           5633.748329891899
          ],
          [
           "GMC",
           "Terrain",
           18489.180424826358
          ],
          [
           "Buick",
           "Terraza",
           3912.9763560500696
          ],
          [
           "Ford",
           "Thunderbird",
           13264.894900068917
          ],
          [
           "Hyundai",
           "Tiburon",
           4261.715036839739
          ],
          [
           "Volkswagen",
           "Tiguan",
           15376.546366479273
          ],
          [
           "Nissan",
           "Titan",
           17091.854321745966
          ],
          [
           "Pontiac",
           "Torrent",
           5627.551504606746
          ],
          [
           "Volkswagen",
           "Touareg",
           19868.23906097512
          ],
          [
           "Volkswagen",
           "Touareg 2",
           12382.206190109044
          ],
          [
           "Lincoln",
           "Town Car",
           9652.504202257212
          ],
          [
           "Chrysler",
           "Town and Country",
           17663.03705255019
          ],
          [
           "Chevrolet",
           "Tracker",
           2346.085776330076
          ],
          [
           "Chevrolet",
           "TrailBlazer",
           6250.349517801905
          ],
          [
           "Chevrolet",
           "TrailBlazer EXT",
           4191.51423940727
          ],
          [
           "Ford",
           "Transit Connect",
           13414.803721641601
          ],
          [
           "Ford",
           "Transit Van",
           24010.1679001436
          ],
          [
           "Ford",
           "Transit Wagon",
           28865.856672158156
          ],
          [
           "Chevrolet",
           "Traverse",
           17918.19530603164
          ],
          [
           "Subaru",
           "Tribeca",
           19448.791243228723
          ],
          [
           "Mazda",
           "Tribute",
           4205.9362757900235
          ],
          [
           "Mazda",
           "Tribute Hybrid",
           10203.921568627451
          ],
          [
           "Isuzu",
           "Trooper",
           1470.6666666666667
          ],
          [
           "Mazda",
           "Truck",
           2943.6
          ],
          [
           "Hyundai",
           "Tucson",
           14900.656697164424
          ],
          [
           "Toyota",
           "Tundra",
           22482.81648168284
          ],
          [
           "Chevrolet",
           "Uplander",
           3732.001118985453
          ],
          [
           "Volvo",
           "V40",
           2505.2193645990924
          ],
          [
           "Volvo",
           "V50",
           8152.437509703463
          ],
          [
           "Volvo",
           "V60",
           26866.465981621473
          ],
          [
           "Volvo",
           "V70",
           4096.565737387349
          ],
          [
           "Saturn",
           "VUE",
           4838.4352234903545
          ],
          [
           "Saturn",
           "VUE Hybrid",
           6709.650180940893
          ],
          [
           "Hyundai",
           "Veloster",
           13889.644831090292
          ],
          [
           "Chevrolet",
           "Venture",
           1511.8401222532539
          ],
          [
           "Toyota",
           "Venza",
           17597.127821364444
          ],
          [
           "Hyundai",
           "Veracruz",
           12878.280063755716
          ],
          [
           "Buick",
           "Verano",
           13487.349572209725
          ],
          [
           "Suzuki",
           "Verona",
           2179.056795131846
          ],
          [
           "Nissan",
           "Versa",
           8427.595251322307
          ],
          [
           "Nissan",
           "Versa Note",
           10965.840458921559
          ],
          [
           "Pontiac",
           "Vibe",
           5088.683653893453
          ],
          [
           "Mercury",
           "Villager",
           1189.013452914798
          ],
          [
           "Dodge",
           "Viper",
           31696.832101372755
          ],
          [
           "Suzuki",
           "Vitara",
           1890.5223880597016
          ],
          [
           "Chevrolet",
           "Volt",
           13667.423169116015
          ],
          [
           "Chrysler",
           "Voyager",
           1569.144144144144
          ],
          [
           "Subaru",
           "WRX",
           28197.63096168882
          ],
          [
           "Ford",
           "Windstar",
           1474.8534240150093
          ],
          [
           "Ford",
           "Windstar Cargo",
           287.22222222222223
          ],
          [
           "Jeep",
           "Wrangler",
           23159.959170135528
          ],
          [
           "Jaguar",
           "X-Type",
           3740.8628134046417
          ],
          [
           "BMW",
           "X1",
           27521.75000085829
          ],
          [
           "BMW",
           "X3",
           21280.02509692582
          ],
          [
           "BMW",
           "X5",
           22163.296075371425
          ],
          [
           "BMW",
           "X5 M",
           25326.530612244896
          ],
          [
           "BMW",
           "X6",
           28569.20073002496
          ],
          [
           "Volvo",
           "XC",
           2450
          ],
          [
           "Volvo",
           "XC60",
           25256.617366264487
          ],
          [
           "Volvo",
           "XC70",
           22642.438064859118
          ],
          [
           "Volvo",
           "XC90",
           14874.635434361384
          ],
          [
           "Jaguar",
           "XF",
           24354.952043369474
          ],
          [
           "Hyundai",
           "XG300",
           1714.6840148698884
          ],
          [
           "Hyundai",
           "XG350",
           2655.955218797889
          ],
          [
           "Jaguar",
           "XJ",
           29700.944729599047
          ],
          [
           "Jaguar",
           "XJ-Series",
           9888.529237082232
          ],
          [
           "Jaguar",
           "XK",
           29367.314798521908
          ],
          [
           "Jaguar",
           "XK-Series",
           19963.717402264083
          ],
          [
           "Suzuki",
           "XL-7",
           2715.47142196888
          ],
          [
           "Suzuki",
           "XL7",
           5229.150986488278
          ],
          [
           "Cadillac",
           "XLR",
           19633.863256036337
          ],
          [
           "Cadillac",
           "XTS",
           29036.18947745787
          ],
          [
           "Subaru",
           "XV Crosstrek",
           21207.15623021603
          ],
          [
           "Nissan",
           "Xterra",
           13798.619060939453
          ],
          [
           "Toyota",
           "Yaris",
           8514.512465892225
          ],
          [
           "GMC",
           "Yukon",
           18739.058995370167
          ],
          [
           "GMC",
           "Yukon Hybrid",
           18339.086133502402
          ],
          [
           "GMC",
           "Yukon XL",
           20753.22124444246
          ],
          [
           "BMW",
           "Z3",
           6444.04432132964
          ],
          [
           "BMW",
           "Z4",
           23199.38031212833
          ],
          [
           "BMW",
           "Z4 M",
           21082.512315270935
          ],
          [
           "Acura",
           "ZDX",
           26693.167354870053
          ],
          [
           "Lincoln",
           "Zephyr",
           5327.540534368577
          ],
          [
           "Honda",
           "accord",
           4576.836672738312
          ],
          [
           "Audi",
           "allroad",
           29892.58859991915
          ],
          [
           "Audi",
           "allroad quattro",
           4615.221278497988
          ],
          [
           "smart",
           "fortwo",
           6771.438123024556
          ],
          [
           "Mitsubishi",
           "i-MiEV",
           7715.676028739386
          ],
          [
           "Isuzu",
           "i-Series",
           5533.478260869565
          ],
          [
           "Scion",
           "iQ",
           9005.876792548532
          ],
          [
           "Chevrolet",
           "malibu",
           7476.496112818659
          ],
          [
           "Acura",
           "mdx",
           23430.652173913044
          ],
          [
           "Scion",
           "tC",
           11346.429309988282
          ],
          [
           "Scion",
           "xA",
           3329.114302812687
          ],
          [
           "Scion",
           "xB",
           9695.917325023598
          ],
          [
           "Scion",
           "xD",
           10095.421141888073
          ],
          [
           "Acura",
           "(?)",
           18522.31301248309
          ],
          [
           "Audi",
           "(?)",
           21028.01221127892
          ],
          [
           "BMW",
           "(?)",
           21739.66107257741
          ],
          [
           "Buick",
           "(?)",
           16338.038593250329
          ],
          [
           "Cadillac",
           "(?)",
           19234.518380901085
          ],
          [
           "Chevrolet",
           "(?)",
           15394.188400713354
          ],
          [
           "Chrysler",
           "(?)",
           15664.978580850047
          ],
          [
           "Daewoo",
           "(?)",
           450
          ],
          [
           "Dodge",
           "(?)",
           14759.58135788095
          ],
          [
           "FIAT",
           "(?)",
           11202.759965039662
          ],
          [
           "Ford",
           "(?)",
           18085.287474704848
          ],
          [
           "GMC",
           "(?)",
           20041.921787147294
          ],
          [
           "HUMMER",
           "(?)",
           17074.077186292252
          ],
          [
           "Honda",
           "(?)",
           15068.363419307037
          ],
          [
           "Hyundai",
           "(?)",
           13165.476369701522
          ],
          [
           "Infiniti",
           "(?)",
           21698.792537508045
          ],
          [
           "Isuzu",
           "(?)",
           3344.9896560641323
          ],
          [
           "Jaguar",
           "(?)",
           21819.173489376662
          ],
          [
           "Jeep",
           "(?)",
           19451.670125074437
          ],
          [
           "Kia",
           "(?)",
           14092.572860496255
          ],
          [
           "Land Rover",
           "(?)",
           24770.147472028315
          ],
          [
           "Lexus",
           "(?)",
           22830.19016943441
          ],
          [
           "Lincoln",
           "(?)",
           21268.7481024553
          ],
          [
           "MINI",
           "(?)",
           14874.67290068795
          ],
          [
           "Maserati",
           "(?)",
           24255.473752906146
          ],
          [
           "Mazda",
           "(?)",
           13745.38037902068
          ],
          [
           "Mercedes-Benz",
           "(?)",
           22027.73571342964
          ],
          [
           "Mercury",
           "(?)",
           6688.631139578153
          ],
          [
           "Mitsubishi",
           "(?)",
           12620.181712164846
          ],
          [
           "Nissan",
           "(?)",
           14060.35828294864
          ],
          [
           "Oldsmobile",
           "(?)",
           1644.2322991249005
          ],
          [
           "Plymouth",
           "Prowler",
           23792.780748663103
          ],
          [
           "Pontiac",
           "(?)",
           5994.18535310637
          ],
          [
           "Porsche",
           "(?)",
           19024.800792688337
          ],
          [
           "Ram",
           "(?)",
           23701.083550582374
          ],
          [
           "Saab",
           "(?)",
           5797.04133736858
          ],
          [
           "Saturn",
           "(?)",
           5523.647462654214
          ],
          [
           "Scion",
           "(?)",
           11920.837940036978
          ],
          [
           "Subaru",
           "(?)",
           18934.089092552415
          ],
          [
           "Suzuki",
           "(?)",
           5894.460744555254
          ],
          [
           "Toyota",
           "(?)",
           15600.301173049356
          ],
          [
           "Volkswagen",
           "(?)",
           12405.594115292075
          ],
          [
           "Volvo",
           "(?)",
           19230.114854975087
          ],
          [
           "smart",
           "fortwo",
           6771.438123024556
          ],
          [
           "(?)",
           "(?)",
           17163.930066847843
          ]
         ],
         "domain": {
          "x": [
           0,
           1
          ],
          "y": [
           0,
           1
          ]
         },
         "hovertemplate": "labels=%{label}<br>sellingprice_sum=%{value}<br>parent=%{parent}<br>id=%{id}<br>make=%{customdata[0]}<br>model=%{customdata[1]}<br>sellingprice=%{color}<extra></extra>",
         "ids": [
          "all cars/BMW/1 Series",
          "all cars/Ram/1500",
          "all cars/BMW/2 Series",
          "all cars/Chrysler/200",
          "all cars/Ram/2500",
          "all cars/Mazda/3",
          "all cars/BMW/3 Series",
          "all cars/BMW/3 Series Gran Turismo",
          "all cars/Chrysler/300",
          "all cars/Chrysler/300M",
          "all cars/Ram/3500",
          "all cars/Nissan/350Z",
          "all cars/Nissan/370Z",
          "all cars/BMW/4 Series",
          "all cars/Toyota/4Runner",
          "all cars/BMW/5 Series",
          "all cars/BMW/5 Series Gran Turismo",
          "all cars/FIAT/500",
          "all cars/FIAT/500L",
          "all cars/FIAT/500e",
          "all cars/Mazda/6",
          "all cars/BMW/6 Series",
          "all cars/BMW/6 Series Gran Coupe",
          "all cars/Mazda/626",
          "all cars/BMW/7 Series",
          "all cars/Saab/9-2X",
          "all cars/Saab/9-3",
          "all cars/Saab/9-5",
          "all cars/Saab/9-7X",
          "all cars/Porsche/911",
          "all cars/Audi/A3",
          "all cars/Audi/A4",
          "all cars/Audi/A5",
          "all cars/Audi/A6",
          "all cars/Audi/A7",
          "all cars/Audi/A8",
          "all cars/Cadillac/ATS",
          "all cars/GMC/Acadia",
          "all cars/Hyundai/Accent",
          "all cars/Honda/Accord",
          "all cars/Honda/Accord Crosstour",
          "all cars/Honda/Accord Hybrid",
          "all cars/BMW/ActiveHybrid 5",
          "all cars/BMW/ActiveHybrid 7",
          "all cars/BMW/ActiveHybrid X6",
          "all cars/Suzuki/Aerio",
          "all cars/Oldsmobile/Alero",
          "all cars/Nissan/Altima",
          "all cars/Nissan/Altima Hybrid",
          "all cars/Kia/Amanti",
          "all cars/Nissan/Armada",
          "all cars/Isuzu/Ascender",
          "all cars/Chrysler/Aspen",
          "all cars/Saturn/Astra",
          "all cars/Chevrolet/Astro",
          "all cars/Chevrolet/Astro Cargo",
          "all cars/Saturn/Aura",
          "all cars/Saturn/Aura Hybrid",
          "all cars/Oldsmobile/Aurora",
          "all cars/Chevrolet/Avalanche",
          "all cars/Toyota/Avalon",
          "all cars/Toyota/Avalon Hybrid",
          "all cars/Dodge/Avenger",
          "all cars/Chevrolet/Aveo",
          "all cars/Lincoln/Aviator",
          "all cars/Isuzu/Axiom",
          "all cars/Hyundai/Azera",
          "all cars/Pontiac/Aztek",
          "all cars/Mercedes-Benz/B-Class Electric Drive",
          "all cars/Mazda/B-Series",
          "all cars/Mazda/B-Series Truck",
          "all cars/Subaru/B9 Tribeca",
          "all cars/Subaru/BRZ",
          "all cars/Subaru/Baja",
          "all cars/Volkswagen/Beetle",
          "all cars/Volkswagen/Beetle Convertible",
          "all cars/Chevrolet/Black Diamond Avalanche",
          "all cars/Lincoln/Blackwood",
          "all cars/Chevrolet/Blazer",
          "all cars/Pontiac/Bonneville",
          "all cars/Kia/Borrego",
          "all cars/Porsche/Boxster",
          "all cars/Oldsmobile/Bravada",
          "all cars/Mercedes-Benz/C-Class",
          "all cars/Ford/C-Max Energi",
          "all cars/Ford/C-Max Hybrid",
          "all cars/Ram/C/V Cargo Van",
          "all cars/Ram/C/V Tradesman",
          "all cars/Volvo/C30",
          "all cars/Volvo/C70",
          "all cars/Volkswagen/CC",
          "all cars/Acura/CL",
          "all cars/Mercedes-Benz/CL-Class",
          "all cars/Mercedes-Benz/CLA-Class",
          "all cars/Mercedes-Benz/CLK-Class",
          "all cars/Mercedes-Benz/CLS-Class",
          "all cars/Honda/CR-V",
          "all cars/Honda/CR-Z",
          "all cars/Lexus/CT 200h",
          "all cars/Cadillac/CTS",
          "all cars/Cadillac/CTS Coupe",
          "all cars/Cadillac/CTS Wagon",
          "all cars/Cadillac/CTS-V",
          "all cars/Cadillac/CTS-V Coupe",
          "all cars/Ram/CV Tradesman",
          "all cars/Mazda/CX-5",
          "all cars/Mazda/CX-7",
          "all cars/Mazda/CX-9",
          "all cars/Volkswagen/Cabrio",
          "all cars/Kia/Cadenza",
          "all cars/Dodge/Caliber",
          "all cars/Chevrolet/Camaro",
          "all cars/Toyota/Camry",
          "all cars/Toyota/Camry Hybrid",
          "all cars/Toyota/Camry Solara",
          "all cars/GMC/Canyon",
          "all cars/Chevrolet/Captiva Sport",
          "all cars/Dodge/Caravan",
          "all cars/Cadillac/Catera",
          "all cars/Chevrolet/Cavalier",
          "all cars/Porsche/Cayenne",
          "all cars/Porsche/Cayman",
          "all cars/Porsche/Cayman S",
          "all cars/Toyota/Celica",
          "all cars/Buick/Century",
          "all cars/Dodge/Challenger",
          "all cars/Dodge/Charger",
          "all cars/Jeep/Cherokee",
          "all cars/Honda/Civic",
          "all cars/Chevrolet/Classic",
          "all cars/Chevrolet/Cobalt",
          "all cars/Chevrolet/Colorado",
          "all cars/Jeep/Commander",
          "all cars/Jeep/Compass",
          "all cars/Chrysler/Concorde",
          "all cars/Lincoln/Continental",
          "all cars/MINI/Cooper",
          "all cars/MINI/Cooper Clubman",
          "all cars/MINI/Cooper Countryman",
          "all cars/MINI/Cooper Coupe",
          "all cars/MINI/Cooper Paceman",
          "all cars/MINI/Cooper Roadster",
          "all cars/Toyota/Corolla",
          "all cars/Chevrolet/Corvette",
          "all cars/Mercury/Cougar",
          "all cars/Maserati/Coupe",
          "all cars/Chrysler/Crossfire",
          "all cars/Honda/Crosstour",
          "all cars/Ford/Crown Victoria",
          "all cars/Chevrolet/Cruze",
          "all cars/Nissan/Cube",
          "all cars/Cadillac/DTS",
          "all cars/Dodge/Dakota",
          "all cars/Ram/Dakota",
          "all cars/Dodge/Dart",
          "all cars/Cadillac/DeVille",
          "all cars/Mitsubishi/Diamante",
          "all cars/Land Rover/Discovery Series II",
          "all cars/Dodge/Durango",
          "all cars/Mercedes-Benz/E-Class",
          "all cars/Ford/E-Series Van",
          "all cars/Ford/E-Series Wagon",
          "all cars/Toyota/ECHO",
          "all cars/Lexus/ES 300",
          "all cars/Lexus/ES 300h",
          "all cars/Lexus/ES 330",
          "all cars/Lexus/ES 350",
          "all cars/Infiniti/EX",
          "all cars/Infiniti/EX35",
          "all cars/Mitsubishi/Eclipse",
          "all cars/Mitsubishi/Eclipse Spyder",
          "all cars/Ford/Econoline Cargo",
          "all cars/Ford/Econoline Wagon",
          "all cars/Ford/Edge",
          "all cars/Hyundai/Elantra",
          "all cars/Hyundai/Elantra Coupe",
          "all cars/Hyundai/Elantra GT",
          "all cars/Hyundai/Elantra Touring",
          "all cars/Cadillac/Eldorado",
          "all cars/Honda/Element",
          "all cars/Buick/Enclave",
          "all cars/Buick/Encore",
          "all cars/Mitsubishi/Endeavor",
          "all cars/Hyundai/Entourage",
          "all cars/GMC/Envoy",
          "all cars/GMC/Envoy XL",
          "all cars/GMC/Envoy XUV",
          "all cars/Volkswagen/Eos",
          "all cars/Suzuki/Equator",
          "all cars/Chevrolet/Equinox",
          "all cars/Hyundai/Equus",
          "all cars/Cadillac/Escalade",
          "all cars/Cadillac/Escalade ESV",
          "all cars/Cadillac/Escalade EXT",
          "all cars/Cadillac/Escalade Hybrid",
          "all cars/Ford/Escape",
          "all cars/Ford/Escape Hybrid",
          "all cars/Ford/Escort",
          "all cars/Suzuki/Esteem",
          "all cars/Volkswagen/EuroVan",
          "all cars/Ford/Excursion",
          "all cars/Ford/Expedition",
          "all cars/Ford/Expedition EL",
          "all cars/Ford/Explorer",
          "all cars/Ford/Explorer Sport",
          "all cars/Ford/Explorer Sport Trac",
          "all cars/Chevrolet/Express",
          "all cars/Chevrolet/Express Cargo",
          "all cars/Ford/F-150",
          "all cars/Ford/F-150 Heritage",
          "all cars/Ford/F-250 Super Duty",
          "all cars/Ford/F-350 Super Duty",
          "all cars/Ford/F-450 Super Duty",
          "all cars/Toyota/FJ Cruiser",
          "all cars/Scion/FR-S",
          "all cars/Infiniti/FX",
          "all cars/Infiniti/FX35",
          "all cars/Infiniti/FX45",
          "all cars/Infiniti/FX50",
          "all cars/Ford/Fiesta",
          "all cars/Pontiac/Firebird",
          "all cars/Honda/Fit",
          "all cars/Ford/Five Hundred",
          "all cars/Ford/Flex",
          "all cars/Ford/Focus",
          "all cars/Ford/Focus ST",
          "all cars/Suzuki/Forenza",
          "all cars/Subaru/Forester",
          "all cars/Kia/Forte",
          "all cars/Land Rover/Freelander",
          "all cars/Ford/Freestar",
          "all cars/Ford/Freestyle",
          "all cars/Nissan/Frontier",
          "all cars/Ford/Fusion",
          "all cars/Ford/Fusion Energi",
          "all cars/Ford/Fusion Hybrid",
          "all cars/Infiniti/G Convertible",
          "all cars/Infiniti/G Coupe",
          "all cars/Infiniti/G Sedan",
          "all cars/Mercedes-Benz/G-Class",
          "all cars/Infiniti/G20",
          "all cars/Pontiac/G3",
          "all cars/Infiniti/G35",
          "all cars/Infiniti/G37",
          "all cars/Infiniti/G37 Convertible",
          "all cars/Infiniti/G37 Coupe",
          "all cars/Pontiac/G5",
          "all cars/Pontiac/G6",
          "all cars/Pontiac/G8",
          "all cars/Mercedes-Benz/GL-Class",
          "all cars/Mercedes-Benz/GLA-Class",
          "all cars/Volkswagen/GLI",
          "all cars/Mercedes-Benz/GLK-Class",
          "all cars/Lexus/GS 300",
          "all cars/Lexus/GS 350",
          "all cars/Lexus/GS 430",
          "all cars/Lexus/GS 450h",
          "all cars/Lexus/GS 460",
          "all cars/Volkswagen/GTI",
          "all cars/Pontiac/GTO",
          "all cars/Lexus/GX 460",
          "all cars/Lexus/GX 470",
          "all cars/Mitsubishi/Galant",
          "all cars/Hyundai/Genesis",
          "all cars/Hyundai/Genesis Coupe",
          "all cars/Volkswagen/Golf",
          "all cars/Volkswagen/Golf GTI",
          "all cars/Volkswagen/Golf R",
          "all cars/Maserati/GranSport",
          "all cars/Pontiac/Grand Am",
          "all cars/Dodge/Grand Caravan",
          "all cars/Jeep/Grand Cherokee",
          "all cars/Mercury/Grand Marquis",
          "all cars/Pontiac/Grand Prix",
          "all cars/Suzuki/Grand Vitara",
          "all cars/HUMMER/H2",
          "all cars/HUMMER/H2 SUT",
          "all cars/HUMMER/H3",
          "all cars/HUMMER/H3T",
          "all cars/Chevrolet/HHR",
          "all cars/Lexus/HS 250h",
          "all cars/Toyota/Highlander",
          "all cars/Toyota/Highlander Hybrid",
          "all cars/Infiniti/I30",
          "all cars/Infiniti/I35",
          "all cars/Acura/ILX",
          "all cars/Saturn/ION",
          "all cars/Lexus/IS 250",
          "all cars/Lexus/IS 250 C",
          "all cars/Lexus/IS 300",
          "all cars/Lexus/IS 350",
          "all cars/Lexus/IS 350 C",
          "all cars/Lexus/IS F",
          "all cars/Chevrolet/Impala",
          "all cars/Chevrolet/Impala Limited",
          "all cars/Subaru/Impreza",
          "all cars/Subaru/Impreza WRX",
          "all cars/Honda/Insight",
          "all cars/Acura/Integra",
          "all cars/Dodge/Intrepid",
          "all cars/Oldsmobile/Intrigue",
          "all cars/Infiniti/JX",
          "all cars/Volkswagen/Jetta",
          "all cars/Volkswagen/Jetta GLI",
          "all cars/Volkswagen/Jetta Hybrid",
          "all cars/Volkswagen/Jetta SportWagen",
          "all cars/GMC/Jimmy",
          "all cars/Dodge/Journey",
          "all cars/Nissan/Juke",
          "all cars/Suzuki/Kizashi",
          "all cars/Saturn/L-Series",
          "all cars/Saturn/L300",
          "all cars/Chrysler/LHS",
          "all cars/Land Rover/LR2",
          "all cars/Land Rover/LR3",
          "all cars/Land Rover/LR4",
          "all cars/Lincoln/LS",
          "all cars/Lexus/LS 430",
          "all cars/Lexus/LS 460",
          "all cars/Lexus/LS 600h L",
          "all cars/Lexus/LX 470",
          "all cars/Lexus/LX 570",
          "all cars/Buick/LaCrosse",
          "all cars/Mitsubishi/Lancer",
          "all cars/Mitsubishi/Lancer Evolution",
          "all cars/Mitsubishi/Lancer Sportback",
          "all cars/Toyota/Land Cruiser",
          "all cars/Buick/LeSabre",
          "all cars/Nissan/Leaf",
          "all cars/Subaru/Legacy",
          "all cars/Daewoo/Leganza",
          "all cars/Jeep/Liberty",
          "all cars/Buick/Lucerne",
          "all cars/Chevrolet/Lumina",
          "all cars/BMW/M",
          "all cars/Infiniti/M",
          "all cars/Mercedes-Benz/M-Class",
          "all cars/BMW/M3",
          "all cars/Infiniti/M35",
          "all cars/Infiniti/M37",
          "all cars/Infiniti/M45",
          "all cars/BMW/M5",
          "all cars/Infiniti/M56",
          "all cars/BMW/M6",
          "all cars/Acura/MDX",
          "all cars/Lincoln/MKC",
          "all cars/Lincoln/MKS",
          "all cars/Lincoln/MKT",
          "all cars/Lincoln/MKX",
          "all cars/Lincoln/MKZ",
          "all cars/Lincoln/MKZ Hybrid",
          "all cars/Mazda/MPV",
          "all cars/Toyota/MR2 Spyder",
          "all cars/Mazda/MX-5 Miata",
          "all cars/Dodge/Magnum",
          "all cars/Chevrolet/Malibu",
          "all cars/Chevrolet/Malibu Classic",
          "all cars/Chevrolet/Malibu Hybrid",
          "all cars/Chevrolet/Malibu Maxx",
          "all cars/Mercury/Marauder",
          "all cars/Mercury/Mariner",
          "all cars/Mercury/Mariner Hybrid",
          "all cars/Lincoln/Mark LT",
          "all cars/Toyota/Matrix",
          "all cars/Nissan/Maxima",
          "all cars/Mazda/Mazda2",
          "all cars/Mazda/Mazda3",
          "all cars/Mazda/Mazda5",
          "all cars/Mazda/Mazda6",
          "all cars/Mazda/Mazdaspeed 3",
          "all cars/Mazda/Mazdaspeed MX-5 Miata",
          "all cars/Mazda/Mazdaspeed Mazda3",
          "all cars/Mazda/Mazdaspeed Mazda6",
          "all cars/Mazda/Mazdaspeed Protege",
          "all cars/Mazda/Mazdaspeed3",
          "all cars/Mercury/Milan",
          "all cars/Mercury/Milan Hybrid",
          "all cars/Mazda/Millenia",
          "all cars/Mitsubishi/Mirage",
          "all cars/Pontiac/Montana",
          "all cars/Pontiac/Montana SV6",
          "all cars/Chevrolet/Monte Carlo",
          "all cars/Mercury/Montego",
          "all cars/Mercury/Monterey",
          "all cars/Mitsubishi/Montero",
          "all cars/Mitsubishi/Montero Sport",
          "all cars/Mercury/Mountaineer",
          "all cars/Nissan/Murano",
          "all cars/Nissan/Murano CrossCabriolet",
          "all cars/Ford/Mustang",
          "all cars/Nissan/NV",
          "all cars/Nissan/NV Cargo",
          "all cars/Nissan/NV Passenger",
          "all cars/Nissan/NV200",
          "all cars/Lincoln/Navigator",
          "all cars/Lincoln/Navigator L",
          "all cars/Dodge/Neon",
          "all cars/Volkswagen/New Beetle",
          "all cars/Dodge/Nitro",
          "all cars/Daewoo/Nubira",
          "all cars/Honda/Odyssey",
          "all cars/Kia/Optima",
          "all cars/Subaru/Outback",
          "all cars/Mitsubishi/Outlander",
          "all cars/Mitsubishi/Outlander Sport",
          "all cars/Saturn/Outlook",
          "all cars/Chrysler/PT Cruiser",
          "all cars/Chrysler/Pacifica",
          "all cars/Buick/Park Avenue",
          "all cars/Volkswagen/Passat",
          "all cars/Honda/Passport",
          "all cars/Nissan/Pathfinder",
          "all cars/Jeep/Patriot",
          "all cars/Volkswagen/Phaeton",
          "all cars/Honda/Pilot",
          "all cars/Honda/Prelude",
          "all cars/Toyota/Prius",
          "all cars/Toyota/Prius Plug-in",
          "all cars/Toyota/Prius c",
          "all cars/Toyota/Prius v",
          "all cars/Chevrolet/Prizm",
          "all cars/Ram/Promaster Cargo Van",
          "all cars/Mazda/Protege",
          "all cars/Mazda/Protege5",
          "all cars/Chrysler/Prowler",
          "all cars/Plymouth/Prowler",
          "all cars/Audi/Q3",
          "all cars/Infiniti/Q45",
          "all cars/Audi/Q5",
          "all cars/Infiniti/Q50",
          "all cars/Infiniti/Q60 Convertible",
          "all cars/Infiniti/Q60 Coupe",
          "all cars/Audi/Q7",
          "all cars/Infiniti/Q70",
          "all cars/Infiniti/QX",
          "all cars/Infiniti/QX4",
          "all cars/Infiniti/QX50",
          "all cars/Infiniti/QX56",
          "all cars/Infiniti/QX60",
          "all cars/Infiniti/QX70",
          "all cars/Maserati/Quattroporte",
          "all cars/Nissan/Quest",
          "all cars/Mercedes-Benz/R-Class",
          "all cars/Volkswagen/R32",
          "all cars/Toyota/RAV4",
          "all cars/Acura/RDX",
          "all cars/Acura/RL",
          "all cars/Acura/RLX",
          "all cars/Audi/RS 4",
          "all cars/Audi/RS 6",
          "all cars/Acura/RSX",
          "all cars/Lexus/RX 300",
          "all cars/Lexus/RX 330",
          "all cars/Lexus/RX 350",
          "all cars/Lexus/RX 400h",
          "all cars/Lexus/RX 450h",
          "all cars/Mazda/RX-8",
          "all cars/Volkswagen/Rabbit",
          "all cars/Mitsubishi/Raider",
          "all cars/Buick/Rainier",
          "all cars/Dodge/Ram Cargo",
          "all cars/Dodge/Ram Pickup 1500",
          "all cars/Dodge/Ram Pickup 2500",
          "all cars/Dodge/Ram Pickup 3500",
          "all cars/Land Rover/Range Rover",
          "all cars/Land Rover/Range Rover Evoque",
          "all cars/Land Rover/Range Rover Sport",
          "all cars/Ford/Ranger",
          "all cars/Buick/Regal",
          "all cars/Saturn/Relay",
          "all cars/Buick/Rendezvous",
          "all cars/Suzuki/Reno",
          "all cars/Honda/Ridgeline",
          "all cars/Kia/Rio",
          "all cars/Isuzu/Rodeo",
          "all cars/Isuzu/Rodeo Sport",
          "all cars/Nissan/Rogue",
          "all cars/Nissan/Rogue Select",
          "all cars/Kia/Rondo",
          "all cars/Volkswagen/Routan",
          "all cars/Chevrolet/S-10",
          "all cars/Mercedes-Benz/S-Class",
          "all cars/Saturn/S-Series",
          "all cars/Jaguar/S-Type",
          "all cars/Honda/S2000",
          "all cars/Audi/S4",
          "all cars/Volvo/S40",
          "all cars/Audi/S5",
          "all cars/Audi/S6",
          "all cars/Volvo/S60",
          "all cars/Audi/S8",
          "all cars/Volvo/S80",
          "all cars/Lexus/SC 430",
          "all cars/Mercedes-Benz/SL-Class",
          "all cars/Mercedes-Benz/SLK-Class",
          "all cars/Cadillac/SRX",
          "all cars/Chevrolet/SS",
          "all cars/Chevrolet/SSR",
          "all cars/Cadillac/STS",
          "all cars/Cadillac/STS-V",
          "all cars/Suzuki/SX4",
          "all cars/Mercury/Sable",
          "all cars/GMC/Safari",
          "all cars/GMC/Safari Cargo",
          "all cars/Hyundai/Santa Fe",
          "all cars/Hyundai/Santa Fe Sport",
          "all cars/GMC/Savana",
          "all cars/GMC/Savana Cargo",
          "all cars/Chrysler/Sebring",
          "all cars/Kia/Sedona",
          "all cars/Nissan/Sentra",
          "all cars/Kia/Sephia",
          "all cars/Toyota/Sequoia",
          "all cars/Cadillac/Seville",
          "all cars/Ford/Shelby GT500",
          "all cars/Toyota/Sienna",
          "all cars/GMC/Sierra 1500",
          "all cars/GMC/Sierra 1500 Classic",
          "all cars/GMC/Sierra 1500 Hybrid",
          "all cars/GMC/Sierra 1500HD",
          "all cars/GMC/Sierra 2500",
          "all cars/GMC/Sierra 2500HD",
          "all cars/GMC/Sierra 2500HD Classic",
          "all cars/GMC/Sierra 3500",
          "all cars/GMC/Sierra 3500HD",
          "all cars/Oldsmobile/Silhouette",
          "all cars/Chevrolet/Silverado 1500",
          "all cars/Chevrolet/Silverado 1500 Classic",
          "all cars/Chevrolet/Silverado 1500 Hybrid",
          "all cars/Chevrolet/Silverado 1500HD",
          "all cars/Chevrolet/Silverado 2500",
          "all cars/Chevrolet/Silverado 2500HD",
          "all cars/Chevrolet/Silverado 2500HD Classic",
          "all cars/Chevrolet/Silverado 3500",
          "all cars/Chevrolet/Silverado 3500 Classic",
          "all cars/Chevrolet/Silverado 3500HD",
          "all cars/Saturn/Sky",
          "all cars/Pontiac/Solstice",
          "all cars/Hyundai/Sonata",
          "all cars/Hyundai/Sonata Hybrid",
          "all cars/Chevrolet/Sonic",
          "all cars/GMC/Sonoma",
          "all cars/Kia/Sorento",
          "all cars/Kia/Soul",
          "all cars/Chevrolet/Spark",
          "all cars/Chevrolet/Spark EV",
          "all cars/Kia/Spectra",
          "all cars/Kia/Sportage",
          "all cars/Dodge/Sprinter",
          "all cars/Mercedes-Benz/Sprinter",
          "all cars/Dodge/Sprinter Cargo",
          "all cars/Maserati/Spyder",
          "all cars/Dodge/Stratus",
          "all cars/Chevrolet/Suburban",
          "all cars/Pontiac/Sunfire",
          "all cars/Acura/TL",
          "all cars/Acura/TLX",
          "all cars/Acura/TSX",
          "all cars/Acura/TSX Sport Wagon",
          "all cars/Audi/TT",
          "all cars/Audi/TTS",
          "all cars/Toyota/Tacoma",
          "all cars/Chevrolet/Tahoe",
          "all cars/Chevrolet/Tahoe Hybrid",
          "all cars/Ford/Taurus",
          "all cars/Ford/Taurus X",
          "all cars/GMC/Terrain",
          "all cars/Buick/Terraza",
          "all cars/Ford/Thunderbird",
          "all cars/Hyundai/Tiburon",
          "all cars/Volkswagen/Tiguan",
          "all cars/Nissan/Titan",
          "all cars/Pontiac/Torrent",
          "all cars/Volkswagen/Touareg",
          "all cars/Volkswagen/Touareg 2",
          "all cars/Lincoln/Town Car",
          "all cars/Chrysler/Town and Country",
          "all cars/Chevrolet/Tracker",
          "all cars/Chevrolet/TrailBlazer",
          "all cars/Chevrolet/TrailBlazer EXT",
          "all cars/Ford/Transit Connect",
          "all cars/Ford/Transit Van",
          "all cars/Ford/Transit Wagon",
          "all cars/Chevrolet/Traverse",
          "all cars/Subaru/Tribeca",
          "all cars/Mazda/Tribute",
          "all cars/Mazda/Tribute Hybrid",
          "all cars/Isuzu/Trooper",
          "all cars/Mazda/Truck",
          "all cars/Hyundai/Tucson",
          "all cars/Toyota/Tundra",
          "all cars/Chevrolet/Uplander",
          "all cars/Volvo/V40",
          "all cars/Volvo/V50",
          "all cars/Volvo/V60",
          "all cars/Volvo/V70",
          "all cars/Saturn/VUE",
          "all cars/Saturn/VUE Hybrid",
          "all cars/Hyundai/Veloster",
          "all cars/Chevrolet/Venture",
          "all cars/Toyota/Venza",
          "all cars/Hyundai/Veracruz",
          "all cars/Buick/Verano",
          "all cars/Suzuki/Verona",
          "all cars/Nissan/Versa",
          "all cars/Nissan/Versa Note",
          "all cars/Pontiac/Vibe",
          "all cars/Mercury/Villager",
          "all cars/Dodge/Viper",
          "all cars/Suzuki/Vitara",
          "all cars/Chevrolet/Volt",
          "all cars/Chrysler/Voyager",
          "all cars/Subaru/WRX",
          "all cars/Ford/Windstar",
          "all cars/Ford/Windstar Cargo",
          "all cars/Jeep/Wrangler",
          "all cars/Jaguar/X-Type",
          "all cars/BMW/X1",
          "all cars/BMW/X3",
          "all cars/BMW/X5",
          "all cars/BMW/X5 M",
          "all cars/BMW/X6",
          "all cars/Volvo/XC",
          "all cars/Volvo/XC60",
          "all cars/Volvo/XC70",
          "all cars/Volvo/XC90",
          "all cars/Jaguar/XF",
          "all cars/Hyundai/XG300",
          "all cars/Hyundai/XG350",
          "all cars/Jaguar/XJ",
          "all cars/Jaguar/XJ-Series",
          "all cars/Jaguar/XK",
          "all cars/Jaguar/XK-Series",
          "all cars/Suzuki/XL-7",
          "all cars/Suzuki/XL7",
          "all cars/Cadillac/XLR",
          "all cars/Cadillac/XTS",
          "all cars/Subaru/XV Crosstrek",
          "all cars/Nissan/Xterra",
          "all cars/Toyota/Yaris",
          "all cars/GMC/Yukon",
          "all cars/GMC/Yukon Hybrid",
          "all cars/GMC/Yukon XL",
          "all cars/BMW/Z3",
          "all cars/BMW/Z4",
          "all cars/BMW/Z4 M",
          "all cars/Acura/ZDX",
          "all cars/Lincoln/Zephyr",
          "all cars/Honda/accord",
          "all cars/Audi/allroad",
          "all cars/Audi/allroad quattro",
          "all cars/smart/fortwo",
          "all cars/Mitsubishi/i-MiEV",
          "all cars/Isuzu/i-Series",
          "all cars/Scion/iQ",
          "all cars/Chevrolet/malibu",
          "all cars/Acura/mdx",
          "all cars/Scion/tC",
          "all cars/Scion/xA",
          "all cars/Scion/xB",
          "all cars/Scion/xD",
          "all cars/Acura",
          "all cars/Audi",
          "all cars/BMW",
          "all cars/Buick",
          "all cars/Cadillac",
          "all cars/Chevrolet",
          "all cars/Chrysler",
          "all cars/Daewoo",
          "all cars/Dodge",
          "all cars/FIAT",
          "all cars/Ford",
          "all cars/GMC",
          "all cars/HUMMER",
          "all cars/Honda",
          "all cars/Hyundai",
          "all cars/Infiniti",
          "all cars/Isuzu",
          "all cars/Jaguar",
          "all cars/Jeep",
          "all cars/Kia",
          "all cars/Land Rover",
          "all cars/Lexus",
          "all cars/Lincoln",
          "all cars/MINI",
          "all cars/Maserati",
          "all cars/Mazda",
          "all cars/Mercedes-Benz",
          "all cars/Mercury",
          "all cars/Mitsubishi",
          "all cars/Nissan",
          "all cars/Oldsmobile",
          "all cars/Plymouth",
          "all cars/Pontiac",
          "all cars/Porsche",
          "all cars/Ram",
          "all cars/Saab",
          "all cars/Saturn",
          "all cars/Scion",
          "all cars/Subaru",
          "all cars/Suzuki",
          "all cars/Toyota",
          "all cars/Volkswagen",
          "all cars/Volvo",
          "all cars/smart",
          "all cars"
         ],
         "labels": [
          "1 Series",
          "1500",
          "2 Series",
          "200",
          "2500",
          "3",
          "3 Series",
          "3 Series Gran Turismo",
          "300",
          "300M",
          "3500",
          "350Z",
          "370Z",
          "4 Series",
          "4Runner",
          "5 Series",
          "5 Series Gran Turismo",
          "500",
          "500L",
          "500e",
          "6",
          "6 Series",
          "6 Series Gran Coupe",
          "626",
          "7 Series",
          "9-2X",
          "9-3",
          "9-5",
          "9-7X",
          "911",
          "A3",
          "A4",
          "A5",
          "A6",
          "A7",
          "A8",
          "ATS",
          "Acadia",
          "Accent",
          "Accord",
          "Accord Crosstour",
          "Accord Hybrid",
          "ActiveHybrid 5",
          "ActiveHybrid 7",
          "ActiveHybrid X6",
          "Aerio",
          "Alero",
          "Altima",
          "Altima Hybrid",
          "Amanti",
          "Armada",
          "Ascender",
          "Aspen",
          "Astra",
          "Astro",
          "Astro Cargo",
          "Aura",
          "Aura Hybrid",
          "Aurora",
          "Avalanche",
          "Avalon",
          "Avalon Hybrid",
          "Avenger",
          "Aveo",
          "Aviator",
          "Axiom",
          "Azera",
          "Aztek",
          "B-Class Electric Drive",
          "B-Series",
          "B-Series Truck",
          "B9 Tribeca",
          "BRZ",
          "Baja",
          "Beetle",
          "Beetle Convertible",
          "Black Diamond Avalanche",
          "Blackwood",
          "Blazer",
          "Bonneville",
          "Borrego",
          "Boxster",
          "Bravada",
          "C-Class",
          "C-Max Energi",
          "C-Max Hybrid",
          "C/V Cargo Van",
          "C/V Tradesman",
          "C30",
          "C70",
          "CC",
          "CL",
          "CL-Class",
          "CLA-Class",
          "CLK-Class",
          "CLS-Class",
          "CR-V",
          "CR-Z",
          "CT 200h",
          "CTS",
          "CTS Coupe",
          "CTS Wagon",
          "CTS-V",
          "CTS-V Coupe",
          "CV Tradesman",
          "CX-5",
          "CX-7",
          "CX-9",
          "Cabrio",
          "Cadenza",
          "Caliber",
          "Camaro",
          "Camry",
          "Camry Hybrid",
          "Camry Solara",
          "Canyon",
          "Captiva Sport",
          "Caravan",
          "Catera",
          "Cavalier",
          "Cayenne",
          "Cayman",
          "Cayman S",
          "Celica",
          "Century",
          "Challenger",
          "Charger",
          "Cherokee",
          "Civic",
          "Classic",
          "Cobalt",
          "Colorado",
          "Commander",
          "Compass",
          "Concorde",
          "Continental",
          "Cooper",
          "Cooper Clubman",
          "Cooper Countryman",
          "Cooper Coupe",
          "Cooper Paceman",
          "Cooper Roadster",
          "Corolla",
          "Corvette",
          "Cougar",
          "Coupe",
          "Crossfire",
          "Crosstour",
          "Crown Victoria",
          "Cruze",
          "Cube",
          "DTS",
          "Dakota",
          "Dakota",
          "Dart",
          "DeVille",
          "Diamante",
          "Discovery Series II",
          "Durango",
          "E-Class",
          "E-Series Van",
          "E-Series Wagon",
          "ECHO",
          "ES 300",
          "ES 300h",
          "ES 330",
          "ES 350",
          "EX",
          "EX35",
          "Eclipse",
          "Eclipse Spyder",
          "Econoline Cargo",
          "Econoline Wagon",
          "Edge",
          "Elantra",
          "Elantra Coupe",
          "Elantra GT",
          "Elantra Touring",
          "Eldorado",
          "Element",
          "Enclave",
          "Encore",
          "Endeavor",
          "Entourage",
          "Envoy",
          "Envoy XL",
          "Envoy XUV",
          "Eos",
          "Equator",
          "Equinox",
          "Equus",
          "Escalade",
          "Escalade ESV",
          "Escalade EXT",
          "Escalade Hybrid",
          "Escape",
          "Escape Hybrid",
          "Escort",
          "Esteem",
          "EuroVan",
          "Excursion",
          "Expedition",
          "Expedition EL",
          "Explorer",
          "Explorer Sport",
          "Explorer Sport Trac",
          "Express",
          "Express Cargo",
          "F-150",
          "F-150 Heritage",
          "F-250 Super Duty",
          "F-350 Super Duty",
          "F-450 Super Duty",
          "FJ Cruiser",
          "FR-S",
          "FX",
          "FX35",
          "FX45",
          "FX50",
          "Fiesta",
          "Firebird",
          "Fit",
          "Five Hundred",
          "Flex",
          "Focus",
          "Focus ST",
          "Forenza",
          "Forester",
          "Forte",
          "Freelander",
          "Freestar",
          "Freestyle",
          "Frontier",
          "Fusion",
          "Fusion Energi",
          "Fusion Hybrid",
          "G Convertible",
          "G Coupe",
          "G Sedan",
          "G-Class",
          "G20",
          "G3",
          "G35",
          "G37",
          "G37 Convertible",
          "G37 Coupe",
          "G5",
          "G6",
          "G8",
          "GL-Class",
          "GLA-Class",
          "GLI",
          "GLK-Class",
          "GS 300",
          "GS 350",
          "GS 430",
          "GS 450h",
          "GS 460",
          "GTI",
          "GTO",
          "GX 460",
          "GX 470",
          "Galant",
          "Genesis",
          "Genesis Coupe",
          "Golf",
          "Golf GTI",
          "Golf R",
          "GranSport",
          "Grand Am",
          "Grand Caravan",
          "Grand Cherokee",
          "Grand Marquis",
          "Grand Prix",
          "Grand Vitara",
          "H2",
          "H2 SUT",
          "H3",
          "H3T",
          "HHR",
          "HS 250h",
          "Highlander",
          "Highlander Hybrid",
          "I30",
          "I35",
          "ILX",
          "ION",
          "IS 250",
          "IS 250 C",
          "IS 300",
          "IS 350",
          "IS 350 C",
          "IS F",
          "Impala",
          "Impala Limited",
          "Impreza",
          "Impreza WRX",
          "Insight",
          "Integra",
          "Intrepid",
          "Intrigue",
          "JX",
          "Jetta",
          "Jetta GLI",
          "Jetta Hybrid",
          "Jetta SportWagen",
          "Jimmy",
          "Journey",
          "Juke",
          "Kizashi",
          "L-Series",
          "L300",
          "LHS",
          "LR2",
          "LR3",
          "LR4",
          "LS",
          "LS 430",
          "LS 460",
          "LS 600h L",
          "LX 470",
          "LX 570",
          "LaCrosse",
          "Lancer",
          "Lancer Evolution",
          "Lancer Sportback",
          "Land Cruiser",
          "LeSabre",
          "Leaf",
          "Legacy",
          "Leganza",
          "Liberty",
          "Lucerne",
          "Lumina",
          "M",
          "M",
          "M-Class",
          "M3",
          "M35",
          "M37",
          "M45",
          "M5",
          "M56",
          "M6",
          "MDX",
          "MKC",
          "MKS",
          "MKT",
          "MKX",
          "MKZ",
          "MKZ Hybrid",
          "MPV",
          "MR2 Spyder",
          "MX-5 Miata",
          "Magnum",
          "Malibu",
          "Malibu Classic",
          "Malibu Hybrid",
          "Malibu Maxx",
          "Marauder",
          "Mariner",
          "Mariner Hybrid",
          "Mark LT",
          "Matrix",
          "Maxima",
          "Mazda2",
          "Mazda3",
          "Mazda5",
          "Mazda6",
          "Mazdaspeed 3",
          "Mazdaspeed MX-5 Miata",
          "Mazdaspeed Mazda3",
          "Mazdaspeed Mazda6",
          "Mazdaspeed Protege",
          "Mazdaspeed3",
          "Milan",
          "Milan Hybrid",
          "Millenia",
          "Mirage",
          "Montana",
          "Montana SV6",
          "Monte Carlo",
          "Montego",
          "Monterey",
          "Montero",
          "Montero Sport",
          "Mountaineer",
          "Murano",
          "Murano CrossCabriolet",
          "Mustang",
          "NV",
          "NV Cargo",
          "NV Passenger",
          "NV200",
          "Navigator",
          "Navigator L",
          "Neon",
          "New Beetle",
          "Nitro",
          "Nubira",
          "Odyssey",
          "Optima",
          "Outback",
          "Outlander",
          "Outlander Sport",
          "Outlook",
          "PT Cruiser",
          "Pacifica",
          "Park Avenue",
          "Passat",
          "Passport",
          "Pathfinder",
          "Patriot",
          "Phaeton",
          "Pilot",
          "Prelude",
          "Prius",
          "Prius Plug-in",
          "Prius c",
          "Prius v",
          "Prizm",
          "Promaster Cargo Van",
          "Protege",
          "Protege5",
          "Prowler",
          "Prowler",
          "Q3",
          "Q45",
          "Q5",
          "Q50",
          "Q60 Convertible",
          "Q60 Coupe",
          "Q7",
          "Q70",
          "QX",
          "QX4",
          "QX50",
          "QX56",
          "QX60",
          "QX70",
          "Quattroporte",
          "Quest",
          "R-Class",
          "R32",
          "RAV4",
          "RDX",
          "RL",
          "RLX",
          "RS 4",
          "RS 6",
          "RSX",
          "RX 300",
          "RX 330",
          "RX 350",
          "RX 400h",
          "RX 450h",
          "RX-8",
          "Rabbit",
          "Raider",
          "Rainier",
          "Ram Cargo",
          "Ram Pickup 1500",
          "Ram Pickup 2500",
          "Ram Pickup 3500",
          "Range Rover",
          "Range Rover Evoque",
          "Range Rover Sport",
          "Ranger",
          "Regal",
          "Relay",
          "Rendezvous",
          "Reno",
          "Ridgeline",
          "Rio",
          "Rodeo",
          "Rodeo Sport",
          "Rogue",
          "Rogue Select",
          "Rondo",
          "Routan",
          "S-10",
          "S-Class",
          "S-Series",
          "S-Type",
          "S2000",
          "S4",
          "S40",
          "S5",
          "S6",
          "S60",
          "S8",
          "S80",
          "SC 430",
          "SL-Class",
          "SLK-Class",
          "SRX",
          "SS",
          "SSR",
          "STS",
          "STS-V",
          "SX4",
          "Sable",
          "Safari",
          "Safari Cargo",
          "Santa Fe",
          "Santa Fe Sport",
          "Savana",
          "Savana Cargo",
          "Sebring",
          "Sedona",
          "Sentra",
          "Sephia",
          "Sequoia",
          "Seville",
          "Shelby GT500",
          "Sienna",
          "Sierra 1500",
          "Sierra 1500 Classic",
          "Sierra 1500 Hybrid",
          "Sierra 1500HD",
          "Sierra 2500",
          "Sierra 2500HD",
          "Sierra 2500HD Classic",
          "Sierra 3500",
          "Sierra 3500HD",
          "Silhouette",
          "Silverado 1500",
          "Silverado 1500 Classic",
          "Silverado 1500 Hybrid",
          "Silverado 1500HD",
          "Silverado 2500",
          "Silverado 2500HD",
          "Silverado 2500HD Classic",
          "Silverado 3500",
          "Silverado 3500 Classic",
          "Silverado 3500HD",
          "Sky",
          "Solstice",
          "Sonata",
          "Sonata Hybrid",
          "Sonic",
          "Sonoma",
          "Sorento",
          "Soul",
          "Spark",
          "Spark EV",
          "Spectra",
          "Sportage",
          "Sprinter",
          "Sprinter",
          "Sprinter Cargo",
          "Spyder",
          "Stratus",
          "Suburban",
          "Sunfire",
          "TL",
          "TLX",
          "TSX",
          "TSX Sport Wagon",
          "TT",
          "TTS",
          "Tacoma",
          "Tahoe",
          "Tahoe Hybrid",
          "Taurus",
          "Taurus X",
          "Terrain",
          "Terraza",
          "Thunderbird",
          "Tiburon",
          "Tiguan",
          "Titan",
          "Torrent",
          "Touareg",
          "Touareg 2",
          "Town Car",
          "Town and Country",
          "Tracker",
          "TrailBlazer",
          "TrailBlazer EXT",
          "Transit Connect",
          "Transit Van",
          "Transit Wagon",
          "Traverse",
          "Tribeca",
          "Tribute",
          "Tribute Hybrid",
          "Trooper",
          "Truck",
          "Tucson",
          "Tundra",
          "Uplander",
          "V40",
          "V50",
          "V60",
          "V70",
          "VUE",
          "VUE Hybrid",
          "Veloster",
          "Venture",
          "Venza",
          "Veracruz",
          "Verano",
          "Verona",
          "Versa",
          "Versa Note",
          "Vibe",
          "Villager",
          "Viper",
          "Vitara",
          "Volt",
          "Voyager",
          "WRX",
          "Windstar",
          "Windstar Cargo",
          "Wrangler",
          "X-Type",
          "X1",
          "X3",
          "X5",
          "X5 M",
          "X6",
          "XC",
          "XC60",
          "XC70",
          "XC90",
          "XF",
          "XG300",
          "XG350",
          "XJ",
          "XJ-Series",
          "XK",
          "XK-Series",
          "XL-7",
          "XL7",
          "XLR",
          "XTS",
          "XV Crosstrek",
          "Xterra",
          "Yaris",
          "Yukon",
          "Yukon Hybrid",
          "Yukon XL",
          "Z3",
          "Z4",
          "Z4 M",
          "ZDX",
          "Zephyr",
          "accord",
          "allroad",
          "allroad quattro",
          "fortwo",
          "i-MiEV",
          "i-Series",
          "iQ",
          "malibu",
          "mdx",
          "tC",
          "xA",
          "xB",
          "xD",
          "Acura",
          "Audi",
          "BMW",
          "Buick",
          "Cadillac",
          "Chevrolet",
          "Chrysler",
          "Daewoo",
          "Dodge",
          "FIAT",
          "Ford",
          "GMC",
          "HUMMER",
          "Honda",
          "Hyundai",
          "Infiniti",
          "Isuzu",
          "Jaguar",
          "Jeep",
          "Kia",
          "Land Rover",
          "Lexus",
          "Lincoln",
          "MINI",
          "Maserati",
          "Mazda",
          "Mercedes-Benz",
          "Mercury",
          "Mitsubishi",
          "Nissan",
          "Oldsmobile",
          "Plymouth",
          "Pontiac",
          "Porsche",
          "Ram",
          "Saab",
          "Saturn",
          "Scion",
          "Subaru",
          "Suzuki",
          "Toyota",
          "Volkswagen",
          "Volvo",
          "smart",
          "all cars"
         ],
         "marker": {
          "coloraxis": "coloraxis",
          "colors": [
           20589.618496372008,
           23261.173090971388,
           27384.433241674305,
           12041.031508989212,
           26660.89648623817,
           12971.963239211507,
           20399.901633927297,
           31022.513195290296,
           17584.33479718371,
           2143.1629475869227,
           27493.88641254227,
           10684.828538061365,
           22471.96385694427,
           32269.003740534623,
           22601.553143572015,
           23598.77052783996,
           27825.962371606674,
           9775.82000174613,
           13049.03411746378,
           14260.849056603774,
           11366.74668715191,
           19366.21544425176,
           32250,
           1408.8126843657817,
           18706.234481947766,
           4277.556109725686,
           5390.433568730497,
           8465.751349564835,
           5605.297307766802,
           23563.184241321025,
           19043.00606258394,
           17937.36986221887,
           24265.321991028908,
           21662.57225028648,
           32800.30487804878,
           16737.117656161347,
           20882.73001245427,
           20706.729458402886,
           8944.763721224921,
           13109.757523347727,
           14928.82275928245,
           25604.760508308897,
           27630.090497737558,
           31665.348101265823,
           25725,
           1772.2044728434505,
           1451.3037731314587,
           12782.990046986908,
           8110.866983372922,
           4262.541993281075,
           19541.212456756646,
           3592.6794258373207,
           9824.136802899135,
           4412.970014278915,
           3135.9108689578093,
           3751.4465702286516,
           5198.522758068127,
           4411.557788944724,
           1973.2405630198336,
           17421.742418682777,
           15957.037714450704,
           25945.601874450844,
           9959.426346206956,
           4325.422776012339,
           4341.857457610882,
           2064.5185185185187,
           18681.350635063507,
           1865.7070707070707,
           26861.241217798593,
           2600,
           9479.527559055117,
           7379.095847205187,
           19894.68767007317,
           7761.852377572746,
           13165.252702912421,
           18423.23669201521,
           28525.646258503402,
           8444.712430426716,
           1928.8847397168654,
           2490.835648486621,
           9362.767162066526,
           18516.984087207118,
           1992.0253164556962,
           20395.742326336305,
           13135.547175082058,
           15712.737291597092,
           8158.697037273017,
           10169.568690095846,
           13404.054624064114,
           17521.93879856876,
           14697.088758265107,
           3097.819871336669,
           22317.460769168225,
           29087.95975721053,
           10840.921785739474,
           18614.11918611442,
           16518.098955120866,
           10823.38005878363,
           20238.964814996565,
           15034.493282320576,
           23320.80737568139,
           18556.97105584998,
           23676.50433809124,
           30701.520086862107,
           15631.788879935535,
           19579.203073203415,
           10613.511585712109,
           19251.41637517245,
           1935.9177215189873,
           21126.19597896448,
           6082.838727921176,
           20188.719109333055,
           13345.073856857283,
           15172.947873029578,
           6682.856977216071,
           12740.813181088004,
           14102.85430476599,
           2661.4567437492665,
           1441.2621359223301,
           1530.068402835009,
           18126.341753551187,
           21007.22237493128,
           25787.28862973761,
           3395.1987767584096,
           2524.8370044052863,
           21502.541854451523,
           15964.570042351597,
           22868.720214091943,
           11160.455262724827,
           2278.1153953618327,
           4277.541684771398,
           11435.920616193265,
           9090.370267233846,
           14003.593821517907,
           1562.7044215626893,
           2595.7858769931663,
           12415.442741826351,
           13946.32394286201,
           19787.91959489586,
           16218.929122351223,
           20537.824151363384,
           20010.011490950877,
           10846.62913331126,
           24085.205900077308,
           1414.923076923077,
           12872.549019607843,
           6163.427947598253,
           18435.88467899147,
           7848.414291449217,
           11612.686213025576,
           9056.229577763632,
           9166.908505881842,
           7532.13242725594,
           13060.09918845807,
           12051.454085848714,
           2998.4637216972155,
           1294.1318327974277,
           2583.568075117371,
           22973.63049284306,
           24550.582904437568,
           19892.01847183856,
           20179.862542963205,
           2426.4498234997477,
           4835.647984664279,
           28940.568710246407,
           7093.348777348778,
           22006.267705170758,
           22636.772796621924,
           13621.05343886128,
           6097.658780565259,
           6203.502265680897,
           7012.5926312681395,
           9279.948461499209,
           20493.285748328537,
           11219.269930475202,
           12575.826765416452,
           13431.686758334903,
           8453.118932353018,
           3404.436860068259,
           8888.18028983558,
           20897.242695958965,
           19077.7577410041,
           5404.732299590404,
           4958.806626098715,
           5797.907691423976,
           4854.64884056363,
           4064.009913905557,
           14476.798569294155,
           14850.168350168351,
           14566.261347622074,
           26382.473059406188,
           20792.400459127846,
           21039.02806103644,
           20042.169527896996,
           25055.70975881697,
           16193.949755093196,
           11666.226929958579,
           1047.1141374837873,
           913.3333333333334,
           2933.160621761658,
           12234.994266912609,
           23345.704951780146,
           12595.683520019804,
           24000.082964012763,
           1592.2424875461995,
           10989.69228888787,
           19820.51966795574,
           13110.78193113295,
           21642.6252389105,
           3636.9124797406807,
           20830.30022868207,
           20804.580271612314,
           26162.78135360942,
           21031.052787725952,
           18321.963476428584,
           27399.017338240898,
           13466.28868237001,
           9909.65034965035,
           22586.066204772902,
           9858.3045670054,
           9586.323479442746,
           10513.574074190725,
           3802.07791160959,
           20995.723038463246,
           10720.673306859053,
           18757.085312075982,
           1897.283988744767,
           19763.441978874704,
           10971.466185173196,
           2658.7388801674515,
           2450.4102846764563,
           3386.727140292035,
           17301.763616392407,
           13741.004719658305,
           21135.58724913747,
           17267.206728698362,
           26309.707612330072,
           22733.475822581277,
           20256.912389299167,
           27835.974973931177,
           1714.0198511166252,
           4886.25,
           8173.196535774038,
           14144.394590768221,
           20569.712551108907,
           15881.25838475986,
           4120.894512131626,
           5426.580411649485,
           14235.772972972973,
           22706.786701785782,
           32000,
           12994.39122762793,
           24728.77635203606,
           10214.548882225456,
           28118.388849102495,
           8959.39034960994,
           17246.8875985318,
           18866.36197440585,
           13570.76028107361,
           10943.341121495327,
           30130.91917724745,
           20187.785299806575,
           6262.824383313665,
           18120.4050827273,
           16798.403141926156,
           11753.935768794734,
           21237.980912615567,
           25779.138191177775,
           32500,
           1914.651837524178,
           13867.536430909837,
           21648.939178800872,
           6376.473839351511,
           3835.8244065555923,
           7580.87149441629,
           19856.717606157963,
           23261.162687886826,
           12280.136505810378,
           21946.474234792717,
           5790.404722784243,
           16959.04408993845,
           20054.08647456203,
           16535.076846682674,
           2117.936024371668,
           3316.457739791073,
           19086.566795777322,
           2608.4542111445935,
           21185.46054275593,
           26028.934747365576,
           4841.9824448726185,
           19518.597244012628,
           28508.99127975489,
           26470.998980632008,
           11532.972457038433,
           14106.827444328477,
           16342.011946285178,
           26383.288987435328,
           9982.687704026115,
           4617.64705882353,
           964.9012567324955,
           1902.1281571562208,
           29655.97139335921,
           10025.858979418403,
           18273.340483179047,
           16046.380677721701,
           15028.963743177947,
           1462.5925925925926,
           14165.802111168721,
           15472.58491150069,
           8941.474311243484,
           1740.2251562699323,
           2529.8297872340427,
           400,
           17509.91921824104,
           15148.33143057873,
           29841.52817859157,
           2911.190407708348,
           10039.91756499683,
           23204.796620639005,
           25458.499743983615,
           10085.873388042204,
           32473.511293634496,
           16200.307558779281,
           9604.877081615214,
           24421.0846849157,
           11183.805265772478,
           16290.770694576593,
           3292.981706402759,
           10708.099557053261,
           16272.596940822566,
           300,
           10725.830038780989,
           7819.294165293498,
           1071.4285714285713,
           15750,
           25185.71784660657,
           22057.894066991223,
           23463.080511942222,
           10967.564819522115,
           22175.289905141268,
           9700.325037147102,
           21606.239362178625,
           24258.85839051778,
           25007.373244465605,
           21465.39048246808,
           31201.724641917568,
           22975.3882783358,
           24310.333297789693,
           23992.507746367362,
           19456.682383754527,
           13721.184668989546,
           2245.1668351870576,
           4390.543259557344,
           17849.645981613285,
           5608.0469823816065,
           11024.155396654967,
           3627.9166666666665,
           6036.585365853659,
           3315.9404423034816,
           9979.53216374269,
           8106.07905673142,
           6689.146164978292,
           13785.158531497706,
           7073.388284650894,
           15828.995378096366,
           8819.458259294075,
           10617.610837368691,
           11329.37929623191,
           13264.784310497773,
           15153.771428571428,
           4205.785123966943,
           8814.422419685578,
           7244.591416813639,
           3100,
           15662.605325244354,
           5757.576636128184,
           10038.851351351352,
           1700.1937984496124,
           9120.061700526712,
           2279.5625867883355,
           3574.8945147679324,
           4307.65179837566,
           3898.637921703049,
           2824.800796812749,
           3686.735870818916,
           1865.7446702364718,
           6983.119097397448,
           16654.675222397,
           27628.545454545456,
           17354.174750115024,
           16396.585796915166,
           21073.370527442665,
           22884.101748807632,
           16327.460831982711,
           20725.42532041146,
           13639.92793698676,
           2332.5552486187844,
           5243.971971935677,
           10085.197870518596,
           500,
           17880.973616626456,
           14739.979600320192,
           20359.574094977783,
           15570.03759890371,
           14079.437246963562,
           8273.273118574994,
           3000.7334628076137,
           4612.693082605776,
           3478.8888888888887,
           12441.413471101623,
           2416.9655667144907,
           19451.90733787358,
           12830.028380663956,
           7233.1278890600925,
           21636.88224957346,
           3039.285714285714,
           12252.637914767376,
           17352.648787898805,
           13177.651073747295,
           17533.476842978518,
           1372.549019607843,
           23057.83986346097,
           1579.1581805838425,
           1969.2332683560753,
           26609.056603773584,
           23792.780748663103,
           30400,
           5088.108766233766,
           26060.93168026556,
           28753.022464906684,
           33135.211267605635,
           28947.028871978513,
           20891.170279568752,
           29906.437158469944,
           31321.428571428572,
           3396.775956284153,
           31789.63963963964,
           22098.044888112843,
           30384.771281323625,
           31003.37822671156,
           24608.583191622663,
           15686.036919611935,
           13716.09583660644,
           11180.754657404485,
           15955.883393166525,
           21328.114642547844,
           11660.772375031935,
           30302.981787882396,
           26256.265984654732,
           13887.711670480548,
           5670.135613207547,
           5596.333746044848,
           9684.398545761105,
           26904.67263475853,
           13149.037696439229,
           27383.01775147929,
           11298.159105851413,
           5113.432228039558,
           7109.719438877755,
           4110.477707006369,
           2570.430107526882,
           12870.916138359804,
           18405.05005444233,
           21096.390819325097,
           24557.968234454205,
           32140.689655172413,
           25271.93173702214,
           10798.056305135124,
           14309.877538618639,
           2722.5367647058824,
           3828.78597855396,
           1982.5292901447278,
           20444.291197281105,
           9775.068579533521,
           2774.9409506938296,
           2204.9180327868853,
           14455.60906519363,
           15649.522496800237,
           4370.404921318606,
           11002.481613599331,
           3977.0275854943693,
           21043.668116953748,
           1377.0422787531352,
           4225.551230884736,
           15164.110591762943,
           22929.935061986285,
           5959.667967121826,
           27718.45311415198,
           16492.302452316075,
           18606.56491471779,
           23961.823273179838,
           13713.00052544547,
           13025.877056814654,
           19673.634546956087,
           23443.72004847838,
           21704.913951301784,
           31250,
           18770.66605373378,
           9374.318218868628,
           14885.808109651627,
           5958.912852499341,
           4380.056899540282,
           2446.323529411765,
           2051.2195121951218,
           14811.52762273761,
           20422.74393227029,
           19639.488784559206,
           20481.344305687002,
           4740.205445145195,
           12538.658951127543,
           10306.395499176282,
           793.9024390243902,
           17208.098427515404,
           2268.968199101279,
           30427.068536112904,
           17645.906855996865,
           21786.599231261687,
           12211.464621474517,
           17170.76023391813,
           9975.78125,
           9372.316384180791,
           21963.246199860696,
           19484.277662414715,
           17926.397703233604,
           25468.16622351831,
           1325.356506238859,
           20671.232473322383,
           9902.675717586,
           18488.405797101448,
           9576.831913245545,
           9748.379837983799,
           20472.148923112647,
           17835.655381944445,
           18759.163199260285,
           16379.12087912088,
           25888.608461787484,
           9224.98521584861,
           7517.733333333334,
           12354.692605715592,
           16761.881153648465,
           9557.37352537885,
           4451.285137443702,
           17186.275973107447,
           11975.130947781721,
           8696.799268273617,
           11521.739130434782,
           3340.100281082909,
           15060.586146061889,
           10851.351351351352,
           24902.987264356107,
           10561.99421965318,
           16892.235410484667,
           2002.4977698483497,
           21394.181163792942,
           1592.6537262680647,
           16670.450461795976,
           26200,
           15829.607682108412,
           18987.219497696537,
           13377.518337965283,
           22000,
           23673.890172372077,
           19407.27052600245,
           15526.358202582986,
           15967.485157017256,
           5633.748329891899,
           18489.180424826358,
           3912.9763560500696,
           13264.894900068917,
           4261.715036839739,
           15376.546366479273,
           17091.854321745966,
           5627.551504606746,
           19868.23906097512,
           12382.206190109044,
           9652.504202257212,
           17663.03705255019,
           2346.085776330076,
           6250.349517801905,
           4191.51423940727,
           13414.803721641601,
           24010.1679001436,
           28865.856672158156,
           17918.19530603164,
           19448.791243228723,
           4205.9362757900235,
           10203.921568627451,
           1470.6666666666667,
           2943.6,
           14900.656697164424,
           22482.81648168284,
           3732.001118985453,
           2505.2193645990924,
           8152.437509703463,
           26866.465981621473,
           4096.565737387349,
           4838.4352234903545,
           6709.650180940893,
           13889.644831090292,
           1511.8401222532539,
           17597.127821364444,
           12878.280063755716,
           13487.349572209725,
           2179.056795131846,
           8427.595251322307,
           10965.840458921559,
           5088.683653893453,
           1189.013452914798,
           31696.832101372755,
           1890.5223880597016,
           13667.423169116015,
           1569.144144144144,
           28197.63096168882,
           1474.8534240150093,
           287.22222222222223,
           23159.959170135528,
           3740.8628134046417,
           27521.75000085829,
           21280.02509692582,
           22163.296075371425,
           25326.530612244896,
           28569.20073002496,
           2450,
           25256.617366264487,
           22642.438064859118,
           14874.635434361384,
           24354.952043369474,
           1714.6840148698884,
           2655.955218797889,
           29700.944729599047,
           9888.529237082232,
           29367.314798521908,
           19963.717402264083,
           2715.47142196888,
           5229.150986488278,
           19633.863256036337,
           29036.18947745787,
           21207.15623021603,
           13798.619060939453,
           8514.512465892225,
           18739.058995370167,
           18339.086133502402,
           20753.22124444246,
           6444.04432132964,
           23199.38031212833,
           21082.512315270935,
           26693.167354870053,
           5327.540534368577,
           4576.836672738312,
           29892.58859991915,
           4615.221278497988,
           6771.438123024556,
           7715.676028739386,
           5533.478260869565,
           9005.876792548532,
           7476.496112818659,
           23430.652173913044,
           11346.429309988282,
           3329.114302812687,
           9695.917325023598,
           10095.421141888073,
           18522.31301248309,
           21028.01221127892,
           21739.66107257741,
           16338.038593250329,
           19234.518380901085,
           15394.188400713354,
           15664.978580850047,
           450,
           14759.58135788095,
           11202.759965039662,
           18085.287474704848,
           20041.921787147294,
           17074.077186292252,
           15068.363419307037,
           13165.476369701522,
           21698.792537508045,
           3344.9896560641323,
           21819.173489376662,
           19451.670125074437,
           14092.572860496255,
           24770.147472028315,
           22830.19016943441,
           21268.7481024553,
           14874.67290068795,
           24255.473752906146,
           13745.38037902068,
           22027.73571342964,
           6688.631139578153,
           12620.181712164846,
           14060.35828294864,
           1644.2322991249005,
           23792.780748663103,
           5994.18535310637,
           19024.800792688337,
           23701.083550582374,
           5797.04133736858,
           5523.647462654214,
           11920.837940036978,
           18934.089092552415,
           5894.460744555254,
           15600.301173049356,
           12405.594115292075,
           19230.114854975087,
           6771.438123024556,
           17163.930066847843
          ]
         },
         "name": "",
         "parents": [
          "all cars/BMW",
          "all cars/Ram",
          "all cars/BMW",
          "all cars/Chrysler",
          "all cars/Ram",
          "all cars/Mazda",
          "all cars/BMW",
          "all cars/BMW",
          "all cars/Chrysler",
          "all cars/Chrysler",
          "all cars/Ram",
          "all cars/Nissan",
          "all cars/Nissan",
          "all cars/BMW",
          "all cars/Toyota",
          "all cars/BMW",
          "all cars/BMW",
          "all cars/FIAT",
          "all cars/FIAT",
          "all cars/FIAT",
          "all cars/Mazda",
          "all cars/BMW",
          "all cars/BMW",
          "all cars/Mazda",
          "all cars/BMW",
          "all cars/Saab",
          "all cars/Saab",
          "all cars/Saab",
          "all cars/Saab",
          "all cars/Porsche",
          "all cars/Audi",
          "all cars/Audi",
          "all cars/Audi",
          "all cars/Audi",
          "all cars/Audi",
          "all cars/Audi",
          "all cars/Cadillac",
          "all cars/GMC",
          "all cars/Hyundai",
          "all cars/Honda",
          "all cars/Honda",
          "all cars/Honda",
          "all cars/BMW",
          "all cars/BMW",
          "all cars/BMW",
          "all cars/Suzuki",
          "all cars/Oldsmobile",
          "all cars/Nissan",
          "all cars/Nissan",
          "all cars/Kia",
          "all cars/Nissan",
          "all cars/Isuzu",
          "all cars/Chrysler",
          "all cars/Saturn",
          "all cars/Chevrolet",
          "all cars/Chevrolet",
          "all cars/Saturn",
          "all cars/Saturn",
          "all cars/Oldsmobile",
          "all cars/Chevrolet",
          "all cars/Toyota",
          "all cars/Toyota",
          "all cars/Dodge",
          "all cars/Chevrolet",
          "all cars/Lincoln",
          "all cars/Isuzu",
          "all cars/Hyundai",
          "all cars/Pontiac",
          "all cars/Mercedes-Benz",
          "all cars/Mazda",
          "all cars/Mazda",
          "all cars/Subaru",
          "all cars/Subaru",
          "all cars/Subaru",
          "all cars/Volkswagen",
          "all cars/Volkswagen",
          "all cars/Chevrolet",
          "all cars/Lincoln",
          "all cars/Chevrolet",
          "all cars/Pontiac",
          "all cars/Kia",
          "all cars/Porsche",
          "all cars/Oldsmobile",
          "all cars/Mercedes-Benz",
          "all cars/Ford",
          "all cars/Ford",
          "all cars/Ram",
          "all cars/Ram",
          "all cars/Volvo",
          "all cars/Volvo",
          "all cars/Volkswagen",
          "all cars/Acura",
          "all cars/Mercedes-Benz",
          "all cars/Mercedes-Benz",
          "all cars/Mercedes-Benz",
          "all cars/Mercedes-Benz",
          "all cars/Honda",
          "all cars/Honda",
          "all cars/Lexus",
          "all cars/Cadillac",
          "all cars/Cadillac",
          "all cars/Cadillac",
          "all cars/Cadillac",
          "all cars/Cadillac",
          "all cars/Ram",
          "all cars/Mazda",
          "all cars/Mazda",
          "all cars/Mazda",
          "all cars/Volkswagen",
          "all cars/Kia",
          "all cars/Dodge",
          "all cars/Chevrolet",
          "all cars/Toyota",
          "all cars/Toyota",
          "all cars/Toyota",
          "all cars/GMC",
          "all cars/Chevrolet",
          "all cars/Dodge",
          "all cars/Cadillac",
          "all cars/Chevrolet",
          "all cars/Porsche",
          "all cars/Porsche",
          "all cars/Porsche",
          "all cars/Toyota",
          "all cars/Buick",
          "all cars/Dodge",
          "all cars/Dodge",
          "all cars/Jeep",
          "all cars/Honda",
          "all cars/Chevrolet",
          "all cars/Chevrolet",
          "all cars/Chevrolet",
          "all cars/Jeep",
          "all cars/Jeep",
          "all cars/Chrysler",
          "all cars/Lincoln",
          "all cars/MINI",
          "all cars/MINI",
          "all cars/MINI",
          "all cars/MINI",
          "all cars/MINI",
          "all cars/MINI",
          "all cars/Toyota",
          "all cars/Chevrolet",
          "all cars/Mercury",
          "all cars/Maserati",
          "all cars/Chrysler",
          "all cars/Honda",
          "all cars/Ford",
          "all cars/Chevrolet",
          "all cars/Nissan",
          "all cars/Cadillac",
          "all cars/Dodge",
          "all cars/Ram",
          "all cars/Dodge",
          "all cars/Cadillac",
          "all cars/Mitsubishi",
          "all cars/Land Rover",
          "all cars/Dodge",
          "all cars/Mercedes-Benz",
          "all cars/Ford",
          "all cars/Ford",
          "all cars/Toyota",
          "all cars/Lexus",
          "all cars/Lexus",
          "all cars/Lexus",
          "all cars/Lexus",
          "all cars/Infiniti",
          "all cars/Infiniti",
          "all cars/Mitsubishi",
          "all cars/Mitsubishi",
          "all cars/Ford",
          "all cars/Ford",
          "all cars/Ford",
          "all cars/Hyundai",
          "all cars/Hyundai",
          "all cars/Hyundai",
          "all cars/Hyundai",
          "all cars/Cadillac",
          "all cars/Honda",
          "all cars/Buick",
          "all cars/Buick",
          "all cars/Mitsubishi",
          "all cars/Hyundai",
          "all cars/GMC",
          "all cars/GMC",
          "all cars/GMC",
          "all cars/Volkswagen",
          "all cars/Suzuki",
          "all cars/Chevrolet",
          "all cars/Hyundai",
          "all cars/Cadillac",
          "all cars/Cadillac",
          "all cars/Cadillac",
          "all cars/Cadillac",
          "all cars/Ford",
          "all cars/Ford",
          "all cars/Ford",
          "all cars/Suzuki",
          "all cars/Volkswagen",
          "all cars/Ford",
          "all cars/Ford",
          "all cars/Ford",
          "all cars/Ford",
          "all cars/Ford",
          "all cars/Ford",
          "all cars/Chevrolet",
          "all cars/Chevrolet",
          "all cars/Ford",
          "all cars/Ford",
          "all cars/Ford",
          "all cars/Ford",
          "all cars/Ford",
          "all cars/Toyota",
          "all cars/Scion",
          "all cars/Infiniti",
          "all cars/Infiniti",
          "all cars/Infiniti",
          "all cars/Infiniti",
          "all cars/Ford",
          "all cars/Pontiac",
          "all cars/Honda",
          "all cars/Ford",
          "all cars/Ford",
          "all cars/Ford",
          "all cars/Ford",
          "all cars/Suzuki",
          "all cars/Subaru",
          "all cars/Kia",
          "all cars/Land Rover",
          "all cars/Ford",
          "all cars/Ford",
          "all cars/Nissan",
          "all cars/Ford",
          "all cars/Ford",
          "all cars/Ford",
          "all cars/Infiniti",
          "all cars/Infiniti",
          "all cars/Infiniti",
          "all cars/Mercedes-Benz",
          "all cars/Infiniti",
          "all cars/Pontiac",
          "all cars/Infiniti",
          "all cars/Infiniti",
          "all cars/Infiniti",
          "all cars/Infiniti",
          "all cars/Pontiac",
          "all cars/Pontiac",
          "all cars/Pontiac",
          "all cars/Mercedes-Benz",
          "all cars/Mercedes-Benz",
          "all cars/Volkswagen",
          "all cars/Mercedes-Benz",
          "all cars/Lexus",
          "all cars/Lexus",
          "all cars/Lexus",
          "all cars/Lexus",
          "all cars/Lexus",
          "all cars/Volkswagen",
          "all cars/Pontiac",
          "all cars/Lexus",
          "all cars/Lexus",
          "all cars/Mitsubishi",
          "all cars/Hyundai",
          "all cars/Hyundai",
          "all cars/Volkswagen",
          "all cars/Volkswagen",
          "all cars/Volkswagen",
          "all cars/Maserati",
          "all cars/Pontiac",
          "all cars/Dodge",
          "all cars/Jeep",
          "all cars/Mercury",
          "all cars/Pontiac",
          "all cars/Suzuki",
          "all cars/HUMMER",
          "all cars/HUMMER",
          "all cars/HUMMER",
          "all cars/HUMMER",
          "all cars/Chevrolet",
          "all cars/Lexus",
          "all cars/Toyota",
          "all cars/Toyota",
          "all cars/Infiniti",
          "all cars/Infiniti",
          "all cars/Acura",
          "all cars/Saturn",
          "all cars/Lexus",
          "all cars/Lexus",
          "all cars/Lexus",
          "all cars/Lexus",
          "all cars/Lexus",
          "all cars/Lexus",
          "all cars/Chevrolet",
          "all cars/Chevrolet",
          "all cars/Subaru",
          "all cars/Subaru",
          "all cars/Honda",
          "all cars/Acura",
          "all cars/Dodge",
          "all cars/Oldsmobile",
          "all cars/Infiniti",
          "all cars/Volkswagen",
          "all cars/Volkswagen",
          "all cars/Volkswagen",
          "all cars/Volkswagen",
          "all cars/GMC",
          "all cars/Dodge",
          "all cars/Nissan",
          "all cars/Suzuki",
          "all cars/Saturn",
          "all cars/Saturn",
          "all cars/Chrysler",
          "all cars/Land Rover",
          "all cars/Land Rover",
          "all cars/Land Rover",
          "all cars/Lincoln",
          "all cars/Lexus",
          "all cars/Lexus",
          "all cars/Lexus",
          "all cars/Lexus",
          "all cars/Lexus",
          "all cars/Buick",
          "all cars/Mitsubishi",
          "all cars/Mitsubishi",
          "all cars/Mitsubishi",
          "all cars/Toyota",
          "all cars/Buick",
          "all cars/Nissan",
          "all cars/Subaru",
          "all cars/Daewoo",
          "all cars/Jeep",
          "all cars/Buick",
          "all cars/Chevrolet",
          "all cars/BMW",
          "all cars/Infiniti",
          "all cars/Mercedes-Benz",
          "all cars/BMW",
          "all cars/Infiniti",
          "all cars/Infiniti",
          "all cars/Infiniti",
          "all cars/BMW",
          "all cars/Infiniti",
          "all cars/BMW",
          "all cars/Acura",
          "all cars/Lincoln",
          "all cars/Lincoln",
          "all cars/Lincoln",
          "all cars/Lincoln",
          "all cars/Lincoln",
          "all cars/Lincoln",
          "all cars/Mazda",
          "all cars/Toyota",
          "all cars/Mazda",
          "all cars/Dodge",
          "all cars/Chevrolet",
          "all cars/Chevrolet",
          "all cars/Chevrolet",
          "all cars/Chevrolet",
          "all cars/Mercury",
          "all cars/Mercury",
          "all cars/Mercury",
          "all cars/Lincoln",
          "all cars/Toyota",
          "all cars/Nissan",
          "all cars/Mazda",
          "all cars/Mazda",
          "all cars/Mazda",
          "all cars/Mazda",
          "all cars/Mazda",
          "all cars/Mazda",
          "all cars/Mazda",
          "all cars/Mazda",
          "all cars/Mazda",
          "all cars/Mazda",
          "all cars/Mercury",
          "all cars/Mercury",
          "all cars/Mazda",
          "all cars/Mitsubishi",
          "all cars/Pontiac",
          "all cars/Pontiac",
          "all cars/Chevrolet",
          "all cars/Mercury",
          "all cars/Mercury",
          "all cars/Mitsubishi",
          "all cars/Mitsubishi",
          "all cars/Mercury",
          "all cars/Nissan",
          "all cars/Nissan",
          "all cars/Ford",
          "all cars/Nissan",
          "all cars/Nissan",
          "all cars/Nissan",
          "all cars/Nissan",
          "all cars/Lincoln",
          "all cars/Lincoln",
          "all cars/Dodge",
          "all cars/Volkswagen",
          "all cars/Dodge",
          "all cars/Daewoo",
          "all cars/Honda",
          "all cars/Kia",
          "all cars/Subaru",
          "all cars/Mitsubishi",
          "all cars/Mitsubishi",
          "all cars/Saturn",
          "all cars/Chrysler",
          "all cars/Chrysler",
          "all cars/Buick",
          "all cars/Volkswagen",
          "all cars/Honda",
          "all cars/Nissan",
          "all cars/Jeep",
          "all cars/Volkswagen",
          "all cars/Honda",
          "all cars/Honda",
          "all cars/Toyota",
          "all cars/Toyota",
          "all cars/Toyota",
          "all cars/Toyota",
          "all cars/Chevrolet",
          "all cars/Ram",
          "all cars/Mazda",
          "all cars/Mazda",
          "all cars/Chrysler",
          "all cars/Plymouth",
          "all cars/Audi",
          "all cars/Infiniti",
          "all cars/Audi",
          "all cars/Infiniti",
          "all cars/Infiniti",
          "all cars/Infiniti",
          "all cars/Audi",
          "all cars/Infiniti",
          "all cars/Infiniti",
          "all cars/Infiniti",
          "all cars/Infiniti",
          "all cars/Infiniti",
          "all cars/Infiniti",
          "all cars/Infiniti",
          "all cars/Maserati",
          "all cars/Nissan",
          "all cars/Mercedes-Benz",
          "all cars/Volkswagen",
          "all cars/Toyota",
          "all cars/Acura",
          "all cars/Acura",
          "all cars/Acura",
          "all cars/Audi",
          "all cars/Audi",
          "all cars/Acura",
          "all cars/Lexus",
          "all cars/Lexus",
          "all cars/Lexus",
          "all cars/Lexus",
          "all cars/Lexus",
          "all cars/Mazda",
          "all cars/Volkswagen",
          "all cars/Mitsubishi",
          "all cars/Buick",
          "all cars/Dodge",
          "all cars/Dodge",
          "all cars/Dodge",
          "all cars/Dodge",
          "all cars/Land Rover",
          "all cars/Land Rover",
          "all cars/Land Rover",
          "all cars/Ford",
          "all cars/Buick",
          "all cars/Saturn",
          "all cars/Buick",
          "all cars/Suzuki",
          "all cars/Honda",
          "all cars/Kia",
          "all cars/Isuzu",
          "all cars/Isuzu",
          "all cars/Nissan",
          "all cars/Nissan",
          "all cars/Kia",
          "all cars/Volkswagen",
          "all cars/Chevrolet",
          "all cars/Mercedes-Benz",
          "all cars/Saturn",
          "all cars/Jaguar",
          "all cars/Honda",
          "all cars/Audi",
          "all cars/Volvo",
          "all cars/Audi",
          "all cars/Audi",
          "all cars/Volvo",
          "all cars/Audi",
          "all cars/Volvo",
          "all cars/Lexus",
          "all cars/Mercedes-Benz",
          "all cars/Mercedes-Benz",
          "all cars/Cadillac",
          "all cars/Chevrolet",
          "all cars/Chevrolet",
          "all cars/Cadillac",
          "all cars/Cadillac",
          "all cars/Suzuki",
          "all cars/Mercury",
          "all cars/GMC",
          "all cars/GMC",
          "all cars/Hyundai",
          "all cars/Hyundai",
          "all cars/GMC",
          "all cars/GMC",
          "all cars/Chrysler",
          "all cars/Kia",
          "all cars/Nissan",
          "all cars/Kia",
          "all cars/Toyota",
          "all cars/Cadillac",
          "all cars/Ford",
          "all cars/Toyota",
          "all cars/GMC",
          "all cars/GMC",
          "all cars/GMC",
          "all cars/GMC",
          "all cars/GMC",
          "all cars/GMC",
          "all cars/GMC",
          "all cars/GMC",
          "all cars/GMC",
          "all cars/Oldsmobile",
          "all cars/Chevrolet",
          "all cars/Chevrolet",
          "all cars/Chevrolet",
          "all cars/Chevrolet",
          "all cars/Chevrolet",
          "all cars/Chevrolet",
          "all cars/Chevrolet",
          "all cars/Chevrolet",
          "all cars/Chevrolet",
          "all cars/Chevrolet",
          "all cars/Saturn",
          "all cars/Pontiac",
          "all cars/Hyundai",
          "all cars/Hyundai",
          "all cars/Chevrolet",
          "all cars/GMC",
          "all cars/Kia",
          "all cars/Kia",
          "all cars/Chevrolet",
          "all cars/Chevrolet",
          "all cars/Kia",
          "all cars/Kia",
          "all cars/Dodge",
          "all cars/Mercedes-Benz",
          "all cars/Dodge",
          "all cars/Maserati",
          "all cars/Dodge",
          "all cars/Chevrolet",
          "all cars/Pontiac",
          "all cars/Acura",
          "all cars/Acura",
          "all cars/Acura",
          "all cars/Acura",
          "all cars/Audi",
          "all cars/Audi",
          "all cars/Toyota",
          "all cars/Chevrolet",
          "all cars/Chevrolet",
          "all cars/Ford",
          "all cars/Ford",
          "all cars/GMC",
          "all cars/Buick",
          "all cars/Ford",
          "all cars/Hyundai",
          "all cars/Volkswagen",
          "all cars/Nissan",
          "all cars/Pontiac",
          "all cars/Volkswagen",
          "all cars/Volkswagen",
          "all cars/Lincoln",
          "all cars/Chrysler",
          "all cars/Chevrolet",
          "all cars/Chevrolet",
          "all cars/Chevrolet",
          "all cars/Ford",
          "all cars/Ford",
          "all cars/Ford",
          "all cars/Chevrolet",
          "all cars/Subaru",
          "all cars/Mazda",
          "all cars/Mazda",
          "all cars/Isuzu",
          "all cars/Mazda",
          "all cars/Hyundai",
          "all cars/Toyota",
          "all cars/Chevrolet",
          "all cars/Volvo",
          "all cars/Volvo",
          "all cars/Volvo",
          "all cars/Volvo",
          "all cars/Saturn",
          "all cars/Saturn",
          "all cars/Hyundai",
          "all cars/Chevrolet",
          "all cars/Toyota",
          "all cars/Hyundai",
          "all cars/Buick",
          "all cars/Suzuki",
          "all cars/Nissan",
          "all cars/Nissan",
          "all cars/Pontiac",
          "all cars/Mercury",
          "all cars/Dodge",
          "all cars/Suzuki",
          "all cars/Chevrolet",
          "all cars/Chrysler",
          "all cars/Subaru",
          "all cars/Ford",
          "all cars/Ford",
          "all cars/Jeep",
          "all cars/Jaguar",
          "all cars/BMW",
          "all cars/BMW",
          "all cars/BMW",
          "all cars/BMW",
          "all cars/BMW",
          "all cars/Volvo",
          "all cars/Volvo",
          "all cars/Volvo",
          "all cars/Volvo",
          "all cars/Jaguar",
          "all cars/Hyundai",
          "all cars/Hyundai",
          "all cars/Jaguar",
          "all cars/Jaguar",
          "all cars/Jaguar",
          "all cars/Jaguar",
          "all cars/Suzuki",
          "all cars/Suzuki",
          "all cars/Cadillac",
          "all cars/Cadillac",
          "all cars/Subaru",
          "all cars/Nissan",
          "all cars/Toyota",
          "all cars/GMC",
          "all cars/GMC",
          "all cars/GMC",
          "all cars/BMW",
          "all cars/BMW",
          "all cars/BMW",
          "all cars/Acura",
          "all cars/Lincoln",
          "all cars/Honda",
          "all cars/Audi",
          "all cars/Audi",
          "all cars/smart",
          "all cars/Mitsubishi",
          "all cars/Isuzu",
          "all cars/Scion",
          "all cars/Chevrolet",
          "all cars/Acura",
          "all cars/Scion",
          "all cars/Scion",
          "all cars/Scion",
          "all cars/Scion",
          "all cars",
          "all cars",
          "all cars",
          "all cars",
          "all cars",
          "all cars",
          "all cars",
          "all cars",
          "all cars",
          "all cars",
          "all cars",
          "all cars",
          "all cars",
          "all cars",
          "all cars",
          "all cars",
          "all cars",
          "all cars",
          "all cars",
          "all cars",
          "all cars",
          "all cars",
          "all cars",
          "all cars",
          "all cars",
          "all cars",
          "all cars",
          "all cars",
          "all cars",
          "all cars",
          "all cars",
          "all cars",
          "all cars",
          "all cars",
          "all cars",
          "all cars",
          "all cars",
          "all cars",
          "all cars",
          "all cars",
          "all cars",
          "all cars",
          "all cars",
          "all cars",
          ""
         ],
         "type": "treemap",
         "values": [
          7638525,
          66331536,
          163650,
          45028420,
          11373850,
          375400,
          117935480,
          123150,
          50008754,
          96350,
          2602400,
          941900,
          4352150,
          548050,
          17988422,
          60844200,
          2971825,
          5074077,
          3851400,
          42400,
          260350,
          4901500,
          32250,
          33900,
          10844225,
          40100,
          1217800,
          226925,
          258150,
          384550,
          3983450,
          28006375,
          7591050,
          8922975,
          65600,
          1938700,
          4101404,
          34919887,
          15492877,
          87061475,
          1537175,
          255750,
          55250,
          158000,
          101600,
          31300,
          104025,
          220541858,
          589400,
          312550,
          11307807,
          104500,
          1986800,
          210100,
          89475,
          107150,
          2121775,
          19900,
          39075,
          15329625,
          11630237,
          1024300,
          35822371,
          2690550,
          521950,
          33750,
          3999600,
          12375,
          106750,
          2600,
          50800,
          570700,
          826850,
          281800,
          5799300,
          1052000,
          367500,
          53900,
          224275,
          170975,
          706500,
          1995250,
          39500,
          90890255,
          2863800,
          4725102,
          313900,
          250400,
          474150,
          1856852,
          8739603,
          139900,
          1844850,
          3451550,
          3544750,
          4280700,
          43382434,
          1105750,
          8151200,
          19883131,
          3595600,
          245300,
          535950,
          92100,
          62050,
          9718003,
          3610050,
          14823050,
          31600,
          5105650,
          6498025,
          35879405,
          139224283,
          8232437,
          1724900,
          1151650,
          13730456,
          425950,
          10300,
          303350,
          5001850,
          727600,
          343000,
          163500,
          283750,
          22956901,
          58853271,
          10911200,
          64004781,
          89475,
          5696025,
          7077325,
          5207050,
          16538690,
          41275,
          43900,
          22723175,
          4401625,
          9419800,
          615850,
          1797000,
          522150,
          67250591,
          7673052,
          16250,
          25500,
          320600,
          5411850,
          498200,
          70649714,
          2356500,
          3685920,
          3205760,
          443600,
          11959853,
          946020,
          23325,
          21300,
          25527741,
          63228455,
          34837301,
          24857607,
          99150,
          991150,
          1870900,
          1942500,
          37639075,
          3244450,
          814950,
          1574500,
          524125,
          3471425,
          979850,
          110524657,
          62894825,
          1262450,
          3185400,
          965675,
          29300,
          2081870,
          18607850,
          1748352,
          683600,
          295800,
          2611350,
          901300,
          191650,
          2208700,
          29700,
          60411952,
          2009050,
          15352151,
          8139400,
          2330000,
          852050,
          165020527,
          1223990,
          19275,
          1500,
          19300,
          1002950,
          32032137,
          807950,
          128364319,
          155575,
          3272550,
          5050652,
          9875550,
          234299559,
          123400,
          32974601,
          15225451,
          1527974,
          7078350,
          2989850,
          10261710,
          3653150,
          286000,
          129900,
          21887975,
          147150,
          3968825,
          1085525,
          22791811,
          96288676,
          1179200,
          364275,
          16340600,
          28225651,
          95550,
          458099,
          737925,
          19424308,
          159119570,
          1028950,
          10440147,
          8194600,
          35698600,
          147767406,
          191800,
          20150,
          80000,
          7620750,
          2895975,
          403550,
          186350,
          480150,
          7590001,
          1387500,
          14281301,
          32000,
          793400,
          18306261,
          1684150,
          15150350,
          346100,
          415475,
          109400,
          4340500,
          556400,
          2609290,
          2068000,
          2182025,
          14662089,
          4634100,
          2954950,
          167650,
          563350,
          32500,
          478225,
          90539943,
          61350747,
          1526625,
          2571850,
          1090225,
          5306950,
          1357200,
          4963188,
          129050,
          5523225,
          1194150,
          33629728,
          2592825,
          65650,
          263250,
          2633400,
          978950,
          36916225,
          2960800,
          467100,
          2645150,
          424300,
          392400,
          63416855,
          15231351,
          12677916,
          2706000,
          2067750,
          8500,
          55700,
          26725,
          8255251,
          36344943,
          885800,
          346750,
          2876700,
          13500,
          38813004,
          7107400,
          268600,
          195975,
          58750,
          400,
          1918750,
          569350,
          1507350,
          347675,
          3469400,
          8224040,
          97650,
          213250,
          97400,
          15030509,
          8315778,
          3119800,
          402600,
          630600,
          833625,
          15637546,
          15058950,
          300,
          19935283,
          3234610,
          2100,
          15750,
          21709326,
          26174325,
          2594199,
          2557100,
          1941097,
          538400,
          1116300,
          240450,
          840200,
          22870425,
          342100,
          18846027,
          3282350,
          23114060,
          29246300,
          143500,
          247250,
          49700,
          2697600,
          1600600,
          63949697,
          132000,
          127100,
          456700,
          34200,
          2069400,
          138200,
          958800,
          1900925,
          85808799,
          3441305,
          26420417,
          6294062,
          14215110,
          306250,
          12100,
          146300,
          85050,
          11700,
          593400,
          1293450,
          59200,
          41925,
          1661250,
          126025,
          11850,
          969625,
          277150,
          100400,
          173400,
          150335,
          1733875,
          38002873,
          1086250,
          66201759,
          622400,
          1214350,
          62900,
          462750,
          7971703,
          298350,
          362000,
          2757950,
          5372200,
          900,
          42154124,
          58803521,
          22515055,
          7260850,
          7410000,
          2183850,
          2780475,
          893400,
          123750,
          31798706,
          17425,
          29511615,
          19762575,
          64900,
          37672475,
          11200,
          18622306,
          756950,
          1501750,
          1747850,
          20400,
          1347600,
          73650,
          76950,
          53000,
          46750,
          30400,
          123200,
          11477650,
          13267983,
          99400,
          893600,
          5653350,
          686250,
          280700,
          137250,
          222000,
          6491585,
          2363751,
          1113750,
          1117300,
          7913003,
          3500750,
          158350,
          46323786,
          7678650,
          587150,
          420050,
          78200,
          109250,
          678400,
          726900,
          3795800,
          52994325,
          2010800,
          3084250,
          152100,
          429750,
          174650,
          314000,
          9300,
          21424575,
          7691625,
          3590150,
          3627830,
          1508000,
          7980900,
          14624865,
          6549428,
          136000,
          797350,
          72550,
          3413150,
          12398772,
          84675,
          6100,
          77144960,
          2031400,
          586225,
          2270700,
          483950,
          13859325,
          139550,
          632675,
          566950,
          2202100,
          1499475,
          2232550,
          293600,
          15837125,
          241050,
          1617675,
          966300,
          4904050,
          4496850,
          22637995,
          31250,
          489450,
          2146950,
          87550,
          1422875,
          331725,
          6800,
          4100,
          16023267,
          6029850,
          191700,
          12996300,
          4152690,
          7110283,
          47583601,
          4100,
          5688450,
          144650,
          542050,
          38673880,
          39324175,
          505250,
          34200,
          51200,
          17700,
          6101750,
          337100,
          165450,
          582950,
          42075,
          100648796,
          1579950,
          55200,
          322750,
          111100,
          17483955,
          921600,
          540750,
          45500,
          2007850,
          422750,
          656250,
          74969878,
          8502070,
          16242816,
          160975,
          49892923,
          31112860,
          2584026,
          23000,
          1182925,
          15607028,
          29600,
          1464551,
          1003400,
          50550,
          392350,
          26193766,
          88225,
          25211350,
          26200,
          15951350,
          672900,
          1097450,
          22000,
          23715326,
          33741592,
          468450,
          50703185,
          411650,
          19782200,
          179750,
          1160800,
          578180,
          7610002,
          10614865,
          1264450,
          3740050,
          453950,
          1457550,
          87046802,
          115125,
          4946100,
          647850,
          7846000,
          452650,
          485600,
          32293017,
          1116850,
          957250,
          20400,
          15000,
          18750,
          10465250,
          22041026,
          1005375,
          33050,
          322050,
          2209100,
          296825,
          2906725,
          82900,
          8069400,
          189770,
          9711303,
          1788075,
          5011451,
          36975,
          23262181,
          6788001,
          1016450,
          11150,
          94700,
          8375,
          6528950,
          22200,
          639500,
          213200,
          1125,
          74638308,
          509525,
          7281925,
          17945425,
          29748675,
          49000,
          1862950,
          51950,
          9688900,
          2351250,
          6696325,
          8153200,
          13450,
          146825,
          1344300,
          926050,
          284150,
          1090950,
          162275,
          678670,
          418300,
          3506301,
          4217430,
          10903429,
          9193285,
          16860001,
          552050,
          16709057,
          108300,
          3447300,
          101500,
          1029250,
          437900,
          82350,
          742100,
          111850,
          2467800,
          153100,
          46000,
          1084350,
          553100,
          92000,
          6528150,
          83550,
          3866950,
          1592100,
          77999525,
          74799700,
          271429229,
          52714425,
          88740372,
          635329622,
          192431166,
          1200,
          336229019,
          8967877,
          1256468962,
          154172295,
          11756388,
          294795334,
          235988111,
          282427534,
          290025,
          12940850,
          208343853,
          211048988,
          17229030,
          193657830,
          87066065,
          39479600,
          1225850,
          84685722,
          254558523,
          7591625,
          33809338,
          625272246,
          251400,
          46750,
          16637876,
          8452250,
          82725336,
          1742975,
          9457225,
          16144950,
          76951651,
          4167320,
          471195860,
          116408904,
          42934727,
          2467800,
          6601035328
         ]
        }
       ],
       "layout": {
        "coloraxis": {
         "cmid": 17163.930066847843,
         "colorbar": {
          "title": {
           "text": "sellingprice"
          }
         },
         "colorscale": [
          [
           0,
           "rgb(103,0,31)"
          ],
          [
           0.1,
           "rgb(178,24,43)"
          ],
          [
           0.2,
           "rgb(214,96,77)"
          ],
          [
           0.3,
           "rgb(244,165,130)"
          ],
          [
           0.4,
           "rgb(253,219,199)"
          ],
          [
           0.5,
           "rgb(247,247,247)"
          ],
          [
           0.6,
           "rgb(209,229,240)"
          ],
          [
           0.7,
           "rgb(146,197,222)"
          ],
          [
           0.8,
           "rgb(67,147,195)"
          ],
          [
           0.9,
           "rgb(33,102,172)"
          ],
          [
           1,
           "rgb(5,48,97)"
          ]
         ]
        },
        "legend": {
         "tracegroupgap": 0
        },
        "margin": {
         "b": 25,
         "l": 25,
         "r": 25,
         "t": 50
        },
        "template": {
         "data": {
          "bar": [
           {
            "error_x": {
             "color": "#2a3f5f"
            },
            "error_y": {
             "color": "#2a3f5f"
            },
            "marker": {
             "line": {
              "color": "#E5ECF6",
              "width": 0.5
             },
             "pattern": {
              "fillmode": "overlay",
              "size": 10,
              "solidity": 0.2
             }
            },
            "type": "bar"
           }
          ],
          "barpolar": [
           {
            "marker": {
             "line": {
              "color": "#E5ECF6",
              "width": 0.5
             },
             "pattern": {
              "fillmode": "overlay",
              "size": 10,
              "solidity": 0.2
             }
            },
            "type": "barpolar"
           }
          ],
          "carpet": [
           {
            "aaxis": {
             "endlinecolor": "#2a3f5f",
             "gridcolor": "white",
             "linecolor": "white",
             "minorgridcolor": "white",
             "startlinecolor": "#2a3f5f"
            },
            "baxis": {
             "endlinecolor": "#2a3f5f",
             "gridcolor": "white",
             "linecolor": "white",
             "minorgridcolor": "white",
             "startlinecolor": "#2a3f5f"
            },
            "type": "carpet"
           }
          ],
          "choropleth": [
           {
            "colorbar": {
             "outlinewidth": 0,
             "ticks": ""
            },
            "type": "choropleth"
           }
          ],
          "contour": [
           {
            "colorbar": {
             "outlinewidth": 0,
             "ticks": ""
            },
            "colorscale": [
             [
              0,
              "#0d0887"
             ],
             [
              0.1111111111111111,
              "#46039f"
             ],
             [
              0.2222222222222222,
              "#7201a8"
             ],
             [
              0.3333333333333333,
              "#9c179e"
             ],
             [
              0.4444444444444444,
              "#bd3786"
             ],
             [
              0.5555555555555556,
              "#d8576b"
             ],
             [
              0.6666666666666666,
              "#ed7953"
             ],
             [
              0.7777777777777778,
              "#fb9f3a"
             ],
             [
              0.8888888888888888,
              "#fdca26"
             ],
             [
              1,
              "#f0f921"
             ]
            ],
            "type": "contour"
           }
          ],
          "contourcarpet": [
           {
            "colorbar": {
             "outlinewidth": 0,
             "ticks": ""
            },
            "type": "contourcarpet"
           }
          ],
          "heatmap": [
           {
            "colorbar": {
             "outlinewidth": 0,
             "ticks": ""
            },
            "colorscale": [
             [
              0,
              "#0d0887"
             ],
             [
              0.1111111111111111,
              "#46039f"
             ],
             [
              0.2222222222222222,
              "#7201a8"
             ],
             [
              0.3333333333333333,
              "#9c179e"
             ],
             [
              0.4444444444444444,
              "#bd3786"
             ],
             [
              0.5555555555555556,
              "#d8576b"
             ],
             [
              0.6666666666666666,
              "#ed7953"
             ],
             [
              0.7777777777777778,
              "#fb9f3a"
             ],
             [
              0.8888888888888888,
              "#fdca26"
             ],
             [
              1,
              "#f0f921"
             ]
            ],
            "type": "heatmap"
           }
          ],
          "heatmapgl": [
           {
            "colorbar": {
             "outlinewidth": 0,
             "ticks": ""
            },
            "colorscale": [
             [
              0,
              "#0d0887"
             ],
             [
              0.1111111111111111,
              "#46039f"
             ],
             [
              0.2222222222222222,
              "#7201a8"
             ],
             [
              0.3333333333333333,
              "#9c179e"
             ],
             [
              0.4444444444444444,
              "#bd3786"
             ],
             [
              0.5555555555555556,
              "#d8576b"
             ],
             [
              0.6666666666666666,
              "#ed7953"
             ],
             [
              0.7777777777777778,
              "#fb9f3a"
             ],
             [
              0.8888888888888888,
              "#fdca26"
             ],
             [
              1,
              "#f0f921"
             ]
            ],
            "type": "heatmapgl"
           }
          ],
          "histogram": [
           {
            "marker": {
             "pattern": {
              "fillmode": "overlay",
              "size": 10,
              "solidity": 0.2
             }
            },
            "type": "histogram"
           }
          ],
          "histogram2d": [
           {
            "colorbar": {
             "outlinewidth": 0,
             "ticks": ""
            },
            "colorscale": [
             [
              0,
              "#0d0887"
             ],
             [
              0.1111111111111111,
              "#46039f"
             ],
             [
              0.2222222222222222,
              "#7201a8"
             ],
             [
              0.3333333333333333,
              "#9c179e"
             ],
             [
              0.4444444444444444,
              "#bd3786"
             ],
             [
              0.5555555555555556,
              "#d8576b"
             ],
             [
              0.6666666666666666,
              "#ed7953"
             ],
             [
              0.7777777777777778,
              "#fb9f3a"
             ],
             [
              0.8888888888888888,
              "#fdca26"
             ],
             [
              1,
              "#f0f921"
             ]
            ],
            "type": "histogram2d"
           }
          ],
          "histogram2dcontour": [
           {
            "colorbar": {
             "outlinewidth": 0,
             "ticks": ""
            },
            "colorscale": [
             [
              0,
              "#0d0887"
             ],
             [
              0.1111111111111111,
              "#46039f"
             ],
             [
              0.2222222222222222,
              "#7201a8"
             ],
             [
              0.3333333333333333,
              "#9c179e"
             ],
             [
              0.4444444444444444,
              "#bd3786"
             ],
             [
              0.5555555555555556,
              "#d8576b"
             ],
             [
              0.6666666666666666,
              "#ed7953"
             ],
             [
              0.7777777777777778,
              "#fb9f3a"
             ],
             [
              0.8888888888888888,
              "#fdca26"
             ],
             [
              1,
              "#f0f921"
             ]
            ],
            "type": "histogram2dcontour"
           }
          ],
          "mesh3d": [
           {
            "colorbar": {
             "outlinewidth": 0,
             "ticks": ""
            },
            "type": "mesh3d"
           }
          ],
          "parcoords": [
           {
            "line": {
             "colorbar": {
              "outlinewidth": 0,
              "ticks": ""
             }
            },
            "type": "parcoords"
           }
          ],
          "pie": [
           {
            "automargin": true,
            "type": "pie"
           }
          ],
          "scatter": [
           {
            "fillpattern": {
             "fillmode": "overlay",
             "size": 10,
             "solidity": 0.2
            },
            "type": "scatter"
           }
          ],
          "scatter3d": [
           {
            "line": {
             "colorbar": {
              "outlinewidth": 0,
              "ticks": ""
             }
            },
            "marker": {
             "colorbar": {
              "outlinewidth": 0,
              "ticks": ""
             }
            },
            "type": "scatter3d"
           }
          ],
          "scattercarpet": [
           {
            "marker": {
             "colorbar": {
              "outlinewidth": 0,
              "ticks": ""
             }
            },
            "type": "scattercarpet"
           }
          ],
          "scattergeo": [
           {
            "marker": {
             "colorbar": {
              "outlinewidth": 0,
              "ticks": ""
             }
            },
            "type": "scattergeo"
           }
          ],
          "scattergl": [
           {
            "marker": {
             "colorbar": {
              "outlinewidth": 0,
              "ticks": ""
             }
            },
            "type": "scattergl"
           }
          ],
          "scattermapbox": [
           {
            "marker": {
             "colorbar": {
              "outlinewidth": 0,
              "ticks": ""
             }
            },
            "type": "scattermapbox"
           }
          ],
          "scatterpolar": [
           {
            "marker": {
             "colorbar": {
              "outlinewidth": 0,
              "ticks": ""
             }
            },
            "type": "scatterpolar"
           }
          ],
          "scatterpolargl": [
           {
            "marker": {
             "colorbar": {
              "outlinewidth": 0,
              "ticks": ""
             }
            },
            "type": "scatterpolargl"
           }
          ],
          "scatterternary": [
           {
            "marker": {
             "colorbar": {
              "outlinewidth": 0,
              "ticks": ""
             }
            },
            "type": "scatterternary"
           }
          ],
          "surface": [
           {
            "colorbar": {
             "outlinewidth": 0,
             "ticks": ""
            },
            "colorscale": [
             [
              0,
              "#0d0887"
             ],
             [
              0.1111111111111111,
              "#46039f"
             ],
             [
              0.2222222222222222,
              "#7201a8"
             ],
             [
              0.3333333333333333,
              "#9c179e"
             ],
             [
              0.4444444444444444,
              "#bd3786"
             ],
             [
              0.5555555555555556,
              "#d8576b"
             ],
             [
              0.6666666666666666,
              "#ed7953"
             ],
             [
              0.7777777777777778,
              "#fb9f3a"
             ],
             [
              0.8888888888888888,
              "#fdca26"
             ],
             [
              1,
              "#f0f921"
             ]
            ],
            "type": "surface"
           }
          ],
          "table": [
           {
            "cells": {
             "fill": {
              "color": "#EBF0F8"
             },
             "line": {
              "color": "white"
             }
            },
            "header": {
             "fill": {
              "color": "#C8D4E3"
             },
             "line": {
              "color": "white"
             }
            },
            "type": "table"
           }
          ]
         },
         "layout": {
          "annotationdefaults": {
           "arrowcolor": "#2a3f5f",
           "arrowhead": 0,
           "arrowwidth": 1
          },
          "autotypenumbers": "strict",
          "coloraxis": {
           "colorbar": {
            "outlinewidth": 0,
            "ticks": ""
           }
          },
          "colorscale": {
           "diverging": [
            [
             0,
             "#8e0152"
            ],
            [
             0.1,
             "#c51b7d"
            ],
            [
             0.2,
             "#de77ae"
            ],
            [
             0.3,
             "#f1b6da"
            ],
            [
             0.4,
             "#fde0ef"
            ],
            [
             0.5,
             "#f7f7f7"
            ],
            [
             0.6,
             "#e6f5d0"
            ],
            [
             0.7,
             "#b8e186"
            ],
            [
             0.8,
             "#7fbc41"
            ],
            [
             0.9,
             "#4d9221"
            ],
            [
             1,
             "#276419"
            ]
           ],
           "sequential": [
            [
             0,
             "#0d0887"
            ],
            [
             0.1111111111111111,
             "#46039f"
            ],
            [
             0.2222222222222222,
             "#7201a8"
            ],
            [
             0.3333333333333333,
             "#9c179e"
            ],
            [
             0.4444444444444444,
             "#bd3786"
            ],
            [
             0.5555555555555556,
             "#d8576b"
            ],
            [
             0.6666666666666666,
             "#ed7953"
            ],
            [
             0.7777777777777778,
             "#fb9f3a"
            ],
            [
             0.8888888888888888,
             "#fdca26"
            ],
            [
             1,
             "#f0f921"
            ]
           ],
           "sequentialminus": [
            [
             0,
             "#0d0887"
            ],
            [
             0.1111111111111111,
             "#46039f"
            ],
            [
             0.2222222222222222,
             "#7201a8"
            ],
            [
             0.3333333333333333,
             "#9c179e"
            ],
            [
             0.4444444444444444,
             "#bd3786"
            ],
            [
             0.5555555555555556,
             "#d8576b"
            ],
            [
             0.6666666666666666,
             "#ed7953"
            ],
            [
             0.7777777777777778,
             "#fb9f3a"
            ],
            [
             0.8888888888888888,
             "#fdca26"
            ],
            [
             1,
             "#f0f921"
            ]
           ]
          },
          "colorway": [
           "#636efa",
           "#EF553B",
           "#00cc96",
           "#ab63fa",
           "#FFA15A",
           "#19d3f3",
           "#FF6692",
           "#B6E880",
           "#FF97FF",
           "#FECB52"
          ],
          "font": {
           "color": "#2a3f5f"
          },
          "geo": {
           "bgcolor": "white",
           "lakecolor": "white",
           "landcolor": "#E5ECF6",
           "showlakes": true,
           "showland": true,
           "subunitcolor": "white"
          },
          "hoverlabel": {
           "align": "left"
          },
          "hovermode": "closest",
          "mapbox": {
           "style": "light"
          },
          "paper_bgcolor": "white",
          "plot_bgcolor": "#E5ECF6",
          "polar": {
           "angularaxis": {
            "gridcolor": "white",
            "linecolor": "white",
            "ticks": ""
           },
           "bgcolor": "#E5ECF6",
           "radialaxis": {
            "gridcolor": "white",
            "linecolor": "white",
            "ticks": ""
           }
          },
          "scene": {
           "xaxis": {
            "backgroundcolor": "#E5ECF6",
            "gridcolor": "white",
            "gridwidth": 2,
            "linecolor": "white",
            "showbackground": true,
            "ticks": "",
            "zerolinecolor": "white"
           },
           "yaxis": {
            "backgroundcolor": "#E5ECF6",
            "gridcolor": "white",
            "gridwidth": 2,
            "linecolor": "white",
            "showbackground": true,
            "ticks": "",
            "zerolinecolor": "white"
           },
           "zaxis": {
            "backgroundcolor": "#E5ECF6",
            "gridcolor": "white",
            "gridwidth": 2,
            "linecolor": "white",
            "showbackground": true,
            "ticks": "",
            "zerolinecolor": "white"
           }
          },
          "shapedefaults": {
           "line": {
            "color": "#2a3f5f"
           }
          },
          "ternary": {
           "aaxis": {
            "gridcolor": "white",
            "linecolor": "white",
            "ticks": ""
           },
           "baxis": {
            "gridcolor": "white",
            "linecolor": "white",
            "ticks": ""
           },
           "bgcolor": "#E5ECF6",
           "caxis": {
            "gridcolor": "white",
            "linecolor": "white",
            "ticks": ""
           }
          },
          "title": {
           "x": 0.05
          },
          "xaxis": {
           "automargin": true,
           "gridcolor": "white",
           "linecolor": "white",
           "ticks": "",
           "title": {
            "standoff": 15
           },
           "zerolinecolor": "white",
           "zerolinewidth": 2
          },
          "yaxis": {
           "automargin": true,
           "gridcolor": "white",
           "linecolor": "white",
           "ticks": "",
           "title": {
            "standoff": 15
           },
           "zerolinecolor": "white",
           "zerolinewidth": 2
          }
         }
        }
       }
      }
     },
     "metadata": {},
     "output_type": "display_data"
    }
   ],
   "source": [
    "import plotly.express as px\n",
    "import numpy as np\n",
    "\n",
    "# Treemap에 사용할 데이터 준비\n",
    "# 필요한 컬럼: 'year', 'make', 'model', 'sellingprice'\n",
    "# 데이터 프레임을 새로운 데이터 프레임으로 생성\n",
    "treemap_df = df[['make', 'model', 'sellingprice']]\n",
    "\n",
    "# Treemap 생성\n",
    "fig = px.treemap(treemap_df, path=[px.Constant(\"all cars\"), 'make', 'model'], values='sellingprice',\n",
    "                 color='sellingprice', hover_data=['make', 'model'],\n",
    "                 color_continuous_scale='RdBu',\n",
    "                 color_continuous_midpoint=np.average(treemap_df['sellingprice'], weights=treemap_df['sellingprice']))\n",
    "\n",
    "# 레이아웃 업데이트\n",
    "fig.update_layout(margin=dict(t=50, l=25, r=25, b=25))\n",
    "\n",
    "# Treemap 표시\n",
    "fig.show()"
   ]
  },
  {
   "cell_type": "markdown",
   "metadata": {},
   "source": [
    "# 3. 버블차트 (Bubbel chart)\n",
    "    - 버블 차트는 산점도의 확장된 형태로, 데이터 포인트의 크기를 추가 변수로 시각화\n",
    "    - 각 버블의 위치는 두 변수의 값을 나타내고, 크기는 세 번째 변수를 나타냄\n",
    "- 예시:\n",
    "    - GDP와 기대 수명: 각 국가의 GDP와 기대 수명을 시각화하고, 버블 크기로 인구 수를 나타냄\n",
    "    - 매출과 이익률: 제품별 매출과 이익률을 시각화하고, 버블 크기로 시장 점유율을 나타냄"
   ]
  },
  {
   "cell_type": "code",
   "execution_count": 117,
   "metadata": {},
   "outputs": [
    {
     "data": {
      "text/html": [
       "<div>\n",
       "<style scoped>\n",
       "    .dataframe tbody tr th:only-of-type {\n",
       "        vertical-align: middle;\n",
       "    }\n",
       "\n",
       "    .dataframe tbody tr th {\n",
       "        vertical-align: top;\n",
       "    }\n",
       "\n",
       "    .dataframe thead th {\n",
       "        text-align: right;\n",
       "    }\n",
       "</style>\n",
       "<table border=\"1\" class=\"dataframe\">\n",
       "  <thead>\n",
       "    <tr style=\"text-align: right;\">\n",
       "      <th></th>\n",
       "      <th>year</th>\n",
       "      <th>mmr</th>\n",
       "      <th>sellingprice</th>\n",
       "      <th>saledate</th>\n",
       "      <th>saledateYear</th>\n",
       "      <th>saledateMonth</th>\n",
       "      <th>saledateDay</th>\n",
       "      <th>salesvolume</th>\n",
       "    </tr>\n",
       "  </thead>\n",
       "  <tbody>\n",
       "    <tr>\n",
       "      <th>count</th>\n",
       "      <td>512612.000000</td>\n",
       "      <td>512612.000000</td>\n",
       "      <td>512612.000000</td>\n",
       "      <td>512612</td>\n",
       "      <td>512612.000000</td>\n",
       "      <td>512612.000000</td>\n",
       "      <td>512612.000000</td>\n",
       "      <td>512612.000000</td>\n",
       "    </tr>\n",
       "    <tr>\n",
       "      <th>mean</th>\n",
       "      <td>2010.314245</td>\n",
       "      <td>13048.753931</td>\n",
       "      <td>12877.254781</td>\n",
       "      <td>2015-03-06 06:22:29.905191680</td>\n",
       "      <td>2014.905978</td>\n",
       "      <td>3.781162</td>\n",
       "      <td>15.384181</td>\n",
       "      <td>4947.071563</td>\n",
       "    </tr>\n",
       "    <tr>\n",
       "      <th>min</th>\n",
       "      <td>2001.000000</td>\n",
       "      <td>25.000000</td>\n",
       "      <td>1.000000</td>\n",
       "      <td>2014-01-01 00:00:00</td>\n",
       "      <td>2014.000000</td>\n",
       "      <td>1.000000</td>\n",
       "      <td>1.000000</td>\n",
       "      <td>1.000000</td>\n",
       "    </tr>\n",
       "    <tr>\n",
       "      <th>25%</th>\n",
       "      <td>2008.000000</td>\n",
       "      <td>7550.000000</td>\n",
       "      <td>7300.000000</td>\n",
       "      <td>2015-01-21 00:00:00</td>\n",
       "      <td>2015.000000</td>\n",
       "      <td>1.000000</td>\n",
       "      <td>8.000000</td>\n",
       "      <td>1225.000000</td>\n",
       "    </tr>\n",
       "    <tr>\n",
       "      <th>50%</th>\n",
       "      <td>2012.000000</td>\n",
       "      <td>12250.000000</td>\n",
       "      <td>12100.000000</td>\n",
       "      <td>2015-02-13 00:00:00</td>\n",
       "      <td>2015.000000</td>\n",
       "      <td>2.000000</td>\n",
       "      <td>16.000000</td>\n",
       "      <td>3487.000000</td>\n",
       "    </tr>\n",
       "    <tr>\n",
       "      <th>75%</th>\n",
       "      <td>2013.000000</td>\n",
       "      <td>17700.000000</td>\n",
       "      <td>17600.000000</td>\n",
       "      <td>2015-05-22 00:00:00</td>\n",
       "      <td>2015.000000</td>\n",
       "      <td>6.000000</td>\n",
       "      <td>22.000000</td>\n",
       "      <td>7024.000000</td>\n",
       "    </tr>\n",
       "    <tr>\n",
       "      <th>max</th>\n",
       "      <td>2015.000000</td>\n",
       "      <td>34700.000000</td>\n",
       "      <td>33525.000000</td>\n",
       "      <td>2015-07-21 00:00:00</td>\n",
       "      <td>2015.000000</td>\n",
       "      <td>12.000000</td>\n",
       "      <td>31.000000</td>\n",
       "      <td>19116.000000</td>\n",
       "    </tr>\n",
       "    <tr>\n",
       "      <th>std</th>\n",
       "      <td>3.479338</td>\n",
       "      <td>7347.829129</td>\n",
       "      <td>7429.718534</td>\n",
       "      <td>NaN</td>\n",
       "      <td>0.291860</td>\n",
       "      <td>3.210005</td>\n",
       "      <td>8.547369</td>\n",
       "      <td>4611.999632</td>\n",
       "    </tr>\n",
       "  </tbody>\n",
       "</table>\n",
       "</div>"
      ],
      "text/plain": [
       "                year            mmr   sellingprice  \\\n",
       "count  512612.000000  512612.000000  512612.000000   \n",
       "mean     2010.314245   13048.753931   12877.254781   \n",
       "min      2001.000000      25.000000       1.000000   \n",
       "25%      2008.000000    7550.000000    7300.000000   \n",
       "50%      2012.000000   12250.000000   12100.000000   \n",
       "75%      2013.000000   17700.000000   17600.000000   \n",
       "max      2015.000000   34700.000000   33525.000000   \n",
       "std         3.479338    7347.829129    7429.718534   \n",
       "\n",
       "                            saledate   saledateYear  saledateMonth  \\\n",
       "count                         512612  512612.000000  512612.000000   \n",
       "mean   2015-03-06 06:22:29.905191680    2014.905978       3.781162   \n",
       "min              2014-01-01 00:00:00    2014.000000       1.000000   \n",
       "25%              2015-01-21 00:00:00    2015.000000       1.000000   \n",
       "50%              2015-02-13 00:00:00    2015.000000       2.000000   \n",
       "75%              2015-05-22 00:00:00    2015.000000       6.000000   \n",
       "max              2015-07-21 00:00:00    2015.000000      12.000000   \n",
       "std                              NaN       0.291860       3.210005   \n",
       "\n",
       "         saledateDay    salesvolume  \n",
       "count  512612.000000  512612.000000  \n",
       "mean       15.384181    4947.071563  \n",
       "min         1.000000       1.000000  \n",
       "25%         8.000000    1225.000000  \n",
       "50%        16.000000    3487.000000  \n",
       "75%        22.000000    7024.000000  \n",
       "max        31.000000   19116.000000  \n",
       "std         8.547369    4611.999632  "
      ]
     },
     "execution_count": 117,
     "metadata": {},
     "output_type": "execute_result"
    }
   ],
   "source": [
    "# 모델별 판매량 계산\n",
    "sales_volume = df['model'].value_counts().reset_index()\n",
    "sales_volume.columns = ['model', 'salesvolume']\n",
    "\n",
    "# 판매량을 원래 데이터프레임에 추가\n",
    "df = df.merge(sales_volume, on='model')\n",
    "\n",
    "df.describe()"
   ]
  },
  {
   "cell_type": "code",
   "execution_count": 138,
   "metadata": {},
   "outputs": [
    {
     "data": {
      "text/html": [
       "<div>\n",
       "<style scoped>\n",
       "    .dataframe tbody tr th:only-of-type {\n",
       "        vertical-align: middle;\n",
       "    }\n",
       "\n",
       "    .dataframe tbody tr th {\n",
       "        vertical-align: top;\n",
       "    }\n",
       "\n",
       "    .dataframe thead th {\n",
       "        text-align: right;\n",
       "    }\n",
       "</style>\n",
       "<table border=\"1\" class=\"dataframe\">\n",
       "  <thead>\n",
       "    <tr style=\"text-align: right;\">\n",
       "      <th></th>\n",
       "      <th>mmr</th>\n",
       "      <th>sellingprice</th>\n",
       "      <th>salesvolume</th>\n",
       "    </tr>\n",
       "    <tr>\n",
       "      <th>model</th>\n",
       "      <th></th>\n",
       "      <th></th>\n",
       "      <th></th>\n",
       "    </tr>\n",
       "  </thead>\n",
       "  <tbody>\n",
       "    <tr>\n",
       "      <th>Amanti</th>\n",
       "      <td>3180</td>\n",
       "      <td>3094</td>\n",
       "      <td>101.0</td>\n",
       "    </tr>\n",
       "    <tr>\n",
       "      <th>Borrego</th>\n",
       "      <td>9127</td>\n",
       "      <td>8722</td>\n",
       "      <td>81.0</td>\n",
       "    </tr>\n",
       "    <tr>\n",
       "      <th>Cadenza</th>\n",
       "      <td>20898</td>\n",
       "      <td>20839</td>\n",
       "      <td>245.0</td>\n",
       "    </tr>\n",
       "    <tr>\n",
       "      <th>Forte</th>\n",
       "      <td>10423</td>\n",
       "      <td>10263</td>\n",
       "      <td>2750.0</td>\n",
       "    </tr>\n",
       "    <tr>\n",
       "      <th>Optima</th>\n",
       "      <td>13552</td>\n",
       "      <td>13400</td>\n",
       "      <td>4388.0</td>\n",
       "    </tr>\n",
       "  </tbody>\n",
       "</table>\n",
       "</div>"
      ],
      "text/plain": [
       "           mmr  sellingprice  salesvolume\n",
       "model                                    \n",
       "Amanti    3180          3094        101.0\n",
       "Borrego   9127          8722         81.0\n",
       "Cadenza  20898         20839        245.0\n",
       "Forte    10423         10263       2750.0\n",
       "Optima   13552         13400       4388.0"
      ]
     },
     "execution_count": 138,
     "metadata": {},
     "output_type": "execute_result"
    }
   ],
   "source": [
    "# 기아자동차 데이터 필터링\n",
    "kia_df = df[df['make'] == 'Kia']\n",
    "\n",
    "kia_grouped = kia_df.groupby('model').agg({'mmr':'mean', 'sellingprice':'mean', 'salesvolume':'mean'})\n",
    "kia_grouped[['mmr','sellingprice']] = kia_grouped[['mmr','sellingprice']].astype(int)\n",
    "kia_df = kia_grouped\n",
    "\n",
    "kia_df.head()"
   ]
  },
  {
   "cell_type": "code",
   "execution_count": 146,
   "metadata": {},
   "outputs": [
    {
     "data": {
      "image/png": "[encoded data removed]",
      "text/plain": [
       "<Figure size 1400x1000 with 2 Axes>"
      ]
     },
     "metadata": {},
     "output_type": "display_data"
    }
   ],
   "source": [
    "# 버블 차트 생성\n",
    "plt.figure(figsize=(14, 10))\n",
    "scatter = plt.scatter(x = kia_df['mmr'], y = kia_df['sellingprice'], \n",
    "                      s=kia_df['salesvolume']*10, alpha=0.6, \n",
    "                      c=kia_df['salesvolume'], cmap='viridis', \n",
    "                      edgecolor='w', linewidth=0.5)\n",
    "\n",
    "# 데이터 라벨 추가\n",
    "for i in range(kia_df.shape[0]):\n",
    "    plt.text(kia_df['mmr'].iloc[i], kia_df['sellingprice'].iloc[i], \n",
    "             kia_df.index[i], fontsize=9, ha='center', va='center')\n",
    "\n",
    "plt.title('Kia: MMR vs Selling Price')\n",
    "plt.xlabel('MMR')\n",
    "plt.ylabel('Selling Price')\n",
    "plt.colorbar(scatter, label='Sales Volume')\n",
    "plt.grid(True, linestyle='--', alpha=0.6)\n",
    "plt.show()"
   ]
  },
  {
   "cell_type": "markdown",
   "metadata": {},
   "source": [
    "# 4. 레이더 차트 (Radar Chart)\n",
    "    - 여러 변수를 축으로 하여 다각형으로 시각화하는 방법\n",
    "    - 각 축은 하나의 변수를 나타내며, 중앙에서 각 축까지의 거리는 변수의 값\n",
    "- 예시:\n",
    "    - 선수의 성과 평가: 다양한 성과 지표를 시각화하여 선수의 강점과 약점 파악\n",
    "    - 제품 비교: 여러 제품의 다양한 특성을 시각화하여 비교"
   ]
  },
  {
   "cell_type": "code",
   "execution_count": 147,
   "metadata": {},
   "outputs": [
    {
     "data": {
      "text/html": [
       "<div>\n",
       "<style scoped>\n",
       "    .dataframe tbody tr th:only-of-type {\n",
       "        vertical-align: middle;\n",
       "    }\n",
       "\n",
       "    .dataframe tbody tr th {\n",
       "        vertical-align: top;\n",
       "    }\n",
       "\n",
       "    .dataframe thead th {\n",
       "        text-align: right;\n",
       "    }\n",
       "</style>\n",
       "<table border=\"1\" class=\"dataframe\">\n",
       "  <thead>\n",
       "    <tr style=\"text-align: right;\">\n",
       "      <th></th>\n",
       "      <th>year</th>\n",
       "      <th>make</th>\n",
       "      <th>model</th>\n",
       "      <th>body</th>\n",
       "      <th>color</th>\n",
       "      <th>interior</th>\n",
       "      <th>mmr</th>\n",
       "      <th>sellingprice</th>\n",
       "      <th>saledate</th>\n",
       "      <th>saledateYear</th>\n",
       "      <th>saledateMonth</th>\n",
       "      <th>saledateDay</th>\n",
       "      <th>salesvolume</th>\n",
       "    </tr>\n",
       "  </thead>\n",
       "  <tbody>\n",
       "    <tr>\n",
       "      <th>0</th>\n",
       "      <td>2015</td>\n",
       "      <td>Kia</td>\n",
       "      <td>Sorento</td>\n",
       "      <td>SUV</td>\n",
       "      <td>white</td>\n",
       "      <td>black</td>\n",
       "      <td>20500.0</td>\n",
       "      <td>21500.0</td>\n",
       "      <td>2014-12-16</td>\n",
       "      <td>2014</td>\n",
       "      <td>12</td>\n",
       "      <td>16</td>\n",
       "      <td>3407</td>\n",
       "    </tr>\n",
       "    <tr>\n",
       "      <th>1</th>\n",
       "      <td>2015</td>\n",
       "      <td>Kia</td>\n",
       "      <td>Sorento</td>\n",
       "      <td>SUV</td>\n",
       "      <td>white</td>\n",
       "      <td>beige</td>\n",
       "      <td>20800.0</td>\n",
       "      <td>21500.0</td>\n",
       "      <td>2014-12-16</td>\n",
       "      <td>2014</td>\n",
       "      <td>12</td>\n",
       "      <td>16</td>\n",
       "      <td>3407</td>\n",
       "    </tr>\n",
       "    <tr>\n",
       "      <th>2</th>\n",
       "      <td>2014</td>\n",
       "      <td>BMW</td>\n",
       "      <td>3 Series</td>\n",
       "      <td>Sedan</td>\n",
       "      <td>gray</td>\n",
       "      <td>black</td>\n",
       "      <td>31900.0</td>\n",
       "      <td>30000.0</td>\n",
       "      <td>2015-01-15</td>\n",
       "      <td>2015</td>\n",
       "      <td>1</td>\n",
       "      <td>15</td>\n",
       "      <td>7419</td>\n",
       "    </tr>\n",
       "    <tr>\n",
       "      <th>3</th>\n",
       "      <td>2015</td>\n",
       "      <td>Volvo</td>\n",
       "      <td>S60</td>\n",
       "      <td>Sedan</td>\n",
       "      <td>white</td>\n",
       "      <td>black</td>\n",
       "      <td>27500.0</td>\n",
       "      <td>27750.0</td>\n",
       "      <td>2015-01-29</td>\n",
       "      <td>2015</td>\n",
       "      <td>1</td>\n",
       "      <td>29</td>\n",
       "      <td>1151</td>\n",
       "    </tr>\n",
       "    <tr>\n",
       "      <th>4</th>\n",
       "      <td>2015</td>\n",
       "      <td>Nissan</td>\n",
       "      <td>Altima</td>\n",
       "      <td>Sedan</td>\n",
       "      <td>gray</td>\n",
       "      <td>black</td>\n",
       "      <td>15350.0</td>\n",
       "      <td>10900.0</td>\n",
       "      <td>2014-12-30</td>\n",
       "      <td>2014</td>\n",
       "      <td>12</td>\n",
       "      <td>30</td>\n",
       "      <td>19116</td>\n",
       "    </tr>\n",
       "  </tbody>\n",
       "</table>\n",
       "</div>"
      ],
      "text/plain": [
       "   year    make     model   body  color interior      mmr  sellingprice  \\\n",
       "0  2015     Kia   Sorento    SUV  white    black  20500.0       21500.0   \n",
       "1  2015     Kia   Sorento    SUV  white    beige  20800.0       21500.0   \n",
       "2  2014     BMW  3 Series  Sedan   gray    black  31900.0       30000.0   \n",
       "3  2015   Volvo       S60  Sedan  white    black  27500.0       27750.0   \n",
       "4  2015  Nissan    Altima  Sedan   gray    black  15350.0       10900.0   \n",
       "\n",
       "    saledate  saledateYear  saledateMonth  saledateDay  salesvolume  \n",
       "0 2014-12-16          2014             12           16         3407  \n",
       "1 2014-12-16          2014             12           16         3407  \n",
       "2 2015-01-15          2015              1           15         7419  \n",
       "3 2015-01-29          2015              1           29         1151  \n",
       "4 2014-12-30          2014             12           30        19116  "
      ]
     },
     "execution_count": 147,
     "metadata": {},
     "output_type": "execute_result"
    }
   ],
   "source": [
    "df.head()"
   ]
  },
  {
   "cell_type": "code",
   "execution_count": 179,
   "metadata": {},
   "outputs": [
    {
     "data": {
      "text/html": [
       "<div>\n",
       "<style scoped>\n",
       "    .dataframe tbody tr th:only-of-type {\n",
       "        vertical-align: middle;\n",
       "    }\n",
       "\n",
       "    .dataframe tbody tr th {\n",
       "        vertical-align: top;\n",
       "    }\n",
       "\n",
       "    .dataframe thead th {\n",
       "        text-align: right;\n",
       "    }\n",
       "</style>\n",
       "<table border=\"1\" class=\"dataframe\">\n",
       "  <thead>\n",
       "    <tr style=\"text-align: right;\">\n",
       "      <th></th>\n",
       "      <th>year</th>\n",
       "      <th>make</th>\n",
       "      <th>model</th>\n",
       "      <th>body</th>\n",
       "      <th>color</th>\n",
       "      <th>interior</th>\n",
       "      <th>mmr</th>\n",
       "      <th>sellingprice</th>\n",
       "      <th>saledate</th>\n",
       "      <th>saledateYear</th>\n",
       "      <th>saledateMonth</th>\n",
       "      <th>saledateDay</th>\n",
       "      <th>salesvolume</th>\n",
       "    </tr>\n",
       "  </thead>\n",
       "  <tbody>\n",
       "    <tr>\n",
       "      <th>2</th>\n",
       "      <td>2014</td>\n",
       "      <td>BMW</td>\n",
       "      <td>3 Series</td>\n",
       "      <td>Sedan</td>\n",
       "      <td>gray</td>\n",
       "      <td>black</td>\n",
       "      <td>31900.0</td>\n",
       "      <td>30000.0</td>\n",
       "      <td>2015-01-15</td>\n",
       "      <td>2015</td>\n",
       "      <td>1</td>\n",
       "      <td>15</td>\n",
       "      <td>7419</td>\n",
       "    </tr>\n",
       "    <tr>\n",
       "      <th>16</th>\n",
       "      <td>2014</td>\n",
       "      <td>BMW</td>\n",
       "      <td>5 Series</td>\n",
       "      <td>Sedan</td>\n",
       "      <td>black</td>\n",
       "      <td>black</td>\n",
       "      <td>34200.0</td>\n",
       "      <td>30000.0</td>\n",
       "      <td>2015-02-03</td>\n",
       "      <td>2015</td>\n",
       "      <td>2</td>\n",
       "      <td>3</td>\n",
       "      <td>3371</td>\n",
       "    </tr>\n",
       "    <tr>\n",
       "      <th>27</th>\n",
       "      <td>2014</td>\n",
       "      <td>BMW</td>\n",
       "      <td>3 Series</td>\n",
       "      <td>Sedan</td>\n",
       "      <td>black</td>\n",
       "      <td>—</td>\n",
       "      <td>32200.0</td>\n",
       "      <td>30500.0</td>\n",
       "      <td>2015-01-15</td>\n",
       "      <td>2015</td>\n",
       "      <td>1</td>\n",
       "      <td>15</td>\n",
       "      <td>7419</td>\n",
       "    </tr>\n",
       "    <tr>\n",
       "      <th>28</th>\n",
       "      <td>2014</td>\n",
       "      <td>BMW</td>\n",
       "      <td>3 Series</td>\n",
       "      <td>Sedan</td>\n",
       "      <td>white</td>\n",
       "      <td>black</td>\n",
       "      <td>30200.0</td>\n",
       "      <td>27500.0</td>\n",
       "      <td>2015-01-15</td>\n",
       "      <td>2015</td>\n",
       "      <td>1</td>\n",
       "      <td>15</td>\n",
       "      <td>7419</td>\n",
       "    </tr>\n",
       "    <tr>\n",
       "      <th>50</th>\n",
       "      <td>2014</td>\n",
       "      <td>BMW</td>\n",
       "      <td>X1</td>\n",
       "      <td>SUV</td>\n",
       "      <td>white</td>\n",
       "      <td>black</td>\n",
       "      <td>23700.0</td>\n",
       "      <td>26500.0</td>\n",
       "      <td>2014-12-18</td>\n",
       "      <td>2014</td>\n",
       "      <td>12</td>\n",
       "      <td>18</td>\n",
       "      <td>270</td>\n",
       "    </tr>\n",
       "  </tbody>\n",
       "</table>\n",
       "</div>"
      ],
      "text/plain": [
       "    year make     model   body  color interior      mmr  sellingprice  \\\n",
       "2   2014  BMW  3 Series  Sedan   gray    black  31900.0       30000.0   \n",
       "16  2014  BMW  5 Series  Sedan  black    black  34200.0       30000.0   \n",
       "27  2014  BMW  3 Series  Sedan  black        —  32200.0       30500.0   \n",
       "28  2014  BMW  3 Series  Sedan  white    black  30200.0       27500.0   \n",
       "50  2014  BMW        X1    SUV  white    black  23700.0       26500.0   \n",
       "\n",
       "     saledate  saledateYear  saledateMonth  saledateDay  salesvolume  \n",
       "2  2015-01-15          2015              1           15         7419  \n",
       "16 2015-02-03          2015              2            3         3371  \n",
       "27 2015-01-15          2015              1           15         7419  \n",
       "28 2015-01-15          2015              1           15         7419  \n",
       "50 2014-12-18          2014             12           18          270  "
      ]
     },
     "execution_count": 179,
     "metadata": {},
     "output_type": "execute_result"
    }
   ],
   "source": [
    "# BMW 데이터 필터링\n",
    "bmw_df = df[df['make'] == 'BMW']\n",
    "\n",
    "# color별 판매량 계산\n",
    "color_sales = bmw_df.groupby('color')['salesvolume'].sum()\n",
    "\n",
    "# 판매량을 1~10 사이로 스케일링\n",
    "min_sales = color_sales.min()\n",
    "max_sales = color_sales.max()\n",
    "scaled_sales = 1 + 10 * (color_sales - min_sales) / (max_sales - min_sales)\n",
    "\n",
    "# 레이더 차트를 위한 데이터 준비\n",
    "labels = scaled_sales.index # 색상별 판매량의 색상 이름(색상 라벨)을 가져옴\n",
    "values = scaled_sales.values    # 스케일링된 판매량 값을 가져옴\n",
    "num_vars = len(labels)  # 색상의 개수\n",
    "\n",
    "bmw_df.head()\n"
   ]
  },
  {
   "cell_type": "code",
   "execution_count": 180,
   "metadata": {},
   "outputs": [
    {
     "data": {
      "image/png": "[encoded data removed]",
      "text/plain": [
       "<Figure size 800x800 with 1 Axes>"
      ]
     },
     "metadata": {},
     "output_type": "display_data"
    }
   ],
   "source": [
    "\n",
    "\n",
    "# 레이더 차트 그리기\n",
    "angles = np.linspace(0, 2 * np.pi, num_vars, endpoint=False).tolist()\n",
    "values = np.concatenate((values, [values[0]]))  # 값들을 닫아줌\n",
    "angles += angles[:1]  # 각도도 닫아줌\n",
    "\n",
    "fig, ax = plt.subplots(figsize=(8, 8), subplot_kw=dict(polar=True))\n",
    "ax.fill(angles, values, color='blue', alpha=0.4)\n",
    "ax.plot(angles, values, color='blue', linewidth=2)\n",
    "\n",
    "ax.set_yticklabels([])  # 원형 눈금 지움\n",
    "ax.set_xticks(angles[:-1])\n",
    "ax.set_xticklabels(labels)\n",
    "\n",
    "plt.title('BMW Color-wise Sales Volume (Scaled 1-10)')\n",
    "plt.show()"
   ]
  },
  {
   "cell_type": "markdown",
   "metadata": {},
   "source": [
    "# 5. 생키 다이어그램 (Sankey Diagram)\n",
    "    - Sankey 다이어그램은 데이터의 흐름과 비율을 시각화하는 방법\n",
    "    - 흐름의 두께가 데이터의 크기를 나타냄\n",
    "- 예시\n",
    "    - 에너지 소비 흐름: 에너지의 생산부터 소비까지의 흐름 시각화\n",
    "    - 재정 흐름: 자금의 유입과 유출 시각화"
   ]
  },
  {
   "cell_type": "code",
   "execution_count": 182,
   "metadata": {},
   "outputs": [
    {
     "data": {
      "application/vnd.plotly.v1+json": {
       "config": {
        "plotlyServerURL": "https://plot.ly"
       },
       "data": [
        {
         "link": {
          "source": [
           0,
           0,
           0,
           0,
           0,
           0,
           0,
           0,
           0,
           0,
           0,
           1,
           2,
           2,
           2,
           2,
           2,
           2,
           3,
           3,
           3,
           3,
           3,
           3,
           3,
           3,
           3,
           3,
           3,
           3,
           3,
           4,
           4,
           4,
           4,
           4,
           4,
           4,
           4,
           4,
           4,
           4,
           4,
           4,
           4,
           4,
           5,
           5,
           5,
           5,
           5,
           5,
           5,
           5,
           5,
           5,
           5,
           5,
           5,
           5,
           6,
           6,
           6,
           6,
           6,
           6,
           6,
           6,
           6,
           7,
           7,
           7,
           7,
           8,
           8,
           8,
           8,
           8,
           8,
           8,
           8,
           8,
           8,
           8,
           8,
           8,
           8,
           8,
           9,
           9,
           9,
           9,
           9,
           9,
           9,
           9,
           9,
           9,
           9,
           9,
           9,
           10,
           10,
           10,
           10,
           10,
           10,
           10,
           10,
           10,
           10,
           10,
           10,
           10,
           10,
           11,
           12,
           13,
           14,
           15,
           16,
           17,
           18,
           19,
           20,
           21,
           11,
           16,
           17,
           18,
           19,
           20,
           21,
           22,
           13,
           23,
           14,
           15,
           16,
           17,
           18,
           19,
           20,
           21,
           24,
           25,
           11,
           12,
           22,
           13,
           23,
           14,
           15,
           16,
           17,
           18,
           19,
           20,
           21,
           24,
           25,
           11,
           12,
           22,
           13,
           23,
           14,
           15,
           16,
           17,
           18,
           19,
           20,
           21,
           25,
           11,
           22,
           13,
           15,
           16,
           17,
           19,
           20,
           21,
           16,
           17,
           19,
           20,
           11,
           12,
           22,
           13,
           23,
           14,
           15,
           16,
           17,
           18,
           19,
           20,
           21,
           24,
           25,
           22,
           13,
           23,
           14,
           15,
           16,
           17,
           18,
           19,
           20,
           21,
           24,
           25,
           11,
           12,
           22,
           13,
           23,
           14,
           15,
           16,
           17,
           18,
           19,
           20,
           21,
           25
          ],
          "target": [
           11,
           12,
           13,
           14,
           15,
           16,
           17,
           18,
           19,
           20,
           21,
           11,
           16,
           17,
           18,
           19,
           20,
           21,
           22,
           13,
           23,
           14,
           15,
           16,
           17,
           18,
           19,
           20,
           21,
           24,
           25,
           11,
           12,
           22,
           13,
           23,
           14,
           15,
           16,
           17,
           18,
           19,
           20,
           21,
           24,
           25,
           11,
           12,
           22,
           13,
           23,
           14,
           15,
           16,
           17,
           18,
           19,
           20,
           21,
           25,
           11,
           22,
           13,
           15,
           16,
           17,
           19,
           20,
           21,
           16,
           17,
           19,
           20,
           11,
           12,
           22,
           13,
           23,
           14,
           15,
           16,
           17,
           18,
           19,
           20,
           21,
           24,
           25,
           22,
           13,
           23,
           14,
           15,
           16,
           17,
           18,
           19,
           20,
           21,
           24,
           25,
           11,
           12,
           22,
           13,
           23,
           14,
           15,
           16,
           17,
           18,
           19,
           20,
           21,
           25,
           26,
           26,
           26,
           26,
           26,
           26,
           26,
           26,
           26,
           26,
           26,
           26,
           26,
           26,
           26,
           26,
           26,
           26,
           26,
           26,
           26,
           26,
           26,
           26,
           26,
           26,
           26,
           26,
           26,
           26,
           26,
           26,
           26,
           26,
           26,
           26,
           26,
           26,
           26,
           26,
           26,
           26,
           26,
           26,
           26,
           26,
           26,
           26,
           26,
           26,
           26,
           26,
           26,
           26,
           26,
           26,
           26,
           26,
           26,
           26,
           26,
           26,
           26,
           26,
           26,
           26,
           26,
           26,
           26,
           26,
           26,
           26,
           26,
           26,
           26,
           26,
           26,
           26,
           26,
           26,
           26,
           26,
           26,
           26,
           26,
           26,
           26,
           26,
           26,
           26,
           26,
           26,
           26,
           26,
           26,
           26,
           26,
           26,
           26,
           26,
           26,
           26,
           26,
           26,
           26,
           26,
           26,
           26,
           26,
           26,
           26,
           26,
           26,
           26,
           26
          ],
          "value": [
           288,
           720,
           2304,
           432,
           864,
           2880,
           1728,
           576,
           2160,
           3888,
           144,
           288,
           200,
           360,
           120,
           400,
           120,
           80,
           17544,
           93568,
           83334,
           36550,
           54825,
           54094,
           10965,
           60231,
           31382,
           38293,
           39463,
           44339,
           29304,
           63609,
           61107,
           45908,
           84012,
           60191,
           77641,
           67594,
           35174,
           20123,
           6234,
           18016,
           237628,
           185550,
           109672,
           198211,
           4831,
           2865,
           2899,
           5587,
           4149,
           1596,
           3417,
           2895,
           1899,
           1422,
           1935,
           1680,
           504,
           10008,
           144,
           288,
           432,
           288,
           720,
           144,
           864,
           1440,
           144,
           40,
           80,
           160,
           40,
           8132,
           8774,
           7355,
           13291,
           16389,
           16372,
           13291,
           2616,
           3767,
           2109,
           4081,
           72079,
           34530,
           4604,
           43738,
           731,
           12427,
           14620,
           7310,
           15351,
           10965,
           2924,
           9187,
           8049,
           9112,
           5366,
           9262,
           814,
           895,
           148,
           336,
           414,
           1509,
           225,
           672,
           504,
           219,
           387,
           168,
           1512,
           168,
           913,
           288,
           720,
           2304,
           432,
           864,
           2880,
           1728,
           576,
           2160,
           3888,
           144,
           288,
           200,
           360,
           120,
           400,
           120,
           80,
           17544,
           93568,
           83334,
           36550,
           54825,
           54094,
           10965,
           60231,
           31382,
           38293,
           39463,
           44339,
           29304,
           63609,
           61107,
           45908,
           84012,
           60191,
           77641,
           67594,
           35174,
           20123,
           6234,
           18016,
           237628,
           185550,
           109672,
           198211,
           4831,
           2865,
           2899,
           5587,
           4149,
           1596,
           3417,
           2895,
           1899,
           1422,
           1935,
           1680,
           504,
           10008,
           144,
           288,
           432,
           288,
           720,
           144,
           864,
           1440,
           144,
           40,
           80,
           160,
           40,
           8132,
           8774,
           7355,
           13291,
           16389,
           16372,
           13291,
           2616,
           3767,
           2109,
           4081,
           72079,
           34530,
           4604,
           43738,
           731,
           12427,
           14620,
           7310,
           15351,
           10965,
           2924,
           9187,
           8049,
           9112,
           5366,
           9262,
           814,
           895,
           148,
           336,
           414,
           1509,
           225,
           672,
           504,
           219,
           387,
           168,
           1512,
           168,
           913
          ]
         },
         "node": {
          "label": [
           "Convertible",
           "Coupe",
           "Hatchback",
           "SUV",
           "Sedan",
           "Wagon",
           "convertible",
           "hatchback",
           "sedan",
           "suv",
           "wagon",
           "2001",
           "2002",
           "2004",
           "2006",
           "2007",
           "2008",
           "2009",
           "2010",
           "2011",
           "2012",
           "2013",
           "2003",
           "2005",
           "2014",
           "2015",
           "Sales Volume"
          ],
          "line": {
           "color": "black",
           "width": 0.5
          },
          "pad": 15,
          "thickness": 20
         },
         "type": "sankey"
        }
       ],
       "layout": {
        "font": {
         "size": 10
        },
        "template": {
         "data": {
          "bar": [
           {
            "error_x": {
             "color": "#2a3f5f"
            },
            "error_y": {
             "color": "#2a3f5f"
            },
            "marker": {
             "line": {
              "color": "#E5ECF6",
              "width": 0.5
             },
             "pattern": {
              "fillmode": "overlay",
              "size": 10,
              "solidity": 0.2
             }
            },
            "type": "bar"
           }
          ],
          "barpolar": [
           {
            "marker": {
             "line": {
              "color": "#E5ECF6",
              "width": 0.5
             },
             "pattern": {
              "fillmode": "overlay",
              "size": 10,
              "solidity": 0.2
             }
            },
            "type": "barpolar"
           }
          ],
          "carpet": [
           {
            "aaxis": {
             "endlinecolor": "#2a3f5f",
             "gridcolor": "white",
             "linecolor": "white",
             "minorgridcolor": "white",
             "startlinecolor": "#2a3f5f"
            },
            "baxis": {
             "endlinecolor": "#2a3f5f",
             "gridcolor": "white",
             "linecolor": "white",
             "minorgridcolor": "white",
             "startlinecolor": "#2a3f5f"
            },
            "type": "carpet"
           }
          ],
          "choropleth": [
           {
            "colorbar": {
             "outlinewidth": 0,
             "ticks": ""
            },
            "type": "choropleth"
           }
          ],
          "contour": [
           {
            "colorbar": {
             "outlinewidth": 0,
             "ticks": ""
            },
            "colorscale": [
             [
              0,
              "#0d0887"
             ],
             [
              0.1111111111111111,
              "#46039f"
             ],
             [
              0.2222222222222222,
              "#7201a8"
             ],
             [
              0.3333333333333333,
              "#9c179e"
             ],
             [
              0.4444444444444444,
              "#bd3786"
             ],
             [
              0.5555555555555556,
              "#d8576b"
             ],
             [
              0.6666666666666666,
              "#ed7953"
             ],
             [
              0.7777777777777778,
              "#fb9f3a"
             ],
             [
              0.8888888888888888,
              "#fdca26"
             ],
             [
              1,
              "#f0f921"
             ]
            ],
            "type": "contour"
           }
          ],
          "contourcarpet": [
           {
            "colorbar": {
             "outlinewidth": 0,
             "ticks": ""
            },
            "type": "contourcarpet"
           }
          ],
          "heatmap": [
           {
            "colorbar": {
             "outlinewidth": 0,
             "ticks": ""
            },
            "colorscale": [
             [
              0,
              "#0d0887"
             ],
             [
              0.1111111111111111,
              "#46039f"
             ],
             [
              0.2222222222222222,
              "#7201a8"
             ],
             [
              0.3333333333333333,
              "#9c179e"
             ],
             [
              0.4444444444444444,
              "#bd3786"
             ],
             [
              0.5555555555555556,
              "#d8576b"
             ],
             [
              0.6666666666666666,
              "#ed7953"
             ],
             [
              0.7777777777777778,
              "#fb9f3a"
             ],
             [
              0.8888888888888888,
              "#fdca26"
             ],
             [
              1,
              "#f0f921"
             ]
            ],
            "type": "heatmap"
           }
          ],
          "heatmapgl": [
           {
            "colorbar": {
             "outlinewidth": 0,
             "ticks": ""
            },
            "colorscale": [
             [
              0,
              "#0d0887"
             ],
             [
              0.1111111111111111,
              "#46039f"
             ],
             [
              0.2222222222222222,
              "#7201a8"
             ],
             [
              0.3333333333333333,
              "#9c179e"
             ],
             [
              0.4444444444444444,
              "#bd3786"
             ],
             [
              0.5555555555555556,
              "#d8576b"
             ],
             [
              0.6666666666666666,
              "#ed7953"
             ],
             [
              0.7777777777777778,
              "#fb9f3a"
             ],
             [
              0.8888888888888888,
              "#fdca26"
             ],
             [
              1,
              "#f0f921"
             ]
            ],
            "type": "heatmapgl"
           }
          ],
          "histogram": [
           {
            "marker": {
             "pattern": {
              "fillmode": "overlay",
              "size": 10,
              "solidity": 0.2
             }
            },
            "type": "histogram"
           }
          ],
          "histogram2d": [
           {
            "colorbar": {
             "outlinewidth": 0,
             "ticks": ""
            },
            "colorscale": [
             [
              0,
              "#0d0887"
             ],
             [
              0.1111111111111111,
              "#46039f"
             ],
             [
              0.2222222222222222,
              "#7201a8"
             ],
             [
              0.3333333333333333,
              "#9c179e"
             ],
             [
              0.4444444444444444,
              "#bd3786"
             ],
             [
              0.5555555555555556,
              "#d8576b"
             ],
             [
              0.6666666666666666,
              "#ed7953"
             ],
             [
              0.7777777777777778,
              "#fb9f3a"
             ],
             [
              0.8888888888888888,
              "#fdca26"
             ],
             [
              1,
              "#f0f921"
             ]
            ],
            "type": "histogram2d"
           }
          ],
          "histogram2dcontour": [
           {
            "colorbar": {
             "outlinewidth": 0,
             "ticks": ""
            },
            "colorscale": [
             [
              0,
              "#0d0887"
             ],
             [
              0.1111111111111111,
              "#46039f"
             ],
             [
              0.2222222222222222,
              "#7201a8"
             ],
             [
              0.3333333333333333,
              "#9c179e"
             ],
             [
              0.4444444444444444,
              "#bd3786"
             ],
             [
              0.5555555555555556,
              "#d8576b"
             ],
             [
              0.6666666666666666,
              "#ed7953"
             ],
             [
              0.7777777777777778,
              "#fb9f3a"
             ],
             [
              0.8888888888888888,
              "#fdca26"
             ],
             [
              1,
              "#f0f921"
             ]
            ],
            "type": "histogram2dcontour"
           }
          ],
          "mesh3d": [
           {
            "colorbar": {
             "outlinewidth": 0,
             "ticks": ""
            },
            "type": "mesh3d"
           }
          ],
          "parcoords": [
           {
            "line": {
             "colorbar": {
              "outlinewidth": 0,
              "ticks": ""
             }
            },
            "type": "parcoords"
           }
          ],
          "pie": [
           {
            "automargin": true,
            "type": "pie"
           }
          ],
          "scatter": [
           {
            "fillpattern": {
             "fillmode": "overlay",
             "size": 10,
             "solidity": 0.2
            },
            "type": "scatter"
           }
          ],
          "scatter3d": [
           {
            "line": {
             "colorbar": {
              "outlinewidth": 0,
              "ticks": ""
             }
            },
            "marker": {
             "colorbar": {
              "outlinewidth": 0,
              "ticks": ""
             }
            },
            "type": "scatter3d"
           }
          ],
          "scattercarpet": [
           {
            "marker": {
             "colorbar": {
              "outlinewidth": 0,
              "ticks": ""
             }
            },
            "type": "scattercarpet"
           }
          ],
          "scattergeo": [
           {
            "marker": {
             "colorbar": {
              "outlinewidth": 0,
              "ticks": ""
             }
            },
            "type": "scattergeo"
           }
          ],
          "scattergl": [
           {
            "marker": {
             "colorbar": {
              "outlinewidth": 0,
              "ticks": ""
             }
            },
            "type": "scattergl"
           }
          ],
          "scattermapbox": [
           {
            "marker": {
             "colorbar": {
              "outlinewidth": 0,
              "ticks": ""
             }
            },
            "type": "scattermapbox"
           }
          ],
          "scatterpolar": [
           {
            "marker": {
             "colorbar": {
              "outlinewidth": 0,
              "ticks": ""
             }
            },
            "type": "scatterpolar"
           }
          ],
          "scatterpolargl": [
           {
            "marker": {
             "colorbar": {
              "outlinewidth": 0,
              "ticks": ""
             }
            },
            "type": "scatterpolargl"
           }
          ],
          "scatterternary": [
           {
            "marker": {
             "colorbar": {
              "outlinewidth": 0,
              "ticks": ""
             }
            },
            "type": "scatterternary"
           }
          ],
          "surface": [
           {
            "colorbar": {
             "outlinewidth": 0,
             "ticks": ""
            },
            "colorscale": [
             [
              0,
              "#0d0887"
             ],
             [
              0.1111111111111111,
              "#46039f"
             ],
             [
              0.2222222222222222,
              "#7201a8"
             ],
             [
              0.3333333333333333,
              "#9c179e"
             ],
             [
              0.4444444444444444,
              "#bd3786"
             ],
             [
              0.5555555555555556,
              "#d8576b"
             ],
             [
              0.6666666666666666,
              "#ed7953"
             ],
             [
              0.7777777777777778,
              "#fb9f3a"
             ],
             [
              0.8888888888888888,
              "#fdca26"
             ],
             [
              1,
              "#f0f921"
             ]
            ],
            "type": "surface"
           }
          ],
          "table": [
           {
            "cells": {
             "fill": {
              "color": "#EBF0F8"
             },
             "line": {
              "color": "white"
             }
            },
            "header": {
             "fill": {
              "color": "#C8D4E3"
             },
             "line": {
              "color": "white"
             }
            },
            "type": "table"
           }
          ]
         },
         "layout": {
          "annotationdefaults": {
           "arrowcolor": "#2a3f5f",
           "arrowhead": 0,
           "arrowwidth": 1
          },
          "autotypenumbers": "strict",
          "coloraxis": {
           "colorbar": {
            "outlinewidth": 0,
            "ticks": ""
           }
          },
          "colorscale": {
           "diverging": [
            [
             0,
             "#8e0152"
            ],
            [
             0.1,
             "#c51b7d"
            ],
            [
             0.2,
             "#de77ae"
            ],
            [
             0.3,
             "#f1b6da"
            ],
            [
             0.4,
             "#fde0ef"
            ],
            [
             0.5,
             "#f7f7f7"
            ],
            [
             0.6,
             "#e6f5d0"
            ],
            [
             0.7,
             "#b8e186"
            ],
            [
             0.8,
             "#7fbc41"
            ],
            [
             0.9,
             "#4d9221"
            ],
            [
             1,
             "#276419"
            ]
           ],
           "sequential": [
            [
             0,
             "#0d0887"
            ],
            [
             0.1111111111111111,
             "#46039f"
            ],
            [
             0.2222222222222222,
             "#7201a8"
            ],
            [
             0.3333333333333333,
             "#9c179e"
            ],
            [
             0.4444444444444444,
             "#bd3786"
            ],
            [
             0.5555555555555556,
             "#d8576b"
            ],
            [
             0.6666666666666666,
             "#ed7953"
            ],
            [
             0.7777777777777778,
             "#fb9f3a"
            ],
            [
             0.8888888888888888,
             "#fdca26"
            ],
            [
             1,
             "#f0f921"
            ]
           ],
           "sequentialminus": [
            [
             0,
             "#0d0887"
            ],
            [
             0.1111111111111111,
             "#46039f"
            ],
            [
             0.2222222222222222,
             "#7201a8"
            ],
            [
             0.3333333333333333,
             "#9c179e"
            ],
            [
             0.4444444444444444,
             "#bd3786"
            ],
            [
             0.5555555555555556,
             "#d8576b"
            ],
            [
             0.6666666666666666,
             "#ed7953"
            ],
            [
             0.7777777777777778,
             "#fb9f3a"
            ],
            [
             0.8888888888888888,
             "#fdca26"
            ],
            [
             1,
             "#f0f921"
            ]
           ]
          },
          "colorway": [
           "#636efa",
           "#EF553B",
           "#00cc96",
           "#ab63fa",
           "#FFA15A",
           "#19d3f3",
           "#FF6692",
           "#B6E880",
           "#FF97FF",
           "#FECB52"
          ],
          "font": {
           "color": "#2a3f5f"
          },
          "geo": {
           "bgcolor": "white",
           "lakecolor": "white",
           "landcolor": "#E5ECF6",
           "showlakes": true,
           "showland": true,
           "subunitcolor": "white"
          },
          "hoverlabel": {
           "align": "left"
          },
          "hovermode": "closest",
          "mapbox": {
           "style": "light"
          },
          "paper_bgcolor": "white",
          "plot_bgcolor": "#E5ECF6",
          "polar": {
           "angularaxis": {
            "gridcolor": "white",
            "linecolor": "white",
            "ticks": ""
           },
           "bgcolor": "#E5ECF6",
           "radialaxis": {
            "gridcolor": "white",
            "linecolor": "white",
            "ticks": ""
           }
          },
          "scene": {
           "xaxis": {
            "backgroundcolor": "#E5ECF6",
            "gridcolor": "white",
            "gridwidth": 2,
            "linecolor": "white",
            "showbackground": true,
            "ticks": "",
            "zerolinecolor": "white"
           },
           "yaxis": {
            "backgroundcolor": "#E5ECF6",
            "gridcolor": "white",
            "gridwidth": 2,
            "linecolor": "white",
            "showbackground": true,
            "ticks": "",
            "zerolinecolor": "white"
           },
           "zaxis": {
            "backgroundcolor": "#E5ECF6",
            "gridcolor": "white",
            "gridwidth": 2,
            "linecolor": "white",
            "showbackground": true,
            "ticks": "",
            "zerolinecolor": "white"
           }
          },
          "shapedefaults": {
           "line": {
            "color": "#2a3f5f"
           }
          },
          "ternary": {
           "aaxis": {
            "gridcolor": "white",
            "linecolor": "white",
            "ticks": ""
           },
           "baxis": {
            "gridcolor": "white",
            "linecolor": "white",
            "ticks": ""
           },
           "bgcolor": "#E5ECF6",
           "caxis": {
            "gridcolor": "white",
            "linecolor": "white",
            "ticks": ""
           }
          },
          "title": {
           "x": 0.05
          },
          "xaxis": {
           "automargin": true,
           "gridcolor": "white",
           "linecolor": "white",
           "ticks": "",
           "title": {
            "standoff": 15
           },
           "zerolinecolor": "white",
           "zerolinewidth": 2
          },
          "yaxis": {
           "automargin": true,
           "gridcolor": "white",
           "linecolor": "white",
           "ticks": "",
           "title": {
            "standoff": 15
           },
           "zerolinecolor": "white",
           "zerolinewidth": 2
          }
         }
        },
        "title": {
         "text": "Volvo Body to Year to Sales Volume Flow"
        }
       }
      }
     },
     "metadata": {},
     "output_type": "display_data"
    }
   ],
   "source": [
    "import plotly.graph_objects as go\n",
    "\n",
    "# Volvo 데이터 필터링\n",
    "volvo_df = df[df['make'] == 'Volvo']\n",
    "\n",
    "# body, year, salesvolume에 대한 그룹화된 데이터 준비\n",
    "grouped = volvo_df.groupby(['body', 'year'])['salesvolume'].sum().reset_index()\n",
    "\n",
    "# Sankey 다이어그램을 위한 데이터 준비\n",
    "# sources, targets, values 생성\n",
    "sources = list(grouped['body']) + list(grouped['year'].astype(str))\n",
    "targets = list(grouped['year'].astype(str)) + ['Sales Volume'] * len(grouped)\n",
    "values = list(grouped['salesvolume']) + list(grouped['salesvolume'])\n",
    "\n",
    "# 모든 노드 (중복 제거)\n",
    "all_nodes = list(pd.concat([pd.Series(sources), pd.Series(targets)]).unique())\n",
    "\n",
    "# 노드 인덱스 매핑\n",
    "node_map = {name: idx for idx, name in enumerate(all_nodes)}\n",
    "source_indices = pd.Series(sources).map(node_map)\n",
    "target_indices = pd.Series(targets).map(node_map)\n",
    "\n",
    "# Sankey 다이어그램 생성\n",
    "fig = go.Figure(data=[go.Sankey(\n",
    "    node=dict(\n",
    "        pad=15,\n",
    "        thickness=20,\n",
    "        line=dict(color=\"black\", width=0.5),\n",
    "        label=all_nodes\n",
    "    ),\n",
    "    link=dict(\n",
    "        source=source_indices,\n",
    "        target=target_indices,\n",
    "        value=values\n",
    "    )\n",
    ")])\n",
    "\n",
    "fig.update_layout(title_text=\"Volvo Body to Year to Sales Volume Flow\", font_size=10)\n",
    "fig.show()"
   ]
  },
  {
   "cell_type": "code",
   "execution_count": null,
   "metadata": {},
   "outputs": [],
   "source": []
  }
 ],
 "metadata": {
  "kernelspec": {
   "display_name": "base",
   "language": "python",
   "name": "python3"
  },
  "language_info": {
   "codemirror_mode": {
    "name": "ipython",
    "version": 3
   },
   "file_extension": ".py",
   "mimetype": "text/x-python",
   "name": "python",
   "nbconvert_exporter": "python",
   "pygments_lexer": "ipython3",
   "version": "3.10.12"
  }
 },
 "nbformat": 4,
 "nbformat_minor": 2
}
