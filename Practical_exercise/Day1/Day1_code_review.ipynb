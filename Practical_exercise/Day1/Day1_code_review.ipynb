{
 "cells": [
  {
   "cell_type": "markdown",
   "id": "054b4a16-de19-4709-8691-97fa0fd429a5",
   "metadata": {},
   "source": [
    "# 데이터의 수집 방법\n",
    "1. 크롤링\n",
    "   - 자동화된 스크립트 사용하여 웹 페이지를 탐색하고 데이터 수집\n",
    "   - 전체 사이트 또는 다수의 페이지를 탐색\n",
    "   - 검색 엔진의 크롤러와 유사\n",
    "2. 스크래핑\n",
    "   - 특정 웹 페이지에서 필요한 데이터 추출\n",
    "   - 웹 크롤링의 하위 집합으로서 특정 데이터만 수집\n",
    "  \n",
    "* 웹 크롤링 -> 조직적, 자동화 된 방법으로 월드 와이드 웹을 탐색하는 컴퓨터 프로그램\n",
    "* 크롤러 -> 웹 상의 정보를 수집하고 체계화하는 역할을 담당"
   ]
  },
  {
   "cell_type": "markdown",
   "id": "6f85e3ed-359c-43a5-81a3-864f95b2b16e",
   "metadata": {},
   "source": [
    "# 데이터 수집(스크래핑)\n",
    "- requests\n",
    "  - HTTP 요청을 보내고 응답을 받기 위한 라이브러리\n",
    "- BeautifulSoup\n",
    "  - HTML 및 XML 문서를 파싱하여 원하는 데이터를 추출하기 위한 라이브러리\n",
    "- Scrapy\n",
    "  - 크롤링 및 스크래핑을 위한 프레임워크\n",
    "  - 정적 웹 크롤링 강점\n",
    "- Selenium\n",
    "  - 웹 브라우저 자동화를 위한 라이브러리\n",
    "  - 동적 웹 스크래핑 강점"
   ]
  },
  {
   "cell_type": "code",
   "execution_count": 1,
   "id": "fb2b7c9a-415a-47f3-ad80-f3912c605285",
   "metadata": {},
   "outputs": [
    {
     "name": "stdout",
     "output_type": "stream",
     "text": [
      "TOP 1: 객체 간 관계성 인지용 한국형 비전 데이터\n",
      "TOP 2: 손∙팔 협조에 의한 파지-조작 동작 데이터\n",
      "TOP 3: 상용 자율주행차 야간 자동차 전용도로 데이터\n"
     ]
    }
   ],
   "source": [
    "import requests\n",
    "from bs4 import BeautifulSoup\n",
    "\n",
    "# AI HUB 페이지 URL\n",
    "url = 'https://www.aihub.or.kr/'\n",
    "\n",
    "#웹 페이지 요청\n",
    "response = requests.get(url)\n",
    "response.raise_for_status() # 요청이 성공했는지 확인\n",
    "\n",
    "# BeautifulSoup 객체 생성\n",
    "soup = BeautifulSoup(response.content, 'html.parser')\n",
    "\n",
    "# 인기 데이터 TOP3 섹션 찾기\n",
    "top3_section = soup.find('div', class_='secR')\n",
    "\n",
    "# 각 데이터 항목 추출\n",
    "data_list = top3_section.find_all('div', class_='list')\n",
    "\n",
    "# 각 데이터 항목 추출\n",
    "titles = []\n",
    "for data in data_list:\n",
    "    title = data.find('h3').get_text(strip = True)\n",
    "    clean_title = title.split(']')[-1].strip()\n",
    "    titles.append(clean_title)\n",
    "    \n",
    "# 추출한 데이터 출력\n",
    "for idx, title in enumerate(titles, start = 1):\n",
    "    print(f\"TOP {idx}: {title}\")\n",
    "\n",
    "\n"
   ]
  },
  {
   "cell_type": "markdown",
   "id": "a4140841",
   "metadata": {},
   "source": [
    "2. requests 라이브러리 및 BeautifulSoup 사용 예제"
   ]
  },
  {
   "cell_type": "code",
   "execution_count": 2,
   "id": "7a1158c7-7dfa-415d-b4c5-5965160389bd",
   "metadata": {},
   "outputs": [
    {
     "name": "stdout",
     "output_type": "stream",
     "text": [
      "Title: 위키백과:대문\n",
      "First paragraph:  위키백과\n",
      "\n"
     ]
    }
   ],
   "source": [
    "import requests\n",
    "from bs4 import BeautifulSoup\n",
    "\n",
    "# 1. 웹 페이지 요청\n",
    "url = 'https://ko.wikipedia.org/wiki/위키백과:대문'\n",
    "response = requests.get(url)\n",
    "\n",
    "# 2. 요청이 성공했는지 확인\n",
    "if response.status_code == 200:\n",
    "    # 3. BeautifulSoup 객체 생성\n",
    "    soup = BeautifulSoup(response.content, 'html.parser')\n",
    "    \n",
    "    #4. 페이지 제목 추출\n",
    "    title = soup.find('h1', id = 'firstHeading').text\n",
    "    print(f\"Title: {title}\")\n",
    "    \n",
    "    #5. 첫 번째 단락 추출\n",
    "    first_paragraph = soup.find('p').text\n",
    "    print(f\"First paragraph: {first_paragraph}\")\n",
    "else:\n",
    "    print(f\"failed to retrieve the web page. Status code: {response.status_code}\")"
   ]
  },
  {
   "cell_type": "markdown",
   "id": "bc29ee99",
   "metadata": {},
   "source": [
    "3. Selenium 라이브러리 사용 예제"
   ]
  },
  {
   "cell_type": "code",
   "execution_count": 3,
   "id": "071200f9",
   "metadata": {},
   "outputs": [
    {
     "name": "stdout",
     "output_type": "stream",
     "text": [
      "Requirement already satisfied: selenium in /opt/anaconda3/lib/python3.10/site-packages (4.22.0)\n",
      "Requirement already satisfied: urllib3<3,>=1.26 in /opt/anaconda3/lib/python3.10/site-packages (from urllib3[socks]<3,>=1.26->selenium) (2.2.2)\n",
      "Requirement already satisfied: trio~=0.17 in /opt/anaconda3/lib/python3.10/site-packages (from selenium) (0.25.1)\n",
      "Requirement already satisfied: trio-websocket~=0.9 in /opt/anaconda3/lib/python3.10/site-packages (from selenium) (0.11.1)\n",
      "Requirement already satisfied: certifi>=2021.10.8 in /opt/anaconda3/lib/python3.10/site-packages (from selenium) (2024.6.2)\n",
      "Requirement already satisfied: typing_extensions>=4.9.0 in /opt/anaconda3/lib/python3.10/site-packages (from selenium) (4.11.0)\n",
      "Requirement already satisfied: websocket-client>=1.8.0 in /opt/anaconda3/lib/python3.10/site-packages (from selenium) (1.8.0)\n",
      "Requirement already satisfied: attrs>=23.2.0 in /opt/anaconda3/lib/python3.10/site-packages (from trio~=0.17->selenium) (23.2.0)\n",
      "Requirement already satisfied: sortedcontainers in /opt/anaconda3/lib/python3.10/site-packages (from trio~=0.17->selenium) (2.4.0)\n",
      "Requirement already satisfied: idna in /opt/anaconda3/lib/python3.10/site-packages (from trio~=0.17->selenium) (3.7)\n",
      "Requirement already satisfied: outcome in /opt/anaconda3/lib/python3.10/site-packages (from trio~=0.17->selenium) (1.3.0.post0)\n",
      "Requirement already satisfied: sniffio>=1.3.0 in /opt/anaconda3/lib/python3.10/site-packages (from trio~=0.17->selenium) (1.3.0)\n",
      "Requirement already satisfied: exceptiongroup in /opt/anaconda3/lib/python3.10/site-packages (from trio~=0.17->selenium) (1.2.0)\n",
      "Requirement already satisfied: wsproto>=0.14 in /opt/anaconda3/lib/python3.10/site-packages (from trio-websocket~=0.9->selenium) (1.2.0)\n",
      "Requirement already satisfied: pysocks!=1.5.7,<2.0,>=1.5.6 in /opt/anaconda3/lib/python3.10/site-packages (from urllib3[socks]<3,>=1.26->selenium) (1.7.1)\n",
      "Requirement already satisfied: h11<1,>=0.9.0 in /opt/anaconda3/lib/python3.10/site-packages (from wsproto>=0.14->trio-websocket~=0.9->selenium) (0.14.0)\n"
     ]
    }
   ],
   "source": [
    "!pip install selenium"
   ]
  },
  {
   "cell_type": "code",
   "execution_count": 4,
   "id": "4fd3e5b2",
   "metadata": {},
   "outputs": [
    {
     "name": "stdout",
     "output_type": "stream",
     "text": [
      "Main Content: 우리 모두가 만들어가는 자유 백과사전\n",
      "문서 675,058개와 최근 기여자 1,766명\n"
     ]
    }
   ],
   "source": [
    "from selenium import webdriver\n",
    "from selenium.webdriver.common.by import By\n",
    "\n",
    "#URL 성정\n",
    "URL = \"https://ko.wikipedia.org/wiki/위키백과:대문\"\n",
    "\n",
    "# Chrome 옵션 설정\n",
    "options = webdriver.ChromeOptions()\n",
    "options.add_argument(\"--headless\") #브라우저 창을 띄우지 않음\n",
    "options.add_argument('--disavle-dev-shm-usage')\n",
    "options.add_argument(\"--no-snadbox\")\n",
    "\n",
    "# 웹 드라이버 설정\n",
    "driver = webdriver.Chrome(options=options)\n",
    "\n",
    "try:\n",
    "    # 위키백과 대문 페이지 열기\n",
    "    driver.get(URL)\n",
    "    \n",
    "    #\"우리 모두가 만들어가는 자유 백과사전\"과 \"문서 이하 내용 추출\"\n",
    "    main_content = driver.find_element(By.CSS_SELECTOR, \"#mw-content-text > div.mw-content-ltr.mw-parser-output > div.main-box.main-top > div > p:nth-child(2)\").text\n",
    "    print(\"Main Content:\", main_content)\n",
    "finally:\n",
    "    # 웹 드라이브 종료\n",
    "    driver.quit()"
   ]
  },
  {
   "cell_type": "markdown",
   "id": "2bb11d0d",
   "metadata": {},
   "source": [
    "4. Scrapy 라이브러리 사용 예제"
   ]
  },
  {
   "cell_type": "code",
   "execution_count": 1,
   "id": "e74f785a",
   "metadata": {},
   "outputs": [
    {
     "name": "stdout",
     "output_type": "stream",
     "text": [
      "Requirement already satisfied: scrapy in /opt/anaconda3/lib/python3.10/site-packages (2.11.1)\n",
      "Requirement already satisfied: Twisted>=18.9.0 in /opt/anaconda3/lib/python3.10/site-packages (from scrapy) (23.10.0)\n",
      "Requirement already satisfied: cryptography>=36.0.0 in /opt/anaconda3/lib/python3.10/site-packages (from scrapy) (42.0.5)\n",
      "Requirement already satisfied: cssselect>=0.9.1 in /opt/anaconda3/lib/python3.10/site-packages (from scrapy) (1.2.0)\n",
      "Requirement already satisfied: itemloaders>=1.0.1 in /opt/anaconda3/lib/python3.10/site-packages (from scrapy) (1.1.0)\n",
      "Requirement already satisfied: parsel>=1.5.0 in /opt/anaconda3/lib/python3.10/site-packages (from scrapy) (1.8.1)\n",
      "Requirement already satisfied: pyOpenSSL>=21.0.0 in /opt/anaconda3/lib/python3.10/site-packages (from scrapy) (24.0.0)\n",
      "Requirement already satisfied: queuelib>=1.4.2 in /opt/anaconda3/lib/python3.10/site-packages (from scrapy) (1.6.2)\n",
      "Requirement already satisfied: service-identity>=18.1.0 in /opt/anaconda3/lib/python3.10/site-packages (from scrapy) (18.1.0)\n",
      "Requirement already satisfied: w3lib>=1.17.0 in /opt/anaconda3/lib/python3.10/site-packages (from scrapy) (2.1.2)\n",
      "Requirement already satisfied: zope.interface>=5.1.0 in /opt/anaconda3/lib/python3.10/site-packages (from scrapy) (5.4.0)\n",
      "Requirement already satisfied: protego>=0.1.15 in /opt/anaconda3/lib/python3.10/site-packages (from scrapy) (0.1.16)\n",
      "Requirement already satisfied: itemadapter>=0.1.0 in /opt/anaconda3/lib/python3.10/site-packages (from scrapy) (0.3.0)\n",
      "Requirement already satisfied: setuptools in /opt/anaconda3/lib/python3.10/site-packages (from scrapy) (69.5.1)\n",
      "Requirement already satisfied: packaging in /opt/anaconda3/lib/python3.10/site-packages (from scrapy) (23.2)\n",
      "Requirement already satisfied: tldextract in /opt/anaconda3/lib/python3.10/site-packages (from scrapy) (3.2.0)\n",
      "Requirement already satisfied: lxml>=4.4.1 in /opt/anaconda3/lib/python3.10/site-packages (from scrapy) (5.2.1)\n",
      "Requirement already satisfied: PyDispatcher>=2.0.5 in /opt/anaconda3/lib/python3.10/site-packages (from scrapy) (2.0.5)\n",
      "Requirement already satisfied: cffi>=1.12 in /opt/anaconda3/lib/python3.10/site-packages (from cryptography>=36.0.0->scrapy) (1.16.0)\n",
      "Requirement already satisfied: jmespath>=0.9.5 in /opt/anaconda3/lib/python3.10/site-packages (from itemloaders>=1.0.1->scrapy) (1.0.1)\n",
      "Requirement already satisfied: six in /opt/anaconda3/lib/python3.10/site-packages (from protego>=0.1.15->scrapy) (1.16.0)\n",
      "Requirement already satisfied: attrs>=16.0.0 in /opt/anaconda3/lib/python3.10/site-packages (from service-identity>=18.1.0->scrapy) (23.2.0)\n",
      "Requirement already satisfied: pyasn1-modules in /opt/anaconda3/lib/python3.10/site-packages (from service-identity>=18.1.0->scrapy) (0.2.8)\n",
      "Requirement already satisfied: pyasn1 in /opt/anaconda3/lib/python3.10/site-packages (from service-identity>=18.1.0->scrapy) (0.4.8)\n",
      "Requirement already satisfied: automat>=0.8.0 in /opt/anaconda3/lib/python3.10/site-packages (from Twisted>=18.9.0->scrapy) (20.2.0)\n",
      "Requirement already satisfied: constantly>=15.1 in /opt/anaconda3/lib/python3.10/site-packages (from Twisted>=18.9.0->scrapy) (23.10.4)\n",
      "Requirement already satisfied: hyperlink>=17.1.1 in /opt/anaconda3/lib/python3.10/site-packages (from Twisted>=18.9.0->scrapy) (21.0.0)\n",
      "Requirement already satisfied: incremental>=22.10.0 in /opt/anaconda3/lib/python3.10/site-packages (from Twisted>=18.9.0->scrapy) (22.10.0)\n",
      "Requirement already satisfied: typing-extensions>=4.2.0 in /opt/anaconda3/lib/python3.10/site-packages (from Twisted>=18.9.0->scrapy) (4.11.0)\n",
      "Requirement already satisfied: idna in /opt/anaconda3/lib/python3.10/site-packages (from tldextract->scrapy) (3.7)\n",
      "Requirement already satisfied: requests>=2.1.0 in /opt/anaconda3/lib/python3.10/site-packages (from tldextract->scrapy) (2.32.2)\n",
      "Requirement already satisfied: requests-file>=1.4 in /opt/anaconda3/lib/python3.10/site-packages (from tldextract->scrapy) (1.5.1)\n",
      "Requirement already satisfied: filelock>=3.0.8 in /opt/anaconda3/lib/python3.10/site-packages (from tldextract->scrapy) (3.13.1)\n",
      "Requirement already satisfied: pycparser in /opt/anaconda3/lib/python3.10/site-packages (from cffi>=1.12->cryptography>=36.0.0->scrapy) (2.21)\n",
      "Requirement already satisfied: charset-normalizer<4,>=2 in /opt/anaconda3/lib/python3.10/site-packages (from requests>=2.1.0->tldextract->scrapy) (2.0.4)\n",
      "Requirement already satisfied: urllib3<3,>=1.21.1 in /opt/anaconda3/lib/python3.10/site-packages (from requests>=2.1.0->tldextract->scrapy) (2.2.2)\n",
      "Requirement already satisfied: certifi>=2017.4.17 in /opt/anaconda3/lib/python3.10/site-packages (from requests>=2.1.0->tldextract->scrapy) (2024.6.2)\n"
     ]
    }
   ],
   "source": [
    "!pip install scrapy"
   ]
  },
  {
   "cell_type": "code",
   "execution_count": 2,
   "id": "10be35e6",
   "metadata": {},
   "outputs": [
    {
     "name": "stdout",
     "output_type": "stream",
     "text": [
      "New Scrapy project 'wikipedia_scraper', using template directory '/opt/anaconda3/lib/python3.10/site-packages/scrapy/templates/project', created in:\n",
      "    /Users/chhy/Desktop/KakaoTech/Practical_exercise/Day1/wikipedia_scraper\n",
      "\n",
      "You can start your first spider with:\n",
      "    cd wikipedia_scraper\n",
      "    scrapy genspider example example.com\n"
     ]
    }
   ],
   "source": [
    "!scrapy startproject wikipedia_scraper"
   ]
  },
  {
   "cell_type": "code",
   "execution_count": 6,
   "id": "41470863",
   "metadata": {},
   "outputs": [],
   "source": [
    "import scrapy\n",
    "\n",
    "class WikipediaSpider(scrapy.Spider):\n",
    "    name = \"wikipedia\"\n",
    "    start_urls = [\n",
    "        'https://ko.wikipedia.org/wiki/위키백과:대문',\n",
    "    ]\n",
    "\n",
    "    def parse(self, response):\n",
    "        main_content = response.css('#mw-content-text > div.mw-content-ltr.mw-parser-output > div.main-pane > div.main-pane-right > div.wikipedia-ko.main-recommended.main-box').get()\n",
    "        yield {\n",
    "            'main_content': main_content,\n",
    "        }"
   ]
  },
  {
   "cell_type": "code",
   "execution_count": 9,
   "id": "b5162858",
   "metadata": {},
   "outputs": [
    {
     "name": "stdout",
     "output_type": "stream",
     "text": [
      "Appending to wikipedia_scraper/wikipedia_scraper/settings.py\n"
     ]
    }
   ],
   "source": [
    "#%%writefile -a wikipedia_scraper/wikipedia_scraper/settings.py\n",
    "\n",
    "#ROBOTSTXT_OBEY = False"
   ]
  },
  {
   "cell_type": "code",
   "execution_count": 7,
   "id": "84b8598f",
   "metadata": {},
   "outputs": [
    {
     "name": "stderr",
     "output_type": "stream",
     "text": [
      "2024-07-08 13:36:12 [scrapy.utils.log] INFO: Scrapy 2.11.1 started (bot: scrapybot)\n",
      "2024-07-08 13:36:12 [scrapy.utils.log] INFO: Versions: lxml 5.2.1.0, libxml2 2.10.4, cssselect 1.2.0, parsel 1.8.1, w3lib 2.1.2, Twisted 23.10.0, Python 3.10.12 (main, Jul  5 2023, 15:02:25) [Clang 14.0.6 ], pyOpenSSL 24.0.0 (OpenSSL 3.0.14 4 Jun 2024), cryptography 42.0.5, Platform macOS-14.4-arm64-arm-64bit\n",
      "2024-07-08 13:36:12 [scrapy.addons] INFO: Enabled addons:\n",
      "[]\n",
      "2024-07-08 13:36:12 [py.warnings] WARNING: /opt/anaconda3/lib/python3.10/site-packages/scrapy/utils/request.py:254: ScrapyDeprecationWarning: '2.6' is a deprecated value for the 'REQUEST_FINGERPRINTER_IMPLEMENTATION' setting.\n",
      "\n",
      "It is also the default value. In other words, it is normal to get this warning if you have not defined a value for the 'REQUEST_FINGERPRINTER_IMPLEMENTATION' setting. This is so for backward compatibility reasons, but it will change in a future version of Scrapy.\n",
      "\n",
      "See the documentation of the 'REQUEST_FINGERPRINTER_IMPLEMENTATION' setting for information on how to handle this deprecation.\n",
      "  return cls(crawler)\n",
      "\n",
      "2024-07-08 13:36:12 [scrapy.utils.log] DEBUG: Using reactor: twisted.internet.selectreactor.SelectReactor\n",
      "2024-07-08 13:36:13 [scrapy.extensions.telnet] INFO: Telnet Password: 34b9f7f60137da15\n",
      "2024-07-08 13:36:13 [scrapy.middleware] INFO: Enabled extensions:\n",
      "['scrapy.extensions.corestats.CoreStats',\n",
      " 'scrapy.extensions.telnet.TelnetConsole',\n",
      " 'scrapy.extensions.memusage.MemoryUsage',\n",
      " 'scrapy.extensions.feedexport.FeedExporter',\n",
      " 'scrapy.extensions.logstats.LogStats']\n",
      "2024-07-08 13:36:13 [scrapy.crawler] INFO: Overridden settings:\n",
      "{'USER_AGENT': 'Mozilla/5.0 (Windows NT 10.0; Win64; x64) AppleWebKit/537.36 '\n",
      "               '(KHTML, like Gecko) Chrome/58.0.3029.110 Safari/537.3'}\n",
      "2024-07-08 13:36:13 [scrapy.middleware] INFO: Enabled downloader middlewares:\n",
      "['scrapy.downloadermiddlewares.httpauth.HttpAuthMiddleware',\n",
      " 'scrapy.downloadermiddlewares.downloadtimeout.DownloadTimeoutMiddleware',\n",
      " 'scrapy.downloadermiddlewares.defaultheaders.DefaultHeadersMiddleware',\n",
      " 'scrapy.downloadermiddlewares.useragent.UserAgentMiddleware',\n",
      " 'scrapy.downloadermiddlewares.retry.RetryMiddleware',\n",
      " 'scrapy.downloadermiddlewares.redirect.MetaRefreshMiddleware',\n",
      " 'scrapy.downloadermiddlewares.httpcompression.HttpCompressionMiddleware',\n",
      " 'scrapy.downloadermiddlewares.redirect.RedirectMiddleware',\n",
      " 'scrapy.downloadermiddlewares.cookies.CookiesMiddleware',\n",
      " 'scrapy.downloadermiddlewares.httpproxy.HttpProxyMiddleware',\n",
      " 'scrapy.downloadermiddlewares.stats.DownloaderStats']\n",
      "2024-07-08 13:36:13 [scrapy.middleware] INFO: Enabled spider middlewares:\n",
      "['scrapy.spidermiddlewares.httperror.HttpErrorMiddleware',\n",
      " 'scrapy.spidermiddlewares.offsite.OffsiteMiddleware',\n",
      " 'scrapy.spidermiddlewares.referer.RefererMiddleware',\n",
      " 'scrapy.spidermiddlewares.urllength.UrlLengthMiddleware',\n",
      " 'scrapy.spidermiddlewares.depth.DepthMiddleware']\n",
      "2024-07-08 13:36:13 [scrapy.middleware] INFO: Enabled item pipelines:\n",
      "[]\n",
      "2024-07-08 13:36:13 [scrapy.core.engine] INFO: Spider opened\n",
      "2024-07-08 13:36:13 [scrapy.extensions.logstats] INFO: Crawled 0 pages (at 0 pages/min), scraped 0 items (at 0 items/min)\n",
      "2024-07-08 13:36:13 [scrapy.extensions.telnet] INFO: Telnet console listening on 127.0.0.1:6039\n",
      "2024-07-08 13:36:13 [scrapy.core.engine] DEBUG: Crawled (200) <GET https://ko.wikipedia.org/wiki/%EC%9C%84%ED%82%A4%EB%B0%B1%EA%B3%BC:%EB%8C%80%EB%AC%B8> (referer: None)\n",
      "2024-07-08 13:36:13 [scrapy.core.scraper] DEBUG: Scraped from <200 https://ko.wikipedia.org/wiki/%EC%9C%84%ED%82%A4%EB%B0%B1%EA%B3%BC:%EB%8C%80%EB%AC%B8>\n",
      "{'main_content': '<div class=\"wikipedia-ko main-recommended main-box\" style=\"width: 100%; margin-top: 20px; height: max-content; flex: 1;\">\\n\\t\\t\\t<div class=\"wikipedia-ko good-header\" style=\"width: 100%; overflow: auto; font-size: 1.1em;\"><span style=\"display: inline-block; height: 2rem; line-height: 2rem; padding-left: .5rem; padding-right: 1rem; margin: .6rem 0; border-radius: 0 1rem 1rem 0; background-color: #EBEBEB;\"><b><a href=\"/wiki/%ED%95%B4%EB%A6%AC%EC%97%87_%ED%84%B0%EB%B8%8C%EB%A8%BC\" title=\"해리엇 터브먼\">알찬 글: 해리엇 터브먼</a></b></span><div style=\"float: right; height: 2rem; margin: .6rem 0;\"><span class=\"plainlinks clickbutton\"><a href=\"/wiki/%EC%9C%84%ED%82%A4%EB%B0%B1%EA%B3%BC:%EC%95%8C%EC%B0%AC_%EA%B8%80\" title=\"위키백과:알찬 글\"><span class=\"mw-ui-button\" style=\"display: inline-block; height: 2rem; line-height: 2rem; padding: 0 1rem; border: 1px solid #EBEBEB; border-radius: 1rem; margin-right: 1rem;\">더 보기</span></a></span></div></div>\\n\\t\\t\\t<div style=\"clear: both; margin: 0 20px;\"><figure class=\"mw-halign-left\" typeof=\"mw:File\"><a href=\"/wiki/%ED%8C%8C%EC%9D%BC:Harriet_Tubman_by_Squyer,_NPG,_c1885.jpg\" class=\"mw-file-description\" title=\"해리엇 터브먼\"><img alt=\"해리엇 터브먼\" src=\"//upload.wikimedia.org/wikipedia/commons/thumb/9/96/Harriet_Tubman_by_Squyer%2C_NPG%2C_c1885.jpg/100px-Harriet_Tubman_by_Squyer%2C_NPG%2C_c1885.jpg\" decoding=\"async\" width=\"100\" height=\"133\" class=\"mw-file-element\" srcset=\"//upload.wikimedia.org/wikipedia/commons/thumb/9/96/Harriet_Tubman_by_Squyer%2C_NPG%2C_c1885.jpg/150px-Harriet_Tubman_by_Squyer%2C_NPG%2C_c1885.jpg 1.5x, //upload.wikimedia.org/wikipedia/commons/thumb/9/96/Harriet_Tubman_by_Squyer%2C_NPG%2C_c1885.jpg/200px-Harriet_Tubman_by_Squyer%2C_NPG%2C_c1885.jpg 2x\" data-file-width=\"3030\" data-file-height=\"4040\"></a><figcaption>해리엇 터브먼</figcaption></figure>\\n<p><b><a href=\"/wiki/%ED%95%B4%EB%A6%AC%EC%97%87_%ED%84%B0%EB%B8%8C%EB%A8%BC\" title=\"해리엇 터브먼\">해리엇 터브먼</a></b>(Harriet Tubman, 본명 <b>아라민타 로스</b>(Araminta Ross), <a href=\"/wiki/1820%EB%85%84\" title=\"1820년\">1820년</a>경 ~ <a href=\"/wiki/1913%EB%85%84\" title=\"1913년\">1913년</a> <a href=\"/wiki/3%EC%9B%94_10%EC%9D%BC\" title=\"3월 10일\">3월 10일</a>)은 <a href=\"/wiki/%ED%9D%91%EC%9D%B8\" title=\"흑인\">흑인</a> <a href=\"/wiki/%EB%85%B8%EC%98%88_%ED%8F%90%EC%A7%80%EB%A1%A0%EC%9E%90\" class=\"mw-redirect\" title=\"노예 폐지론자\">노예 폐지론자</a>, <a href=\"/wiki/%EC%9D%B8%EB%8F%84%EC%A3%BC%EC%9D%98%EC%9E%90\" class=\"mw-redirect\" title=\"인도주의자\">인도주의자</a>이자 <a href=\"/wiki/%EB%AF%B8%EA%B5%AD_%EB%82%A8%EB%B6%81_%EC%A0%84%EC%9F%81\" class=\"mw-redirect\" title=\"미국 남북 전쟁\">남북 전쟁</a> 때 활동했던 스파이다. 태어날 때부터 노예였던 그녀는 탈출 후, <a href=\"/wiki/%EC%A7%80%ED%95%98_%EC%B2%A0%EB%8F%84\" class=\"mw-redirect\" title=\"지하 철도\">지하 철도</a>라는 반노예 운동가의 네트워크와 아지트를 통해 13개의 구제 시설을 세워, 70명의 노예를 구하였다. 필라델피아로 도망친 터브먼은 메릴랜드로 그녀의 가족을 구해내기 위해 돌아왔다. 천천히, 한 번에 한 그룹씩, 그녀는 자신의 친척들을 주 밖으로 데리고 나갔으며, 결국 수십 명의 노예들에게 자유를 찾아주었다.\\n</p>\\n그녀 덕분에 탈출한 사람들에겐 거액의 <a href=\"/wiki/%ED%98%84%EC%83%81%EA%B8%88\" title=\"현상금\">현상금</a>이 걸리곤 하였지만, 그들을 돕는 게 해리엇 터브먼인 것은 아무도 몰랐다. <a href=\"/wiki/%EB%8F%84%EB%A7%9D%EB%85%B8%EC%98%88%EC%86%A1%ED%99%98%EB%B2%95\" class=\"mw-redirect\" title=\"도망노예송환법\">도망노예송환법</a>이 제정된 때에는 도망친 노예들을 <a href=\"/wiki/%EC%BA%90%EB%82%98%EB%8B%A4\" title=\"캐나다\">캐나다</a>까지 갈 수 있게 도와주었으며, 동시에 그들에게 직업을 찾아주기도 하였다. <a href=\"/wiki/%EB%AF%B8%EA%B5%AD_%EB%82%A8%EB%B6%81_%EC%A0%84%EC%9F%81\" class=\"mw-redirect\" title=\"미국 남북 전쟁\">남북 전쟁</a> 발발 후, 터브먼은 <a href=\"/wiki/%EB%B6%81%EA%B5%B0\" title=\"북군\">연합군</a>을 위해, 처음에는 요리사이자 간호사로, 그 다음은 무장 정찰병이자 스파이로 활약하였다. 전쟁 후에도 그는 여성 참정권을 위해서 열심히 싸웠으며, 이후 자신의 도움으로 몇 년 일찍 세워진 흑인 양로원에 들어가 여생을 보냈다.</div>\\n            <hr style=\"opacity: 0.5\">\\n            <div class=\"wikipedia-ko good-header\" style=\"width: 100%; overflow: auto; font-size: 1.1em;\"><span style=\"display: inline-block; height: 2rem; line-height: 2rem; padding-left: .5rem; padding-right: 1rem; margin: .6rem 0; border-radius: 0 1rem 1rem 0; background-color: #EBEBEB;\"><b><a href=\"/wiki/%EC%97%B0%EC%87%84%EC%83%81%EA%B5%AC%EA%B7%A0_%EC%9D%B8%EB%91%90%EC%97%BC\" title=\"연쇄상구균 인두염\">좋은 글: 연쇄상구균 인두염</a></b></span><div style=\"float: right; height: 2rem; margin: .6rem 0;\"><span class=\"plainlinks clickbutton\"><a href=\"/wiki/%EC%9C%84%ED%82%A4%EB%B0%B1%EA%B3%BC:%EC%A2%8B%EC%9D%80_%EA%B8%80\" title=\"위키백과:좋은 글\"><span class=\"mw-ui-button\" style=\"display: inline-block; height: 2rem; line-height: 2rem; padding: 0 1rem; border: 1px solid #EBEBEB; border-radius: 1rem; margin-right: 1rem;\">더 보기</span></a></span></div></div>\\n\\t\\t</div>'}\n",
      "2024-07-08 13:36:13 [scrapy.core.engine] INFO: Closing spider (finished)\n",
      "2024-07-08 13:36:13 [scrapy.extensions.feedexport] INFO: Stored json feed (1 items) in: output.json\n",
      "2024-07-08 13:36:13 [scrapy.statscollectors] INFO: Dumping Scrapy stats:\n",
      "{'downloader/request_bytes': 366,\n",
      " 'downloader/request_count': 1,\n",
      " 'downloader/request_method_count/GET': 1,\n",
      " 'downloader/response_bytes': 25112,\n",
      " 'downloader/response_count': 1,\n",
      " 'downloader/response_status_count/200': 1,\n",
      " 'elapsed_time_seconds': 0.486512,\n",
      " 'feedexport/success_count/FileFeedStorage': 1,\n",
      " 'finish_reason': 'finished',\n",
      " 'finish_time': datetime.datetime(2024, 7, 8, 4, 36, 13, 645402, tzinfo=datetime.timezone.utc),\n",
      " 'httpcompression/response_bytes': 110898,\n",
      " 'httpcompression/response_count': 1,\n",
      " 'item_scraped_count': 1,\n",
      " 'log_count/DEBUG': 3,\n",
      " 'log_count/INFO': 11,\n",
      " 'log_count/WARNING': 1,\n",
      " 'memusage/max': 106479616,\n",
      " 'memusage/startup': 106479616,\n",
      " 'response_received_count': 1,\n",
      " 'scheduler/dequeued': 1,\n",
      " 'scheduler/dequeued/memory': 1,\n",
      " 'scheduler/enqueued': 1,\n",
      " 'scheduler/enqueued/memory': 1,\n",
      " 'start_time': datetime.datetime(2024, 7, 8, 4, 36, 13, 158890, tzinfo=datetime.timezone.utc)}\n",
      "2024-07-08 13:36:13 [scrapy.core.engine] INFO: Spider closed (finished)\n"
     ]
    }
   ],
   "source": [
    "# @title\n",
    "# run_scrapy.py\n",
    "from scrapy.crawler import CrawlerProcess\n",
    "from wikipedia_scraper.wikipedia_scraper.spiders.wikipedia_spider import WikipediaSpider\n",
    "\n",
    "process = CrawlerProcess({\n",
    "    'USER_AGENT': 'Mozilla/5.0 (Windows NT 10.0; Win64; x64) AppleWebKit/537.36 (KHTML, like Gecko) Chrome/58.0.3029.110 Safari/537.3',\n",
    "    'FEEDS': {\n",
    "        'output.json': {\n",
    "            'format': 'json',\n",
    "            'encoding': 'utf8',\n",
    "            'store_empty': False,\n",
    "            'fields': None,\n",
    "        \n",
    "            'indent': 4,\n",
    "        },\n",
    "    },\n",
    "})\n",
    "\n",
    "process.crawl(WikipediaSpider)\n",
    "process.start()"
   ]
  },
  {
   "cell_type": "code",
   "execution_count": 5,
   "id": "b7278983",
   "metadata": {},
   "outputs": [
    {
     "name": "stdout",
     "output_type": "stream",
     "text": [
      "Traceback (most recent call last):\n",
      "  File \"/Users/chhy/Desktop/KakaoTech/Lecture/Lecture_code/Day1/wikipedia_scraper/run_scrapy.py\", line 4, in <module>\n",
      "    from wikipedia_scraper.wikipedia_scraper.spiders.wikipedia_spider import WikipediaSpider\n",
      "ModuleNotFoundError: No module named 'wikipedia_scraper.wikipedia_scraper'\n"
     ]
    }
   ],
   "source": [
    "!python /Users/chhy/Desktop/KakaoTech/Lecture/Lecture_code/Day1/wikipedia_scraper/run_scrapy.py"
   ]
  },
  {
   "cell_type": "code",
   "execution_count": 8,
   "id": "6cb4ece1",
   "metadata": {},
   "outputs": [
    {
     "name": "stdout",
     "output_type": "stream",
     "text": [
      "[{'main_content': '<div class=\"wikipedia-ko main-recommended main-box\" '\n",
      "                  'style=\"width: 100%; margin-top: 20px; height: max-content; '\n",
      "                  'flex: 1;\">\\n'\n",
      "                  '\\t\\t\\t<div class=\"wikipedia-ko good-header\" style=\"width: '\n",
      "                  '100%; overflow: auto; font-size: 1.1em;\"><span '\n",
      "                  'style=\"display: inline-block; height: 2rem; line-height: '\n",
      "                  '2rem; padding-left: .5rem; padding-right: 1rem; margin: '\n",
      "                  '.6rem 0; border-radius: 0 1rem 1rem 0; background-color: '\n",
      "                  '#EBEBEB;\"><b><a '\n",
      "                  'href=\"/wiki/%ED%95%B4%EB%A6%AC%EC%97%87_%ED%84%B0%EB%B8%8C%EB%A8%BC\" '\n",
      "                  'title=\"해리엇 터브먼\">알찬 글: 해리엇 터브먼</a></b></span><div '\n",
      "                  'style=\"float: right; height: 2rem; margin: .6rem 0;\"><span '\n",
      "                  'class=\"plainlinks clickbutton\"><a '\n",
      "                  'href=\"/wiki/%EC%9C%84%ED%82%A4%EB%B0%B1%EA%B3%BC:%EC%95%8C%EC%B0%AC_%EA%B8%80\" '\n",
      "                  'title=\"위키백과:알찬 글\"><span class=\"mw-ui-button\" '\n",
      "                  'style=\"display: inline-block; height: 2rem; line-height: '\n",
      "                  '2rem; padding: 0 1rem; border: 1px solid #EBEBEB; '\n",
      "                  'border-radius: 1rem; margin-right: 1rem;\">더 '\n",
      "                  '보기</span></a></span></div></div>\\n'\n",
      "                  '\\t\\t\\t<div style=\"clear: both; margin: 0 20px;\"><figure '\n",
      "                  'class=\"mw-halign-left\" typeof=\"mw:File\"><a '\n",
      "                  'href=\"/wiki/%ED%8C%8C%EC%9D%BC:Harriet_Tubman_by_Squyer,_NPG,_c1885.jpg\" '\n",
      "                  'class=\"mw-file-description\" title=\"해리엇 터브먼\"><img alt=\"해리엇 '\n",
      "                  '터브먼\" '\n",
      "                  'src=\"//upload.wikimedia.org/wikipedia/commons/thumb/9/96/Harriet_Tubman_by_Squyer%2C_NPG%2C_c1885.jpg/100px-Harriet_Tubman_by_Squyer%2C_NPG%2C_c1885.jpg\" '\n",
      "                  'decoding=\"async\" width=\"100\" height=\"133\" '\n",
      "                  'class=\"mw-file-element\" '\n",
      "                  'srcset=\"//upload.wikimedia.org/wikipedia/commons/thumb/9/96/Harriet_Tubman_by_Squyer%2C_NPG%2C_c1885.jpg/150px-Harriet_Tubman_by_Squyer%2C_NPG%2C_c1885.jpg '\n",
      "                  '1.5x, '\n",
      "                  '//upload.wikimedia.org/wikipedia/commons/thumb/9/96/Harriet_Tubman_by_Squyer%2C_NPG%2C_c1885.jpg/200px-Harriet_Tubman_by_Squyer%2C_NPG%2C_c1885.jpg '\n",
      "                  '2x\" data-file-width=\"3030\" '\n",
      "                  'data-file-height=\"4040\"></a><figcaption>해리엇 '\n",
      "                  '터브먼</figcaption></figure>\\n'\n",
      "                  '<p><b><a '\n",
      "                  'href=\"/wiki/%ED%95%B4%EB%A6%AC%EC%97%87_%ED%84%B0%EB%B8%8C%EB%A8%BC\" '\n",
      "                  'title=\"해리엇 터브먼\">해리엇 터브먼</a></b>(Harriet Tubman, 본명 <b>아라민타 '\n",
      "                  '로스</b>(Araminta Ross), <a href=\"/wiki/1820%EB%85%84\" '\n",
      "                  'title=\"1820년\">1820년</a>경 ~ <a href=\"/wiki/1913%EB%85%84\" '\n",
      "                  'title=\"1913년\">1913년</a> <a '\n",
      "                  'href=\"/wiki/3%EC%9B%94_10%EC%9D%BC\" title=\"3월 10일\">3월 '\n",
      "                  '10일</a>)은 <a href=\"/wiki/%ED%9D%91%EC%9D%B8\" '\n",
      "                  'title=\"흑인\">흑인</a> <a '\n",
      "                  'href=\"/wiki/%EB%85%B8%EC%98%88_%ED%8F%90%EC%A7%80%EB%A1%A0%EC%9E%90\" '\n",
      "                  'class=\"mw-redirect\" title=\"노예 폐지론자\">노예 폐지론자</a>, <a '\n",
      "                  'href=\"/wiki/%EC%9D%B8%EB%8F%84%EC%A3%BC%EC%9D%98%EC%9E%90\" '\n",
      "                  'class=\"mw-redirect\" title=\"인도주의자\">인도주의자</a>이자 <a '\n",
      "                  'href=\"/wiki/%EB%AF%B8%EA%B5%AD_%EB%82%A8%EB%B6%81_%EC%A0%84%EC%9F%81\" '\n",
      "                  'class=\"mw-redirect\" title=\"미국 남북 전쟁\">남북 전쟁</a> 때 활동했던 스파이다. '\n",
      "                  '태어날 때부터 노예였던 그녀는 탈출 후, <a '\n",
      "                  'href=\"/wiki/%EC%A7%80%ED%95%98_%EC%B2%A0%EB%8F%84\" '\n",
      "                  'class=\"mw-redirect\" title=\"지하 철도\">지하 철도</a>라는 반노예 운동가의 '\n",
      "                  '네트워크와 아지트를 통해 13개의 구제 시설을 세워, 70명의 노예를 구하였다. 필라델피아로 도망친 '\n",
      "                  '터브먼은 메릴랜드로 그녀의 가족을 구해내기 위해 돌아왔다. 천천히, 한 번에 한 그룹씩, 그녀는 자신의 '\n",
      "                  '친척들을 주 밖으로 데리고 나갔으며, 결국 수십 명의 노예들에게 자유를 찾아주었다.\\n'\n",
      "                  '</p>\\n'\n",
      "                  '그녀 덕분에 탈출한 사람들에겐 거액의 <a '\n",
      "                  'href=\"/wiki/%ED%98%84%EC%83%81%EA%B8%88\" '\n",
      "                  'title=\"현상금\">현상금</a>이 걸리곤 하였지만, 그들을 돕는 게 해리엇 터브먼인 것은 아무도 '\n",
      "                  '몰랐다. <a '\n",
      "                  'href=\"/wiki/%EB%8F%84%EB%A7%9D%EB%85%B8%EC%98%88%EC%86%A1%ED%99%98%EB%B2%95\" '\n",
      "                  'class=\"mw-redirect\" title=\"도망노예송환법\">도망노예송환법</a>이 제정된 때에는 '\n",
      "                  '도망친 노예들을 <a href=\"/wiki/%EC%BA%90%EB%82%98%EB%8B%A4\" '\n",
      "                  'title=\"캐나다\">캐나다</a>까지 갈 수 있게 도와주었으며, 동시에 그들에게 직업을 찾아주기도 '\n",
      "                  '하였다. <a '\n",
      "                  'href=\"/wiki/%EB%AF%B8%EA%B5%AD_%EB%82%A8%EB%B6%81_%EC%A0%84%EC%9F%81\" '\n",
      "                  'class=\"mw-redirect\" title=\"미국 남북 전쟁\">남북 전쟁</a> 발발 후, 터브먼은 '\n",
      "                  '<a href=\"/wiki/%EB%B6%81%EA%B5%B0\" title=\"북군\">연합군</a>을 위해, '\n",
      "                  '처음에는 요리사이자 간호사로, 그 다음은 무장 정찰병이자 스파이로 활약하였다. 전쟁 후에도 그는 여성 '\n",
      "                  '참정권을 위해서 열심히 싸웠으며, 이후 자신의 도움으로 몇 년 일찍 세워진 흑인 양로원에 들어가 여생을 '\n",
      "                  '보냈다.</div>\\n'\n",
      "                  '            <hr style=\"opacity: 0.5\">\\n'\n",
      "                  '            <div class=\"wikipedia-ko good-header\" '\n",
      "                  'style=\"width: 100%; overflow: auto; font-size: '\n",
      "                  '1.1em;\"><span style=\"display: inline-block; height: 2rem; '\n",
      "                  'line-height: 2rem; padding-left: .5rem; padding-right: '\n",
      "                  '1rem; margin: .6rem 0; border-radius: 0 1rem 1rem 0; '\n",
      "                  'background-color: #EBEBEB;\"><b><a '\n",
      "                  'href=\"/wiki/%EC%97%B0%EC%87%84%EC%83%81%EA%B5%AC%EA%B7%A0_%EC%9D%B8%EB%91%90%EC%97%BC\" '\n",
      "                  'title=\"연쇄상구균 인두염\">좋은 글: 연쇄상구균 인두염</a></b></span><div '\n",
      "                  'style=\"float: right; height: 2rem; margin: .6rem 0;\"><span '\n",
      "                  'class=\"plainlinks clickbutton\"><a '\n",
      "                  'href=\"/wiki/%EC%9C%84%ED%82%A4%EB%B0%B1%EA%B3%BC:%EC%A2%8B%EC%9D%80_%EA%B8%80\" '\n",
      "                  'title=\"위키백과:좋은 글\"><span class=\"mw-ui-button\" '\n",
      "                  'style=\"display: inline-block; height: 2rem; line-height: '\n",
      "                  '2rem; padding: 0 1rem; border: 1px solid #EBEBEB; '\n",
      "                  'border-radius: 1rem; margin-right: 1rem;\">더 '\n",
      "                  '보기</span></a></span></div></div>\\n'\n",
      "                  '\\t\\t</div>'}]\n"
     ]
    }
   ],
   "source": [
    "# @title\n",
    "# 출력물을 예쁘게 출력\n",
    "import json\n",
    "from pprint import pprint\n",
    "\n",
    "# 크롤링 결과 파일 로드 및 출력\n",
    "with open('output.json', 'r') as f:\n",
    "    data = json.load(f)\n",
    "    pprint(data)"
   ]
  },
  {
   "cell_type": "code",
   "execution_count": null,
   "id": "931c475c",
   "metadata": {},
   "outputs": [],
   "source": []
  }
 ],
 "metadata": {
  "kernelspec": {
   "display_name": "Python 3 (ipykernel)",
   "language": "python",
   "name": "python3"
  },
  "language_info": {
   "codemirror_mode": {
    "name": "ipython",
    "version": 3
   },
   "file_extension": ".py",
   "mimetype": "text/x-python",
   "name": "python",
   "nbconvert_exporter": "python",
   "pygments_lexer": "ipython3",
   "version": "3.10.12"
  }
 },
 "nbformat": 4,
 "nbformat_minor": 5
}
