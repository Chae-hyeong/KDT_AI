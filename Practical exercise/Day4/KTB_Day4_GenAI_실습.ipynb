{
  "cells": [
    {
      "cell_type": "markdown",
      "metadata": {
        "id": "o2A6nokuDOFH"
      },
      "source": [
        "# 파이썬 프로그래밍 II 종합 실습\n",
        "\n",
        "collections 모듈, comprehension, logging, 정규표현식, 멀티스레딩, 멀티프로세싱을 활용합니다.\n",
        "\n"
      ]
    },
    {
      "cell_type": "markdown",
      "metadata": {
        "id": "wSeIu_4nDSsP"
      },
      "source": [
        "과제 1: Collections 모듈 활용\n",
        "\n",
        "EXAMPLE_SEQUENCE 값을 활용해보세요.\n",
        "\n",
        "1. Deque: Deque를 생성하고, 요소를 추가하고 제거하는 작업을 해보세요.\n",
        "\n",
        "2. Namedtuple: Namedtuple을 정의하고 인스턴스를 생성해보세요.\n",
        "\n",
        "3. Defaultdict: Defaultdict를 사용해보세요. 키가 없을 때 기본값을 설정하세요.\n",
        "\n",
        "4. Counter: Counter를 사용해 리스트에서 각 요소의 빈도를 세어보세요."
      ]
    },
    {
      "cell_type": "code",
      "execution_count": 11,
      "metadata": {
        "id": "DOHabDfaDMyp"
      },
      "outputs": [
        {
          "name": "stdout",
          "output_type": "stream",
          "text": [
            "Deque\n",
            "deque(['dog', 'cat', 'mouse', 'parrot', 'frog'])\n",
            "deque(['dog', 'cat', 'mouse', 'parrot', 'frog', 'cow'])\n",
            "deque(['ship', 'dog', 'cat', 'mouse', 'parrot', 'frog', 'cow'])\n",
            "deque(['ship', 'dog', 'cat', 'mouse', 'parrot', 'frog'])\n",
            "deque(['dog', 'cat', 'mouse', 'parrot', 'frog'])\n",
            "********************\n",
            "Namedtuple\n",
            "NameTuple: Animal(name='dog', sound='Bark')\n",
            "NameTuple: Animal(name='cat', sound='Meaw')\n",
            "NameTuple: Animal(name='mouse', sound='Squeak')\n",
            "NameTuple: Animal(name='parrot', sound='Chirp')\n",
            "NameTuple: Animal(name='frog', sound='Croak')\n",
            "********************\n",
            "defaultdict(<class 'list'>, {3: ['dog', 'cat'], 5: ['mouse'], 6: ['parrot'], 4: ['frog']})\n",
            "********************\n",
            "Ccounter: Counter({'dog': 1, 'cat': 1, 'mouse': 1, 'parrot': 1, 'frog': 1})\n"
          ]
        }
      ],
      "source": [
        "from collections import deque, namedtuple, defaultdict, Counter\n",
        "\n",
        "EXAMPLE_SEQUENCE = ['dog', 'cat', 'mouse', 'parrot', 'frog']\n",
        "# 동물의 소리\n",
        "Sound = ['Bark', 'Meaw', \"Squeak\",'Chirp','Croak']\n",
        "\n",
        "#deque\n",
        "print('Deque')\n",
        "dq = deque(EXAMPLE_SEQUENCE)    #deque 객체 생성\n",
        "print(dq)\n",
        "dq.append('cow')                #deque 오른쪽 끝의 요소 추가\n",
        "print(dq)\n",
        "dq.appendleft('ship')           #deque 왼쪽 끝의 요소 추가\n",
        "print(dq)\n",
        "dq.pop()                        #deque 오른쪽 끝의 요소 삭제\n",
        "print(dq)\n",
        "dq.popleft()                    #deque 왼쪽 끝의 요소 삭제\n",
        "print(dq)\n",
        "print('*'*20)\n",
        "\n",
        "#Namedtuple, 동물과 동물의 울음 소리\n",
        "print('Namedtuple')\n",
        "Animal = namedtuple('Animal','name sound')  #nametuple 정의\n",
        "for i in range(len(EXAMPLE_SEQUENCE)):\n",
        "    an = Animal(name = EXAMPLE_SEQUENCE[i], sound = Sound[i])\n",
        "    print('NameTuple:' ,an)\n",
        "    an = ''  # 반복을 위해 A 초기화\n",
        "print('*'*20)\n",
        "\n",
        "#defaultdict, 단어의 길이 세기\n",
        "dd = defaultdict(list)  #기본 값이 list인 defaultdict 생성\n",
        "for word in EXAMPLE_SEQUENCE:\n",
        "    length = len(word)  # 각 단어의 길이 계산\n",
        "    dd[length].append(word)\n",
        "print(dd)\n",
        "print('*'*20)\n",
        "\n",
        "#Counter\n",
        "cnt = Counter(EXAMPLE_SEQUENCE) #요소의 빈도를 계산하여 Counter 객체 생성\n",
        "print('Ccounter:',cnt)\n",
        "\n",
        "\n",
        "\n",
        "\n",
        "\n"
      ]
    },
    {
      "cell_type": "markdown",
      "metadata": {
        "id": "VUAClu_dD07F"
      },
      "source": [
        "과제 2: Comprehension 활용\n",
        "\n",
        "EXAMPLE_SEQUENCE 값을 활용해보세요.\n",
        "\n",
        "1. 리스트 컴프리헨션: 숫자 리스트의 제곱값을 구하세요.\n",
        "\n",
        "2. 딕셔너리 컴프리헨션: 키가 숫자이고 값이 그 숫자의 제곱인 딕셔너리를 생성하세요.\n",
        "\n",
        "3. 집합 컴프리헨션: 중복된 값을 제거한 제곱값 집합을 생성하세요."
      ]
    },
    {
      "cell_type": "code",
      "execution_count": 26,
      "metadata": {
        "id": "UXRdE3o0EDwK"
      },
      "outputs": [
        {
          "name": "stdout",
          "output_type": "stream",
          "text": [
            "list comprehension:  [1, 16, 144, 81, 484, 25, 1, 81]\n",
            "******************************\n",
            "dict comprehension:  {1: 1, 4: 16, 12: 144, 9: 81, 22: 484, 5: 25}\n",
            "******************************\n",
            "set comprehension:  {1, 484, 16, 144, 81, 25}\n"
          ]
        }
      ],
      "source": [
        "EXAMPLE_SEQUENCE = [1, 4, 12, 9, 22, 5, 1, 9]\n",
        "sqared_list = [x**2 for x in EXAMPLE_SEQUENCE]  #리스트 컴프리헨션\n",
        "print('list comprehension: ',sqared_list)\n",
        "\n",
        "print('*'*30)\n",
        "\n",
        "sqared_dict = {x:x**2 for x in EXAMPLE_SEQUENCE}    # 딕셔너리 컴프리헨션\n",
        "print('dict comprehension: ',sqared_dict)\n",
        "\n",
        "print('*' * 30)\n",
        "\n",
        "sqared_set = { x**2 for x in EXAMPLE_SEQUENCE } # 집합 컴프리헨션\n",
        "print('set comprehension: ',sqared_set)"
      ]
    },
    {
      "cell_type": "markdown",
      "metadata": {
        "id": "j-42IEV_Ec35"
      },
      "source": [
        "과제 3: Logging 활용\n",
        "\n",
        "1. 기본 로깅 설정: 로깅을 설정하고 정보를 로깅하세요. 로그의 형태는 '시간 - 에러레벨 - 메시지' 입니다.\n",
        "\n",
        "2. 예외 로깅: 예외가 발생했을 때 에러를 로깅하세요."
      ]
    },
    {
      "cell_type": "code",
      "execution_count": 11,
      "metadata": {
        "id": "Q7jfbpQTEz8N"
      },
      "outputs": [
        {
          "name": "stderr",
          "output_type": "stream",
          "text": [
            "2024-07-06 13:48:46,192 - ERROR - Error occurred: %s\n"
          ]
        },
        {
          "data": {
            "text/plain": [
              "ValueError('올바른 이메일을 입력하세요.')"
            ]
          },
          "execution_count": 11,
          "metadata": {},
          "output_type": "execute_result"
        }
      ],
      "source": [
        "import logging\n",
        "import re\n",
        "\n",
        "#로깅 설정\n",
        "logging.basicConfig(level = logging.DEBUG,\n",
        "                    format = '%(asctime)s - %(levelname)s - %(message)s')\n",
        "\n",
        "#로깅 객체\n",
        "logger = logging.getLogger(__name__)\n",
        "\n",
        "def validate_email(email):\n",
        "    # 이메일 유효성 검사를 위한 정규식 패턴\n",
        "    pattern = r\"\\b[A-Za-z0-9._%+-]+@[A-Za-z0-9.-]+\\.[A-Z|a-z]{2,7}\\b\"\n",
        "    # 이메일이 정규식과 일치하는지 검사\n",
        "    if not re.match(pattern, email):\n",
        "        raise ValueError('올바른 이메일을 입력하세요.')\n",
        "\n",
        "\n",
        "def devide(email):\n",
        "    try:\n",
        "        \n",
        "        validate_email(email)\n",
        "        logger.info(\"Division successful\")\n",
        "        print(email)\n",
        "    except ValueError as e:\n",
        "        logger.error(\"Error occurred: %s\")\n",
        "        return e\n",
        "    \n",
        "email = input('이메일을 입력하세요: ')\n",
        "devide(email)\n",
        "\n",
        "\n"
      ]
    },
    {
      "cell_type": "markdown",
      "metadata": {
        "id": "VGcHabOVE4mI"
      },
      "source": [
        "과제 4: 정규 표현식 사용\n",
        "\n",
        "1. 기본 패턴 매칭: 이메일 주소를 추출하세요.\n",
        "\n",
        "2. 기본 패턴 매칭: 비식별화를 진행하세요. ID를 앞 3글자 이외는 모두 '*'로 변경합니다.\n",
        "\n",
        "3. 고급 패턴 매칭: HTML 태그를 제거하세요."
      ]
    },
    {
      "cell_type": "code",
      "execution_count": 31,
      "metadata": {
        "id": "I-9AqxWWE59J"
      },
      "outputs": [
        {
          "name": "stdout",
          "output_type": "stream",
          "text": [
            "email:  ['kakaotech@goorm.io']\n",
            "******************************\n",
            "비식별화 진행 후 id: ['jhi*****', 'lov********', '세종대*****', 'twi*******', 'Pos*******']\n",
            "******************************\n",
            "태그 제거 후 텍스트:  Hello, World!\n"
          ]
        }
      ],
      "source": [
        "import re\n",
        "\n",
        "email = \"MY name is Jhin, my email is kakaotech@goorm.io\"\n",
        "id_list = [\"jhin.lee\", \"lovelove123\", \"세종대왕만세!!\", \"twin에너지123\", \"PostModern\"]\n",
        "html = \"<p>Hello, <b>World!</b></p>\"\n",
        "\n",
        "email_pattern = r\"\\b[A-Za-z0-9._%+-]+@[A-Za-z0-9.-]+\\.[A-Z|a-z]{2,7}\\b\" #email pattern\n",
        "matched = re.findall(email_pattern,email)   #findall email 속 이메일 찾아내기\n",
        "print('email: ',matched)\n",
        "print('*'*30)\n",
        "\n",
        "id_replace = [re.sub(r'(?<=.{3}).','*',id) for id in id_list]   #기본 패턴 매칭\n",
        "print('비식별화 진행 후 id:' ,id_replace)\n",
        "print('*'*30)\n",
        "\n",
        "html_pattern = r\"<.*?>\"\n",
        "h_matched = re.sub(html_pattern,'',html)\n",
        "print('태그 제거 후 텍스트: ',h_matched)\n",
        "\n",
        "\n"
      ]
    },
    {
      "cell_type": "markdown",
      "metadata": {
        "id": "tOrX28FZFOYA"
      },
      "source": [
        "과제 5: 멀티스레딩과 멀티프로세싱\n",
        "\n",
        "1. 스레딩: 한 개의 스레드를 생성하고 실행하는 함수를 작성해주세요.\n",
        "\n",
        "2. 멀티스레딩: 두 개의 스레드를 생성하고 실행하세요.\n",
        "\n",
        "3. 멀티프로세싱: 두 개의 프로세스를 생성하고 실행하세요."
      ]
    },
    {
      "cell_type": "code",
      "execution_count": 33,
      "metadata": {
        "id": "6t3JDv6eFOEk"
      },
      "outputs": [
        {
          "name": "stdout",
          "output_type": "stream",
          "text": [
            "i: 0\n",
            "공통A:  0\n",
            "i: 1\n",
            "공통A:  1\n",
            "i: 2\n",
            "공통A:  2\n",
            "i: 3\n",
            "공통A:  3\n",
            "i: 4\n",
            "공통A:  4\n"
          ]
        }
      ],
      "source": [
        "#1. 스레딩\n",
        "import threading\n",
        "import time\n",
        "\n",
        "\n",
        "A = 0\n",
        "# 숫자를 출력하는 함수\n",
        "def print_numbers():\n",
        "    global A\n",
        "    for i in range(5):\n",
        "        print(\"i:\",i)\n",
        "        print(\"공통A: \",A)\n",
        "        A += 1\n",
        "        time.sleep(1)\n",
        "\n",
        "# 한개의 스레딩 생성\n",
        "thread1 = threading.Thread(target = print_numbers)\n",
        "thread1.start()\n",
        "thread1.join()"
      ]
    },
    {
      "cell_type": "code",
      "execution_count": 34,
      "metadata": {},
      "outputs": [
        {
          "name": "stdout",
          "output_type": "stream",
          "text": [
            "i: 0\n",
            "공통A:  0\n",
            "i: 0\n",
            "공통A:  1\n",
            "i: 1\n",
            "공통A:  2\n",
            "i: 1\n",
            "공통A:  3\n",
            "i: 2\n",
            "공통A:  4\n",
            "i: 2\n",
            "공통A:  5\n",
            "i: 3\n",
            "공통A:  6\n",
            "i: 3\n",
            "공통A:  7\n",
            "i: 4\n",
            "공통A:  8\n",
            "i: 4\n",
            "공통A:  9\n"
          ]
        }
      ],
      "source": [
        "#2. 멀티 스레딩\n",
        "import threading\n",
        "import time\n",
        "\n",
        "\n",
        "A = 0\n",
        "# 숫자를 출력하는 함수\n",
        "def print_numbers():\n",
        "    global A\n",
        "    for i in range(5):\n",
        "        print(\"i:\",i)\n",
        "        print(\"공통A: \",A)\n",
        "        A += 1\n",
        "        time.sleep(1)\n",
        "\n",
        "# 두개의 스레딩 생성\n",
        "thread1 = threading.Thread(target = print_numbers)\n",
        "thread2 = threading.Thread(target = print_numbers)\n",
        "thread1.start()\n",
        "thread2.start()\n",
        "thread1.join()\n",
        "thread2.join()"
      ]
    },
    {
      "cell_type": "code",
      "execution_count": 35,
      "metadata": {},
      "outputs": [
        {
          "name": "stdout",
          "output_type": "stream",
          "text": [
            "print_numbers 함수가 모두 실행 완료되었습니다.\n"
          ]
        },
        {
          "name": "stderr",
          "output_type": "stream",
          "text": [
            "Traceback (most recent call last):\n",
            "  File \"<string>\", line 1, in <module>\n",
            "Traceback (most recent call last):\n",
            "  File \"<string>\", line 1, in <module>\n",
            "  File \"/opt/anaconda3/lib/python3.10/multiprocessing/spawn.py\", line 116, in spawn_main\n",
            "  File \"/opt/anaconda3/lib/python3.10/multiprocessing/spawn.py\", line 116, in spawn_main\n",
            "    exitcode = _main(fd, parent_sentinel)\n",
            "  File \"/opt/anaconda3/lib/python3.10/multiprocessing/spawn.py\", line 126, in _main\n",
            "    exitcode = _main(fd, parent_sentinel)\n",
            "  File \"/opt/anaconda3/lib/python3.10/multiprocessing/spawn.py\", line 126, in _main\n",
            "    self = reduction.pickle.load(from_parent)\n",
            "AttributeError: Can't get attribute 'print_numbers' on <module '__main__' (built-in)>\n",
            "    self = reduction.pickle.load(from_parent)\n",
            "AttributeError: Can't get attribute 'print_numbers' on <module '__main__' (built-in)>\n"
          ]
        }
      ],
      "source": [
        "import multiprocessing\n",
        "import time\n",
        "\n",
        "# 멀티프로세싱을 안전하게 사용하기 위한 초기화\n",
        "def print_numbers(A):\n",
        "    for i in range(5):\n",
        "        with A.get_lock():  # A에 대한 동시 접근을 방지하기 위해 락 사용\n",
        "            A.value += 1\n",
        "            current_A = A.value  # 현재 A의 값 복사\n",
        "        print(f\"프로세스 ID {multiprocessing.current_process().pid}, i: {i}, 공통 A: {current_A}\")\n",
        "        time.sleep(1)\n",
        "\n",
        "def main():\n",
        "    # 공유되는 변수 A 초기화\n",
        "    A = multiprocessing.Value('i', 0)  # 'i'는 int형을 의미\n",
        "    \n",
        "    # 두 개의 프로세스 생성 및 시작\n",
        "    process1 = multiprocessing.Process(target=print_numbers, args=(A,))\n",
        "    process2 = multiprocessing.Process(target=print_numbers, args=(A,))\n",
        "    process1.start()\n",
        "    process2.start()\n",
        "\n",
        "    # 프로세스 종료 대기\n",
        "    process1.join()\n",
        "    process2.join()\n",
        "\n",
        "if __name__ == '__main__':\n",
        "    main()\n",
        "    print('print_numbers 함수가 모두 실행 완료되었습니다.')"
      ]
    },
    {
      "cell_type": "code",
      "execution_count": null,
      "metadata": {},
      "outputs": [],
      "source": []
    }
  ],
  "metadata": {
    "colab": {
      "provenance": []
    },
    "kernelspec": {
      "display_name": "Python 3",
      "name": "python3"
    },
    "language_info": {
      "codemirror_mode": {
        "name": "ipython",
        "version": 3
      },
      "file_extension": ".py",
      "mimetype": "text/x-python",
      "name": "python",
      "nbconvert_exporter": "python",
      "pygments_lexer": "ipython3",
      "version": "3.10.12"
    }
  },
  "nbformat": 4,
  "nbformat_minor": 0
}
