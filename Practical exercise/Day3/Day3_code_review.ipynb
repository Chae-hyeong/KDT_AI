{
 "cells": [
  {
   "cell_type": "markdown",
   "metadata": {},
   "source": [
    "# 파이썬 프로그래밍 종합 실습"
   ]
  },
  {
   "cell_type": "code",
   "execution_count": 1,
   "metadata": {},
   "outputs": [],
   "source": [
    "# 변수 -> 데이터를 저장하는 메모리 공간에 이름을 붙인 것\n",
    "x = 10 # 정수형 변수\n",
    "y = 3.14 # 실수형 변수\n",
    "name = \"Alice\" # 문자열 변수"
   ]
  },
  {
   "cell_type": "code",
   "execution_count": 2,
   "metadata": {},
   "outputs": [
    {
     "name": "stdout",
     "output_type": "stream",
     "text": [
      "<class 'int'>\n",
      "<class 'float'>\n",
      "<class 'str'>\n"
     ]
    }
   ],
   "source": [
    "print(type(x))\n",
    "print(type(y))\n",
    "print(type(name))"
   ]
  },
  {
   "cell_type": "code",
   "execution_count": 3,
   "metadata": {},
   "outputs": [],
   "source": [
    "#자료형\n",
    "a = 5\n",
    "b = 3.2\n",
    "c = \"Hello\"\n",
    "d = True"
   ]
  },
  {
   "cell_type": "code",
   "execution_count": 4,
   "metadata": {},
   "outputs": [
    {
     "name": "stdout",
     "output_type": "stream",
     "text": [
      "<class 'int'>\n",
      "<class 'float'>\n",
      "<class 'str'>\n",
      "<class 'bool'>\n"
     ]
    }
   ],
   "source": [
    "print(type(a))\n",
    "print(type(b))\n",
    "print(type(c))\n",
    "print(type(d))\n"
   ]
  },
  {
   "cell_type": "code",
   "execution_count": 5,
   "metadata": {},
   "outputs": [
    {
     "name": "stdout",
     "output_type": "stream",
     "text": [
      "<class 'str'>\n",
      "<class 'int'>\n",
      "123\n",
      "123\n"
     ]
    }
   ],
   "source": [
    "num_str = \"123\"\n",
    "print(type(num_str))\n",
    "num = int(num_str)\n",
    "print(type(num))\n",
    "print(num_str)\n",
    "print(num)"
   ]
  },
  {
   "cell_type": "code",
   "execution_count": 6,
   "metadata": {},
   "outputs": [
    {
     "name": "stdout",
     "output_type": "stream",
     "text": [
      "13\n",
      "True\n",
      "True\n"
     ]
    }
   ],
   "source": [
    "a = 10\n",
    "b = 3\n",
    "print(a + b)\n",
    "print(a > b)\n",
    "print(a > 5 and b < 5)"
   ]
  },
  {
   "cell_type": "code",
   "execution_count": 7,
   "metadata": {},
   "outputs": [
    {
     "name": "stdout",
     "output_type": "stream",
     "text": [
      "성인\n"
     ]
    }
   ],
   "source": [
    "#조건문\n",
    "age = 20 \n",
    "if age < 18:\n",
    "    print('미성년자')\n",
    "elif age == 18:\n",
    "    print('갓 성인')\n",
    "else:\n",
    "    print('성인')"
   ]
  },
  {
   "cell_type": "code",
   "execution_count": 8,
   "metadata": {},
   "outputs": [
    {
     "name": "stdout",
     "output_type": "stream",
     "text": [
      "apple\n",
      "banana\n",
      "cherry\n"
     ]
    }
   ],
   "source": [
    "# for문 -> 리스트, 튜플 등 시퀀스 자료형의 요수를 반복\n",
    "fruits = ['apple', 'banana', 'cherry']\n",
    "for fruit in fruits:\n",
    "    print(fruit)\n",
    "    "
   ]
  },
  {
   "cell_type": "code",
   "execution_count": 9,
   "metadata": {},
   "outputs": [
    {
     "name": "stdout",
     "output_type": "stream",
     "text": [
      "0\n",
      "1\n",
      "2\n",
      "3\n",
      "4\n"
     ]
    }
   ],
   "source": [
    "# foransrhk range() 함수\n",
    "for i in range(5):\n",
    "    print(i)"
   ]
  },
  {
   "cell_type": "code",
   "execution_count": 10,
   "metadata": {},
   "outputs": [
    {
     "name": "stdout",
     "output_type": "stream",
     "text": [
      "0\n",
      "1\n",
      "2\n",
      "3\n",
      "4\n"
     ]
    }
   ],
   "source": [
    "#while\n",
    "count = 0\n",
    "while count < 5:\n",
    "    print(count)\n",
    "    count += 1"
   ]
  },
  {
   "cell_type": "code",
   "execution_count": 13,
   "metadata": {},
   "outputs": [
    {
     "name": "stdout",
     "output_type": "stream",
     "text": [
      "0\n",
      "1\n",
      "2\n",
      "3\n",
      "4\n",
      "**********\n",
      "1\n",
      "3\n",
      "5\n",
      "7\n",
      "9\n"
     ]
    }
   ],
   "source": [
    "#break, countinue\n",
    "for i in range(10):\n",
    "    if i == 5:\n",
    "        break\n",
    "    print(i)\n",
    "print(\"*\"*10)\n",
    "\n",
    "for i in range(10):\n",
    "    if i % 2 == 0:\n",
    "        continue\n",
    "    print(i)"
   ]
  },
  {
   "cell_type": "code",
   "execution_count": 14,
   "metadata": {},
   "outputs": [],
   "source": [
    "#함수\n",
    "def greet(name):\n",
    "    return f\"Hello,{name}!\""
   ]
  },
  {
   "cell_type": "code",
   "execution_count": 15,
   "metadata": {},
   "outputs": [
    {
     "name": "stdout",
     "output_type": "stream",
     "text": [
      "Hello,Bob!\n"
     ]
    }
   ],
   "source": [
    "result = greet(\"Bob\")\n",
    "print(result)"
   ]
  },
  {
   "cell_type": "code",
   "execution_count": 16,
   "metadata": {},
   "outputs": [
    {
     "name": "stdout",
     "output_type": "stream",
     "text": [
      "25\n"
     ]
    }
   ],
   "source": [
    "#lambda 함수\n",
    "#lambda 매개변수:반환값\n",
    "square = lambda x: x**2\n",
    "print(square(5))"
   ]
  },
  {
   "cell_type": "code",
   "execution_count": 17,
   "metadata": {},
   "outputs": [
    {
     "name": "stdout",
     "output_type": "stream",
     "text": [
      "[1, 4, 9, 16, 25]\n"
     ]
    }
   ],
   "source": [
    "#map\n",
    "numbers = [1,2,3,4,5]\n",
    "squares = list(map(lambda x: x**2, numbers))\n",
    "print(squares)"
   ]
  },
  {
   "cell_type": "code",
   "execution_count": 18,
   "metadata": {},
   "outputs": [
    {
     "name": "stdout",
     "output_type": "stream",
     "text": [
      "10\n"
     ]
    }
   ],
   "source": [
    "#가변인자(*args)\n",
    "def add(*args):\n",
    "    return sum(args)\n",
    "print(add(1,2,3,4))"
   ]
  },
  {
   "cell_type": "code",
   "execution_count": 20,
   "metadata": {},
   "outputs": [
    {
     "name": "stdout",
     "output_type": "stream",
     "text": [
      "name:Alice\n",
      "age:30\n",
      "city:Seoul\n"
     ]
    }
   ],
   "source": [
    "#키워드 가변 인자(**kwargs)\n",
    "def introduce(**kwargs):\n",
    "    for key, value in kwargs.items():\n",
    "        print(f\"{key}:{value}\")\n",
    "        \n",
    "introduce(name = \"Alice\",age = 30, city = \"Seoul\")"
   ]
  },
  {
   "cell_type": "code",
   "execution_count": 21,
   "metadata": {},
   "outputs": [
    {
     "name": "stdout",
     "output_type": "stream",
     "text": [
      "[1, 4, 9, 16]\n",
      "[2, 4]\n",
      "24\n"
     ]
    }
   ],
   "source": [
    "# map 함수, 모든 요소에 함수를 적용하여 새로운 리스트 반환\n",
    "numbers = [1, 2, 3, 4]\n",
    "squares = list(map(lambda x: x ** 2, numbers))\n",
    "print(squares)\n",
    "\n",
    "# filter 함수, 조건에 맞는 요소만 걸러내어 새로운 리스트 반환\n",
    "numbers = [1, 2, 3, 4, 5]\n",
    "evens = list(filter(lambda x: x % 2 == 0, numbers))\n",
    "print(evens)\n",
    "\n",
    "# reduce 함수, 모든 요소를 누적하여 단일 값을 반환\n",
    "from functools import reduce\n",
    "numbers = [1, 2, 3, 4]\n",
    "product = reduce(lambda x, y: x * y, numbers)\n",
    "print(product)"
   ]
  },
  {
   "cell_type": "code",
   "execution_count": 25,
   "metadata": {},
   "outputs": [
    {
     "name": "stdout",
     "output_type": "stream",
     "text": [
      "Buddy\n",
      "Woof\n"
     ]
    }
   ],
   "source": [
    "#클래스\n",
    "class Dog:\n",
    "    def __init__(self, name, age):  #객체 초기화 메서드\n",
    "        self.name = name\n",
    "        self.age = age\n",
    "    def bark(self):\n",
    "        return \"Woof\"\n",
    "    \n",
    "#인스턴스 생성\n",
    "my_dog = Dog('Buddy', 3)\n",
    "print(my_dog.name)\n",
    "print(my_dog.bark())"
   ]
  },
  {
   "cell_type": "code",
   "execution_count": 26,
   "metadata": {},
   "outputs": [],
   "source": [
    "#상속 -> 기존 클래스(부모 클래스)를 기반으로 새로운 클래스(자식 클래스)를 정의하는것\n",
    "class Animal:\n",
    "    def __init__(self,name):\n",
    "        self.name = name\n",
    "        \n",
    "    def speak(self):\n",
    "        raise NotADirectoryError(\"Subclass must implement abstract method\")\n",
    "    \n",
    "class Dog(Animal):\n",
    "    def speak(self):\n",
    "        return 'Woof'\n",
    "    \n",
    "class Cat(Animal):\n",
    "    def speak(self):\n",
    "        return 'Meow'"
   ]
  },
  {
   "cell_type": "code",
   "execution_count": 30,
   "metadata": {},
   "outputs": [
    {
     "name": "stdout",
     "output_type": "stream",
     "text": [
      "Buddy says Woof\n",
      "Whiskers says Meow\n"
     ]
    }
   ],
   "source": [
    "# 다형성 -> 동일한 인터페이스를 사용하여 서로 다른 데이터 타입의 객체를 다룰 수 있는 능력\n",
    "animals = [Dog('Buddy'), Cat('Whiskers')]\n",
    "for animal in animals:\n",
    "    print(f\"{animal.name} says {animal.speak()}\")"
   ]
  },
  {
   "cell_type": "code",
   "execution_count": 32,
   "metadata": {},
   "outputs": [
    {
     "name": "stdout",
     "output_type": "stream",
     "text": [
      "1998 by George Orwell\n",
      "Book(1998, George Orwell)\n"
     ]
    }
   ],
   "source": [
    "#매직 메서드\n",
    "\"\"\"\n",
    "    __init__ : 객체 초기화 메서드\n",
    "    __str__ : 객체의 문자열 표현을 반환\n",
    "    __repr__ : 객체의 공식 문자열 표현의 반환\n",
    "    \"\"\"\n",
    "    \n",
    "class Book:\n",
    "    def __init__(self, title, author):\n",
    "        self.title = title\n",
    "        self.author = author\n",
    "        \n",
    "    def __str__(self):\n",
    "        return f\"{self.title} by {self.author}\"\n",
    "    \n",
    "    def __repr__(self):\n",
    "        return f'Book({self.title}, {self.author})'\n",
    "    \n",
    "my_book = Book(\"1998\", \"George Orwell\")\n",
    "print(str(my_book))\n",
    "print(repr(my_book))"
   ]
  },
  {
   "cell_type": "code",
   "execution_count": 37,
   "metadata": {},
   "outputs": [
    {
     "name": "stdout",
     "output_type": "stream",
     "text": [
      "Vector(10, 21)\n"
     ]
    }
   ],
   "source": [
    "# 연산자 오버로딩 -> 파이썬의 기본 연산자를 사용자 정의 클래스에서 사용할 수 있도록 메서드 정의\n",
    "\"\"\"\n",
    "__add__: + 연산자\n",
    "__sub__: - 연산자\n",
    "__mul__: * 연산자\n",
    "__truediv__: / 연산자\n",
    "\"\"\"\n",
    "\n",
    "class Vector:\n",
    "    def __init__(self, x, y):\n",
    "        self.x = x\n",
    "        self.y = y\n",
    "        \n",
    "    def __mul__(self, other):\n",
    "        return Vector(self.x * other.x, self.y * other.y)\n",
    "    \n",
    "    def __str__(self):\n",
    "        return f\"Vector({self.x}, {self.y})\"\n",
    "    \n",
    "v1 = Vector(2,3)\n",
    "v2 = Vector(5,7)\n",
    "v3 = v1 * v2\n",
    "print(v3)"
   ]
  },
  {
   "cell_type": "code",
   "execution_count": 38,
   "metadata": {},
   "outputs": [
    {
     "name": "stdout",
     "output_type": "stream",
     "text": [
      "1\n",
      "2\n",
      "3\n",
      "4\n",
      "5\n"
     ]
    }
   ],
   "source": [
    "#이터레이터 클래스\n",
    "class Counter:\n",
    "    def __init__(self, max):\n",
    "        #이터레이터의 최댓값 설정\n",
    "        self.max = max\n",
    "        # 현재 값을 0으로 초기화\n",
    "        self.current = 0\n",
    "        \n",
    "    def __iter__(self):\n",
    "        # __iter__ 메서드는 이터레이터 객체 자체를 반환해야 함\n",
    "        return self\n",
    "    \n",
    "    def __next__(self):\n",
    "        # __next__ 메서드는 다음 값을 반환\n",
    "        if self.current < self.max:\n",
    "            #현재 값을 1증가\n",
    "            self.current += 1\n",
    "            #현재 값을 반환\n",
    "            return self.current\n",
    "        else:\n",
    "            #현재 값이 최대 값 이상이면 StopIteration 예외 발생\n",
    "            raise StopIteration\n",
    "        \n",
    "#Counter 클래스의 인스턴스를 생성\n",
    "counter = Counter(5)\n",
    "\n",
    "#이터레이터를 사용하여 값을 반복 출력\n",
    "for num in counter:\n",
    "    print(num)"
   ]
  },
  {
   "cell_type": "code",
   "execution_count": 39,
   "metadata": {},
   "outputs": [
    {
     "name": "stdout",
     "output_type": "stream",
     "text": [
      "1\n",
      "2\n",
      "3\n",
      "4\n",
      "5\n"
     ]
    }
   ],
   "source": [
    "#제너레이터 함수\n",
    "def count_up_to(max):\n",
    "    #카운트 초기값을 1로 설정\n",
    "    count = 1\n",
    "    # 카운트가 최대 값보다 작거나 같은 동안 반복\n",
    "    while count <= max:\n",
    "        #현재 카운트 값을 반환하고 함수의 실행 상태를 유지\n",
    "        yield count\n",
    "        #카운트를 1 증가\n",
    "        count += 1\n",
    "        \n",
    "#제너레이터 객체 생성\n",
    "counter = count_up_to(5)\n",
    "\n",
    "#제너레이터를 사용하여 값을 반복 출력\n",
    "for num in counter:\n",
    "    print(num)"
   ]
  },
  {
   "cell_type": "code",
   "execution_count": 40,
   "metadata": {},
   "outputs": [
    {
     "name": "stdout",
     "output_type": "stream",
     "text": [
      "1\n",
      "2\n",
      "3\n"
     ]
    }
   ],
   "source": [
    "# yield 키워드 -> 제너레이터 함수에서 값을 반환하고 함수의 실행 상태를 일시 중지\n",
    "def simple_generator():\n",
    "    yield 1\n",
    "    yield 2\n",
    "    yield 3\n",
    "    \n",
    "gen = simple_generator()\n",
    "print(next(gen))\n",
    "print(next(gen))\n",
    "print(next(gen))"
   ]
  },
  {
   "cell_type": "code",
   "execution_count": null,
   "metadata": {},
   "outputs": [],
   "source": []
  }
 ],
 "metadata": {
  "kernelspec": {
   "display_name": "base",
   "language": "python",
   "name": "python3"
  },
  "language_info": {
   "codemirror_mode": {
    "name": "ipython",
    "version": 3
   },
   "file_extension": ".py",
   "mimetype": "text/x-python",
   "name": "python",
   "nbconvert_exporter": "python",
   "pygments_lexer": "ipython3",
   "version": "3.10.12"
  }
 },
 "nbformat": 4,
 "nbformat_minor": 2
}
