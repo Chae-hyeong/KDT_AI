{
  "cells": [
    {
      "cell_type": "markdown",
      "metadata": {
        "id": "zr5LnyrKxjNd"
      },
      "source": [
        "# 파이썬 프로그래밍 종합 실습\n",
        "기본 문법 복습, 자료형, 함수, 클래스와 객체지향 프로그래밍, 제너레이터와 이터레이터, 파일 입출력, 예외 처리를 종합적으로 활용합니다."
      ]
    },
    {
      "cell_type": "markdown",
      "metadata": {
        "id": "MwJQm7MJxvAk"
      },
      "source": [
        "1. 파이썬 기본 문법 복습 및 자료형\n",
        "\n",
        "문제:\n",
        "\n",
        "사용자로부터 이름, 나이, 이메일을 입력받아 딕셔너리에 저장하는 프로그램을 작성하세요.\n",
        "\n",
        "나이와 이메일의 형식을 검증하고, 잘못된 입력이 있으면 예외 처리를 하세요."
      ]
    },
    {
      "cell_type": "code",
      "execution_count": 24,
      "metadata": {
        "id": "yKTAculHxfMp"
      },
      "outputs": [
        {
          "name": "stdout",
          "output_type": "stream",
          "text": [
            "사용자 정보 {'name': 'Aiden', 'age': 25, 'email': 'aiden2000@xxxxx.com'}\n"
          ]
        }
      ],
      "source": [
        "def validate_age(age):\n",
        "    if not isinstance(age, int) or age <=0 or age >= 120: #나이 조건\n",
        "        raise ValueError('나이를 정확이 입력하세여')\n",
        "\n",
        "def validate_email(email):\n",
        "    if '@' not in email or not email.endswith('.com'):  #이메일 조건\n",
        "        raise ValueError('이메일을 정확이 입력하세여')\n",
        "\n",
        "def introduce(**kwargs):    #사용자 정보 딕셔너리화\n",
        "    user_info = {}\n",
        "    for key, value in kwargs.items():\n",
        "        user_info[key] = value\n",
        "    return user_info\n",
        "\n",
        "try:\n",
        "    user_info = introduce(name=\"Aiden\", age=25, email = 'aiden2000@xxxxx.com')\n",
        "    \n",
        "    validate_age(user_info['age'])\n",
        "    validate_email(user_info['email'])\n",
        "    \n",
        "    print(\"사용자 정보\",user_info)\n",
        "except ValueError as e:\n",
        "    print('오류:',e)\n",
        "\n"
      ]
    },
    {
      "cell_type": "markdown",
      "metadata": {
        "id": "in-rBALsyK33"
      },
      "source": [
        "2. 함수 및 클래스와 객체지향 프로그래밍\n",
        "\n",
        "문제:\n",
        "\n",
        "간단한 계산기 클래스를 작성하세요. 이 클래스는 덧셈, 뺄셈, 곱셈, 나눗셈 메서드를 포함합니다.\n",
        "\n",
        "사용자로부터 두 숫자와 연산자를 입력받아 계산 결과를 출력하는 프로그램을 작성하세요."
      ]
    },
    {
      "cell_type": "code",
      "execution_count": 50,
      "metadata": {},
      "outputs": [
        {
          "name": "stdout",
          "output_type": "stream",
          "text": [
            "결과: 4.0\n"
          ]
        }
      ],
      "source": [
        "class Calculator:\n",
        "    def __init__(self, x, y):\n",
        "        self.x = x\n",
        "        self.y = y\n",
        "    \n",
        "    def calculate(self, operator):\n",
        "        if operator == '+':\n",
        "            return self.x + self.y\n",
        "        elif operator == '-':\n",
        "            return self.x - self.y\n",
        "        elif operator == '*':\n",
        "            return self.x * self.y\n",
        "        elif operator == '/':\n",
        "            return \"0으로 나눌 수 없습니다.\" if self.y == 0 else self.x / self.y\n",
        "        else:\n",
        "            return \"잘못된 연산자입니다.\"\n",
        "\n",
        "def main():\n",
        "    try:\n",
        "        expression = input('두 숫자와 연산자를 입력하세요 (예: 3 + 5): ')\n",
        "        num1, operator, num2 = expression.split()\n",
        "        num1, num2 = float(num1), float(num2)\n",
        "        \n",
        "        calc = Calculator(num1, num2)\n",
        "        result = calc.calculate(operator)\n",
        "        \n",
        "        print(f\"결과: {result}\")\n",
        "    except ValueError:\n",
        "        print(\"잘못된 입력입니다.\")\n",
        "    except Exception as e:\n",
        "        print(f\"오류 발생: {e}\")\n",
        "\n",
        "if __name__ == \"__main__\":\n",
        "    main()\n"
      ]
    },
    {
      "cell_type": "markdown",
      "metadata": {
        "id": "OlDjuxSlyZOi"
      },
      "source": [
        "3. 제너레이터와 이터레이터\n",
        "\n",
        "문제:\n",
        "\n",
        "피보나치 수열을 생성하는 제너레이터 함수를 작성하세요.\n",
        "피보나치 수열의 첫 10개 값을 출력하세요."
      ]
    },
    {
      "cell_type": "code",
      "execution_count": 56,
      "metadata": {
        "id": "BkI1jD4GydEa"
      },
      "outputs": [
        {
          "name": "stdout",
          "output_type": "stream",
          "text": [
            "0\n",
            "1\n",
            "1\n",
            "2\n",
            "3\n",
            "5\n",
            "8\n",
            "13\n",
            "21\n",
            "34\n"
          ]
        }
      ],
      "source": [
        "def fibonacci(n):\n",
        "    a, b = 0, 1\n",
        "    \n",
        "    for _ in range(n):\n",
        "        yield a\n",
        "        a , b = b, a + b\n",
        "\n",
        "for num in fibonacci(10):\n",
        "    print(num)"
      ]
    },
    {
      "cell_type": "markdown",
      "metadata": {
        "id": "O-_Q0pRUycx0"
      },
      "source": [
        "4. 파일 입출력\n",
        "\n",
        "문제:\n",
        "\n",
        "사용자로부터 입력받은 데이터를 파일에 저장하고, 파일 내용을 읽어 출력하는 프로그램을 작성하세요.\n",
        "\n",
        "데이터는 JSON 형식으로 저장하세요"
      ]
    },
    {
      "cell_type": "code",
      "execution_count": 62,
      "metadata": {
        "id": "nyLTxXTHyqKE"
      },
      "outputs": [
        {
          "name": "stdout",
          "output_type": "stream",
          "text": [
            "{\"name\": \"aiden\", \"age\": \"25\", \"city\": \"seoul\"}\n"
          ]
        }
      ],
      "source": [
        "import json\n",
        "\n",
        "data = {}\n",
        "data['name'] = input('이름:')\n",
        "data['age'] = input('나이:')\n",
        "data['city'] = input('도시:')\n",
        "\n",
        "with open('example.json', 'w') as file:\n",
        "    json.dump(data, file)\n",
        "\n",
        "with open('example.json','r')as file:\n",
        "    content = json.load(file)\n",
        "\n",
        "print(json.dumps(content))"
      ]
    },
    {
      "cell_type": "markdown",
      "metadata": {
        "id": "snEMYElhy3Q3"
      },
      "source": [
        "5. Database 연동\n",
        "\n",
        "문제:\n",
        "\n",
        "SQLite 데이터베이스에 사용자 정보를 저장하고, 저장된 데이터를 조회하여 출력하는 프로그램을 작성하세요.\n",
        "\n",
        "테이블은 users로 하고, id, name, age, email 컬럼을 포함합니다."
      ]
    },
    {
      "cell_type": "code",
      "execution_count": 72,
      "metadata": {
        "id": "d8BgUC0ky6_b"
      },
      "outputs": [
        {
          "name": "stdout",
          "output_type": "stream",
          "text": [
            "1. 사용자 추가\n",
            "2. 사용자 목록 조회\n",
            "3. 종료\n",
            "1. 사용자 추가\n",
            "2. 사용자 목록 조회\n",
            "3. 종료\n",
            "(1, 'aiden', 25, 'hch@nabersd.com')\n",
            "1. 사용자 추가\n",
            "2. 사용자 목록 조회\n",
            "3. 종료\n",
            "1. 사용자 추가\n",
            "2. 사용자 목록 조회\n",
            "3. 종료\n",
            "(1, 'aiden', 25, 'hch@nabersd.com')\n",
            "(2, 'rkawk', 23, 'chch@.asdq.com')\n",
            "1. 사용자 추가\n",
            "2. 사용자 목록 조회\n",
            "3. 종료\n"
          ]
        }
      ],
      "source": [
        "import sqlite3\n",
        "\n",
        "# 테이블을 생성하는 함수\n",
        "def create_table():\n",
        "    # 데이터베이스 연결을 생성\n",
        "    conn = sqlite3.connect('users.db')\n",
        "    cursor = conn.cursor()\n",
        "    # users 테이블을 생성 (존재하지 않는 경우에만)\n",
        "    cursor.execute('''\n",
        "        CREATE TABLE IF NOT EXISTS users (\n",
        "            id INTEGER PRIMARY KEY AUTOINCREMENT,\n",
        "            name TEXT NOT NULL,\n",
        "            age INTEGER NOT NULL,\n",
        "            email TEXT NOT NULL UNIQUE\n",
        "        )\n",
        "    ''')\n",
        "    conn.commit()\n",
        "    conn.close()\n",
        "\n",
        "# 사용자를 삽입하는 함수\n",
        "def insert_user(name, age, email):\n",
        "    # 데이터베이스 연결을 생성\n",
        "    conn = sqlite3.connect('users.db')\n",
        "    cursor = conn.cursor()\n",
        "    try:\n",
        "        # 사용자를 테이블에 삽입\n",
        "        cursor.execute('''\n",
        "            INSERT INTO users (name, age, email) VALUES (?, ?, ?)\n",
        "        ''', (name, age, email))\n",
        "        conn.commit()\n",
        "    except sqlite3.IntegrityError as e:\n",
        "        # 이메일 중복 등으로 인한 삽입 실패 시 에러 메시지 출력\n",
        "        print(f\"에러 발생: {e}\")\n",
        "    conn.close()\n",
        "\n",
        "# 모든 사용자를 조회하는 함수\n",
        "def fetch_users():\n",
        "    # 데이터베이스 연결을 생성\n",
        "    conn = sqlite3.connect('users.db')\n",
        "    cursor = conn.cursor()\n",
        "    # 모든 사용자 데이터를 조회\n",
        "    cursor.execute('SELECT * FROM users')\n",
        "    users = cursor.fetchall()\n",
        "    conn.close()\n",
        "    return users\n",
        "\n",
        "# 메인 함수\n",
        "def main():\n",
        "    create_table()\n",
        "    \n",
        "    while True:\n",
        "        # 사용자에게 메뉴 옵션을 제공\n",
        "        print(\"1. 사용자 추가\")\n",
        "        print(\"2. 사용자 목록 조회\")\n",
        "        print(\"3. 종료\")\n",
        "        choice = input(\"선택하세요: \")\n",
        "        \n",
        "        if choice == '1':\n",
        "            # 사용자 추가\n",
        "            name = input(\"이름: \")\n",
        "            age = input(\"나이: \")\n",
        "            email = input(\"이메일: \")\n",
        "            \n",
        "            if not age.isdigit():\n",
        "                # 나이가 숫자가 아닌 경우 경고 메시지 출력\n",
        "                print(\"나이는 숫자여야 합니다.\")\n",
        "                continue\n",
        "            \n",
        "            # 사용자를 데이터베이스에 삽입\n",
        "            insert_user(name, int(age), email)\n",
        "        \n",
        "        elif choice == '2':\n",
        "            # 사용자 목록 조회\n",
        "            users = fetch_users()\n",
        "            for user in users:\n",
        "                print(user)\n",
        "        \n",
        "        elif choice == '3':\n",
        "            # 프로그램 종료\n",
        "            break\n",
        "\n",
        "if __name__ == \"__main__\":\n",
        "    main()\n"
      ]
    },
    {
      "cell_type": "markdown",
      "metadata": {
        "id": "qFd9nMWdzMaw"
      },
      "source": [
        "6. 예외 처리\n",
        "\n",
        "문제:\n",
        "\n",
        "사용자로부터 숫자를 입력받아, 그 숫자를 10으로 나누는 프로그램을 작성하세요.\n",
        "\n",
        "0으로 나누는 경우와 숫자가 아닌 값을 입력받는 경우를 처리하세요."
      ]
    },
    {
      "cell_type": "code",
      "execution_count": 81,
      "metadata": {
        "id": "B_0S33jOzPDJ"
      },
      "outputs": [
        {
          "name": "stdout",
          "output_type": "stream",
          "text": [
            "숫자를 입력해주세요 could not convert string to float: 'asd'\n"
          ]
        }
      ],
      "source": [
        "try:\n",
        "    n = float(input('숫자를 입력하세요'))\n",
        "    result = 10/n\n",
        "    print(result)\n",
        "except ZeroDivisionError as e:\n",
        "    print('0으로 나눌 수 없습니다',e)\n",
        "    \n",
        "except ValueError as e:\n",
        "    print('숫자를 입력해주세요',e)\n",
        "    "
      ]
    },
    {
      "cell_type": "code",
      "execution_count": null,
      "metadata": {},
      "outputs": [],
      "source": []
    }
  ],
  "metadata": {
    "colab": {
      "provenance": []
    },
    "kernelspec": {
      "display_name": "Python 3",
      "name": "python3"
    },
    "language_info": {
      "codemirror_mode": {
        "name": "ipython",
        "version": 3
      },
      "file_extension": ".py",
      "mimetype": "text/x-python",
      "name": "python",
      "nbconvert_exporter": "python",
      "pygments_lexer": "ipython3",
      "version": "3.10.14"
    }
  },
  "nbformat": 4,
  "nbformat_minor": 0
}
