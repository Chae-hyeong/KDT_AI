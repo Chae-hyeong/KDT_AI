{
 "cells": [
  {
   "cell_type": "markdown",
   "id": "054b4a16-de19-4709-8691-97fa0fd429a5",
   "metadata": {},
   "source": [
    "# 데이터의 수집 방법\n",
    "1. 크롤링\n",
    "   - 자동화된 스크립트 사용하여 웹 페이지를 탐색하고 데이터 수집\n",
    "   - 전체 사이트 또는 다수의 페이지를 탐색\n",
    "   - 검색 엔진의 크롤러와 유사\n",
    "2. 스크래핑\n",
    "   - 특정 웹 페이지에서 필요한 데이터 추출\n",
    "   - 웹 크롤링의 하위 집합으로서 특정 데이터만 수집\n",
    "  \n",
    "* 웹 크롤링 -> 조직적, 자동화 된 방법으로 월드 와이드 웹을 탐색하는 컴퓨터 프로그램\n",
    "* 크롤러 -> 웹 상의 정보를 수집하고 체계화하는 역할을 담당"
   ]
  },
  {
   "cell_type": "markdown",
   "id": "6f85e3ed-359c-43a5-81a3-864f95b2b16e",
   "metadata": {},
   "source": [
    "# 데이터 수집(스크래핑)\n",
    "- requests\n",
    "  - HTTP 요청을 보내고 응답을 받기 위한 라이브러리\n",
    "- BeautifulSoup\n",
    "  - HTML 및 XML 문서를 파싱하여 원하는 데이터를 추출하기 위한 라이브러리\n",
    "- Scrapy\n",
    "  - 크롤링 및 스크래핑을 위한 프레임워크\n",
    "  - 정적 웹 크롤링 강점\n",
    "- Selenium\n",
    "  - 웹 브라우저 자동화를 위한 라이브러리\n",
    "  - 동적 웹 스크래핑 강점"
   ]
  },
  {
   "cell_type": "code",
   "execution_count": 7,
   "id": "fb2b7c9a-415a-47f3-ad80-f3912c605285",
   "metadata": {},
   "outputs": [],
   "source": [
    "    "
   ]
  },
  {
   "cell_type": "code",
   "execution_count": null,
   "id": "7a1158c7-7dfa-415d-b4c5-5965160389bd",
   "metadata": {},
   "outputs": [],
   "source": []
  }
 ],
 "metadata": {
  "kernelspec": {
   "display_name": "Python 3 (ipykernel)",
   "language": "python",
   "name": "python3"
  },
  "language_info": {
   "codemirror_mode": {
    "name": "ipython",
    "version": 3
   },
   "file_extension": ".py",
   "mimetype": "text/x-python",
   "name": "python",
   "nbconvert_exporter": "python",
   "pygments_lexer": "ipython3",
   "version": "3.10.14"
  }
 },
 "nbformat": 4,
 "nbformat_minor": 5
}
