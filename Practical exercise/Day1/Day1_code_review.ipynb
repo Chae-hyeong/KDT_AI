{
 "cells": [
  {
   "cell_type": "markdown",
   "id": "054b4a16-de19-4709-8691-97fa0fd429a5",
   "metadata": {},
   "source": [
    "# 데이터의 수집 방법\n",
    "1. 크롤링\n",
    "   - 자동화된 스크립트 사용하여 웹 페이지를 탐색하고 데이터 수집\n",
    "   - 전체 사이트 또는 다수의 페이지를 탐색\n",
    "   - 검색 엔진의 크롤러와 유사\n",
    "2. 스크래핑\n",
    "   - 특정 웹 페이지에서 필요한 데이터 추출\n",
    "   - 웹 크롤링의 하위 집합으로서 특정 데이터만 수집\n",
    "  \n",
    "* 웹 크롤링 -> 조직적, 자동화 된 방법으로 월드 와이드 웹을 탐색하는 컴퓨터 프로그램\n",
    "* 크롤러 -> 웹 상의 정보를 수집하고 체계화하는 역할을 담당"
   ]
  },
  {
   "cell_type": "markdown",
   "id": "6f85e3ed-359c-43a5-81a3-864f95b2b16e",
   "metadata": {},
   "source": [
    "# 데이터 수집(스크래핑)\n",
    "- requests\n",
    "  - HTTP 요청을 보내고 응답을 받기 위한 라이브러리\n",
    "- BeautifulSoup\n",
    "  - HTML 및 XML 문서를 파싱하여 원하는 데이터를 추출하기 위한 라이브러리\n",
    "- Scrapy\n",
    "  - 크롤링 및 스크래핑을 위한 프레임워크\n",
    "  - 정적 웹 크롤링 강점\n",
    "- Selenium\n",
    "  - 웹 브라우저 자동화를 위한 라이브러리\n",
    "  - 동적 웹 스크래핑 강점"
   ]
  },
  {
   "cell_type": "code",
   "execution_count": 1,
   "id": "fb2b7c9a-415a-47f3-ad80-f3912c605285",
   "metadata": {},
   "outputs": [
    {
     "name": "stdout",
     "output_type": "stream",
     "text": [
      "TOP 1: 객체 간 관계성 인지용 한국형 비전 데이터\n",
      "TOP 2: 손∙팔 협조에 의한 파지-조작 동작 데이터\n",
      "TOP 3: 상용 자율주행차 야간 자동차 전용도로 데이터\n"
     ]
    }
   ],
   "source": [
    "import requests\n",
    "from bs4 import BeautifulSoup\n",
    "\n",
    "# AI HUB 페이지 URL\n",
    "url = 'https://www.aihub.or.kr/'\n",
    "\n",
    "#웹 페이지 요청\n",
    "response = requests.get(url)\n",
    "response.raise_for_status() # 요청이 성공했는지 확인\n",
    "\n",
    "# BeautifulSoup 객체 생성\n",
    "soup = BeautifulSoup(response.content, 'html.parser')\n",
    "\n",
    "# 인기 데이터 TOP3 섹션 찾기\n",
    "top3_section = soup.find('div', class_='secR')\n",
    "\n",
    "# 각 데이터 항목 추출\n",
    "data_list = top3_section.find_all('div', class_='list')\n",
    "\n",
    "# 각 데이터 항목 추출\n",
    "titles = []\n",
    "for data in data_list:\n",
    "    title = data.find('h3').get_text(strip = True)\n",
    "    clean_title = title.split(']')[-1].strip()\n",
    "    titles.append(clean_title)\n",
    "    \n",
    "# 추출한 데이터 출력\n",
    "for idx, title in enumerate(titles, start = 1):\n",
    "    print(f\"TOP {idx}: {title}\")\n",
    "\n",
    "\n"
   ]
  },
  {
   "cell_type": "markdown",
   "id": "a4140841",
   "metadata": {},
   "source": [
    "2. requests 라이브러리 및 BeautifulSoup 사용 예제"
   ]
  },
  {
   "cell_type": "code",
   "execution_count": 5,
   "id": "7a1158c7-7dfa-415d-b4c5-5965160389bd",
   "metadata": {},
   "outputs": [
    {
     "name": "stdout",
     "output_type": "stream",
     "text": [
      "Title: 위키백과:대문\n",
      "First paragraph:  위키백과\n",
      "\n"
     ]
    }
   ],
   "source": [
    "import requests\n",
    "from bs4 import BeautifulSoup\n",
    "\n",
    "# 1. 웹 페이지 요청\n",
    "url = 'https://ko.wikipedia.org/wiki/위키백과:대문'\n",
    "response = requests.get(url)\n",
    "\n",
    "# 2. 요청이 성공했는지 확인\n",
    "if response.status_code == 200:\n",
    "    # 3. BeautifulSoup 객체 생성\n",
    "    soup = BeautifulSoup(response.content, 'html.parser')\n",
    "    \n",
    "    #4. 페이지 제목 추출\n",
    "    title = soup.find('h1', id = 'firstHeading').text\n",
    "    print(f\"Title: {title}\")\n",
    "    \n",
    "    #5. 첫 번째 단락 추출\n",
    "    first_paragraph = soup.find('p').text\n",
    "    print(f\"First paragraph: {first_paragraph}\")\n",
    "else:\n",
    "    print(f\"failed to retrieve the web page. Status code: {response.status_code}\")"
   ]
  },
  {
   "cell_type": "markdown",
   "id": "bc29ee99",
   "metadata": {},
   "source": [
    "3. Selenium 라이브러리 사용 예제"
   ]
  },
  {
   "cell_type": "code",
   "execution_count": 6,
   "id": "071200f9",
   "metadata": {},
   "outputs": [
    {
     "name": "stdout",
     "output_type": "stream",
     "text": [
      "Requirement already satisfied: selenium in /opt/anaconda3/lib/python3.10/site-packages (4.22.0)\n",
      "Requirement already satisfied: urllib3<3,>=1.26 in /opt/anaconda3/lib/python3.10/site-packages (from urllib3[socks]<3,>=1.26->selenium) (2.2.2)\n",
      "Requirement already satisfied: trio~=0.17 in /opt/anaconda3/lib/python3.10/site-packages (from selenium) (0.25.1)\n",
      "Requirement already satisfied: trio-websocket~=0.9 in /opt/anaconda3/lib/python3.10/site-packages (from selenium) (0.11.1)\n",
      "Requirement already satisfied: certifi>=2021.10.8 in /opt/anaconda3/lib/python3.10/site-packages (from selenium) (2024.6.2)\n",
      "Requirement already satisfied: typing_extensions>=4.9.0 in /opt/anaconda3/lib/python3.10/site-packages (from selenium) (4.11.0)\n",
      "Requirement already satisfied: websocket-client>=1.8.0 in /opt/anaconda3/lib/python3.10/site-packages (from selenium) (1.8.0)\n",
      "Requirement already satisfied: attrs>=23.2.0 in /opt/anaconda3/lib/python3.10/site-packages (from trio~=0.17->selenium) (23.2.0)\n",
      "Requirement already satisfied: sortedcontainers in /opt/anaconda3/lib/python3.10/site-packages (from trio~=0.17->selenium) (2.4.0)\n",
      "Requirement already satisfied: idna in /opt/anaconda3/lib/python3.10/site-packages (from trio~=0.17->selenium) (3.7)\n",
      "Requirement already satisfied: outcome in /opt/anaconda3/lib/python3.10/site-packages (from trio~=0.17->selenium) (1.3.0.post0)\n",
      "Requirement already satisfied: sniffio>=1.3.0 in /opt/anaconda3/lib/python3.10/site-packages (from trio~=0.17->selenium) (1.3.0)\n",
      "Requirement already satisfied: exceptiongroup in /opt/anaconda3/lib/python3.10/site-packages (from trio~=0.17->selenium) (1.2.0)\n",
      "Requirement already satisfied: wsproto>=0.14 in /opt/anaconda3/lib/python3.10/site-packages (from trio-websocket~=0.9->selenium) (1.2.0)\n",
      "Requirement already satisfied: pysocks!=1.5.7,<2.0,>=1.5.6 in /opt/anaconda3/lib/python3.10/site-packages (from urllib3[socks]<3,>=1.26->selenium) (1.7.1)\n",
      "Requirement already satisfied: h11<1,>=0.9.0 in /opt/anaconda3/lib/python3.10/site-packages (from wsproto>=0.14->trio-websocket~=0.9->selenium) (0.14.0)\n"
     ]
    }
   ],
   "source": [
    "#!pip install selenium"
   ]
  },
  {
   "cell_type": "code",
   "execution_count": 8,
   "id": "4fd3e5b2",
   "metadata": {},
   "outputs": [],
   "source": [
    "from selenium import webdriver\n",
    "from selenium.webdriver.common.by import By\n",
    "\n",
    "#URL 성정\n",
    "URL = \"https://ko.wikipedia.org/wiki/위키백과:대문\"\n",
    "\n",
    "# Chrome 옵션 설정\n",
    "options = webdriver.ChromeOptions()\n",
    "options.add_argument(\"--headless\") #브라우저 창을 띄우지 않음\n",
    "options.add_argument('--disavle-dev-shm-usage')\n",
    "options.add_argument(\"--no-snadbox\")\n",
    "\n",
    "# 웹 "
   ]
  },
  {
   "cell_type": "code",
   "execution_count": null,
   "id": "e74f785a",
   "metadata": {},
   "outputs": [],
   "source": []
  }
 ],
 "metadata": {
  "kernelspec": {
   "display_name": "Python 3 (ipykernel)",
   "language": "python",
   "name": "python3"
  },
  "language_info": {
   "codemirror_mode": {
    "name": "ipython",
    "version": 3
   },
   "file_extension": ".py",
   "mimetype": "text/x-python",
   "name": "python",
   "nbconvert_exporter": "python",
   "pygments_lexer": "ipython3",
   "version": "3.10.12"
  }
 },
 "nbformat": 4,
 "nbformat_minor": 5
}
