{
  "cells": [
    {
      "cell_type": "markdown",
      "metadata": {
        "id": "jLBASXQW704D"
      },
      "source": [
        "https://www.kaggle.com/datasets/rabieelkharoua/predict-customer-purchase-behavior-dataset"
      ]
    },
    {
      "cell_type": "code",
      "execution_count": 7,
      "metadata": {
        "colab": {
          "base_uri": "https://localhost:8080/"
        },
        "id": "FuY2HoOQvIvO",
        "outputId": "380c8eca-0d07-423e-8195-26a8e13478b9"
      },
      "outputs": [],
      "source": [
        "#!pip install kaggle"
      ]
    },
    {
      "cell_type": "code",
      "execution_count": 8,
      "metadata": {
        "colab": {
          "base_uri": "https://localhost:8080/"
        },
        "id": "WdzlzfgKvWlZ",
        "outputId": "9ef15efb-13c2-4934-ccc2-b419476aa904"
      },
      "outputs": [],
      "source": [
        "#!kaggle datasets download -d rabieelkharoua/predict-customer-purchase-behavior-dataset"
      ]
    },
    {
      "cell_type": "code",
      "execution_count": 9,
      "metadata": {
        "colab": {
          "base_uri": "https://localhost:8080/"
        },
        "id": "vrPh3KxmvWnn",
        "outputId": "87003c1d-4c51-4f3e-8677-0caa177f8fc9"
      },
      "outputs": [],
      "source": [
        "#!unzip predict-customer-purchase-behavior-dataset.zip"
      ]
    },
    {
      "cell_type": "code",
      "execution_count": 10,
      "metadata": {
        "id": "_151yAE0vWpj"
      },
      "outputs": [],
      "source": [
        "# pandas 라이브러리 사용\n",
        "import pandas as pd\n",
        "\n",
        "# CSV load\n",
        "data = pd.read_csv('customer_purchase_data.csv')"
      ]
    },
    {
      "cell_type": "code",
      "execution_count": 11,
      "metadata": {
        "colab": {
          "base_uri": "https://localhost:8080/"
        },
        "id": "OaElnqmsvWrq",
        "outputId": "1c2bb5e2-2be5-4a67-925c-9d162c98d20c"
      },
      "outputs": [
        {
          "name": "stdout",
          "output_type": "stream",
          "text": [
            "<class 'pandas.core.frame.DataFrame'>\n",
            "RangeIndex: 1500 entries, 0 to 1499\n",
            "Data columns (total 9 columns):\n",
            " #   Column              Non-Null Count  Dtype  \n",
            "---  ------              --------------  -----  \n",
            " 0   Age                 1500 non-null   int64  \n",
            " 1   Gender              1500 non-null   int64  \n",
            " 2   AnnualIncome        1500 non-null   float64\n",
            " 3   NumberOfPurchases   1500 non-null   int64  \n",
            " 4   ProductCategory     1500 non-null   int64  \n",
            " 5   TimeSpentOnWebsite  1500 non-null   float64\n",
            " 6   LoyaltyProgram      1500 non-null   int64  \n",
            " 7   DiscountsAvailed    1500 non-null   int64  \n",
            " 8   PurchaseStatus      1500 non-null   int64  \n",
            "dtypes: float64(2), int64(7)\n",
            "memory usage: 105.6 KB\n"
          ]
        }
      ],
      "source": [
        "# 데이터 구조 확인\n",
        "data.info()"
      ]
    },
    {
      "cell_type": "code",
      "execution_count": 12,
      "metadata": {
        "colab": {
          "base_uri": "https://localhost:8080/",
          "height": 206
        },
        "id": "FzvgFMkUvWuI",
        "outputId": "d302ef40-9314-4e49-e52c-2b797ff7f603"
      },
      "outputs": [
        {
          "data": {
            "text/html": [
              "<div>\n",
              "<style scoped>\n",
              "    .dataframe tbody tr th:only-of-type {\n",
              "        vertical-align: middle;\n",
              "    }\n",
              "\n",
              "    .dataframe tbody tr th {\n",
              "        vertical-align: top;\n",
              "    }\n",
              "\n",
              "    .dataframe thead th {\n",
              "        text-align: right;\n",
              "    }\n",
              "</style>\n",
              "<table border=\"1\" class=\"dataframe\">\n",
              "  <thead>\n",
              "    <tr style=\"text-align: right;\">\n",
              "      <th></th>\n",
              "      <th>Age</th>\n",
              "      <th>Gender</th>\n",
              "      <th>AnnualIncome</th>\n",
              "      <th>NumberOfPurchases</th>\n",
              "      <th>ProductCategory</th>\n",
              "      <th>TimeSpentOnWebsite</th>\n",
              "      <th>LoyaltyProgram</th>\n",
              "      <th>DiscountsAvailed</th>\n",
              "      <th>PurchaseStatus</th>\n",
              "    </tr>\n",
              "  </thead>\n",
              "  <tbody>\n",
              "    <tr>\n",
              "      <th>0</th>\n",
              "      <td>40</td>\n",
              "      <td>1</td>\n",
              "      <td>66120.267939</td>\n",
              "      <td>8</td>\n",
              "      <td>0</td>\n",
              "      <td>30.568601</td>\n",
              "      <td>0</td>\n",
              "      <td>5</td>\n",
              "      <td>1</td>\n",
              "    </tr>\n",
              "    <tr>\n",
              "      <th>1</th>\n",
              "      <td>20</td>\n",
              "      <td>1</td>\n",
              "      <td>23579.773583</td>\n",
              "      <td>4</td>\n",
              "      <td>2</td>\n",
              "      <td>38.240097</td>\n",
              "      <td>0</td>\n",
              "      <td>5</td>\n",
              "      <td>0</td>\n",
              "    </tr>\n",
              "    <tr>\n",
              "      <th>2</th>\n",
              "      <td>27</td>\n",
              "      <td>1</td>\n",
              "      <td>127821.306432</td>\n",
              "      <td>11</td>\n",
              "      <td>2</td>\n",
              "      <td>31.633212</td>\n",
              "      <td>1</td>\n",
              "      <td>0</td>\n",
              "      <td>1</td>\n",
              "    </tr>\n",
              "    <tr>\n",
              "      <th>3</th>\n",
              "      <td>24</td>\n",
              "      <td>1</td>\n",
              "      <td>137798.623120</td>\n",
              "      <td>19</td>\n",
              "      <td>3</td>\n",
              "      <td>46.167059</td>\n",
              "      <td>0</td>\n",
              "      <td>4</td>\n",
              "      <td>1</td>\n",
              "    </tr>\n",
              "    <tr>\n",
              "      <th>4</th>\n",
              "      <td>31</td>\n",
              "      <td>1</td>\n",
              "      <td>99300.964220</td>\n",
              "      <td>19</td>\n",
              "      <td>1</td>\n",
              "      <td>19.823592</td>\n",
              "      <td>0</td>\n",
              "      <td>0</td>\n",
              "      <td>1</td>\n",
              "    </tr>\n",
              "  </tbody>\n",
              "</table>\n",
              "</div>"
            ],
            "text/plain": [
              "   Age  Gender   AnnualIncome  NumberOfPurchases  ProductCategory  \\\n",
              "0   40       1   66120.267939                  8                0   \n",
              "1   20       1   23579.773583                  4                2   \n",
              "2   27       1  127821.306432                 11                2   \n",
              "3   24       1  137798.623120                 19                3   \n",
              "4   31       1   99300.964220                 19                1   \n",
              "\n",
              "   TimeSpentOnWebsite  LoyaltyProgram  DiscountsAvailed  PurchaseStatus  \n",
              "0           30.568601               0                 5               1  \n",
              "1           38.240097               0                 5               0  \n",
              "2           31.633212               1                 0               1  \n",
              "3           46.167059               0                 4               1  \n",
              "4           19.823592               0                 0               1  "
            ]
          },
          "execution_count": 12,
          "metadata": {},
          "output_type": "execute_result"
        }
      ],
      "source": [
        "# 데이터 샘플 확인\n",
        "data.head(5)"
      ]
    },
    {
      "cell_type": "code",
      "execution_count": 13,
      "metadata": {
        "colab": {
          "base_uri": "https://localhost:8080/",
          "height": 300
        },
        "id": "4iYo-NUev-OZ",
        "outputId": "4b714c67-dc5e-4657-cdd6-eb2d3ee979d4"
      },
      "outputs": [
        {
          "data": {
            "text/html": [
              "<div>\n",
              "<style scoped>\n",
              "    .dataframe tbody tr th:only-of-type {\n",
              "        vertical-align: middle;\n",
              "    }\n",
              "\n",
              "    .dataframe tbody tr th {\n",
              "        vertical-align: top;\n",
              "    }\n",
              "\n",
              "    .dataframe thead th {\n",
              "        text-align: right;\n",
              "    }\n",
              "</style>\n",
              "<table border=\"1\" class=\"dataframe\">\n",
              "  <thead>\n",
              "    <tr style=\"text-align: right;\">\n",
              "      <th></th>\n",
              "      <th>Age</th>\n",
              "      <th>Gender</th>\n",
              "      <th>AnnualIncome</th>\n",
              "      <th>NumberOfPurchases</th>\n",
              "      <th>ProductCategory</th>\n",
              "      <th>TimeSpentOnWebsite</th>\n",
              "      <th>LoyaltyProgram</th>\n",
              "      <th>DiscountsAvailed</th>\n",
              "      <th>PurchaseStatus</th>\n",
              "    </tr>\n",
              "  </thead>\n",
              "  <tbody>\n",
              "    <tr>\n",
              "      <th>count</th>\n",
              "      <td>1500.000000</td>\n",
              "      <td>1500.000000</td>\n",
              "      <td>1500.000000</td>\n",
              "      <td>1500.000000</td>\n",
              "      <td>1500.000000</td>\n",
              "      <td>1500.000000</td>\n",
              "      <td>1500.000000</td>\n",
              "      <td>1500.000000</td>\n",
              "      <td>1500.00000</td>\n",
              "    </tr>\n",
              "    <tr>\n",
              "      <th>mean</th>\n",
              "      <td>44.298667</td>\n",
              "      <td>0.504667</td>\n",
              "      <td>84249.164338</td>\n",
              "      <td>10.420000</td>\n",
              "      <td>2.012667</td>\n",
              "      <td>30.469040</td>\n",
              "      <td>0.326667</td>\n",
              "      <td>2.555333</td>\n",
              "      <td>0.43200</td>\n",
              "    </tr>\n",
              "    <tr>\n",
              "      <th>std</th>\n",
              "      <td>15.537259</td>\n",
              "      <td>0.500145</td>\n",
              "      <td>37629.493078</td>\n",
              "      <td>5.887391</td>\n",
              "      <td>1.428005</td>\n",
              "      <td>16.984392</td>\n",
              "      <td>0.469151</td>\n",
              "      <td>1.705152</td>\n",
              "      <td>0.49552</td>\n",
              "    </tr>\n",
              "    <tr>\n",
              "      <th>min</th>\n",
              "      <td>18.000000</td>\n",
              "      <td>0.000000</td>\n",
              "      <td>20001.512518</td>\n",
              "      <td>0.000000</td>\n",
              "      <td>0.000000</td>\n",
              "      <td>1.037023</td>\n",
              "      <td>0.000000</td>\n",
              "      <td>0.000000</td>\n",
              "      <td>0.00000</td>\n",
              "    </tr>\n",
              "    <tr>\n",
              "      <th>25%</th>\n",
              "      <td>31.000000</td>\n",
              "      <td>0.000000</td>\n",
              "      <td>53028.979155</td>\n",
              "      <td>5.000000</td>\n",
              "      <td>1.000000</td>\n",
              "      <td>16.156700</td>\n",
              "      <td>0.000000</td>\n",
              "      <td>1.000000</td>\n",
              "      <td>0.00000</td>\n",
              "    </tr>\n",
              "    <tr>\n",
              "      <th>50%</th>\n",
              "      <td>45.000000</td>\n",
              "      <td>1.000000</td>\n",
              "      <td>83699.581476</td>\n",
              "      <td>11.000000</td>\n",
              "      <td>2.000000</td>\n",
              "      <td>30.939516</td>\n",
              "      <td>0.000000</td>\n",
              "      <td>3.000000</td>\n",
              "      <td>0.00000</td>\n",
              "    </tr>\n",
              "    <tr>\n",
              "      <th>75%</th>\n",
              "      <td>57.000000</td>\n",
              "      <td>1.000000</td>\n",
              "      <td>117167.772858</td>\n",
              "      <td>15.000000</td>\n",
              "      <td>3.000000</td>\n",
              "      <td>44.369863</td>\n",
              "      <td>1.000000</td>\n",
              "      <td>4.000000</td>\n",
              "      <td>1.00000</td>\n",
              "    </tr>\n",
              "    <tr>\n",
              "      <th>max</th>\n",
              "      <td>70.000000</td>\n",
              "      <td>1.000000</td>\n",
              "      <td>149785.176481</td>\n",
              "      <td>20.000000</td>\n",
              "      <td>4.000000</td>\n",
              "      <td>59.991105</td>\n",
              "      <td>1.000000</td>\n",
              "      <td>5.000000</td>\n",
              "      <td>1.00000</td>\n",
              "    </tr>\n",
              "  </tbody>\n",
              "</table>\n",
              "</div>"
            ],
            "text/plain": [
              "               Age       Gender   AnnualIncome  NumberOfPurchases  \\\n",
              "count  1500.000000  1500.000000    1500.000000        1500.000000   \n",
              "mean     44.298667     0.504667   84249.164338          10.420000   \n",
              "std      15.537259     0.500145   37629.493078           5.887391   \n",
              "min      18.000000     0.000000   20001.512518           0.000000   \n",
              "25%      31.000000     0.000000   53028.979155           5.000000   \n",
              "50%      45.000000     1.000000   83699.581476          11.000000   \n",
              "75%      57.000000     1.000000  117167.772858          15.000000   \n",
              "max      70.000000     1.000000  149785.176481          20.000000   \n",
              "\n",
              "       ProductCategory  TimeSpentOnWebsite  LoyaltyProgram  DiscountsAvailed  \\\n",
              "count      1500.000000         1500.000000     1500.000000       1500.000000   \n",
              "mean          2.012667           30.469040        0.326667          2.555333   \n",
              "std           1.428005           16.984392        0.469151          1.705152   \n",
              "min           0.000000            1.037023        0.000000          0.000000   \n",
              "25%           1.000000           16.156700        0.000000          1.000000   \n",
              "50%           2.000000           30.939516        0.000000          3.000000   \n",
              "75%           3.000000           44.369863        1.000000          4.000000   \n",
              "max           4.000000           59.991105        1.000000          5.000000   \n",
              "\n",
              "       PurchaseStatus  \n",
              "count      1500.00000  \n",
              "mean          0.43200  \n",
              "std           0.49552  \n",
              "min           0.00000  \n",
              "25%           0.00000  \n",
              "50%           0.00000  \n",
              "75%           1.00000  \n",
              "max           1.00000  "
            ]
          },
          "execution_count": 13,
          "metadata": {},
          "output_type": "execute_result"
        }
      ],
      "source": [
        "# 데이터 기초통계 확인\n",
        "data.describe()"
      ]
    },
    {
      "cell_type": "code",
      "execution_count": 14,
      "metadata": {
        "colab": {
          "base_uri": "https://localhost:8080/"
        },
        "id": "SDELOZGAv-Iy",
        "outputId": "70227db8-0076-46fd-edc1-a6fea4b665b1"
      },
      "outputs": [
        {
          "name": "stdout",
          "output_type": "stream",
          "text": [
            "Missing values in each column:\n",
            " Age                   0\n",
            "Gender                0\n",
            "AnnualIncome          0\n",
            "NumberOfPurchases     0\n",
            "ProductCategory       0\n",
            "TimeSpentOnWebsite    0\n",
            "LoyaltyProgram        0\n",
            "DiscountsAvailed      0\n",
            "PurchaseStatus        0\n",
            "dtype: int64\n"
          ]
        }
      ],
      "source": [
        "# 결측값 확인\n",
        "missing_values = data.isnull().sum()\n",
        "print(\"Missing values in each column:\\n\", missing_values)"
      ]
    },
    {
      "cell_type": "code",
      "execution_count": 15,
      "metadata": {
        "id": "hNz3PfzZv-CE"
      },
      "outputs": [],
      "source": [
        "import numpy as np\n",
        "# 결측값 변환 함수\n",
        "def add_missing_values(df, col_name, missing_frac):\n",
        "    \"\"\"\n",
        "    특정 열에 지정된 비율의 결측값을 추가합니다.\n",
        "\n",
        "    :param df: 데이터프레임\n",
        "    :param col_name: 결측값을 추가할 열 이름\n",
        "    :param missing_frac: 결측값 비율 (0.0 ~ 1.0)\n",
        "    \"\"\"\n",
        "    np.random.seed(42)  # 재현성을 위해 랜덤 시드 설정\n",
        "    n_rows = df.shape[0] # 데이터프레임의 행 수\n",
        "    n_missing = int(n_rows * missing_frac) # 결측값을 추가할 행의 수를 계산\n",
        "\n",
        "    missing_indices = np.random.choice(n_rows, n_missing, replace=False) # 결측값을 추가할 행의 인덱스를 무작위로 선택\n",
        "    df.loc[missing_indices, col_name] = np.nan # 선택된 인덱스의 열 값을 NaN으로 설정"
      ]
    },
    {
      "cell_type": "code",
      "execution_count": 16,
      "metadata": {
        "id": "Ldin-l45Sr38"
      },
      "outputs": [],
      "source": [
        "# 결측값 추가\n",
        "add_missing_values(data, 'Age', 0.1)  # Age 열에 10% 결측값 추가\n",
        "add_missing_values(data, 'Gender', 0.1)  # Gender 열에 10% 결측값 추가"
      ]
    },
    {
      "cell_type": "code",
      "execution_count": 17,
      "metadata": {
        "colab": {
          "base_uri": "https://localhost:8080/"
        },
        "id": "sGNM_7iGSr1I",
        "outputId": "c3886102-8efb-4df7-afae-ce2ea527d1e7"
      },
      "outputs": [
        {
          "name": "stdout",
          "output_type": "stream",
          "text": [
            "Data with missing values:\n",
            "        Age  Gender   AnnualIncome  NumberOfPurchases  ProductCategory  \\\n",
            "1490   NaN     NaN   83126.660956                 20                3   \n",
            "1491   NaN     NaN   71611.955361                 20                1   \n",
            "1492  63.0     0.0   71874.591294                 10                2   \n",
            "1493  34.0     1.0   20418.374269                  9                1   \n",
            "1494  34.0     1.0  104649.186035                 14                1   \n",
            "1495  39.0     1.0   65048.141834                 13                0   \n",
            "1496  67.0     1.0   28775.331069                 18                2   \n",
            "1497  40.0     1.0   57363.247541                  7                4   \n",
            "1498  63.0     0.0  134021.775532                 16                2   \n",
            "1499  50.0     0.0   52625.665974                 13                0   \n",
            "\n",
            "      TimeSpentOnWebsite  LoyaltyProgram  DiscountsAvailed  PurchaseStatus  \n",
            "1490            2.280306               0                 1               0  \n",
            "1491           38.681686               0                 5               1  \n",
            "1492           43.546243               0                 1               0  \n",
            "1493           54.459955               0                 0               0  \n",
            "1494           28.998117               0                 1               0  \n",
            "1495           34.590743               0                 5               1  \n",
            "1496           17.625707               0                 1               1  \n",
            "1497           12.206033               0                 0               0  \n",
            "1498           37.311634               1                 0               1  \n",
            "1499           25.348017               1                 4               1  \n",
            "Missing values count:\n",
            " Age                   150\n",
            "Gender                150\n",
            "AnnualIncome            0\n",
            "NumberOfPurchases       0\n",
            "ProductCategory         0\n",
            "TimeSpentOnWebsite      0\n",
            "LoyaltyProgram          0\n",
            "DiscountsAvailed        0\n",
            "PurchaseStatus          0\n",
            "dtype: int64\n"
          ]
        }
      ],
      "source": [
        "# 결측값이 잘 추가되었는지 확인\n",
        "print(\"Data with missing values:\\n\", data.tail(10))\n",
        "print(\"Missing values count:\\n\", data.isnull().sum())"
      ]
    },
    {
      "cell_type": "code",
      "execution_count": 18,
      "metadata": {
        "colab": {
          "base_uri": "https://localhost:8080/"
        },
        "id": "31ndFNugVJSE",
        "outputId": "38b1a70f-4cf9-4b21-da6a-b0ec56a02a75"
      },
      "outputs": [
        {
          "data": {
            "text/plain": [
              "44.404444444444444"
            ]
          },
          "execution_count": 18,
          "metadata": {},
          "output_type": "execute_result"
        }
      ],
      "source": [
        "data['Age'].mean()"
      ]
    },
    {
      "cell_type": "code",
      "execution_count": 19,
      "metadata": {
        "id": "6En5Q9HtSryl"
      },
      "outputs": [
        {
          "name": "stderr",
          "output_type": "stream",
          "text": [
            "/var/folders/yn/g97n5dd122qdr_rss5p0p4_40000gn/T/ipykernel_3689/1616718568.py:2: FutureWarning: A value is trying to be set on a copy of a DataFrame or Series through chained assignment using an inplace method.\n",
            "The behavior will change in pandas 3.0. This inplace method will never work because the intermediate object on which we are setting values always behaves as a copy.\n",
            "\n",
            "For example, when doing 'df[col].method(value, inplace=True)', try using 'df.method({col: value}, inplace=True)' or df[col] = df[col].method(value) instead, to perform the operation inplace on the original object.\n",
            "\n",
            "\n",
            "  data['Age'].fillna(data['Age'].mean(), inplace=True)\n"
          ]
        }
      ],
      "source": [
        "# 숫자 데이터 전처리 - 결측값 처리 (평균값으로 대체)\n",
        "data['Age'].fillna(data['Age'].mean(), inplace=True)"
      ]
    },
    {
      "cell_type": "code",
      "execution_count": 20,
      "metadata": {
        "colab": {
          "base_uri": "https://localhost:8080/"
        },
        "id": "GhiEP8yNUqVF",
        "outputId": "a83ffda0-6fcb-4569-9823-55ae5dc6ed98"
      },
      "outputs": [
        {
          "name": "stdout",
          "output_type": "stream",
          "text": [
            "Missing values count:\n",
            " Age                     0\n",
            "Gender                150\n",
            "AnnualIncome            0\n",
            "NumberOfPurchases       0\n",
            "ProductCategory         0\n",
            "TimeSpentOnWebsite      0\n",
            "LoyaltyProgram          0\n",
            "DiscountsAvailed        0\n",
            "PurchaseStatus          0\n",
            "dtype: int64\n"
          ]
        }
      ],
      "source": [
        "print(\"Missing values count:\\n\", data.isnull().sum())"
      ]
    },
    {
      "cell_type": "code",
      "execution_count": 21,
      "metadata": {
        "colab": {
          "base_uri": "https://localhost:8080/",
          "height": 363
        },
        "id": "0d-dpisVN7Dw",
        "outputId": "fa7dda71-5a66-4116-a40e-7c3b012e2638"
      },
      "outputs": [
        {
          "data": {
            "text/html": [
              "<div>\n",
              "<style scoped>\n",
              "    .dataframe tbody tr th:only-of-type {\n",
              "        vertical-align: middle;\n",
              "    }\n",
              "\n",
              "    .dataframe tbody tr th {\n",
              "        vertical-align: top;\n",
              "    }\n",
              "\n",
              "    .dataframe thead th {\n",
              "        text-align: right;\n",
              "    }\n",
              "</style>\n",
              "<table border=\"1\" class=\"dataframe\">\n",
              "  <thead>\n",
              "    <tr style=\"text-align: right;\">\n",
              "      <th></th>\n",
              "      <th>Age</th>\n",
              "      <th>Gender</th>\n",
              "      <th>AnnualIncome</th>\n",
              "      <th>NumberOfPurchases</th>\n",
              "      <th>ProductCategory</th>\n",
              "      <th>TimeSpentOnWebsite</th>\n",
              "      <th>LoyaltyProgram</th>\n",
              "      <th>DiscountsAvailed</th>\n",
              "      <th>PurchaseStatus</th>\n",
              "    </tr>\n",
              "  </thead>\n",
              "  <tbody>\n",
              "    <tr>\n",
              "      <th>1490</th>\n",
              "      <td>44.404444</td>\n",
              "      <td>NaN</td>\n",
              "      <td>83126.660956</td>\n",
              "      <td>20</td>\n",
              "      <td>3</td>\n",
              "      <td>2.280306</td>\n",
              "      <td>0</td>\n",
              "      <td>1</td>\n",
              "      <td>0</td>\n",
              "    </tr>\n",
              "    <tr>\n",
              "      <th>1491</th>\n",
              "      <td>44.404444</td>\n",
              "      <td>NaN</td>\n",
              "      <td>71611.955361</td>\n",
              "      <td>20</td>\n",
              "      <td>1</td>\n",
              "      <td>38.681686</td>\n",
              "      <td>0</td>\n",
              "      <td>5</td>\n",
              "      <td>1</td>\n",
              "    </tr>\n",
              "    <tr>\n",
              "      <th>1492</th>\n",
              "      <td>63.000000</td>\n",
              "      <td>0.0</td>\n",
              "      <td>71874.591294</td>\n",
              "      <td>10</td>\n",
              "      <td>2</td>\n",
              "      <td>43.546243</td>\n",
              "      <td>0</td>\n",
              "      <td>1</td>\n",
              "      <td>0</td>\n",
              "    </tr>\n",
              "    <tr>\n",
              "      <th>1493</th>\n",
              "      <td>34.000000</td>\n",
              "      <td>1.0</td>\n",
              "      <td>20418.374269</td>\n",
              "      <td>9</td>\n",
              "      <td>1</td>\n",
              "      <td>54.459955</td>\n",
              "      <td>0</td>\n",
              "      <td>0</td>\n",
              "      <td>0</td>\n",
              "    </tr>\n",
              "    <tr>\n",
              "      <th>1494</th>\n",
              "      <td>34.000000</td>\n",
              "      <td>1.0</td>\n",
              "      <td>104649.186035</td>\n",
              "      <td>14</td>\n",
              "      <td>1</td>\n",
              "      <td>28.998117</td>\n",
              "      <td>0</td>\n",
              "      <td>1</td>\n",
              "      <td>0</td>\n",
              "    </tr>\n",
              "    <tr>\n",
              "      <th>1495</th>\n",
              "      <td>39.000000</td>\n",
              "      <td>1.0</td>\n",
              "      <td>65048.141834</td>\n",
              "      <td>13</td>\n",
              "      <td>0</td>\n",
              "      <td>34.590743</td>\n",
              "      <td>0</td>\n",
              "      <td>5</td>\n",
              "      <td>1</td>\n",
              "    </tr>\n",
              "    <tr>\n",
              "      <th>1496</th>\n",
              "      <td>67.000000</td>\n",
              "      <td>1.0</td>\n",
              "      <td>28775.331069</td>\n",
              "      <td>18</td>\n",
              "      <td>2</td>\n",
              "      <td>17.625707</td>\n",
              "      <td>0</td>\n",
              "      <td>1</td>\n",
              "      <td>1</td>\n",
              "    </tr>\n",
              "    <tr>\n",
              "      <th>1497</th>\n",
              "      <td>40.000000</td>\n",
              "      <td>1.0</td>\n",
              "      <td>57363.247541</td>\n",
              "      <td>7</td>\n",
              "      <td>4</td>\n",
              "      <td>12.206033</td>\n",
              "      <td>0</td>\n",
              "      <td>0</td>\n",
              "      <td>0</td>\n",
              "    </tr>\n",
              "    <tr>\n",
              "      <th>1498</th>\n",
              "      <td>63.000000</td>\n",
              "      <td>0.0</td>\n",
              "      <td>134021.775532</td>\n",
              "      <td>16</td>\n",
              "      <td>2</td>\n",
              "      <td>37.311634</td>\n",
              "      <td>1</td>\n",
              "      <td>0</td>\n",
              "      <td>1</td>\n",
              "    </tr>\n",
              "    <tr>\n",
              "      <th>1499</th>\n",
              "      <td>50.000000</td>\n",
              "      <td>0.0</td>\n",
              "      <td>52625.665974</td>\n",
              "      <td>13</td>\n",
              "      <td>0</td>\n",
              "      <td>25.348017</td>\n",
              "      <td>1</td>\n",
              "      <td>4</td>\n",
              "      <td>1</td>\n",
              "    </tr>\n",
              "  </tbody>\n",
              "</table>\n",
              "</div>"
            ],
            "text/plain": [
              "            Age  Gender   AnnualIncome  NumberOfPurchases  ProductCategory  \\\n",
              "1490  44.404444     NaN   83126.660956                 20                3   \n",
              "1491  44.404444     NaN   71611.955361                 20                1   \n",
              "1492  63.000000     0.0   71874.591294                 10                2   \n",
              "1493  34.000000     1.0   20418.374269                  9                1   \n",
              "1494  34.000000     1.0  104649.186035                 14                1   \n",
              "1495  39.000000     1.0   65048.141834                 13                0   \n",
              "1496  67.000000     1.0   28775.331069                 18                2   \n",
              "1497  40.000000     1.0   57363.247541                  7                4   \n",
              "1498  63.000000     0.0  134021.775532                 16                2   \n",
              "1499  50.000000     0.0   52625.665974                 13                0   \n",
              "\n",
              "      TimeSpentOnWebsite  LoyaltyProgram  DiscountsAvailed  PurchaseStatus  \n",
              "1490            2.280306               0                 1               0  \n",
              "1491           38.681686               0                 5               1  \n",
              "1492           43.546243               0                 1               0  \n",
              "1493           54.459955               0                 0               0  \n",
              "1494           28.998117               0                 1               0  \n",
              "1495           34.590743               0                 5               1  \n",
              "1496           17.625707               0                 1               1  \n",
              "1497           12.206033               0                 0               0  \n",
              "1498           37.311634               1                 0               1  \n",
              "1499           25.348017               1                 4               1  "
            ]
          },
          "execution_count": 21,
          "metadata": {},
          "output_type": "execute_result"
        }
      ],
      "source": [
        "data.tail(10)"
      ]
    },
    {
      "cell_type": "code",
      "execution_count": 22,
      "metadata": {
        "colab": {
          "base_uri": "https://localhost:8080/"
        },
        "id": "yOGnCnl-VCxV",
        "outputId": "c1fa294a-621a-4dea-b7ba-ee1d77df7533"
      },
      "outputs": [
        {
          "data": {
            "text/plain": [
              "0.0"
            ]
          },
          "execution_count": 22,
          "metadata": {},
          "output_type": "execute_result"
        }
      ],
      "source": [
        "data['Gender'].mode()[0]"
      ]
    },
    {
      "cell_type": "code",
      "execution_count": 23,
      "metadata": {
        "id": "DDEZzDKMUY6U"
      },
      "outputs": [
        {
          "name": "stderr",
          "output_type": "stream",
          "text": [
            "/var/folders/yn/g97n5dd122qdr_rss5p0p4_40000gn/T/ipykernel_3689/1808627359.py:2: FutureWarning: A value is trying to be set on a copy of a DataFrame or Series through chained assignment using an inplace method.\n",
            "The behavior will change in pandas 3.0. This inplace method will never work because the intermediate object on which we are setting values always behaves as a copy.\n",
            "\n",
            "For example, when doing 'df[col].method(value, inplace=True)', try using 'df.method({col: value}, inplace=True)' or df[col] = df[col].method(value) instead, to perform the operation inplace on the original object.\n",
            "\n",
            "\n",
            "  data['Gender'].fillna(data['Gender'].mode()[0], inplace=True)\n"
          ]
        }
      ],
      "source": [
        "# 범주형 데이터 전처리 - 결측값 처리 (최빈값으로 대체)\n",
        "data['Gender'].fillna(data['Gender'].mode()[0], inplace=True)"
      ]
    },
    {
      "cell_type": "code",
      "execution_count": 24,
      "metadata": {
        "colab": {
          "base_uri": "https://localhost:8080/"
        },
        "id": "UU2OiXhqUwkc",
        "outputId": "8acaa905-78dc-4e62-fb57-ec96c09709a9"
      },
      "outputs": [
        {
          "name": "stdout",
          "output_type": "stream",
          "text": [
            "Missing values count:\n",
            " Age                   0\n",
            "Gender                0\n",
            "AnnualIncome          0\n",
            "NumberOfPurchases     0\n",
            "ProductCategory       0\n",
            "TimeSpentOnWebsite    0\n",
            "LoyaltyProgram        0\n",
            "DiscountsAvailed      0\n",
            "PurchaseStatus        0\n",
            "dtype: int64\n"
          ]
        }
      ],
      "source": [
        "print(\"Missing values count:\\n\", data.isnull().sum())"
      ]
    },
    {
      "cell_type": "code",
      "execution_count": 25,
      "metadata": {
        "colab": {
          "base_uri": "https://localhost:8080/"
        },
        "id": "SLpRd20XVNXo",
        "outputId": "dbd1d6ef-9ed9-46b5-e387-effd5c1e7948"
      },
      "outputs": [
        {
          "data": {
            "text/plain": [
              "0    1.0\n",
              "1    1.0\n",
              "2    1.0\n",
              "3    1.0\n",
              "4    1.0\n",
              "Name: Gender, dtype: float64"
            ]
          },
          "execution_count": 25,
          "metadata": {},
          "output_type": "execute_result"
        }
      ],
      "source": [
        "data['Gender'].head()"
      ]
    },
    {
      "cell_type": "code",
      "execution_count": 26,
      "metadata": {
        "colab": {
          "base_uri": "https://localhost:8080/"
        },
        "id": "YGx9eiWiVa0D",
        "outputId": "d5728cd8-9f93-484f-9002-600cdfad8edb"
      },
      "outputs": [
        {
          "data": {
            "text/plain": [
              "0    Female\n",
              "1    Female\n",
              "2    Female\n",
              "3    Female\n",
              "4    Female\n",
              "Name: Gender, dtype: object"
            ]
          },
          "execution_count": 26,
          "metadata": {},
          "output_type": "execute_result"
        }
      ],
      "source": [
        "data['Gender'] = ['Male' if gender == 0 else 'Female' for gender in data['Gender']]\n",
        "data['Gender'].head()"
      ]
    },
    {
      "cell_type": "code",
      "execution_count": 27,
      "metadata": {
        "id": "nIiVfCigUY3w"
      },
      "outputs": [],
      "source": [
        "# 범주형 데이터 인코딩 (레이블 인코딩)\n",
        "from sklearn.preprocessing import LabelEncoder\n",
        "le = LabelEncoder() # 객체 생성\n",
        "data['Gender'] = le.fit_transform(data['Gender']) # 레이블 인코딩 (Alphabetic)"
      ]
    },
    {
      "cell_type": "code",
      "execution_count": 28,
      "metadata": {
        "colab": {
          "base_uri": "https://localhost:8080/"
        },
        "id": "2VaihQ1mVRbx",
        "outputId": "4f5a46aa-0c65-4b96-ce4a-dd2a973327c3"
      },
      "outputs": [
        {
          "data": {
            "text/plain": [
              "0    0\n",
              "1    0\n",
              "2    0\n",
              "3    0\n",
              "4    0\n",
              "Name: Gender, dtype: int64"
            ]
          },
          "execution_count": 28,
          "metadata": {},
          "output_type": "execute_result"
        }
      ],
      "source": [
        "data['Gender'].head()"
      ]
    },
    {
      "cell_type": "code",
      "execution_count": 29,
      "metadata": {
        "colab": {
          "base_uri": "https://localhost:8080/"
        },
        "id": "vJDfvTW_chiG",
        "outputId": "d308bb8c-57d2-481c-eca8-02af692a3ffe"
      },
      "outputs": [
        {
          "name": "stdout",
          "output_type": "stream",
          "text": [
            "Original Data:\n",
            "                 PurchaseTime               DeliveryTime\n",
            "0 2024-07-08 21:05:27.271254 2024-07-08 21:05:27.271254\n",
            "1 2024-07-07 21:05:27.271254 2024-07-09 21:05:27.271254\n",
            "2 2024-07-06 21:05:27.271254 2024-07-10 21:05:27.271254\n",
            "3 2024-07-05 21:05:27.271254 2024-07-11 21:05:27.271254\n",
            "4 2024-07-04 21:05:27.271254 2024-07-12 21:05:27.271254\n"
          ]
        }
      ],
      "source": [
        "import pandas as pd\n",
        "import numpy as np\n",
        "from datetime import datetime, timedelta\n",
        "\n",
        "# 현재 시간\n",
        "current_time = datetime.now()\n",
        "\n",
        "# 예시 데이터 생성\n",
        "time_data = pd.DataFrame({\n",
        "    'PurchaseTime': [current_time - timedelta(days=i) for i in range(5)],\n",
        "    'DeliveryTime': [current_time + timedelta(days=i) for i in range(5)]\n",
        "})\n",
        "\n",
        "print(\"Original Data:\\n\", time_data)\n"
      ]
    },
    {
      "cell_type": "code",
      "execution_count": 30,
      "metadata": {
        "colab": {
          "base_uri": "https://localhost:8080/"
        },
        "id": "puvMecdQcjIt",
        "outputId": "c9f7027f-049c-4b94-c179-f7e67de5b970"
      },
      "outputs": [
        {
          "name": "stdout",
          "output_type": "stream",
          "text": [
            "\n",
            "Data after extracting components and calculating differences:\n",
            "                 PurchaseTime               DeliveryTime  PurchaseYear  \\\n",
            "0 2024-07-08 21:05:27.271254 2024-07-08 21:05:27.271254          2024   \n",
            "1 2024-07-07 21:05:27.271254 2024-07-09 21:05:27.271254          2024   \n",
            "2 2024-07-06 21:05:27.271254 2024-07-10 21:05:27.271254          2024   \n",
            "3 2024-07-05 21:05:27.271254 2024-07-11 21:05:27.271254          2024   \n",
            "4 2024-07-04 21:05:27.271254 2024-07-12 21:05:27.271254          2024   \n",
            "\n",
            "   PurchaseMonth  PurchaseDay  PurchaseHour  PurchaseMinute  PurchaseSecond  \\\n",
            "0              7            8            21               5              27   \n",
            "1              7            7            21               5              27   \n",
            "2              7            6            21               5              27   \n",
            "3              7            5            21               5              27   \n",
            "4              7            4            21               5              27   \n",
            "\n",
            "   DeliveryDays  \n",
            "0             0  \n",
            "1             2  \n",
            "2             4  \n",
            "3             6  \n",
            "4             8  \n"
          ]
        }
      ],
      "source": [
        "# 시간 데이터를 datetime 형식으로 변환 (이미 datetime)\n",
        "time_data['PurchaseTime'] = pd.to_datetime(time_data['PurchaseTime'])\n",
        "time_data['DeliveryTime'] = pd.to_datetime(time_data['DeliveryTime'])\n",
        "\n",
        "# 시간 컴포넌트 추출\n",
        "time_data['PurchaseYear'] = time_data['PurchaseTime'].dt.year\n",
        "time_data['PurchaseMonth'] = time_data['PurchaseTime'].dt.month\n",
        "time_data['PurchaseDay'] = time_data['PurchaseTime'].dt.day\n",
        "time_data['PurchaseHour'] = time_data['PurchaseTime'].dt.hour\n",
        "time_data['PurchaseMinute'] = time_data['PurchaseTime'].dt.minute\n",
        "time_data['PurchaseSecond'] = time_data['PurchaseTime'].dt.second\n",
        "\n",
        "# 시간 차이 계산\n",
        "time_data['DeliveryDays'] = (time_data['DeliveryTime'] - time_data['PurchaseTime']).dt.days\n",
        "\n",
        "print(\"\\nData after extracting components and calculating differences:\\n\", time_data)\n"
      ]
    },
    {
      "cell_type": "code",
      "execution_count": 31,
      "metadata": {
        "colab": {
          "base_uri": "https://localhost:8080/"
        },
        "id": "HId_mqaDUY1a",
        "outputId": "9338f10a-164c-4940-c4a8-f7f915c23f53"
      },
      "outputs": [
        {
          "name": "stdout",
          "output_type": "stream",
          "text": [
            "Data before scaling:\n",
            "     Age   AnnualIncome\n",
            "0  40.0   66120.267939\n",
            "1  20.0   23579.773583\n",
            "2  27.0  127821.306432\n",
            "3  24.0  137798.623120\n",
            "4  31.0   99300.964220\n",
            "Data after scaling:\n",
            "         Age  AnnualIncome\n",
            "0 -0.300467     -0.481934\n",
            "1 -1.664846     -1.612821\n",
            "2 -1.187314      1.158311\n",
            "3 -1.391970      1.423546\n",
            "4 -0.914438      0.400133\n"
          ]
        }
      ],
      "source": [
        "# 데이터 스케일링\n",
        "from sklearn.preprocessing import StandardScaler # standardize\n",
        "print(\"Data before scaling:\\n\", data[['Age', 'AnnualIncome']].head())\n",
        "\n",
        "scaler = StandardScaler() # 객체 생성\n",
        "data[['Age', 'AnnualIncome']] = scaler.fit_transform(data[['Age', 'AnnualIncome']]) # 스케일링\n",
        "\n",
        "print(\"Data after scaling:\\n\", data[['Age', 'AnnualIncome']].head())"
      ]
    },
    {
      "cell_type": "code",
      "execution_count": 32,
      "metadata": {
        "colab": {
          "base_uri": "https://localhost:8080/"
        },
        "id": "UcnayvCNX4Sq",
        "outputId": "a0ad00c8-01ac-4e5d-a840-1ae7116abc00"
      },
      "outputs": [
        {
          "name": "stdout",
          "output_type": "stream",
          "text": [
            "Original table:\n",
            "         Age  Gender  AnnualIncome  NumberOfPurchases  ProductCategory  \\\n",
            "0 -0.300467       0     -0.481934                  8                0   \n",
            "1 -1.664846       0     -1.612821                  4                2   \n",
            "2 -1.187314       0      1.158311                 11                2   \n",
            "3 -1.391970       0      1.423546                 19                3   \n",
            "4 -0.914438       0      0.400133                 19                1   \n",
            "\n",
            "   TimeSpentOnWebsite  LoyaltyProgram  DiscountsAvailed  PurchaseStatus  \n",
            "0           30.568601               0                 5               1  \n",
            "1           38.240097               0                 5               0  \n",
            "2           31.633212               1                 0               1  \n",
            "3           46.167059               0                 4               1  \n",
            "4           19.823592               0                 0               1  \n",
            "Pivot table:\n",
            " PurchaseStatus          0         1\n",
            "ProductCategory                    \n",
            "0               -0.176827  0.244683\n",
            "1               -0.258843  0.114289\n",
            "2               -0.050934  0.210538\n",
            "3               -0.227139  0.228702\n",
            "4               -0.104131  0.295883\n"
          ]
        }
      ],
      "source": [
        "print(\"Original table:\\n\", data.head())\n",
        "# 데이터 피벗\n",
        "pivot_table = data.pivot_table(values='AnnualIncome', index='ProductCategory', columns='PurchaseStatus', aggfunc='mean') # aggfunc: 집계함수\n",
        "print(\"Pivot table:\\n\", pivot_table.head())"
      ]
    },
    {
      "cell_type": "code",
      "execution_count": 33,
      "metadata": {
        "colab": {
          "base_uri": "https://localhost:8080/"
        },
        "id": "S_xwCHXQUYzF",
        "outputId": "c363de6c-bf77-4d3f-8f89-25b2997cfa38"
      },
      "outputs": [
        {
          "name": "stdout",
          "output_type": "stream",
          "text": [
            "Original data_1:\n",
            "         Age  PurchaseStatus  AnnualIncome\n",
            "0 -0.300467               1     -0.481934\n",
            "1 -1.664846               0     -1.612821\n",
            "2 -1.187314               1      1.158311\n",
            "3 -1.391970               1      1.423546\n",
            "4 -0.914438               1      0.400133\n",
            "Original data_2:\n",
            "    Gender  AnnualIncome\n",
            "0       0     -0.481934\n",
            "1       0     -1.612821\n",
            "2       0      1.158311\n",
            "3       0      1.423546\n",
            "4       0      0.400133\n",
            "Merged data:\n",
            "         Age  PurchaseStatus  AnnualIncome  Gender\n",
            "0 -0.300467               1     -0.481934       0\n",
            "1 -1.664846               0     -1.612821       0\n",
            "2 -1.187314               1      1.158311       0\n",
            "3 -1.391970               1      1.423546       0\n",
            "4 -0.914438               1      0.400133       0\n"
          ]
        }
      ],
      "source": [
        "# 데이터 합치기\n",
        "# 예제 데이터프레임 생성\n",
        "data_1 = data[['Age', 'PurchaseStatus', 'AnnualIncome']]\n",
        "# data_1 데이터 형태\n",
        "print(\"Original data_1:\\n\", data_1.head())\n",
        "data_2 = data[['Gender', 'AnnualIncome']]\n",
        "# data_2 데이터 형태\n",
        "print(\"Original data_2:\\n\", data_2.head())\n",
        "merged_data = pd.merge(data_1, data_2, on='AnnualIncome')\n",
        "print(\"Merged data:\\n\", merged_data.head())"
      ]
    },
    {
      "cell_type": "code",
      "execution_count": 34,
      "metadata": {
        "colab": {
          "base_uri": "https://localhost:8080/"
        },
        "id": "ij8FmmoOYb1n",
        "outputId": "5f2e3ff4-1713-4b42-c3a1-aa555fbabade"
      },
      "outputs": [
        {
          "name": "stdout",
          "output_type": "stream",
          "text": [
            "Grouped data:\n",
            "         AnnualIncome       Age\n",
            "Gender                        \n",
            "0           0.005859  0.016575\n",
            "1          -0.004793 -0.013561\n"
          ]
        }
      ],
      "source": [
        "# 데이터 그룹화\n",
        "grouped_data = data.groupby('Gender').agg({'AnnualIncome': 'mean', 'Age': 'mean'})\n",
        "print(\"Grouped data:\\n\", grouped_data)"
      ]
    },
    {
      "cell_type": "code",
      "execution_count": 35,
      "metadata": {
        "colab": {
          "base_uri": "https://localhost:8080/",
          "height": 206
        },
        "id": "YNHS8AJLQupD",
        "outputId": "3c40189b-8ee6-4ab3-fe51-156dfcebaf82"
      },
      "outputs": [
        {
          "data": {
            "text/html": [
              "<div>\n",
              "<style scoped>\n",
              "    .dataframe tbody tr th:only-of-type {\n",
              "        vertical-align: middle;\n",
              "    }\n",
              "\n",
              "    .dataframe tbody tr th {\n",
              "        vertical-align: top;\n",
              "    }\n",
              "\n",
              "    .dataframe thead th {\n",
              "        text-align: right;\n",
              "    }\n",
              "</style>\n",
              "<table border=\"1\" class=\"dataframe\">\n",
              "  <thead>\n",
              "    <tr style=\"text-align: right;\">\n",
              "      <th></th>\n",
              "      <th>Age</th>\n",
              "      <th>Gender</th>\n",
              "      <th>AnnualIncome</th>\n",
              "      <th>NumberOfPurchases</th>\n",
              "      <th>ProductCategory</th>\n",
              "      <th>TimeSpentOnWebsite</th>\n",
              "      <th>LoyaltyProgram</th>\n",
              "      <th>DiscountsAvailed</th>\n",
              "      <th>PurchaseStatus</th>\n",
              "    </tr>\n",
              "  </thead>\n",
              "  <tbody>\n",
              "    <tr>\n",
              "      <th>0</th>\n",
              "      <td>-0.300467</td>\n",
              "      <td>0</td>\n",
              "      <td>-0.481934</td>\n",
              "      <td>8</td>\n",
              "      <td>0</td>\n",
              "      <td>30.568601</td>\n",
              "      <td>0</td>\n",
              "      <td>5</td>\n",
              "      <td>1</td>\n",
              "    </tr>\n",
              "    <tr>\n",
              "      <th>1</th>\n",
              "      <td>-1.664846</td>\n",
              "      <td>0</td>\n",
              "      <td>-1.612821</td>\n",
              "      <td>4</td>\n",
              "      <td>2</td>\n",
              "      <td>38.240097</td>\n",
              "      <td>0</td>\n",
              "      <td>5</td>\n",
              "      <td>0</td>\n",
              "    </tr>\n",
              "    <tr>\n",
              "      <th>2</th>\n",
              "      <td>-1.187314</td>\n",
              "      <td>0</td>\n",
              "      <td>1.158311</td>\n",
              "      <td>11</td>\n",
              "      <td>2</td>\n",
              "      <td>31.633212</td>\n",
              "      <td>1</td>\n",
              "      <td>0</td>\n",
              "      <td>1</td>\n",
              "    </tr>\n",
              "    <tr>\n",
              "      <th>3</th>\n",
              "      <td>-1.391970</td>\n",
              "      <td>0</td>\n",
              "      <td>1.423546</td>\n",
              "      <td>19</td>\n",
              "      <td>3</td>\n",
              "      <td>46.167059</td>\n",
              "      <td>0</td>\n",
              "      <td>4</td>\n",
              "      <td>1</td>\n",
              "    </tr>\n",
              "    <tr>\n",
              "      <th>4</th>\n",
              "      <td>-0.914438</td>\n",
              "      <td>0</td>\n",
              "      <td>0.400133</td>\n",
              "      <td>19</td>\n",
              "      <td>1</td>\n",
              "      <td>19.823592</td>\n",
              "      <td>0</td>\n",
              "      <td>0</td>\n",
              "      <td>1</td>\n",
              "    </tr>\n",
              "  </tbody>\n",
              "</table>\n",
              "</div>"
            ],
            "text/plain": [
              "        Age  Gender  AnnualIncome  NumberOfPurchases  ProductCategory  \\\n",
              "0 -0.300467       0     -0.481934                  8                0   \n",
              "1 -1.664846       0     -1.612821                  4                2   \n",
              "2 -1.187314       0      1.158311                 11                2   \n",
              "3 -1.391970       0      1.423546                 19                3   \n",
              "4 -0.914438       0      0.400133                 19                1   \n",
              "\n",
              "   TimeSpentOnWebsite  LoyaltyProgram  DiscountsAvailed  PurchaseStatus  \n",
              "0           30.568601               0                 5               1  \n",
              "1           38.240097               0                 5               0  \n",
              "2           31.633212               1                 0               1  \n",
              "3           46.167059               0                 4               1  \n",
              "4           19.823592               0                 0               1  "
            ]
          },
          "execution_count": 35,
          "metadata": {},
          "output_type": "execute_result"
        }
      ],
      "source": [
        "data.head()"
      ]
    },
    {
      "cell_type": "code",
      "execution_count": 36,
      "metadata": {
        "colab": {
          "base_uri": "https://localhost:8080/"
        },
        "id": "1kiEfEQNUYwQ",
        "outputId": "ae8ac66c-e802-4043-9b29-88d66714bae1"
      },
      "outputs": [
        {
          "name": "stdout",
          "output_type": "stream",
          "text": [
            "Data with AgeGroup:\n",
            "         Age AgeGroup\n",
            "0 -0.300467      NaN\n",
            "1 -1.664846      NaN\n",
            "2 -1.187314      NaN\n",
            "3 -1.391970      NaN\n",
            "4 -0.914438      NaN\n"
          ]
        }
      ],
      "source": [
        "# 파생 변수 생성\n",
        "data['AgeGroup'] = pd.cut(data['Age'], bins=[0, 18, 35, 50, 100], labels=['Child', 'Young Adult', 'Adult', 'Senior'])\n",
        "print(\"Data with AgeGroup:\\n\", data[['Age', 'AgeGroup']].head())"
      ]
    },
    {
      "cell_type": "code",
      "execution_count": 37,
      "metadata": {
        "colab": {
          "base_uri": "https://localhost:8080/"
        },
        "id": "kzRSAdUuY0qE",
        "outputId": "31660c58-d826-471b-db01-51ef59b37c71"
      },
      "outputs": [
        {
          "name": "stdout",
          "output_type": "stream",
          "text": [
            "Sampled data:\n",
            "                Age  Gender  AnnualIncome  NumberOfPurchases  ProductCategory  \\\n",
            "1116  4.847250e-16       1     -0.415755                 12                3   \n",
            "1368  4.847250e-16       1      0.036533                 18                0   \n",
            "422   4.847250e-16       1     -0.877193                  4                1   \n",
            "413   4.847250e-16       1     -1.367940                 18                2   \n",
            "451   4.847250e-16       1     -0.230628                 12                4   \n",
            "\n",
            "      TimeSpentOnWebsite  LoyaltyProgram  DiscountsAvailed  PurchaseStatus  \\\n",
            "1116           23.396362               1                 5               1   \n",
            "1368           11.657565               0                 1               0   \n",
            "422            46.090844               0                 0               0   \n",
            "413             1.137081               0                 1               0   \n",
            "451            49.085904               1                 3               1   \n",
            "\n",
            "     AgeGroup  \n",
            "1116    Child  \n",
            "1368    Child  \n",
            "422     Child  \n",
            "413     Child  \n",
            "451     Child  \n",
            "******************************\n",
            "<class 'pandas.core.frame.DataFrame'>\n",
            "Index: 150 entries, 1116 to 782\n",
            "Data columns (total 10 columns):\n",
            " #   Column              Non-Null Count  Dtype   \n",
            "---  ------              --------------  -----   \n",
            " 0   Age                 150 non-null    float64 \n",
            " 1   Gender              150 non-null    int64   \n",
            " 2   AnnualIncome        150 non-null    float64 \n",
            " 3   NumberOfPurchases   150 non-null    int64   \n",
            " 4   ProductCategory     150 non-null    int64   \n",
            " 5   TimeSpentOnWebsite  150 non-null    float64 \n",
            " 6   LoyaltyProgram      150 non-null    int64   \n",
            " 7   DiscountsAvailed    150 non-null    int64   \n",
            " 8   PurchaseStatus      150 non-null    int64   \n",
            " 9   AgeGroup            150 non-null    category\n",
            "dtypes: category(1), float64(3), int64(6)\n",
            "memory usage: 12.1 KB\n",
            "Sampled data info:\n",
            " None\n"
          ]
        }
      ],
      "source": [
        "# 데이터 샘플링\n",
        "sampled_data = data.sample(frac=0.1, random_state=42)\n",
        "print(\"Sampled data:\\n\", sampled_data.head())\n",
        "print(\"*\"*30)\n",
        "print(\"Sampled data info:\\n\", sampled_data.info())"
      ]
    },
    {
      "cell_type": "code",
      "execution_count": 38,
      "metadata": {
        "colab": {
          "base_uri": "https://localhost:8080/"
        },
        "id": "jHUaEe4uY0ig",
        "outputId": "f8fff88a-9db6-4db3-d0a8-b578e0df68b2"
      },
      "outputs": [
        {
          "name": "stdout",
          "output_type": "stream",
          "text": [
            "PCA Result:\n",
            "         PC1       PC2\n",
            "0  2.418075  0.566211\n",
            "1  6.409424  2.344335\n",
            "2 -0.587544 -0.015242\n",
            "3 -8.588690 -0.099488\n",
            "4 -8.585626  0.307686\n"
          ]
        }
      ],
      "source": [
        "# PCA (주성분 분석)\n",
        "from sklearn.decomposition import PCA\n",
        "\n",
        "# PCA 적용\n",
        "pca = PCA(n_components=2)\n",
        "pca_result = pca.fit_transform(data[['Age', 'AnnualIncome', 'NumberOfPurchases']])\n",
        "\n",
        "# 결과를 데이터프레임으로 변환\n",
        "pca_df = pd.DataFrame(pca_result, columns=['PC1', 'PC2'])\n",
        "\n",
        "print(\"PCA Result:\\n\", pca_df.head())"
      ]
    },
    {
      "cell_type": "code",
      "execution_count": 39,
      "metadata": {
        "colab": {
          "base_uri": "https://localhost:8080/"
        },
        "id": "gA8hdza1UYuM",
        "outputId": "19e79515-e631-42cd-f5b1-28bec1c75c83"
      },
      "outputs": [
        {
          "name": "stdout",
          "output_type": "stream",
          "text": [
            "Processed Data:\n",
            "         Age  AnnualIncome  NumberOfPurchases\n",
            "0 -0.300467     -0.481934          -0.411185\n",
            "1 -1.664846     -1.612821          -1.090830\n",
            "2 -1.187314      1.158311           0.098548\n",
            "3 -1.391970      1.423546           1.457838\n",
            "4 -0.914438      0.400133           1.457838\n"
          ]
        }
      ],
      "source": [
        "# 전처리 작업의 자동화 (파이프라인 구축)\n",
        "from sklearn.pipeline import Pipeline  # 파이프라인 구축을 위한 클래스\n",
        "from sklearn.impute import SimpleImputer  # 결측값 처리\n",
        "from sklearn.preprocessing import StandardScaler  # 데이터 스케일링\n",
        "\n",
        "# 예제를 위한 데이터 분리\n",
        "data_1 = data[['Age', 'AnnualIncome', 'NumberOfPurchases']]\n",
        "\n",
        "# 파이프라인 구축\n",
        "pipeline = Pipeline([\n",
        "    ('imputer', SimpleImputer(strategy='mean')),  # 결측값 대체\n",
        "    ('scaler', StandardScaler())  # 데이터 스케일링\n",
        "])\n",
        "\n",
        "# 데이터 변환\n",
        "processed_data = pipeline.fit_transform(data_1)\n",
        "\n",
        "# 결과를 데이터프레임으로 변환\n",
        "processed_data_df = pd.DataFrame(processed_data, columns=['Age', 'AnnualIncome', 'NumberOfPurchases'])\n",
        "\n",
        "print(\"Processed Data:\\n\", processed_data_df.head())"
      ]
    },
    {
      "cell_type": "code",
      "execution_count": null,
      "metadata": {
        "id": "TuUVUwSWUYpd"
      },
      "outputs": [],
      "source": []
    }
  ],
  "metadata": {
    "colab": {
      "provenance": []
    },
    "kernelspec": {
      "display_name": "Python 3",
      "name": "python3"
    },
    "language_info": {
      "codemirror_mode": {
        "name": "ipython",
        "version": 3
      },
      "file_extension": ".py",
      "mimetype": "text/x-python",
      "name": "python",
      "nbconvert_exporter": "python",
      "pygments_lexer": "ipython3",
      "version": "3.10.12"
    }
  },
  "nbformat": 4,
  "nbformat_minor": 0
}
